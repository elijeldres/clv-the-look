{
 "cells": [
  {
   "cell_type": "code",
   "execution_count": 1,
   "id": "c2763d81-5092-416a-a948-3631c1f7058f",
   "metadata": {},
   "outputs": [],
   "source": [
    "import pandas as pd\n",
    "import numpy as np\n",
    "import matplotlib.pyplot as plt\n",
    "import seaborn as sns\n",
    "from sklearn.cluster import KMeans\n",
    "from sklearn.metrics import mean_squared_error\n",
    "from lifetimes import BetaGeoFitter\n",
    "from lifetimes import GammaGammaFitter\n",
    "from lifetimes.utils import calibration_and_holdout_data\n",
    "from lifetimes.utils import summary_data_from_transaction_data\n",
    "from lifetimes.plotting import plot_calibration_purchases_vs_holdout_purchases\n",
    "from decimal import Decimal \n",
    "import datetime as dt"
   ]
  },
  {
   "cell_type": "code",
   "execution_count": 11,
   "id": "270467d1-1a3f-469c-9daa-6ed20e9462b3",
   "metadata": {},
   "outputs": [],
   "source": [
    "ord_items_df = pd.read_csv('/Users/Ian/Downloads/archive/order_items.csv')\n",
    "ord_df = pd.read_csv('/Users/Ian/Downloads/archive/orders.csv')"
   ]
  },
  {
   "cell_type": "code",
   "execution_count": 4,
   "id": "e0c89b1b-9d5a-432c-b9ad-8cd348dc628f",
   "metadata": {},
   "outputs": [
    {
     "data": {
      "text/plain": [
       "'Data ranges from: 2019-01-06 05:30:00+00:00 to: 2024-01-17 19:46:14.316147+00:00'"
      ]
     },
     "execution_count": 4,
     "metadata": {},
     "output_type": "execute_result"
    }
   ],
   "source": [
    "f'Data ranges from: {df_ord_df.created_at.min()} to: {df_ord_df.created_at.max()}'"
   ]
  },
  {
   "cell_type": "code",
   "execution_count": 6,
   "id": "808a6815-7361-459f-bd8b-29e39c1098f4",
   "metadata": {},
   "outputs": [
    {
     "data": {
      "text/plain": [
       "10827118.91175019"
      ]
     },
     "execution_count": 6,
     "metadata": {},
     "output_type": "execute_result"
    }
   ],
   "source": [
    "ord_items_df.sale_price.sum()"
   ]
  },
  {
   "cell_type": "code",
   "execution_count": 9,
   "id": "28e0cb3a-e9f0-4879-989e-811ec033a7e2",
   "metadata": {},
   "outputs": [],
   "source": [
    "def data_cleaning(order_items_df, orders_df):\n",
    "    '''\n",
    "    This function takes the order_items and the orders tables, aggregates the order_items table,\n",
    "    merges the tables, cleans the datatypes and returns the cleaned dataframe\n",
    "    '''\n",
    "    # Convert the created_at column from object to datetime\n",
    "    \n",
    "    order_sales = order_items_df[['order_id','sale_price']].groupby(by='order_id').sum('sale_price').reset_index()\n",
    "    order_sales = order_sales.merge(orders_df[['order_id','user_id','created_at']]).set_index('order_id')\n",
    "    \n",
    "    order_sales['created_at'] = pd.to_datetime(order_sales.created_at,format='mixed')\n",
    "\n",
    "    return order_sales"
   ]
  },
  {
   "cell_type": "code",
   "execution_count": 16,
   "id": "c05575f6-2e89-4d66-9801-0e541dc8e74a",
   "metadata": {},
   "outputs": [],
   "source": [
    "clean_df = data_cleaning(ord_items_df,ord_df)"
   ]
  },
  {
   "cell_type": "code",
   "execution_count": 13,
   "id": "5d014ea9-1cfb-4634-a722-d19ddbcd62a5",
   "metadata": {},
   "outputs": [],
   "source": [
    "def rfm(cleaned_order_items_df):\n",
    "    '''\n",
    "    This function takes the cleaned order_items dataframe and outputs the Recency, Frequency and Tenure dataframe\n",
    "    '''\n",
    "    return summary_data_from_transaction_data(transactions = cleaned_order_items_df,\n",
    "                                              customer_id_col = 'user_id',\n",
    "                                              datetime_col = 'created_at',\n",
    "                                              monetary_value_col = 'sale_price')"
   ]
  },
  {
   "cell_type": "code",
   "execution_count": 110,
   "id": "f3b2791a-a0a2-4701-a844-842eea1b3737",
   "metadata": {},
   "outputs": [
    {
     "data": {
      "text/html": [
       "<div>\n",
       "<style scoped>\n",
       "    .dataframe tbody tr th:only-of-type {\n",
       "        vertical-align: middle;\n",
       "    }\n",
       "\n",
       "    .dataframe tbody tr th {\n",
       "        vertical-align: top;\n",
       "    }\n",
       "\n",
       "    .dataframe thead th {\n",
       "        text-align: right;\n",
       "    }\n",
       "</style>\n",
       "<table border=\"1\" class=\"dataframe\">\n",
       "  <thead>\n",
       "    <tr style=\"text-align: right;\">\n",
       "      <th></th>\n",
       "      <th>sale_price</th>\n",
       "      <th>user_id</th>\n",
       "      <th>created_at</th>\n",
       "    </tr>\n",
       "    <tr>\n",
       "      <th>order_id</th>\n",
       "      <th></th>\n",
       "      <th></th>\n",
       "      <th></th>\n",
       "    </tr>\n",
       "  </thead>\n",
       "  <tbody>\n",
       "    <tr>\n",
       "      <th>1</th>\n",
       "      <td>159.990000</td>\n",
       "      <td>1</td>\n",
       "      <td>2022-07-18 12:55:00+00:00</td>\n",
       "    </tr>\n",
       "    <tr>\n",
       "      <th>2</th>\n",
       "      <td>22.000000</td>\n",
       "      <td>2</td>\n",
       "      <td>2022-02-20 10:34:00+00:00</td>\n",
       "    </tr>\n",
       "    <tr>\n",
       "      <th>3</th>\n",
       "      <td>59.990002</td>\n",
       "      <td>3</td>\n",
       "      <td>2023-04-23 09:13:00+00:00</td>\n",
       "    </tr>\n",
       "    <tr>\n",
       "      <th>4</th>\n",
       "      <td>108.750000</td>\n",
       "      <td>3</td>\n",
       "      <td>2023-08-08 09:13:00+00:00</td>\n",
       "    </tr>\n",
       "    <tr>\n",
       "      <th>5</th>\n",
       "      <td>109.989998</td>\n",
       "      <td>3</td>\n",
       "      <td>2023-03-10 09:13:00+00:00</td>\n",
       "    </tr>\n",
       "  </tbody>\n",
       "</table>\n",
       "</div>"
      ],
      "text/plain": [
       "          sale_price  user_id                created_at\n",
       "order_id                                               \n",
       "1         159.990000        1 2022-07-18 12:55:00+00:00\n",
       "2          22.000000        2 2022-02-20 10:34:00+00:00\n",
       "3          59.990002        3 2023-04-23 09:13:00+00:00\n",
       "4         108.750000        3 2023-08-08 09:13:00+00:00\n",
       "5         109.989998        3 2023-03-10 09:13:00+00:00"
      ]
     },
     "execution_count": 110,
     "metadata": {},
     "output_type": "execute_result"
    }
   ],
   "source": [
    "clean_df.sort_values('user_id').head()"
   ]
  },
  {
   "cell_type": "code",
   "execution_count": 88,
   "id": "5ecd0668-25bc-4f84-8ca9-a63bc6c37ec4",
   "metadata": {},
   "outputs": [],
   "source": [
    "def train_test_separation(df):\n",
    "\n",
    "    time_diff = df.created_at.max() - df.created_at.min()  # work out how many days range in the dataset\n",
    "    train_test_ratio = 0.3  # choose the fraction to use as test\n",
    "    \n",
    "    # work out the last date for the train dataset (the date to split the data)\n",
    "    train_date_end = df.created_at.min() + (df.created_at.max() - df.created_at.min()) * (1-train_test_ratio)\n",
    "\n",
    "    # use the calibration_and_holdout_data method in lifetimes package to separate the time series data    \n",
    "    separated_df = calibration_and_holdout_data(transactions=df, \n",
    "                                                customer_id_col=\"user_id\",\n",
    "                                                datetime_col = \"created_at\",\n",
    "                                                monetary_value_col= 'sale_price',\n",
    "                                                calibration_period_end=train_date_end,\n",
    "                                                observation_period_end=df.created_at.max())\n",
    "\n",
    "    # Rename the separation train and test (instead of calibration and holdout)    \n",
    "    separated_df.columns = separated_df.columns.str.replace('cal','train').str.replace('holdout','test')\n",
    "\n",
    "    return separated_df"
   ]
  },
  {
   "cell_type": "code",
   "execution_count": 89,
   "id": "15b1e706-8d00-4281-af11-ca9410618f6e",
   "metadata": {},
   "outputs": [
    {
     "name": "stderr",
     "output_type": "stream",
     "text": [
      "/Users/Ian/.pyenv/versions/lewagon/lib/python3.10/site-packages/lifetimes/utils.py:291: UserWarning: Converting to Period representation will drop timezone information.\n",
      "  pd.to_datetime(observation_period_end, format=datetime_format).to_period(freq).to_timestamp()\n",
      "/Users/Ian/.pyenv/versions/lewagon/lib/python3.10/site-packages/lifetimes/utils.py:203: UserWarning: Converting to PeriodArray/Index representation will drop timezone information.\n",
      "  transactions = transactions.set_index(datetime_col).to_period(freq).to_timestamp()\n",
      "/Users/Ian/.pyenv/versions/lewagon/lib/python3.10/site-packages/lifetimes/utils.py:87: UserWarning: Converting to Period representation will drop timezone information.\n",
      "  return d.to_period(freq)\n",
      "/Users/Ian/.pyenv/versions/lewagon/lib/python3.10/site-packages/lifetimes/utils.py:87: UserWarning: Converting to Period representation will drop timezone information.\n",
      "  return d.to_period(freq)\n"
     ]
    }
   ],
   "source": [
    "train_df = train_test_separation(clean_df)"
   ]
  },
  {
   "cell_type": "markdown",
   "id": "890a3166-ca40-4f4c-8972-a55752dd7f3c",
   "metadata": {},
   "source": [
    "### Need to do model tuning"
   ]
  },
  {
   "cell_type": "raw",
   "id": "7f1d3f7e-ec33-4ebd-9b86-702644ad71aa",
   "metadata": {},
   "source": [
    "l2_coefs = [0.001, 0.002, 0.003, 0.004, 0.005, 0.006, 0.007, 0.008, 0.009, 0.01]\n",
    "l2_list = []\n",
    "rmse_list = []\n",
    "for coef in l2_coefs :\n",
    "    # Fitting the model using the calibration dataset.\n",
    "    model = BetaGeoFitter(penalizer_coef=coef)\n",
    "    model.fit(df_rfm_cal['frequency_train'], \n",
    "        df_rfm_cal['recency_train'], \n",
    "        df_rfm_cal['T_train'])\n",
    "    # Predicting the frequency for the holdout period for all customers. \n",
    "    pred_freq = pd.DataFrame(model.predict(df_rfm_cal['duration_test'], \n",
    "                                           df_rfm_cal['frequency_train'],\n",
    "                                           df_rfm_cal['recency_train'],\n",
    "                                           df_rfm_cal['T_train']),\n",
    "                             columns=['pred_frequency']).reset_index()\n",
    "    # Merging the two dataframes and dropping NaN values. \n",
    "    new_df = df_rfm_cal.reset_index().merge(pred_freq, on='user_id').dropna()\n",
    "\n",
    "    # Computing the rmse score \n",
    "    rmse_score = np.sqrt(mean_squared_error(new_df['frequency_test'],new_df['pred_frequency']))\n",
    "    l2_list.append(coef)\n",
    "    rmse_list.append(rmse_score)\n",
    "\n",
    "# Getting the results \n",
    "resl = pd.DataFrame(np.array(rmse_list), columns=['rmse_score'])\\\n",
    "             .merge(pd.DataFrame(np.array(l2_list), columns=['L2 coefs']), right_index=True, left_index=True)\n",
    "resl"
   ]
  },
  {
   "cell_type": "code",
   "execution_count": 92,
   "id": "0a2eca42-7e04-4bc1-a924-5af4474cc2f6",
   "metadata": {},
   "outputs": [],
   "source": [
    "def train_model(rfm_train_df):\n",
    "    pen_coef_ = 0.001\n",
    "    model = BetaGeoFitter(penalizer_coef=pen_coef_)\n",
    "    model.fit(rfm_train_df['frequency_train'],\n",
    "              rfm_train_df['recency_train'],\n",
    "              rfm_train_df['T_train'])\n",
    "    print(\"✅ Model initialized\")\n",
    "    return model"
   ]
  },
  {
   "cell_type": "code",
   "execution_count": 93,
   "id": "eb3fa703-6b68-45cd-b222-39ae8e5c6498",
   "metadata": {},
   "outputs": [
    {
     "name": "stdout",
     "output_type": "stream",
     "text": [
      "✅ Model initialized\n"
     ]
    }
   ],
   "source": [
    "model = train_model(train_df)"
   ]
  },
  {
   "cell_type": "code",
   "execution_count": 123,
   "id": "2243939a-c550-4082-8162-45fd289da2c2",
   "metadata": {},
   "outputs": [
    {
     "name": "stderr",
     "output_type": "stream",
     "text": [
      "/Users/Ian/.pyenv/versions/lewagon/lib/python3.10/site-packages/lifetimes/utils.py:287: UserWarning: Converting to Period representation will drop timezone information.\n",
      "  pd.to_datetime(transactions[datetime_col].max(), format=datetime_format).to_period(freq).to_timestamp()\n",
      "/Users/Ian/.pyenv/versions/lewagon/lib/python3.10/site-packages/lifetimes/utils.py:203: UserWarning: Converting to PeriodArray/Index representation will drop timezone information.\n",
      "  transactions = transactions.set_index(datetime_col).to_period(freq).to_timestamp()\n"
     ]
    }
   ],
   "source": [
    "rfm_df = rfm(clean_df)"
   ]
  },
  {
   "cell_type": "code",
   "execution_count": 127,
   "id": "01f2f340-d8d7-4137-8be5-b2b5d342011f",
   "metadata": {},
   "outputs": [],
   "source": [
    "# Predicting the number of purchases in the next 180 days for all customers.\n",
    "rfm_df['predicted_purchases'] = model.conditional_expected_number_of_purchases_up_to_time(180,\n",
    "                                                                                          rfm_df['frequency'], \n",
    "                                                                                          rfm_df['recency'], \n",
    "                                                                                          rfm_df['T'])\n"
   ]
  },
  {
   "cell_type": "code",
   "execution_count": 128,
   "id": "34b32ed1-97da-459a-a92a-8280177989cb",
   "metadata": {},
   "outputs": [],
   "source": [
    "rfm_df_filtered = rfm_df[rfm_df.monetary_value>0]\n",
    "gg_model = GammaGammaFitter()\n",
    "gg_model.fit(rfm_df_filtered ['frequency'], rfm_df_filtered ['monetary_value']);"
   ]
  },
  {
   "cell_type": "code",
   "execution_count": 129,
   "id": "ecf78035-aa4d-4fcd-8b43-21f49049de66",
   "metadata": {},
   "outputs": [
    {
     "data": {
      "text/html": [
       "<div>\n",
       "<style scoped>\n",
       "    .dataframe tbody tr th:only-of-type {\n",
       "        vertical-align: middle;\n",
       "    }\n",
       "\n",
       "    .dataframe tbody tr th {\n",
       "        vertical-align: top;\n",
       "    }\n",
       "\n",
       "    .dataframe thead th {\n",
       "        text-align: right;\n",
       "    }\n",
       "</style>\n",
       "<table border=\"1\" class=\"dataframe\">\n",
       "  <thead>\n",
       "    <tr style=\"text-align: right;\">\n",
       "      <th></th>\n",
       "      <th>frequency</th>\n",
       "      <th>recency</th>\n",
       "      <th>T</th>\n",
       "      <th>monetary_value</th>\n",
       "      <th>predicted_purchases</th>\n",
       "      <th>CLV</th>\n",
       "    </tr>\n",
       "    <tr>\n",
       "      <th>user_id</th>\n",
       "      <th></th>\n",
       "      <th></th>\n",
       "      <th></th>\n",
       "      <th></th>\n",
       "      <th></th>\n",
       "      <th></th>\n",
       "    </tr>\n",
       "  </thead>\n",
       "  <tbody>\n",
       "    <tr>\n",
       "      <th>37165</th>\n",
       "      <td>1.0</td>\n",
       "      <td>153.0</td>\n",
       "      <td>1711.0</td>\n",
       "      <td>11.950000</td>\n",
       "      <td>0.049507</td>\n",
       "      <td>2.811817</td>\n",
       "    </tr>\n",
       "    <tr>\n",
       "      <th>3131</th>\n",
       "      <td>1.0</td>\n",
       "      <td>152.0</td>\n",
       "      <td>1699.0</td>\n",
       "      <td>12.000000</td>\n",
       "      <td>0.049901</td>\n",
       "      <td>2.835149</td>\n",
       "    </tr>\n",
       "    <tr>\n",
       "      <th>41509</th>\n",
       "      <td>1.0</td>\n",
       "      <td>141.0</td>\n",
       "      <td>1674.0</td>\n",
       "      <td>15.990000</td>\n",
       "      <td>0.050365</td>\n",
       "      <td>2.935480</td>\n",
       "    </tr>\n",
       "    <tr>\n",
       "      <th>90133</th>\n",
       "      <td>1.0</td>\n",
       "      <td>100.0</td>\n",
       "      <td>1610.0</td>\n",
       "      <td>14.990000</td>\n",
       "      <td>0.051030</td>\n",
       "      <td>2.955432</td>\n",
       "    </tr>\n",
       "    <tr>\n",
       "      <th>66626</th>\n",
       "      <td>1.0</td>\n",
       "      <td>65.0</td>\n",
       "      <td>1522.0</td>\n",
       "      <td>9.630000</td>\n",
       "      <td>0.052954</td>\n",
       "      <td>2.962362</td>\n",
       "    </tr>\n",
       "    <tr>\n",
       "      <th>...</th>\n",
       "      <td>...</td>\n",
       "      <td>...</td>\n",
       "      <td>...</td>\n",
       "      <td>...</td>\n",
       "      <td>...</td>\n",
       "      <td>...</td>\n",
       "    </tr>\n",
       "    <tr>\n",
       "      <th>6513</th>\n",
       "      <td>2.0</td>\n",
       "      <td>17.0</td>\n",
       "      <td>98.0</td>\n",
       "      <td>545.500000</td>\n",
       "      <td>0.330380</td>\n",
       "      <td>108.633546</td>\n",
       "    </tr>\n",
       "    <tr>\n",
       "      <th>54607</th>\n",
       "      <td>2.0</td>\n",
       "      <td>130.0</td>\n",
       "      <td>278.0</td>\n",
       "      <td>644.485000</td>\n",
       "      <td>0.289672</td>\n",
       "      <td>110.535706</td>\n",
       "    </tr>\n",
       "    <tr>\n",
       "      <th>78682</th>\n",
       "      <td>3.0</td>\n",
       "      <td>242.0</td>\n",
       "      <td>363.0</td>\n",
       "      <td>434.786669</td>\n",
       "      <td>0.385971</td>\n",
       "      <td>116.666197</td>\n",
       "    </tr>\n",
       "    <tr>\n",
       "      <th>94183</th>\n",
       "      <td>3.0</td>\n",
       "      <td>417.0</td>\n",
       "      <td>419.0</td>\n",
       "      <td>450.496667</td>\n",
       "      <td>0.382905</td>\n",
       "      <td>119.509587</td>\n",
       "    </tr>\n",
       "    <tr>\n",
       "      <th>43385</th>\n",
       "      <td>3.0</td>\n",
       "      <td>33.0</td>\n",
       "      <td>47.0</td>\n",
       "      <td>364.910001</td>\n",
       "      <td>0.482415</td>\n",
       "      <td>124.691086</td>\n",
       "    </tr>\n",
       "  </tbody>\n",
       "</table>\n",
       "<p>80044 rows × 6 columns</p>\n",
       "</div>"
      ],
      "text/plain": [
       "         frequency  recency       T  monetary_value  predicted_purchases  \\\n",
       "user_id                                                                    \n",
       "37165          1.0    153.0  1711.0       11.950000             0.049507   \n",
       "3131           1.0    152.0  1699.0       12.000000             0.049901   \n",
       "41509          1.0    141.0  1674.0       15.990000             0.050365   \n",
       "90133          1.0    100.0  1610.0       14.990000             0.051030   \n",
       "66626          1.0     65.0  1522.0        9.630000             0.052954   \n",
       "...            ...      ...     ...             ...                  ...   \n",
       "6513           2.0     17.0    98.0      545.500000             0.330380   \n",
       "54607          2.0    130.0   278.0      644.485000             0.289672   \n",
       "78682          3.0    242.0   363.0      434.786669             0.385971   \n",
       "94183          3.0    417.0   419.0      450.496667             0.382905   \n",
       "43385          3.0     33.0    47.0      364.910001             0.482415   \n",
       "\n",
       "                CLV  \n",
       "user_id              \n",
       "37165      2.811817  \n",
       "3131       2.835149  \n",
       "41509      2.935480  \n",
       "90133      2.955432  \n",
       "66626      2.962362  \n",
       "...             ...  \n",
       "6513     108.633546  \n",
       "54607    110.535706  \n",
       "78682    116.666197  \n",
       "94183    119.509587  \n",
       "43385    124.691086  \n",
       "\n",
       "[80044 rows x 6 columns]"
      ]
     },
     "execution_count": 129,
     "metadata": {},
     "output_type": "execute_result"
    }
   ],
   "source": [
    "rfm_df['CLV'] = gg_model.customer_lifetime_value(model,\n",
    "                                                 rfm_df['frequency'],\n",
    "                                                 rfm_df['recency'],\n",
    "                                                 rfm_df['T'],\n",
    "                                                 rfm_df['monetary_value'],\n",
    "                                                 time = 6,# In months\n",
    "                                                )\n",
    "rfm_df.sort_values('CLV')"
   ]
  },
  {
   "cell_type": "code",
   "execution_count": 91,
   "id": "a094fb15-2ba4-40a6-9e45-df44ad58eff5",
   "metadata": {},
   "outputs": [
    {
     "data": {
      "text/plain": [
       "Timestamp('2022-07-18 06:09:22.773725088+0000', tz='UTC')"
      ]
     },
     "execution_count": 91,
     "metadata": {},
     "output_type": "execute_result"
    }
   ],
   "source": [
    "train_date_end"
   ]
  },
  {
   "cell_type": "code",
   "execution_count": 93,
   "id": "380402fe-6697-42ab-9b7f-8212ac1aca44",
   "metadata": {},
   "outputs": [
    {
     "data": {
      "text/plain": [
       "Timestamp('2022-07-18 06:09:22.773725104+0000', tz='UTC')"
      ]
     },
     "execution_count": 93,
     "metadata": {},
     "output_type": "execute_result"
    }
   ],
   "source": [
    "test_date_start"
   ]
  }
 ],
 "metadata": {
  "kernelspec": {
   "display_name": "Python 3 (ipykernel)",
   "language": "python",
   "name": "python3"
  },
  "language_info": {
   "codemirror_mode": {
    "name": "ipython",
    "version": 3
   },
   "file_extension": ".py",
   "mimetype": "text/x-python",
   "name": "python",
   "nbconvert_exporter": "python",
   "pygments_lexer": "ipython3",
   "version": "3.10.6"
  }
 },
 "nbformat": 4,
 "nbformat_minor": 5
}
