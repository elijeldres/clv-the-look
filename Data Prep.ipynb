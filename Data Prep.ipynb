{
 "cells": [
  {
   "cell_type": "code",
   "execution_count": 2,
   "id": "0725dcb3-ab6e-461e-be17-aeb42d213b07",
   "metadata": {},
   "outputs": [],
   "source": [
    "import pandas as pd"
   ]
  },
  {
   "cell_type": "code",
   "execution_count": 15,
   "id": "c6f7bbcb-a1c3-4b37-94ea-95793c709869",
   "metadata": {},
   "outputs": [],
   "source": [
    "# data import \n",
    "users_df = pd.read_csv('raw_data/users.csv')\n",
    "centers_df = pd.read_csv('raw_data/distribution_centers.csv')\n",
    "events_df = pd.read_csv('raw_data/events.csv')\n",
    "inventory_items_df = pd.read_csv('raw_data/inventory_items.csv')\n",
    "order_items_df = pd.read_csv('raw_data/order_items.csv')\n",
    "orders_df = pd.read_csv('raw_data/orders.csv')\n",
    "products_df = pd.read_csv('raw_data/products.csv')"
   ]
  },
  {
   "cell_type": "code",
   "execution_count": 16,
   "id": "33df7756-bbec-49de-a20a-3bc6970792ab",
   "metadata": {},
   "outputs": [
    {
     "data": {
      "text/plain": [
       "Index(['id', 'first_name', 'last_name', 'email', 'age', 'gender', 'state',\n",
       "       'street_address', 'postal_code', 'city', 'country', 'latitude',\n",
       "       'longitude', 'traffic_source', 'created_at'],\n",
       "      dtype='object')"
      ]
     },
     "execution_count": 16,
     "metadata": {},
     "output_type": "execute_result"
    }
   ],
   "source": [
    "users_df.columns\n",
    "\n",
    "# 'age', \n",
    "# 'gender', \n",
    "# 'country',\n",
    "# 'traffic_source', -- marketing source\n",
    "# 'created_at' -- how long did the customer stay in our platform?\n",
    "\n",
    "# 'street_address',\n",
    "# 'postal_code',\n",
    "# 'city',\n",
    "# 'state',\n",
    "# 'latitude',\n",
    "# 'longitude', -- area that has high income?"
   ]
  },
  {
   "cell_type": "code",
   "execution_count": 10,
   "id": "935f58bc-1b21-4432-adad-bda22dfcc82f",
   "metadata": {},
   "outputs": [
    {
     "data": {
      "text/plain": [
       "traffic_source\n",
       "Search      70075\n",
       "Organic     15110\n",
       "Facebook     5816\n",
       "Email        4947\n",
       "Display      4052\n",
       "Name: count, dtype: int64"
      ]
     },
     "execution_count": 10,
     "metadata": {},
     "output_type": "execute_result"
    }
   ],
   "source": [
    "users_df.traffic_source.value_counts()"
   ]
  },
  {
   "cell_type": "code",
   "execution_count": 17,
   "id": "c76e5815-8932-4243-af7e-0e8da1109a0d",
   "metadata": {},
   "outputs": [
    {
     "data": {
      "text/plain": [
       "Index(['order_id', 'user_id', 'status', 'gender', 'created_at', 'returned_at',\n",
       "       'shipped_at', 'delivered_at', 'num_of_item'],\n",
       "      dtype='object')"
      ]
     },
     "execution_count": 17,
     "metadata": {},
     "output_type": "execute_result"
    }
   ],
   "source": [
    "orders_df.columns\n",
    "\n",
    "# return ratio\n",
    "# average process time"
   ]
  },
  {
   "cell_type": "code",
   "execution_count": 18,
   "id": "82dbe499-48d6-458e-8fdc-9b88448104a7",
   "metadata": {},
   "outputs": [
    {
     "data": {
      "text/plain": [
       "status\n",
       "Shipped       37577\n",
       "Complete      31354\n",
       "Processing    25156\n",
       "Cancelled     18609\n",
       "Returned      12530\n",
       "Name: count, dtype: int64"
      ]
     },
     "execution_count": 18,
     "metadata": {},
     "output_type": "execute_result"
    }
   ],
   "source": [
    "orders_df.status.value_counts()"
   ]
  },
  {
   "cell_type": "code",
   "execution_count": 20,
   "id": "950d8608-5355-481e-8875-96e1dbac00ac",
   "metadata": {},
   "outputs": [
    {
     "data": {
      "text/html": [
       "<div>\n",
       "<style scoped>\n",
       "    .dataframe tbody tr th:only-of-type {\n",
       "        vertical-align: middle;\n",
       "    }\n",
       "\n",
       "    .dataframe tbody tr th {\n",
       "        vertical-align: top;\n",
       "    }\n",
       "\n",
       "    .dataframe thead th {\n",
       "        text-align: right;\n",
       "    }\n",
       "</style>\n",
       "<table border=\"1\" class=\"dataframe\">\n",
       "  <thead>\n",
       "    <tr style=\"text-align: right;\">\n",
       "      <th></th>\n",
       "      <th>id</th>\n",
       "      <th>name</th>\n",
       "      <th>latitude</th>\n",
       "      <th>longitude</th>\n",
       "    </tr>\n",
       "  </thead>\n",
       "  <tbody>\n",
       "    <tr>\n",
       "      <th>0</th>\n",
       "      <td>1</td>\n",
       "      <td>Memphis TN</td>\n",
       "      <td>35.1174</td>\n",
       "      <td>-89.9711</td>\n",
       "    </tr>\n",
       "    <tr>\n",
       "      <th>1</th>\n",
       "      <td>2</td>\n",
       "      <td>Chicago IL</td>\n",
       "      <td>41.8369</td>\n",
       "      <td>-87.6847</td>\n",
       "    </tr>\n",
       "    <tr>\n",
       "      <th>2</th>\n",
       "      <td>3</td>\n",
       "      <td>Houston TX</td>\n",
       "      <td>29.7604</td>\n",
       "      <td>-95.3698</td>\n",
       "    </tr>\n",
       "    <tr>\n",
       "      <th>3</th>\n",
       "      <td>4</td>\n",
       "      <td>Los Angeles CA</td>\n",
       "      <td>34.0500</td>\n",
       "      <td>-118.2500</td>\n",
       "    </tr>\n",
       "    <tr>\n",
       "      <th>4</th>\n",
       "      <td>5</td>\n",
       "      <td>New Orleans LA</td>\n",
       "      <td>29.9500</td>\n",
       "      <td>-90.0667</td>\n",
       "    </tr>\n",
       "  </tbody>\n",
       "</table>\n",
       "</div>"
      ],
      "text/plain": [
       "   id            name  latitude  longitude\n",
       "0   1      Memphis TN   35.1174   -89.9711\n",
       "1   2      Chicago IL   41.8369   -87.6847\n",
       "2   3      Houston TX   29.7604   -95.3698\n",
       "3   4  Los Angeles CA   34.0500  -118.2500\n",
       "4   5  New Orleans LA   29.9500   -90.0667"
      ]
     },
     "execution_count": 20,
     "metadata": {},
     "output_type": "execute_result"
    }
   ],
   "source": [
    "centers_df.head()"
   ]
  },
  {
   "cell_type": "code",
   "execution_count": null,
   "id": "3d102f9a-ecd7-4e49-a7b0-bfe16296ab9d",
   "metadata": {},
   "outputs": [],
   "source": []
  }
 ],
 "metadata": {
  "kernelspec": {
   "display_name": "Python 3 (ipykernel)",
   "language": "python",
   "name": "python3"
  },
  "language_info": {
   "codemirror_mode": {
    "name": "ipython",
    "version": 3
   },
   "file_extension": ".py",
   "mimetype": "text/x-python",
   "name": "python",
   "nbconvert_exporter": "python",
   "pygments_lexer": "ipython3",
   "version": "3.10.6"
  }
 },
 "nbformat": 4,
 "nbformat_minor": 5
}
