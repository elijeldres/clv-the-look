{
 "cells": [
  {
   "cell_type": "code",
   "execution_count": 1,
   "id": "0dc21e48-60bd-4856-b0ed-247ad6649768",
   "metadata": {},
   "outputs": [],
   "source": [
    "import matplotlib.pyplot as plt\n",
    "import numpy as np\n",
    "import pandas as pd\n",
    "import seaborn as sns\n",
    "import datetime as dt\n",
    "import warnings\n",
    "import math\n",
    "\n",
    "from scipy import stats\n",
    "from tempfile import mkdtemp\n",
    "from shutil import rmtree\n",
    "\n",
    "from xgboost import XGBRegressor, XGBClassifier\n",
    "\n",
    "from sklearn import set_config\n",
    "set_config(display = 'diagram')\n",
    "# Sklearn preprocessing\n",
    "from sklearn.base import BaseEstimator, TransformerMixin\n",
    "from sklearn.compose import make_column_transformer, make_column_selector, ColumnTransformer\n",
    "from sklearn.ensemble import AdaBoostRegressor, VotingRegressor, GradientBoostingRegressor, StackingRegressor, RandomForestRegressor,\\\n",
    "                            RandomForestClassifier, AdaBoostClassifier, GradientBoostingClassifier, BaggingClassifier, ExtraTreesClassifier, VotingClassifier\n",
    "from sklearn.feature_selection import SelectPercentile, mutual_info_regression, VarianceThreshold, SelectFromModel\n",
    "from sklearn.impute import SimpleImputer, KNNImputer\n",
    "from sklearn.linear_model import Ridge, LinearRegression, LogisticRegression\n",
    "from sklearn.metrics import make_scorer, mean_squared_error, mean_squared_log_error, r2_score, confusion_matrix\n",
    "from sklearn.model_selection import train_test_split, cross_val_score, GridSearchCV, RandomizedSearchCV\n",
    "from sklearn.neighbors import KNeighborsRegressor, KNeighborsClassifier\n",
    "from sklearn.pipeline import make_pipeline\n",
    "from sklearn.preprocessing import MinMaxScaler, OneHotEncoder, OrdinalEncoder, RobustScaler\n",
    "from sklearn.svm import SVR, SVC\n",
    "from sklearn.tree import DecisionTreeRegressor, DecisionTreeClassifier\n",
    "from sklearn.cluster import KMeans"
   ]
  },
  {
   "cell_type": "code",
   "execution_count": 2,
   "id": "1f5d743e-55ce-4ce1-8e13-96ac6f33f3ff",
   "metadata": {},
   "outputs": [],
   "source": [
    "users_df = pd.read_csv('../raw_data/users.csv')\n",
    "centers_df = pd.read_csv('../raw_data/distribution_centers.csv')\n",
    "events_df = pd.read_csv('../raw_data/events.csv')\n",
    "inventory_items_df = pd.read_csv('../raw_data/inventory_items.csv')\n",
    "order_items_df = pd.read_csv('../raw_data/order_items.csv')\n",
    "orders_df = pd.read_csv('../raw_data/orders.csv')\n",
    "products_df = pd.read_csv('../raw_data/products.csv')"
   ]
  },
  {
   "cell_type": "markdown",
   "id": "d20c277e-102e-4089-bb16-5d5cd45af638",
   "metadata": {},
   "source": [
    "## basic join"
   ]
  },
  {
   "cell_type": "code",
   "execution_count": 11,
   "id": "89ccd034-1705-42ce-af20-87d4f25d108b",
   "metadata": {},
   "outputs": [],
   "source": [
    "def join_tables_item_level(order_items_df, products_df):\n",
    "    '''\n",
    "    Joins order-item & product\n",
    "    '''\n",
    "    order_items_df = order_items_df[['id', \n",
    "                                     'order_id', \n",
    "                                     'user_id', \n",
    "                                     'product_id', \n",
    "                                     'inventory_item_id',\n",
    "                                     'status', \n",
    "                                     'created_at', \n",
    "                                     # 'shipped_at', \n",
    "                                     # 'delivered_at', \n",
    "                                     # 'returned_at',\n",
    "                                     'sale_price']].rename(columns={'id':'order_item_id','status':'order_status'})    \n",
    "\n",
    "    order_items_df['created_at'] = pd.to_datetime(order_items_df['created_at'],\n",
    "                                                       format='mixed').dt.tz_localize(None)\n",
    "    products_df = products_df[['id', \n",
    "                               'cost', \n",
    "                               'category', \n",
    "                               'name',\n",
    "                               'brand',\n",
    "                               'retail_price', \n",
    "                               'department',\n",
    "                               # 'sku',\n",
    "                               'distribution_center_id']]\n",
    "\n",
    "    \n",
    "    df_joined = order_items_df.merge(products_df, left_on='product_id', right_on='id', how='left')\n",
    "    df_joined = df_joined.drop(columns=['id']) # duplicate product id    \n",
    "\n",
    "    return df_joined"
   ]
  },
  {
   "cell_type": "markdown",
   "id": "60a113b4-aa83-4cc8-ac62-a80e1df7db9c",
   "metadata": {
    "jp-MarkdownHeadingCollapsed": true
   },
   "source": [
    "## Data Exploration"
   ]
  },
  {
   "cell_type": "code",
   "execution_count": null,
   "id": "8eae87ad-ad1f-4264-a42a-4cf25bc9a15a",
   "metadata": {},
   "outputs": [],
   "source": [
    "# Check users\n",
    "users_df_test = users_df.copy()\n",
    "users_df_test['created_at'] = pd.to_datetime(users_df_test['created_at'],format='mixed').dt.tz_localize(None)\n",
    "users_df_test.hist('created_at')"
   ]
  },
  {
   "cell_type": "code",
   "execution_count": null,
   "id": "9de5a64f-e5ce-4832-a159-692413aa233f",
   "metadata": {},
   "outputs": [],
   "source": [
    "# Check order trend\n",
    "orders_test = orders_df.copy()\n",
    "orders_test['created_at'] = pd.to_datetime(orders_test['created_at'],format='mixed').dt.tz_localize(None)\n",
    "orders_test.hist('created_at')"
   ]
  },
  {
   "cell_type": "code",
   "execution_count": null,
   "id": "6d99fff7-5219-445a-bd23-dcd8d9b55c46",
   "metadata": {},
   "outputs": [],
   "source": [
    "orders_cnt = orders_test.groupby(by='user_id')['order_id'].count().reset_index(name='orders')\n",
    "\n",
    "orders_cnt['orders'].hist()\n",
    "\n",
    "# Most of users only buy once"
   ]
  },
  {
   "cell_type": "code",
   "execution_count": null,
   "id": "5de5c94b-d668-47e7-9b83-4e25391a69af",
   "metadata": {},
   "outputs": [],
   "source": [
    "users_test = orders_df.copy()\n",
    "users_test['created_at'] = pd.to_datetime(users_test['created_at'],format='mixed').dt.tz_localize(None)"
   ]
  },
  {
   "cell_type": "code",
   "execution_count": null,
   "id": "a2a27d5e-ee95-4ade-a494-86b2bd7360f7",
   "metadata": {},
   "outputs": [],
   "source": [
    "users_test['year'] = users_test.created_at.dt.year"
   ]
  },
  {
   "cell_type": "markdown",
   "id": "515a1961-1168-46fb-9925-b1115c748955",
   "metadata": {},
   "source": [
    "#### ? Users sign up early and buy later somehow"
   ]
  },
  {
   "cell_type": "code",
   "execution_count": null,
   "id": "9e7fd5b5-cd5b-4da8-a624-cb38ba390799",
   "metadata": {},
   "outputs": [],
   "source": [
    "orders_w_user = orders_test.merge(users_test[['user_id','created_at']].rename(columns={'created_at':'user_created_at'}), on='user_id')"
   ]
  },
  {
   "cell_type": "code",
   "execution_count": null,
   "id": "5b883a46-ffdc-479d-8b46-84313f765f27",
   "metadata": {},
   "outputs": [],
   "source": [
    "orders_w_user['months_from_signup'] = (orders_w_user.created_at-orders_w_user.user_created_at).dt.days/30"
   ]
  },
  {
   "cell_type": "code",
   "execution_count": null,
   "id": "8845fef8-00c4-4ed0-a9cc-e543140ac0d5",
   "metadata": {},
   "outputs": [],
   "source": [
    "orders_w_user.months_from_signup.hist()\n",
    "\n",
    "# user_created_at is wrong"
   ]
  },
  {
   "cell_type": "code",
   "execution_count": null,
   "id": "cbe5e793-1df5-4b59-bd72-a36c5998002b",
   "metadata": {},
   "outputs": [],
   "source": [
    "orders_df.columns"
   ]
  },
  {
   "cell_type": "markdown",
   "id": "28d3dab9-d361-4e48-b789-519656d14963",
   "metadata": {},
   "source": [
    "#### ? Is there brands working bad in terms of return rate?"
   ]
  },
  {
   "cell_type": "code",
   "execution_count": null,
   "id": "b20f0f7b-cbc8-426a-8e11-086f7bb47796",
   "metadata": {},
   "outputs": [],
   "source": [
    "item_product_df = join_tables_item_level(order_items_df, products_df)"
   ]
  },
  {
   "cell_type": "code",
   "execution_count": null,
   "id": "8c3fd8de-49c8-451c-b763-bbe23500634a",
   "metadata": {},
   "outputs": [],
   "source": [
    "item_product_df['num_returns'] = item_product_df."
   ]
  },
  {
   "cell_type": "code",
   "execution_count": null,
   "id": "981b258a-f57b-48a2-a069-b1e4744b9fdb",
   "metadata": {},
   "outputs": [],
   "source": [
    "item_product_df.groupby(by=['brand','order_status'])['order_id'].nunique().reset_index()"
   ]
  },
  {
   "cell_type": "code",
   "execution_count": null,
   "id": "712a723a-3507-48f3-9199-12d1b02591fc",
   "metadata": {},
   "outputs": [],
   "source": []
  },
  {
   "cell_type": "code",
   "execution_count": null,
   "id": "ec454ae8-707d-4b05-bf37-45e2a3385be7",
   "metadata": {},
   "outputs": [],
   "source": []
  },
  {
   "cell_type": "code",
   "execution_count": null,
   "id": "46813663-b2c6-4f01-b9a7-5037480895f0",
   "metadata": {},
   "outputs": [],
   "source": []
  },
  {
   "cell_type": "markdown",
   "id": "accc52de-62a0-4ee2-bfc8-785e07228f60",
   "metadata": {},
   "source": [
    "## Data Prep"
   ]
  },
  {
   "cell_type": "code",
   "execution_count": 4,
   "id": "7faddd1c-4281-4502-a6d1-e778d7e98645",
   "metadata": {},
   "outputs": [],
   "source": [
    "def dtype_cast_datetime(orders_df):    \n",
    "    # datetime format cast\n",
    "    dt_columns = [ 'created_at', 'returned_at', 'shipped_at', 'delivered_at']\n",
    "\n",
    "    for column in dt_columns:\n",
    "        orders_df[column] = pd.to_datetime(orders_df[column],format='mixed').dt.tz_localize(None)\n",
    "\n",
    "    return orders_df\n"
   ]
  },
  {
   "cell_type": "code",
   "execution_count": 5,
   "id": "c13b43df-84bb-4089-ac1c-6e514a2eb75e",
   "metadata": {},
   "outputs": [],
   "source": [
    "def restructure_orders_prev_next(df):\n",
    "    '''\n",
    "    ---\n",
    "    '''\n",
    "\n",
    "    orders_df = dtype_cast_datetime(df).copy()\n",
    "    # order ranks\n",
    "    orders_df['order_rank'] = orders_df.groupby('user_id')['created_at'].rank(method='first').astype(int)\n",
    "    orders_df = orders_df.sort_values(by=['user_id', 'order_rank'])\n",
    "\n",
    "    # Calc delivery day\n",
    "    orders_df['delivery_days'] = (orders_df['delivered_at'] - orders_df['created_at']).dt.days\n",
    "    # Calc shipped day\n",
    "    orders_df['delivery_days'] = (orders_df['shipped_at'] - orders_df['created_at']).dt.days\n",
    "\n",
    "    # weekday\n",
    "    orders_df['weekday_ordered'] = orders_df['created_at'].dt.dayofweek\n",
    "    orders_df['weekday_delivered'] = orders_df['delivered_at'].dt.dayofweek\n",
    "\n",
    "    # counts other status\n",
    "    orders_df['returned?'] = orders_df['returned_at'].apply(lambda x : 1 if pd.notna(x) else 0)\n",
    "    orders_df['shipped?'] = orders_df['shipped_at'].apply(lambda x : 1 if pd.notna(x) else 0)\n",
    "    orders_df['delivered?'] = orders_df['delivered_at'].apply(lambda x : 1 if pd.notna(x) else 0)\n",
    "\n",
    "    orders_df['return_cumsum'] = orders_df.groupby(by='user_id')['returned?'].cumsum()\n",
    "    orders_df['ship_cumsum'] = orders_df.groupby(by='user_id')['shipped?'].cumsum()\n",
    "    orders_df['deliver_cumsum'] = orders_df.groupby(by='user_id')['delivered?'].cumsum()\n",
    "    \n",
    "    # User-level T\n",
    "    orders_df['min_order_created_at'] = orders_df.groupby(by='user_id')['created_at'].transform('min')\n",
    "    orders_df['min_order_delivered_at'] = orders_df.groupby(by='user_id')['delivered_at'].transform('min')\n",
    "\n",
    "    orders_df['customer_T'] = (orders_df['created_at']-orders_df['min_order_created_at']).dt.days\n",
    "    orders_df['days_from_first_delivery'] = (orders_df['created_at']-orders_df['min_order_delivered_at']).dt.days\n",
    "    \n",
    "    # Total items\n",
    "    orders_df['items_until_now'] = orders_df.groupby(by='user_id')['num_of_item'].cumsum()\n",
    "    orders_df['num_items_delivered'] = orders_df.apply(lambda row: row['num_of_item'] if row['delivered?']==1 else 0, axis=1)\n",
    "    orders_df['delivered_items_until_now'] = orders_df.groupby(by='user_id')['num_items_delivered'].cumsum()\n",
    "\n",
    "    # avg days between orders\n",
    "\n",
    "    # Next orders\n",
    "    orders_next = orders_df.copy()\n",
    "    orders_next['order_rank_prev'] = orders_next['order_rank']-1\n",
    "    orders_next = orders_next[['user_id','order_id','order_rank_prev']].rename(columns={'order_id':'next_order_id'})\n",
    "    \n",
    "    orders_prev_next = orders_df.merge(orders_next, left_on=['user_id','order_rank'], right_on=['user_id','order_rank_prev'], how='left')\n",
    "\n",
    "    orders_prev_next['next_order?'] = orders_prev_next['next_order_id'].notna()\n",
    "\n",
    "    return orders_prev_next.drop(columns='order_rank_prev')"
   ]
  },
  {
   "cell_type": "code",
   "execution_count": 6,
   "id": "3bc8cfd9-4c10-4715-8565-1df9c20a09c6",
   "metadata": {},
   "outputs": [],
   "source": [
    "test = restructure_orders_prev_next(orders_df)"
   ]
  },
  {
   "cell_type": "code",
   "execution_count": 7,
   "id": "e976985e-6bb2-4db3-a92d-3412a5de82b2",
   "metadata": {
    "scrolled": true
   },
   "outputs": [
    {
     "data": {
      "text/html": [
       "<div>\n",
       "<style scoped>\n",
       "    .dataframe tbody tr th:only-of-type {\n",
       "        vertical-align: middle;\n",
       "    }\n",
       "\n",
       "    .dataframe tbody tr th {\n",
       "        vertical-align: top;\n",
       "    }\n",
       "\n",
       "    .dataframe thead th {\n",
       "        text-align: right;\n",
       "    }\n",
       "</style>\n",
       "<table border=\"1\" class=\"dataframe\">\n",
       "  <thead>\n",
       "    <tr style=\"text-align: right;\">\n",
       "      <th></th>\n",
       "      <th>order_id</th>\n",
       "      <th>user_id</th>\n",
       "      <th>created_at</th>\n",
       "      <th>order_rank</th>\n",
       "      <th>min_order_created_at</th>\n",
       "      <th>return_cumsum</th>\n",
       "    </tr>\n",
       "  </thead>\n",
       "  <tbody>\n",
       "    <tr>\n",
       "      <th>58</th>\n",
       "      <td>60</td>\n",
       "      <td>44</td>\n",
       "      <td>2023-01-20 02:12:00</td>\n",
       "      <td>1</td>\n",
       "      <td>2023-01-20 02:12:00</td>\n",
       "      <td>0</td>\n",
       "    </tr>\n",
       "    <tr>\n",
       "      <th>59</th>\n",
       "      <td>59</td>\n",
       "      <td>44</td>\n",
       "      <td>2023-09-11 02:12:00</td>\n",
       "      <td>2</td>\n",
       "      <td>2023-01-20 02:12:00</td>\n",
       "      <td>0</td>\n",
       "    </tr>\n",
       "    <tr>\n",
       "      <th>125207</th>\n",
       "      <td>125208</td>\n",
       "      <td>99983</td>\n",
       "      <td>2022-03-14 15:06:00</td>\n",
       "      <td>1</td>\n",
       "      <td>2022-03-14 15:06:00</td>\n",
       "      <td>0</td>\n",
       "    </tr>\n",
       "    <tr>\n",
       "      <th>125208</th>\n",
       "      <td>125209</td>\n",
       "      <td>99983</td>\n",
       "      <td>2022-09-07 15:06:00</td>\n",
       "      <td>2</td>\n",
       "      <td>2022-03-14 15:06:00</td>\n",
       "      <td>0</td>\n",
       "    </tr>\n",
       "    <tr>\n",
       "      <th>125209</th>\n",
       "      <td>125210</td>\n",
       "      <td>99983</td>\n",
       "      <td>2023-03-01 15:06:00</td>\n",
       "      <td>3</td>\n",
       "      <td>2022-03-14 15:06:00</td>\n",
       "      <td>0</td>\n",
       "    </tr>\n",
       "    <tr>\n",
       "      <th>125210</th>\n",
       "      <td>125211</td>\n",
       "      <td>99983</td>\n",
       "      <td>2023-08-25 15:06:00</td>\n",
       "      <td>4</td>\n",
       "      <td>2022-03-14 15:06:00</td>\n",
       "      <td>0</td>\n",
       "    </tr>\n",
       "  </tbody>\n",
       "</table>\n",
       "</div>"
      ],
      "text/plain": [
       "        order_id  user_id          created_at  order_rank  \\\n",
       "58            60       44 2023-01-20 02:12:00           1   \n",
       "59            59       44 2023-09-11 02:12:00           2   \n",
       "125207    125208    99983 2022-03-14 15:06:00           1   \n",
       "125208    125209    99983 2022-09-07 15:06:00           2   \n",
       "125209    125210    99983 2023-03-01 15:06:00           3   \n",
       "125210    125211    99983 2023-08-25 15:06:00           4   \n",
       "\n",
       "       min_order_created_at  return_cumsum  \n",
       "58      2023-01-20 02:12:00              0  \n",
       "59      2023-01-20 02:12:00              0  \n",
       "125207  2022-03-14 15:06:00              0  \n",
       "125208  2022-03-14 15:06:00              0  \n",
       "125209  2022-03-14 15:06:00              0  \n",
       "125210  2022-03-14 15:06:00              0  "
      ]
     },
     "execution_count": 7,
     "metadata": {},
     "output_type": "execute_result"
    }
   ],
   "source": [
    "test[test['user_id'].isin([99983,44])][['order_id','user_id','created_at','order_rank','min_order_created_at','return_cumsum']]"
   ]
  },
  {
   "cell_type": "markdown",
   "id": "42eaefb4-f4fd-4cd9-bd14-3b0d7843af8f",
   "metadata": {},
   "source": [
    "### distance to products"
   ]
  },
  {
   "cell_type": "code",
   "execution_count": 8,
   "id": "34babe15-77ae-43bb-82da-25a7b408a342",
   "metadata": {},
   "outputs": [],
   "source": [
    "def haversine(lat1, lon1, lat2, lon2):\n",
    "    \"\"\"\n",
    "    Calculate the great circle distance between two points\n",
    "    on the Earth's surface given their latitude and longitude\n",
    "    in decimal degrees.\n",
    "    \"\"\"\n",
    "    # Convert decimal degrees to radians\n",
    "    lat1, lon1, lat2, lon2 = map(math.radians, [lat1, lon1, lat2, lon2])\n",
    "\n",
    "    # Haversine formula\n",
    "    dlon = lon2 - lon1\n",
    "    dlat = lat2 - lat1\n",
    "    a = math.sin(dlat/2)**2 + math.cos(lat1) * math.cos(lat2) * math.sin(dlon/2)**2\n",
    "    c = 2 * math.asin(math.sqrt(a))\n",
    "    r = 6371  # Radius of Earth in kilometers. Use 3956 for miles\n",
    "    return c * r"
   ]
  },
  {
   "cell_type": "code",
   "execution_count": 9,
   "id": "54b907c5-5f1f-4bc5-9ba7-16646f32ca5a",
   "metadata": {},
   "outputs": [],
   "source": [
    "def calc_distance(products_df, centers_df, users_df, order_items_df):\n",
    "    prod_center_df = products_df[['id','distribution_center_id']].merge(centers_df[['id','latitude','longitude']], \n",
    "                                                                        left_on='distribution_center_id', \n",
    "                                                                        right_on='id', how='left')\\\n",
    "                                                                .rename(\n",
    "                                                                    columns={'id_x':'product_id',\n",
    "                                                                             'latitude':'prod_lat',\n",
    "                                                                             'longitude':'prod_lon'}).drop(columns='id_y')\n",
    "    \n",
    "    \n",
    "    order_user_df = order_items_df[['order_id','user_id','product_id']].merge(users_df[['id','latitude','longitude']]\n",
    "                                                                              , left_on= 'product_id', right_on = 'id', how='left')\\\n",
    "                                                                              .drop(columns='id') \\\n",
    "                                                                              .rename(columns={\n",
    "                                                                                  'latitude':'user_lat',\n",
    "                                                                                  'longitude':'user_lon'\n",
    "                                                                              })\n",
    "    \n",
    "    distance_df = order_user_df.merge(prod_center_df, on='product_id', how='left')\n",
    "\n",
    "    # Assuming df has columns 'lat1', 'lon1', 'lat2', 'lon2'\n",
    "    distance_df['distance'] = distance_df.apply(lambda row: haversine(row['prod_lat'], row['prod_lon'], row['user_lat'], row['user_lon']), axis=1)\n",
    "\n",
    "    result = distance_df.groupby(by='order_id')['distance'].mean().reset_index(name='avg_distance')\n",
    "\n",
    "    return result\n",
    "\n"
   ]
  },
  {
   "cell_type": "code",
   "execution_count": null,
   "id": "e7434d87-ff1f-495e-9fe7-479e8db374d6",
   "metadata": {},
   "outputs": [],
   "source": [
    "calc_distance(products_df, centers_df, users_df, order_items_df)"
   ]
  },
  {
   "cell_type": "markdown",
   "id": "64d22038-987e-40b4-b5da-5e4efc598521",
   "metadata": {},
   "source": [
    "## Joined Dataframe Aggregation\n",
    "### -Calculates preffered brand and category"
   ]
  },
  {
   "cell_type": "code",
   "execution_count": 12,
   "id": "c92e3444-5966-49f9-80e6-63ff8bb127d9",
   "metadata": {},
   "outputs": [],
   "source": [
    "def product_info(item_level_df):\n",
    "    '''\n",
    "    takes item-level dataframe and calculate features to user level.\n",
    "    '''\n",
    "\n",
    "    base = item_level_df[['order_id','order_item_id']].groupby('order_id').count().fillna(0).rename(columns={'order_item_id':'num_order_item'}).reset_index()\n",
    "\n",
    "    # order revenue\n",
    "    revenue = item_level_df.groupby(by='order_id')['sale_price'].sum().reset_index(name='sale_price')\n",
    "    base = base.merge(revenue, on='order_id', how='left') \n",
    "    \n",
    "    # order retail_price\n",
    "    revenue = item_level_df.groupby(by='order_id')['retail_price'].sum().reset_index(name='retail_price')\n",
    "    base = base.merge(revenue, on='order_id', how='left') \n",
    "    \n",
    "    \n",
    "    # Most frequent category\n",
    "    count_cat = item_level_df.groupby(['order_id', 'category']).size().reset_index(name='count')\n",
    "    # Find the index of the row with the maximum count for each user\n",
    "    max_count_index = count_cat.groupby('order_id')['count'].idxmax()\n",
    "    # Extract the rows corresponding to the maximum counts\n",
    "    preferred_categories = count_cat.loc[max_count_index]\n",
    "    # remove duplicates\n",
    "    pref_cat_no_duplicates = preferred_categories.drop_duplicates(subset=['order_id']).rename(columns={'category':'category_preffered'})\n",
    "\n",
    "    base = base.merge(pref_cat_no_duplicates[['order_id','category_preffered']],on='order_id',how='left')            \n",
    "\n",
    "\n",
    "    # Department\n",
    "    # Most frequent category\n",
    "    count_dept = item_level_df.groupby(['order_id', 'department']).size().reset_index(name='count')\n",
    "    # Find the index of the row with the maximum count for each user\n",
    "    max_count_index_dept = count_dept.groupby('order_id')['count'].idxmax()\n",
    "    # Extract the rows corresponding to the maximum counts\n",
    "    preferred_dept = count_dept.loc[max_count_index_dept]\n",
    "    # remove duplicates\n",
    "    pref_dept_no_duplicates = preferred_dept.drop_duplicates(subset=['order_id']).rename(columns={'department':'dept_pref'})\n",
    "\n",
    "    base = base.merge(pref_dept_no_duplicates[['order_id','dept_pref']],on='order_id',how='left')    \n",
    "    \n",
    "    return base"
   ]
  },
  {
   "cell_type": "markdown",
   "id": "74b318f3-00b9-4de3-a05d-ebb5aba9400f",
   "metadata": {},
   "source": [
    "## User dataset"
   ]
  },
  {
   "cell_type": "code",
   "execution_count": 13,
   "id": "e204014d-5a76-4b04-ae53-18e054cbcf3a",
   "metadata": {},
   "outputs": [],
   "source": [
    "def select_user_columns(users_df):\n",
    "\n",
    "    df = users_df[['id','age','country','created_at','traffic_source']].rename(columns={'id':'user_id','created_at':'user_created_at'})\n",
    "    # Filter users only for last 2 years from split date\n",
    "    # min_date = split_date - pd.DateOffset(days=365*5)\n",
    "\n",
    "    def assign_age_group(age):\n",
    "        if age <= 15:\n",
    "            return '00_15'\n",
    "        elif age <= 25:\n",
    "            return '16_25'\n",
    "        elif age <= 35:\n",
    "            return '26_35'\n",
    "        elif age <= 45:\n",
    "            return '36_45'\n",
    "        elif age <= 55:\n",
    "            return '46_55'\n",
    "        else:\n",
    "            return '56_99'\n",
    "\n",
    "    df['age_group'] = df['age'].apply(assign_age_group)\n",
    "    \n",
    "    return df"
   ]
  },
  {
   "cell_type": "markdown",
   "id": "2f83f1c1-2bf8-4cc2-9c7f-cb80bde52eb8",
   "metadata": {},
   "source": [
    "## Event Dataset"
   ]
  },
  {
   "cell_type": "code",
   "execution_count": 14,
   "id": "db483007-6f56-4942-8cc3-7c8ce3ecee34",
   "metadata": {},
   "outputs": [],
   "source": [
    "def event_dataset(events_df):\n",
    "    '''\n",
    "    Returns most used browser per user_id\n",
    "    '''\n",
    "    \n",
    "    events_df = events_df[events_df['user_id'].notna()].copy()\n",
    "    events_df['created_at'] = pd.to_datetime(events_df['created_at'], format='mixed').dt.tz_localize(None)\n",
    "    \n",
    "    # Preffered browser\n",
    "    count_browser = events_df.groupby(['user_id', 'browser']).size().reset_index(name='count')\n",
    "    max_count_index = count_browser.groupby('user_id')['count'].idxmax()\n",
    "    preferred_browser = count_browser.loc[max_count_index]\n",
    "    pref_brsr_no_duplicates = preferred_browser.drop_duplicates(subset=['user_id']).rename(columns={'browser':'browser_pref'})\n",
    "    base = pref_brsr_no_duplicates[['user_id','browser_pref']]\n",
    "\n",
    "    return base"
   ]
  },
  {
   "cell_type": "code",
   "execution_count": 15,
   "id": "fc387644-cb5a-435c-96c7-3cbbed7446f6",
   "metadata": {},
   "outputs": [],
   "source": [
    "item_level_df = join_tables_item_level(order_items_df, products_df)"
   ]
  },
  {
   "cell_type": "code",
   "execution_count": 16,
   "id": "9035528a-2137-426d-9199-14be277c35aa",
   "metadata": {},
   "outputs": [],
   "source": [
    "df_user = select_user_columns(users_df)\n",
    "df_order = restructure_orders_prev_next(orders_df)\n",
    "df_item = product_info(item_level_df)\n",
    "df_event = event_dataset(events_df)\n",
    "df_distance = calc_distance(products_df, centers_df, users_df, order_items_df)"
   ]
  },
  {
   "cell_type": "markdown",
   "id": "a8b431d4-24b1-4e92-a7a9-7ea483107130",
   "metadata": {
    "jp-MarkdownHeadingCollapsed": true
   },
   "source": [
    "## Testing to create user-event dataset"
   ]
  },
  {
   "cell_type": "code",
   "execution_count": null,
   "id": "94fc4e08-3821-4078-ab33-83944066c454",
   "metadata": {},
   "outputs": [],
   "source": [
    "order_event_jd = orders_df[['order_id', 'created_at']].merge(events_df[[]], on='user_id', how='left')"
   ]
  },
  {
   "cell_type": "code",
   "execution_count": null,
   "id": "efc57496-e392-4da6-854d-ca67ad57b670",
   "metadata": {},
   "outputs": [],
   "source": [
    "order_event_jd.head(10)"
   ]
  },
  {
   "cell_type": "code",
   "execution_count": null,
   "id": "f010a1ad-e1b2-4432-8111-c9ca0883dfa0",
   "metadata": {},
   "outputs": [],
   "source": []
  },
  {
   "cell_type": "markdown",
   "id": "ba349003-c57a-4832-9892-a2c6117000bf",
   "metadata": {},
   "source": [
    "## Checking if there are any duplicates"
   ]
  },
  {
   "cell_type": "code",
   "execution_count": 17,
   "id": "684299b1-16cf-48d4-a176-f2ac35c2ceae",
   "metadata": {},
   "outputs": [
    {
     "data": {
      "text/plain": [
       "(100000, 100000)"
      ]
     },
     "execution_count": 17,
     "metadata": {},
     "output_type": "execute_result"
    }
   ],
   "source": [
    "df_user.user_id.count(), df_user.user_id.nunique()"
   ]
  },
  {
   "cell_type": "code",
   "execution_count": 20,
   "id": "3a08c51a-6d36-45a7-9f84-b02096f81009",
   "metadata": {},
   "outputs": [
    {
     "data": {
      "text/plain": [
       "(125226, 125226)"
      ]
     },
     "execution_count": 20,
     "metadata": {},
     "output_type": "execute_result"
    }
   ],
   "source": [
    "df_order.order_id.count(), df_order.order_id.nunique()"
   ]
  },
  {
   "cell_type": "code",
   "execution_count": 21,
   "id": "68f478ad-1a3f-425c-bd76-60a8185367a1",
   "metadata": {},
   "outputs": [
    {
     "data": {
      "text/plain": [
       "(125226, 125226)"
      ]
     },
     "execution_count": 21,
     "metadata": {},
     "output_type": "execute_result"
    }
   ],
   "source": [
    "df_item.order_id.count(), df_item.order_id.nunique()"
   ]
  },
  {
   "cell_type": "code",
   "execution_count": 22,
   "id": "01b2d536-5ec8-4572-b129-4733ef4aca1b",
   "metadata": {},
   "outputs": [
    {
     "data": {
      "text/plain": [
       "(80044, 80044)"
      ]
     },
     "execution_count": 22,
     "metadata": {},
     "output_type": "execute_result"
    }
   ],
   "source": [
    "df_event.user_id.count(), df_event.user_id.nunique()"
   ]
  },
  {
   "cell_type": "markdown",
   "id": "cbb19fae-ddd7-4eb1-a666-00e11f4fb02c",
   "metadata": {},
   "source": [
    "## Join all the prepped datasets"
   ]
  },
  {
   "cell_type": "code",
   "execution_count": 23,
   "id": "90fb1a27-dfb0-4d89-8485-dba81d45a6b8",
   "metadata": {},
   "outputs": [],
   "source": [
    "def prep_input_dataset(df_user, df_order, df_item, df_event, df_distance):\n",
    "    '''\n",
    "    joins all preprocessed user-level-df\n",
    "    '''\n",
    "    \n",
    "    final_df = df_order.merge(df_user, on='user_id', how='left')\n",
    "    final_df = final_df.merge(df_item, on='order_id', how='left')\n",
    "    final_df = final_df.merge(df_event, on='user_id', how='left')\n",
    "    final_df = final_df.merge(df_distance, on='order_id', how='left').reset_index()\n",
    "\n",
    "    return final_df\n"
   ]
  },
  {
   "cell_type": "code",
   "execution_count": 24,
   "id": "1b190587-dc0c-4d30-b8ad-0f2ebf1f5d92",
   "metadata": {},
   "outputs": [],
   "source": [
    "input_dataset = prep_input_dataset(df_user, df_order, df_item, df_event, df_distance)"
   ]
  },
  {
   "cell_type": "code",
   "execution_count": 25,
   "id": "07ce6340-4d04-427a-bf54-90e1bdfd06e0",
   "metadata": {},
   "outputs": [
    {
     "data": {
      "text/plain": [
       "Index(['index', 'order_id', 'user_id', 'status', 'gender', 'created_at',\n",
       "       'returned_at', 'shipped_at', 'delivered_at', 'num_of_item',\n",
       "       'order_rank', 'delivery_days', 'weekday_ordered', 'weekday_delivered',\n",
       "       'returned?', 'shipped?', 'delivered?', 'return_cumsum', 'ship_cumsum',\n",
       "       'deliver_cumsum', 'min_order_created_at', 'min_order_delivered_at',\n",
       "       'customer_T', 'days_from_first_delivery', 'items_until_now',\n",
       "       'num_items_delivered', 'delivered_items_until_now', 'next_order_id',\n",
       "       'next_order?', 'age', 'country', 'user_created_at', 'traffic_source',\n",
       "       'age_group', 'num_order_item', 'sale_price', 'retail_price',\n",
       "       'category_preffered', 'dept_pref', 'browser_pref', 'avg_distance'],\n",
       "      dtype='object')"
      ]
     },
     "execution_count": 25,
     "metadata": {},
     "output_type": "execute_result"
    }
   ],
   "source": [
    "input_dataset.columns"
   ]
  },
  {
   "cell_type": "code",
   "execution_count": 26,
   "id": "3097dfb5-135e-4cd4-86d7-b01b5cd9ebda",
   "metadata": {},
   "outputs": [
    {
     "data": {
      "text/plain": [
       "next_order?\n",
       "False    80044\n",
       "True     45182\n",
       "Name: count, dtype: int64"
      ]
     },
     "execution_count": 26,
     "metadata": {},
     "output_type": "execute_result"
    }
   ],
   "source": [
    "input_dataset['next_order?'].value_counts()"
   ]
  },
  {
   "cell_type": "code",
   "execution_count": 27,
   "id": "acb6558f-965e-45bb-9afd-4f5e6249d2d3",
   "metadata": {},
   "outputs": [],
   "source": [
    "input_dataset['sale_ratio'] = input_dataset['sale_price']/input_dataset['retail_price']"
   ]
  },
  {
   "cell_type": "code",
   "execution_count": 28,
   "id": "6982ebf4-ddab-424c-a6bd-ec279f86003e",
   "metadata": {},
   "outputs": [
    {
     "data": {
      "text/plain": [
       "Index(['index', 'order_id', 'user_id', 'status', 'gender', 'created_at',\n",
       "       'returned_at', 'shipped_at', 'delivered_at', 'num_of_item',\n",
       "       'order_rank', 'delivery_days', 'weekday_ordered', 'weekday_delivered',\n",
       "       'returned?', 'shipped?', 'delivered?', 'return_cumsum', 'ship_cumsum',\n",
       "       'deliver_cumsum', 'min_order_created_at', 'min_order_delivered_at',\n",
       "       'customer_T', 'days_from_first_delivery', 'items_until_now',\n",
       "       'num_items_delivered', 'delivered_items_until_now', 'next_order_id',\n",
       "       'next_order?', 'age', 'country', 'user_created_at', 'traffic_source',\n",
       "       'age_group', 'num_order_item', 'sale_price', 'retail_price',\n",
       "       'category_preffered', 'dept_pref', 'browser_pref', 'avg_distance',\n",
       "       'sale_ratio'],\n",
       "      dtype='object')"
      ]
     },
     "execution_count": 28,
     "metadata": {},
     "output_type": "execute_result"
    }
   ],
   "source": [
    "input_dataset.columns"
   ]
  },
  {
   "cell_type": "code",
   "execution_count": null,
   "id": "aebb894a-e341-42ae-9baa-4e81a0c47c78",
   "metadata": {},
   "outputs": [],
   "source": []
  },
  {
   "cell_type": "markdown",
   "id": "e9cc09e9-1318-4e55-96dd-67c474cd0b8c",
   "metadata": {},
   "source": [
    "## Additional transformation"
   ]
  },
  {
   "cell_type": "code",
   "execution_count": 29,
   "id": "a64e7e00-cabf-4250-9e8b-e709910ea2ec",
   "metadata": {},
   "outputs": [],
   "source": [
    "def month_sold(input_dataset):\n",
    "    \n",
    "    \n",
    "    # Time that the order was placed\n",
    "\n",
    "    ## Month\n",
    "    months_in_a_year = 12\n",
    "\n",
    "    input_dataset['MoSold'] = input_dataset['created_at'].dt.month\n",
    "    input_dataset['sin_MoSold'] = np.sin(2 * np.pi * (input_dataset.MoSold - 1) / months_in_a_year)\n",
    "    input_dataset['cos_MoSold'] = np.cos(2 * np.pi * (input_dataset.MoSold - 1) / months_in_a_year)    \n",
    "    input_dataset.drop(columns=['MoSold'], inplace=True)\n",
    "\n",
    "\n",
    "    ## Year\n",
    "    input_dataset['year'] = input_dataset['created_at'].dt.year\n",
    "\n",
    "    return input_dataset"
   ]
  },
  {
   "cell_type": "code",
   "execution_count": 30,
   "id": "8cf0b586-4161-480e-9fdd-78c4a8899f38",
   "metadata": {},
   "outputs": [],
   "source": [
    "input_dataset= month_sold(input_dataset)"
   ]
  },
  {
   "cell_type": "markdown",
   "id": "70bc25b6-8928-4f54-834a-7f548f2701e3",
   "metadata": {},
   "source": [
    "## Define X, y"
   ]
  },
  {
   "cell_type": "code",
   "execution_count": 34,
   "id": "38fc7d40-85d3-41d2-bc8d-fbd00e715b78",
   "metadata": {
    "scrolled": true
   },
   "outputs": [],
   "source": [
    "# List of columns to drop\n",
    "columns_to_drop = ['index', 'order_id', 'user_id', 'created_at','returned_at', 'shipped_at', 'delivered_at', \n",
    "       'next_order_id', 'user_created_at','next_order?','min_order_created_at', 'min_order_delivered_at']\n",
    "\n",
    "X = input_dataset.drop(columns=columns_to_drop).copy()\n",
    "y = input_dataset['next_order?'].fillna(0).copy()"
   ]
  },
  {
   "cell_type": "code",
   "execution_count": 35,
   "id": "5410b5ef-0b07-4719-8eba-34f730a51dc7",
   "metadata": {},
   "outputs": [],
   "source": [
    "y_binary = y.apply(lambda x: 1 if x > 0 else 0)"
   ]
  },
  {
   "cell_type": "code",
   "execution_count": 36,
   "id": "6de7e20a-3e5f-4b5d-a1b5-5f250bab217c",
   "metadata": {},
   "outputs": [
    {
     "data": {
      "text/plain": [
       "Index(['status', 'gender', 'num_of_item', 'order_rank', 'delivery_days',\n",
       "       'weekday_ordered', 'weekday_delivered', 'returned?', 'shipped?',\n",
       "       'delivered?', 'return_cumsum', 'ship_cumsum', 'deliver_cumsum',\n",
       "       'customer_T', 'days_from_first_delivery', 'items_until_now',\n",
       "       'num_items_delivered', 'delivered_items_until_now', 'age', 'country',\n",
       "       'traffic_source', 'age_group', 'num_order_item', 'sale_price',\n",
       "       'retail_price', 'category_preffered', 'dept_pref', 'browser_pref',\n",
       "       'avg_distance', 'sale_ratio', 'sin_MoSold', 'cos_MoSold', 'year'],\n",
       "      dtype='object')"
      ]
     },
     "execution_count": 36,
     "metadata": {},
     "output_type": "execute_result"
    }
   ],
   "source": [
    "X.columns"
   ]
  },
  {
   "cell_type": "code",
   "execution_count": 37,
   "id": "dab1988e-8c33-445c-852f-8535dcf05bc9",
   "metadata": {},
   "outputs": [
    {
     "data": {
      "image/png": "[encoded data removed]",
      "text/plain": [
       "<Figure size 600x400 with 2 Axes>"
      ]
     },
     "metadata": {},
     "output_type": "display_data"
    }
   ],
   "source": [
    "feat_numerical = sorted(X.select_dtypes(include=[\"int64\", \"int32\",\"float64\"]).columns)\n",
    "\n",
    "corr_num = X[feat_numerical].corr()\n",
    "\n",
    "plt.figure(figsize=(6, 4))\n",
    "sns.heatmap(corr_num, cmap='coolwarm',vmin=-1, vmax=1);"
   ]
  },
  {
   "cell_type": "code",
   "execution_count": 38,
   "id": "f2ad9b63-a475-442e-b1c2-12fc8ca7e596",
   "metadata": {},
   "outputs": [
    {
     "data": {
      "text/plain": [
       "((125226, 33), (125226,))"
      ]
     },
     "execution_count": 38,
     "metadata": {},
     "output_type": "execute_result"
    }
   ],
   "source": [
    "X.shape, y.shape"
   ]
  },
  {
   "cell_type": "code",
   "execution_count": 39,
   "id": "a59f0c82-961c-4a81-a379-f6509574949e",
   "metadata": {},
   "outputs": [
    {
     "data": {
      "text/plain": [
       "status                 5\n",
       "gender                 2\n",
       "country               16\n",
       "traffic_source         5\n",
       "age_group              6\n",
       "category_preffered    26\n",
       "dept_pref              2\n",
       "browser_pref           5\n",
       "dtype: int64"
      ]
     },
     "execution_count": 39,
     "metadata": {},
     "output_type": "execute_result"
    }
   ],
   "source": [
    "X.select_dtypes(include='object').nunique()"
   ]
  },
  {
   "cell_type": "markdown",
   "id": "e32d351a-e942-42b5-a2f9-3df14f9d714e",
   "metadata": {},
   "source": [
    "## Preprocessor Pipelines"
   ]
  },
  {
   "cell_type": "code",
   "execution_count": 40,
   "id": "afb37d69-0715-41fd-8410-ad286d14f3c5",
   "metadata": {},
   "outputs": [
    {
     "data": {
      "text/html": [
       "<style>#sk-container-id-1 {\n",
       "  /* Definition of color scheme common for light and dark mode */\n",
       "  --sklearn-color-text: black;\n",
       "  --sklearn-color-line: gray;\n",
       "  /* Definition of color scheme for unfitted estimators */\n",
       "  --sklearn-color-unfitted-level-0: #fff5e6;\n",
       "  --sklearn-color-unfitted-level-1: #f6e4d2;\n",
       "  --sklearn-color-unfitted-level-2: #ffe0b3;\n",
       "  --sklearn-color-unfitted-level-3: chocolate;\n",
       "  /* Definition of color scheme for fitted estimators */\n",
       "  --sklearn-color-fitted-level-0: #f0f8ff;\n",
       "  --sklearn-color-fitted-level-1: #d4ebff;\n",
       "  --sklearn-color-fitted-level-2: #b3dbfd;\n",
       "  --sklearn-color-fitted-level-3: cornflowerblue;\n",
       "\n",
       "  /* Specific color for light theme */\n",
       "  --sklearn-color-text-on-default-background: var(--sg-text-color, var(--theme-code-foreground, var(--jp-content-font-color1, black)));\n",
       "  --sklearn-color-background: var(--sg-background-color, var(--theme-background, var(--jp-layout-color0, white)));\n",
       "  --sklearn-color-border-box: var(--sg-text-color, var(--theme-code-foreground, var(--jp-content-font-color1, black)));\n",
       "  --sklearn-color-icon: #696969;\n",
       "\n",
       "  @media (prefers-color-scheme: dark) {\n",
       "    /* Redefinition of color scheme for dark theme */\n",
       "    --sklearn-color-text-on-default-background: var(--sg-text-color, var(--theme-code-foreground, var(--jp-content-font-color1, white)));\n",
       "    --sklearn-color-background: var(--sg-background-color, var(--theme-background, var(--jp-layout-color0, #111)));\n",
       "    --sklearn-color-border-box: var(--sg-text-color, var(--theme-code-foreground, var(--jp-content-font-color1, white)));\n",
       "    --sklearn-color-icon: #878787;\n",
       "  }\n",
       "}\n",
       "\n",
       "#sk-container-id-1 {\n",
       "  color: var(--sklearn-color-text);\n",
       "}\n",
       "\n",
       "#sk-container-id-1 pre {\n",
       "  padding: 0;\n",
       "}\n",
       "\n",
       "#sk-container-id-1 input.sk-hidden--visually {\n",
       "  border: 0;\n",
       "  clip: rect(1px 1px 1px 1px);\n",
       "  clip: rect(1px, 1px, 1px, 1px);\n",
       "  height: 1px;\n",
       "  margin: -1px;\n",
       "  overflow: hidden;\n",
       "  padding: 0;\n",
       "  position: absolute;\n",
       "  width: 1px;\n",
       "}\n",
       "\n",
       "#sk-container-id-1 div.sk-dashed-wrapped {\n",
       "  border: 1px dashed var(--sklearn-color-line);\n",
       "  margin: 0 0.4em 0.5em 0.4em;\n",
       "  box-sizing: border-box;\n",
       "  padding-bottom: 0.4em;\n",
       "  background-color: var(--sklearn-color-background);\n",
       "}\n",
       "\n",
       "#sk-container-id-1 div.sk-container {\n",
       "  /* jupyter's `normalize.less` sets `[hidden] { display: none; }`\n",
       "     but bootstrap.min.css set `[hidden] { display: none !important; }`\n",
       "     so we also need the `!important` here to be able to override the\n",
       "     default hidden behavior on the sphinx rendered scikit-learn.org.\n",
       "     See: https://github.com/scikit-learn/scikit-learn/issues/21755 */\n",
       "  display: inline-block !important;\n",
       "  position: relative;\n",
       "}\n",
       "\n",
       "#sk-container-id-1 div.sk-text-repr-fallback {\n",
       "  display: none;\n",
       "}\n",
       "\n",
       "div.sk-parallel-item,\n",
       "div.sk-serial,\n",
       "div.sk-item {\n",
       "  /* draw centered vertical line to link estimators */\n",
       "  background-image: linear-gradient(var(--sklearn-color-text-on-default-background), var(--sklearn-color-text-on-default-background));\n",
       "  background-size: 2px 100%;\n",
       "  background-repeat: no-repeat;\n",
       "  background-position: center center;\n",
       "}\n",
       "\n",
       "/* Parallel-specific style estimator block */\n",
       "\n",
       "#sk-container-id-1 div.sk-parallel-item::after {\n",
       "  content: \"\";\n",
       "  width: 100%;\n",
       "  border-bottom: 2px solid var(--sklearn-color-text-on-default-background);\n",
       "  flex-grow: 1;\n",
       "}\n",
       "\n",
       "#sk-container-id-1 div.sk-parallel {\n",
       "  display: flex;\n",
       "  align-items: stretch;\n",
       "  justify-content: center;\n",
       "  background-color: var(--sklearn-color-background);\n",
       "  position: relative;\n",
       "}\n",
       "\n",
       "#sk-container-id-1 div.sk-parallel-item {\n",
       "  display: flex;\n",
       "  flex-direction: column;\n",
       "}\n",
       "\n",
       "#sk-container-id-1 div.sk-parallel-item:first-child::after {\n",
       "  align-self: flex-end;\n",
       "  width: 50%;\n",
       "}\n",
       "\n",
       "#sk-container-id-1 div.sk-parallel-item:last-child::after {\n",
       "  align-self: flex-start;\n",
       "  width: 50%;\n",
       "}\n",
       "\n",
       "#sk-container-id-1 div.sk-parallel-item:only-child::after {\n",
       "  width: 0;\n",
       "}\n",
       "\n",
       "/* Serial-specific style estimator block */\n",
       "\n",
       "#sk-container-id-1 div.sk-serial {\n",
       "  display: flex;\n",
       "  flex-direction: column;\n",
       "  align-items: center;\n",
       "  background-color: var(--sklearn-color-background);\n",
       "  padding-right: 1em;\n",
       "  padding-left: 1em;\n",
       "}\n",
       "\n",
       "\n",
       "/* Toggleable style: style used for estimator/Pipeline/ColumnTransformer box that is\n",
       "clickable and can be expanded/collapsed.\n",
       "- Pipeline and ColumnTransformer use this feature and define the default style\n",
       "- Estimators will overwrite some part of the style using the `sk-estimator` class\n",
       "*/\n",
       "\n",
       "/* Pipeline and ColumnTransformer style (default) */\n",
       "\n",
       "#sk-container-id-1 div.sk-toggleable {\n",
       "  /* Default theme specific background. It is overwritten whether we have a\n",
       "  specific estimator or a Pipeline/ColumnTransformer */\n",
       "  background-color: var(--sklearn-color-background);\n",
       "}\n",
       "\n",
       "/* Toggleable label */\n",
       "#sk-container-id-1 label.sk-toggleable__label {\n",
       "  cursor: pointer;\n",
       "  display: block;\n",
       "  width: 100%;\n",
       "  margin-bottom: 0;\n",
       "  padding: 0.5em;\n",
       "  box-sizing: border-box;\n",
       "  text-align: center;\n",
       "}\n",
       "\n",
       "#sk-container-id-1 label.sk-toggleable__label-arrow:before {\n",
       "  /* Arrow on the left of the label */\n",
       "  content: \"▸\";\n",
       "  float: left;\n",
       "  margin-right: 0.25em;\n",
       "  color: var(--sklearn-color-icon);\n",
       "}\n",
       "\n",
       "#sk-container-id-1 label.sk-toggleable__label-arrow:hover:before {\n",
       "  color: var(--sklearn-color-text);\n",
       "}\n",
       "\n",
       "/* Toggleable content - dropdown */\n",
       "\n",
       "#sk-container-id-1 div.sk-toggleable__content {\n",
       "  max-height: 0;\n",
       "  max-width: 0;\n",
       "  overflow: hidden;\n",
       "  text-align: left;\n",
       "  /* unfitted */\n",
       "  background-color: var(--sklearn-color-unfitted-level-0);\n",
       "}\n",
       "\n",
       "#sk-container-id-1 div.sk-toggleable__content.fitted {\n",
       "  /* fitted */\n",
       "  background-color: var(--sklearn-color-fitted-level-0);\n",
       "}\n",
       "\n",
       "#sk-container-id-1 div.sk-toggleable__content pre {\n",
       "  margin: 0.2em;\n",
       "  border-radius: 0.25em;\n",
       "  color: var(--sklearn-color-text);\n",
       "  /* unfitted */\n",
       "  background-color: var(--sklearn-color-unfitted-level-0);\n",
       "}\n",
       "\n",
       "#sk-container-id-1 div.sk-toggleable__content.fitted pre {\n",
       "  /* unfitted */\n",
       "  background-color: var(--sklearn-color-fitted-level-0);\n",
       "}\n",
       "\n",
       "#sk-container-id-1 input.sk-toggleable__control:checked~div.sk-toggleable__content {\n",
       "  /* Expand drop-down */\n",
       "  max-height: 200px;\n",
       "  max-width: 100%;\n",
       "  overflow: auto;\n",
       "}\n",
       "\n",
       "#sk-container-id-1 input.sk-toggleable__control:checked~label.sk-toggleable__label-arrow:before {\n",
       "  content: \"▾\";\n",
       "}\n",
       "\n",
       "/* Pipeline/ColumnTransformer-specific style */\n",
       "\n",
       "#sk-container-id-1 div.sk-label input.sk-toggleable__control:checked~label.sk-toggleable__label {\n",
       "  color: var(--sklearn-color-text);\n",
       "  background-color: var(--sklearn-color-unfitted-level-2);\n",
       "}\n",
       "\n",
       "#sk-container-id-1 div.sk-label.fitted input.sk-toggleable__control:checked~label.sk-toggleable__label {\n",
       "  background-color: var(--sklearn-color-fitted-level-2);\n",
       "}\n",
       "\n",
       "/* Estimator-specific style */\n",
       "\n",
       "/* Colorize estimator box */\n",
       "#sk-container-id-1 div.sk-estimator input.sk-toggleable__control:checked~label.sk-toggleable__label {\n",
       "  /* unfitted */\n",
       "  background-color: var(--sklearn-color-unfitted-level-2);\n",
       "}\n",
       "\n",
       "#sk-container-id-1 div.sk-estimator.fitted input.sk-toggleable__control:checked~label.sk-toggleable__label {\n",
       "  /* fitted */\n",
       "  background-color: var(--sklearn-color-fitted-level-2);\n",
       "}\n",
       "\n",
       "#sk-container-id-1 div.sk-label label.sk-toggleable__label,\n",
       "#sk-container-id-1 div.sk-label label {\n",
       "  /* The background is the default theme color */\n",
       "  color: var(--sklearn-color-text-on-default-background);\n",
       "}\n",
       "\n",
       "/* On hover, darken the color of the background */\n",
       "#sk-container-id-1 div.sk-label:hover label.sk-toggleable__label {\n",
       "  color: var(--sklearn-color-text);\n",
       "  background-color: var(--sklearn-color-unfitted-level-2);\n",
       "}\n",
       "\n",
       "/* Label box, darken color on hover, fitted */\n",
       "#sk-container-id-1 div.sk-label.fitted:hover label.sk-toggleable__label.fitted {\n",
       "  color: var(--sklearn-color-text);\n",
       "  background-color: var(--sklearn-color-fitted-level-2);\n",
       "}\n",
       "\n",
       "/* Estimator label */\n",
       "\n",
       "#sk-container-id-1 div.sk-label label {\n",
       "  font-family: monospace;\n",
       "  font-weight: bold;\n",
       "  display: inline-block;\n",
       "  line-height: 1.2em;\n",
       "}\n",
       "\n",
       "#sk-container-id-1 div.sk-label-container {\n",
       "  text-align: center;\n",
       "}\n",
       "\n",
       "/* Estimator-specific */\n",
       "#sk-container-id-1 div.sk-estimator {\n",
       "  font-family: monospace;\n",
       "  border: 1px dotted var(--sklearn-color-border-box);\n",
       "  border-radius: 0.25em;\n",
       "  box-sizing: border-box;\n",
       "  margin-bottom: 0.5em;\n",
       "  /* unfitted */\n",
       "  background-color: var(--sklearn-color-unfitted-level-0);\n",
       "}\n",
       "\n",
       "#sk-container-id-1 div.sk-estimator.fitted {\n",
       "  /* fitted */\n",
       "  background-color: var(--sklearn-color-fitted-level-0);\n",
       "}\n",
       "\n",
       "/* on hover */\n",
       "#sk-container-id-1 div.sk-estimator:hover {\n",
       "  /* unfitted */\n",
       "  background-color: var(--sklearn-color-unfitted-level-2);\n",
       "}\n",
       "\n",
       "#sk-container-id-1 div.sk-estimator.fitted:hover {\n",
       "  /* fitted */\n",
       "  background-color: var(--sklearn-color-fitted-level-2);\n",
       "}\n",
       "\n",
       "/* Specification for estimator info (e.g. \"i\" and \"?\") */\n",
       "\n",
       "/* Common style for \"i\" and \"?\" */\n",
       "\n",
       ".sk-estimator-doc-link,\n",
       "a:link.sk-estimator-doc-link,\n",
       "a:visited.sk-estimator-doc-link {\n",
       "  float: right;\n",
       "  font-size: smaller;\n",
       "  line-height: 1em;\n",
       "  font-family: monospace;\n",
       "  background-color: var(--sklearn-color-background);\n",
       "  border-radius: 1em;\n",
       "  height: 1em;\n",
       "  width: 1em;\n",
       "  text-decoration: none !important;\n",
       "  margin-left: 1ex;\n",
       "  /* unfitted */\n",
       "  border: var(--sklearn-color-unfitted-level-1) 1pt solid;\n",
       "  color: var(--sklearn-color-unfitted-level-1);\n",
       "}\n",
       "\n",
       ".sk-estimator-doc-link.fitted,\n",
       "a:link.sk-estimator-doc-link.fitted,\n",
       "a:visited.sk-estimator-doc-link.fitted {\n",
       "  /* fitted */\n",
       "  border: var(--sklearn-color-fitted-level-1) 1pt solid;\n",
       "  color: var(--sklearn-color-fitted-level-1);\n",
       "}\n",
       "\n",
       "/* On hover */\n",
       "div.sk-estimator:hover .sk-estimator-doc-link:hover,\n",
       ".sk-estimator-doc-link:hover,\n",
       "div.sk-label-container:hover .sk-estimator-doc-link:hover,\n",
       ".sk-estimator-doc-link:hover {\n",
       "  /* unfitted */\n",
       "  background-color: var(--sklearn-color-unfitted-level-3);\n",
       "  color: var(--sklearn-color-background);\n",
       "  text-decoration: none;\n",
       "}\n",
       "\n",
       "div.sk-estimator.fitted:hover .sk-estimator-doc-link.fitted:hover,\n",
       ".sk-estimator-doc-link.fitted:hover,\n",
       "div.sk-label-container:hover .sk-estimator-doc-link.fitted:hover,\n",
       ".sk-estimator-doc-link.fitted:hover {\n",
       "  /* fitted */\n",
       "  background-color: var(--sklearn-color-fitted-level-3);\n",
       "  color: var(--sklearn-color-background);\n",
       "  text-decoration: none;\n",
       "}\n",
       "\n",
       "/* Span, style for the box shown on hovering the info icon */\n",
       ".sk-estimator-doc-link span {\n",
       "  display: none;\n",
       "  z-index: 9999;\n",
       "  position: relative;\n",
       "  font-weight: normal;\n",
       "  right: .2ex;\n",
       "  padding: .5ex;\n",
       "  margin: .5ex;\n",
       "  width: min-content;\n",
       "  min-width: 20ex;\n",
       "  max-width: 50ex;\n",
       "  color: var(--sklearn-color-text);\n",
       "  box-shadow: 2pt 2pt 4pt #999;\n",
       "  /* unfitted */\n",
       "  background: var(--sklearn-color-unfitted-level-0);\n",
       "  border: .5pt solid var(--sklearn-color-unfitted-level-3);\n",
       "}\n",
       "\n",
       ".sk-estimator-doc-link.fitted span {\n",
       "  /* fitted */\n",
       "  background: var(--sklearn-color-fitted-level-0);\n",
       "  border: var(--sklearn-color-fitted-level-3);\n",
       "}\n",
       "\n",
       ".sk-estimator-doc-link:hover span {\n",
       "  display: block;\n",
       "}\n",
       "\n",
       "/* \"?\"-specific style due to the `<a>` HTML tag */\n",
       "\n",
       "#sk-container-id-1 a.estimator_doc_link {\n",
       "  float: right;\n",
       "  font-size: 1rem;\n",
       "  line-height: 1em;\n",
       "  font-family: monospace;\n",
       "  background-color: var(--sklearn-color-background);\n",
       "  border-radius: 1rem;\n",
       "  height: 1rem;\n",
       "  width: 1rem;\n",
       "  text-decoration: none;\n",
       "  /* unfitted */\n",
       "  color: var(--sklearn-color-unfitted-level-1);\n",
       "  border: var(--sklearn-color-unfitted-level-1) 1pt solid;\n",
       "}\n",
       "\n",
       "#sk-container-id-1 a.estimator_doc_link.fitted {\n",
       "  /* fitted */\n",
       "  border: var(--sklearn-color-fitted-level-1) 1pt solid;\n",
       "  color: var(--sklearn-color-fitted-level-1);\n",
       "}\n",
       "\n",
       "/* On hover */\n",
       "#sk-container-id-1 a.estimator_doc_link:hover {\n",
       "  /* unfitted */\n",
       "  background-color: var(--sklearn-color-unfitted-level-3);\n",
       "  color: var(--sklearn-color-background);\n",
       "  text-decoration: none;\n",
       "}\n",
       "\n",
       "#sk-container-id-1 a.estimator_doc_link.fitted:hover {\n",
       "  /* fitted */\n",
       "  background-color: var(--sklearn-color-fitted-level-3);\n",
       "}\n",
       "</style><div id=\"sk-container-id-1\" class=\"sk-top-container\"><div class=\"sk-text-repr-fallback\"><pre>ColumnTransformer(transformers=[(&#x27;pipeline-1&#x27;,\n",
       "                                 Pipeline(steps=[(&#x27;simpleimputer&#x27;,\n",
       "                                                  SimpleImputer()),\n",
       "                                                 (&#x27;minmaxscaler&#x27;,\n",
       "                                                  MinMaxScaler())]),\n",
       "                                 &lt;sklearn.compose._column_transformer.make_column_selector object at 0x7f21b6672e90&gt;),\n",
       "                                (&#x27;pipeline-2&#x27;,\n",
       "                                 Pipeline(steps=[(&#x27;simpleimputer&#x27;,\n",
       "                                                  SimpleImputer(strategy=&#x27;most_frequent&#x27;)),\n",
       "                                                 (&#x27;onehotencoder&#x27;,\n",
       "                                                  OneHotEncoder(handle_unknown=&#x27;ignore&#x27;))]),\n",
       "                                 &lt;sklearn.compose._column_transformer.make_column_selector object at 0x7f21b66738b0&gt;)])</pre><b>In a Jupyter environment, please rerun this cell to show the HTML representation or trust the notebook. <br />On GitHub, the HTML representation is unable to render, please try loading this page with nbviewer.org.</b></div><div class=\"sk-container\" hidden><div class=\"sk-item sk-dashed-wrapped\"><div class=\"sk-label-container\"><div class=\"sk-label  sk-toggleable\"><input class=\"sk-toggleable__control sk-hidden--visually\" id=\"sk-estimator-id-1\" type=\"checkbox\" ><label for=\"sk-estimator-id-1\" class=\"sk-toggleable__label  sk-toggleable__label-arrow \">&nbsp;&nbsp;ColumnTransformer<a class=\"sk-estimator-doc-link \" rel=\"noreferrer\" target=\"_blank\" href=\"https://scikit-learn.org/1.4/modules/generated/sklearn.compose.ColumnTransformer.html\">?<span>Documentation for ColumnTransformer</span></a><span class=\"sk-estimator-doc-link \">i<span>Not fitted</span></span></label><div class=\"sk-toggleable__content \"><pre>ColumnTransformer(transformers=[(&#x27;pipeline-1&#x27;,\n",
       "                                 Pipeline(steps=[(&#x27;simpleimputer&#x27;,\n",
       "                                                  SimpleImputer()),\n",
       "                                                 (&#x27;minmaxscaler&#x27;,\n",
       "                                                  MinMaxScaler())]),\n",
       "                                 &lt;sklearn.compose._column_transformer.make_column_selector object at 0x7f21b6672e90&gt;),\n",
       "                                (&#x27;pipeline-2&#x27;,\n",
       "                                 Pipeline(steps=[(&#x27;simpleimputer&#x27;,\n",
       "                                                  SimpleImputer(strategy=&#x27;most_frequent&#x27;)),\n",
       "                                                 (&#x27;onehotencoder&#x27;,\n",
       "                                                  OneHotEncoder(handle_unknown=&#x27;ignore&#x27;))]),\n",
       "                                 &lt;sklearn.compose._column_transformer.make_column_selector object at 0x7f21b66738b0&gt;)])</pre></div> </div></div><div class=\"sk-parallel\"><div class=\"sk-parallel-item\"><div class=\"sk-item\"><div class=\"sk-label-container\"><div class=\"sk-label  sk-toggleable\"><input class=\"sk-toggleable__control sk-hidden--visually\" id=\"sk-estimator-id-2\" type=\"checkbox\" ><label for=\"sk-estimator-id-2\" class=\"sk-toggleable__label  sk-toggleable__label-arrow \">pipeline-1</label><div class=\"sk-toggleable__content \"><pre>&lt;sklearn.compose._column_transformer.make_column_selector object at 0x7f21b6672e90&gt;</pre></div> </div></div><div class=\"sk-serial\"><div class=\"sk-item\"><div class=\"sk-serial\"><div class=\"sk-item\"><div class=\"sk-estimator  sk-toggleable\"><input class=\"sk-toggleable__control sk-hidden--visually\" id=\"sk-estimator-id-3\" type=\"checkbox\" ><label for=\"sk-estimator-id-3\" class=\"sk-toggleable__label  sk-toggleable__label-arrow \">&nbsp;SimpleImputer<a class=\"sk-estimator-doc-link \" rel=\"noreferrer\" target=\"_blank\" href=\"https://scikit-learn.org/1.4/modules/generated/sklearn.impute.SimpleImputer.html\">?<span>Documentation for SimpleImputer</span></a></label><div class=\"sk-toggleable__content \"><pre>SimpleImputer()</pre></div> </div></div><div class=\"sk-item\"><div class=\"sk-estimator  sk-toggleable\"><input class=\"sk-toggleable__control sk-hidden--visually\" id=\"sk-estimator-id-4\" type=\"checkbox\" ><label for=\"sk-estimator-id-4\" class=\"sk-toggleable__label  sk-toggleable__label-arrow \">&nbsp;MinMaxScaler<a class=\"sk-estimator-doc-link \" rel=\"noreferrer\" target=\"_blank\" href=\"https://scikit-learn.org/1.4/modules/generated/sklearn.preprocessing.MinMaxScaler.html\">?<span>Documentation for MinMaxScaler</span></a></label><div class=\"sk-toggleable__content \"><pre>MinMaxScaler()</pre></div> </div></div></div></div></div></div></div><div class=\"sk-parallel-item\"><div class=\"sk-item\"><div class=\"sk-label-container\"><div class=\"sk-label  sk-toggleable\"><input class=\"sk-toggleable__control sk-hidden--visually\" id=\"sk-estimator-id-5\" type=\"checkbox\" ><label for=\"sk-estimator-id-5\" class=\"sk-toggleable__label  sk-toggleable__label-arrow \">pipeline-2</label><div class=\"sk-toggleable__content \"><pre>&lt;sklearn.compose._column_transformer.make_column_selector object at 0x7f21b66738b0&gt;</pre></div> </div></div><div class=\"sk-serial\"><div class=\"sk-item\"><div class=\"sk-serial\"><div class=\"sk-item\"><div class=\"sk-estimator  sk-toggleable\"><input class=\"sk-toggleable__control sk-hidden--visually\" id=\"sk-estimator-id-6\" type=\"checkbox\" ><label for=\"sk-estimator-id-6\" class=\"sk-toggleable__label  sk-toggleable__label-arrow \">&nbsp;SimpleImputer<a class=\"sk-estimator-doc-link \" rel=\"noreferrer\" target=\"_blank\" href=\"https://scikit-learn.org/1.4/modules/generated/sklearn.impute.SimpleImputer.html\">?<span>Documentation for SimpleImputer</span></a></label><div class=\"sk-toggleable__content \"><pre>SimpleImputer(strategy=&#x27;most_frequent&#x27;)</pre></div> </div></div><div class=\"sk-item\"><div class=\"sk-estimator  sk-toggleable\"><input class=\"sk-toggleable__control sk-hidden--visually\" id=\"sk-estimator-id-7\" type=\"checkbox\" ><label for=\"sk-estimator-id-7\" class=\"sk-toggleable__label  sk-toggleable__label-arrow \">&nbsp;OneHotEncoder<a class=\"sk-estimator-doc-link \" rel=\"noreferrer\" target=\"_blank\" href=\"https://scikit-learn.org/1.4/modules/generated/sklearn.preprocessing.OneHotEncoder.html\">?<span>Documentation for OneHotEncoder</span></a></label><div class=\"sk-toggleable__content \"><pre>OneHotEncoder(handle_unknown=&#x27;ignore&#x27;)</pre></div> </div></div></div></div></div></div></div></div></div></div></div>"
      ],
      "text/plain": [
       "ColumnTransformer(transformers=[('pipeline-1',\n",
       "                                 Pipeline(steps=[('simpleimputer',\n",
       "                                                  SimpleImputer()),\n",
       "                                                 ('minmaxscaler',\n",
       "                                                  MinMaxScaler())]),\n",
       "                                 <sklearn.compose._column_transformer.make_column_selector object at 0x7f21b6672e90>),\n",
       "                                ('pipeline-2',\n",
       "                                 Pipeline(steps=[('simpleimputer',\n",
       "                                                  SimpleImputer(strategy='most_frequent')),\n",
       "                                                 ('onehotencoder',\n",
       "                                                  OneHotEncoder(handle_unknown='ignore'))]),\n",
       "                                 <sklearn.compose._column_transformer.make_column_selector object at 0x7f21b66738b0>)])"
      ]
     },
     "execution_count": 40,
     "metadata": {},
     "output_type": "execute_result"
    }
   ],
   "source": [
    "preproc_numerical_baseline = make_pipeline(\n",
    "    SimpleImputer(),\n",
    "    MinMaxScaler()\n",
    ")\n",
    "\n",
    "preproc_categorical_baseline = make_pipeline(\n",
    "    SimpleImputer(strategy=\"most_frequent\"),\n",
    "    OneHotEncoder(handle_unknown=\"ignore\")\n",
    ")\n",
    "\n",
    "\n",
    "preproc_baseline = make_column_transformer(\n",
    "    (preproc_numerical_baseline, make_column_selector(dtype_include=[\"int64\", \"float64\", \"int32\"])),\n",
    "    (preproc_categorical_baseline, make_column_selector(dtype_include=[\"object\"])),\n",
    "    remainder=\"drop\"\n",
    ")\n",
    "\n",
    "preproc_baseline"
   ]
  },
  {
   "cell_type": "code",
   "execution_count": 41,
   "id": "11386502-b1ba-47c3-8ca6-0d7c7b9f9e4a",
   "metadata": {},
   "outputs": [
    {
     "data": {
      "text/plain": [
       "(125226, 92)"
      ]
     },
     "execution_count": 41,
     "metadata": {},
     "output_type": "execute_result"
    }
   ],
   "source": [
    "test = preproc_baseline.fit_transform(X)\n",
    "test.shape"
   ]
  },
  {
   "cell_type": "markdown",
   "id": "e53d0207-5153-43e4-b4e7-6c2da6052b96",
   "metadata": {},
   "source": [
    "# Model Selection"
   ]
  },
  {
   "cell_type": "markdown",
   "id": "4d175d25-b024-486f-858e-0bfb3de4d148",
   "metadata": {},
   "source": [
    "## Trees"
   ]
  },
  {
   "cell_type": "code",
   "execution_count": 42,
   "id": "22e4d7b6-b799-408f-984e-fdc1a0e4dd69",
   "metadata": {},
   "outputs": [
    {
     "data": {
      "text/plain": [
       "0.7448053734851172"
      ]
     },
     "execution_count": 42,
     "metadata": {},
     "output_type": "execute_result"
    }
   ],
   "source": [
    "model = GradientBoostingClassifier(n_estimators=100, verbose=0)\n",
    "\n",
    "pipe_gb = make_pipeline(preproc_baseline, model)\n",
    "score = cross_val_score(pipe_gb, X, y_binary, cv=5, scoring='accuracy', n_jobs=-1).mean()\n",
    "\n",
    "score"
   ]
  },
  {
   "cell_type": "code",
   "execution_count": 43,
   "id": "5a042975-e355-4b9d-95d7-56ad095a0d48",
   "metadata": {},
   "outputs": [
    {
     "data": {
      "text/plain": [
       "0.7360212503862129"
      ]
     },
     "execution_count": 43,
     "metadata": {},
     "output_type": "execute_result"
    }
   ],
   "source": [
    "pipe_randomforest = make_pipeline(preproc_baseline, RandomForestClassifier())\n",
    "score_randomforest = cross_val_score(pipe_randomforest, X, y_binary, cv=5, scoring='accuracy', n_jobs=-1).mean()\n",
    "score_randomforest"
   ]
  },
  {
   "cell_type": "code",
   "execution_count": 44,
   "id": "f8a747a7-bcb2-45f2-a518-94a475130e05",
   "metadata": {},
   "outputs": [
    {
     "data": {
      "text/plain": [
       "0.7326034512946568"
      ]
     },
     "execution_count": 44,
     "metadata": {},
     "output_type": "execute_result"
    }
   ],
   "source": [
    "model = AdaBoostClassifier(n_estimators=100, algorithm='SAMME')\n",
    "\n",
    "pipe_ada = make_pipeline(preproc_baseline, model)\n",
    "score = cross_val_score(pipe_ada, X, y_binary, cv=5, scoring='accuracy', n_jobs=-1).mean()\n",
    "\n",
    "score"
   ]
  },
  {
   "cell_type": "code",
   "execution_count": 46,
   "id": "77ec6b69-a985-4799-9231-194faedcc812",
   "metadata": {},
   "outputs": [
    {
     "name": "stderr",
     "output_type": "stream",
     "text": [
      "/home/jeongmin/.pyenv/versions/3.10.6/envs/clv-the-look/lib/python3.10/site-packages/sklearn/ensemble/_weight_boosting.py:519: FutureWarning: The SAMME.R algorithm (the default) is deprecated and will be removed in 1.6. Use the SAMME algorithm to circumvent this warning.\n",
      "  warnings.warn(\n",
      "/home/jeongmin/.pyenv/versions/3.10.6/envs/clv-the-look/lib/python3.10/site-packages/sklearn/ensemble/_weight_boosting.py:519: FutureWarning: The SAMME.R algorithm (the default) is deprecated and will be removed in 1.6. Use the SAMME algorithm to circumvent this warning.\n",
      "  warnings.warn(\n",
      "/home/jeongmin/.pyenv/versions/3.10.6/envs/clv-the-look/lib/python3.10/site-packages/sklearn/ensemble/_weight_boosting.py:519: FutureWarning: The SAMME.R algorithm (the default) is deprecated and will be removed in 1.6. Use the SAMME algorithm to circumvent this warning.\n",
      "  warnings.warn(\n",
      "/home/jeongmin/.pyenv/versions/3.10.6/envs/clv-the-look/lib/python3.10/site-packages/sklearn/ensemble/_weight_boosting.py:519: FutureWarning: The SAMME.R algorithm (the default) is deprecated and will be removed in 1.6. Use the SAMME algorithm to circumvent this warning.\n",
      "  warnings.warn(\n",
      "/home/jeongmin/.pyenv/versions/3.10.6/envs/clv-the-look/lib/python3.10/site-packages/sklearn/ensemble/_weight_boosting.py:519: FutureWarning: The SAMME.R algorithm (the default) is deprecated and will be removed in 1.6. Use the SAMME algorithm to circumvent this warning.\n",
      "  warnings.warn(\n"
     ]
    },
    {
     "data": {
      "text/plain": [
       "0.7436554561128784"
      ]
     },
     "execution_count": 46,
     "metadata": {},
     "output_type": "execute_result"
    }
   ],
   "source": [
    "estimators_ = [\n",
    "    ('gbc', GradientBoostingClassifier()),\n",
    "    ('rfc', RandomForestClassifier()),\n",
    "    ('ada', AdaBoostClassifier())\n",
    "]\n",
    "\n",
    "model = VotingClassifier(estimators=estimators_)\n",
    "\n",
    "pipe_vote = make_pipeline(preproc_baseline, model)\n",
    "score = cross_val_score(pipe_vote, X, y_binary, cv=5, scoring='accuracy', n_jobs=-1).mean()\n",
    "\n",
    "score"
   ]
  },
  {
   "cell_type": "code",
   "execution_count": null,
   "id": "7b4b3dfb-95b3-4f57-8ff1-656f980926b8",
   "metadata": {},
   "outputs": [],
   "source": [
    "model = ExtraTreesClassifier()\n",
    "\n",
    "pipe_ext = make_pipeline(preproc_baseline, model)\n",
    "score = cross_val_score(pipe_ext, X, y_binary, cv=5, scoring='accuracy', n_jobs=-1).mean()\n",
    "\n",
    "score"
   ]
  },
  {
   "cell_type": "code",
   "execution_count": null,
   "id": "a1410a83-03b3-4977-a7c3-1586fbbdb666",
   "metadata": {},
   "outputs": [],
   "source": [
    "model = BaggingClassifier()\n",
    "\n",
    "pipe_bag = make_pipeline(preproc_baseline, model)\n",
    "score = cross_val_score(pipe_bag, X, y_binary, cv=5, scoring='accuracy').mean()\n",
    "\n",
    "score"
   ]
  },
  {
   "cell_type": "code",
   "execution_count": null,
   "id": "32a85bb7-d2cf-43ff-bf7b-76a12b755dbb",
   "metadata": {},
   "outputs": [],
   "source": [
    "pipe_tree = make_pipeline(preproc_baseline, DecisionTreeClassifier())\n",
    "score_tree = cross_val_score(pipe_tree, X, y_binary, cv=5, scoring='accuracy').mean()\n",
    "\n",
    "score_tree"
   ]
  },
  {
   "cell_type": "markdown",
   "id": "2dc78f0b-52af-4b26-aab6-f1aa47a47dd3",
   "metadata": {},
   "source": [
    "## KNN"
   ]
  },
  {
   "cell_type": "code",
   "execution_count": 45,
   "id": "68f1aad7-ef44-4c38-9169-a4bb6629e72f",
   "metadata": {
    "scrolled": true
   },
   "outputs": [
    {
     "data": {
      "text/plain": [
       "0.5861801876481791"
      ]
     },
     "execution_count": 45,
     "metadata": {},
     "output_type": "execute_result"
    }
   ],
   "source": [
    "pipe_knn = make_pipeline(preproc_baseline, KNeighborsClassifier())\n",
    "score_knn = cross_val_score(pipe_knn, X, y_binary, cv=5, scoring='accuracy', n_jobs=-1).mean()\n",
    "score_knn\n",
    "\n",
    "## 0.587976953150862"
   ]
  },
  {
   "cell_type": "markdown",
   "id": "a4907d7d-75e3-4288-bbe9-21d2080c0ae3",
   "metadata": {},
   "source": [
    "## SVM"
   ]
  },
  {
   "cell_type": "code",
   "execution_count": null,
   "id": "2e411211-ac71-473c-984a-c9a0ec7e2d47",
   "metadata": {},
   "outputs": [],
   "source": [
    "svm_classifier = SVC(kernal='poly', degree=3)\n",
    "\n",
    "pipe_svc = make_pipeline(preproc_baseline, svm_classifier)"
   ]
  },
  {
   "cell_type": "code",
   "execution_count": null,
   "id": "325d6d40-1c25-433c-9b33-d5a842e8ba01",
   "metadata": {},
   "outputs": [],
   "source": [
    "score_svc = cross_val_score(pipe_svc, X, y_binary, cv=5, scoring='accuracy').mean()\n",
    "score_svc"
   ]
  },
  {
   "cell_type": "code",
   "execution_count": null,
   "id": "13ae505d-e02c-4afe-8d6d-6523a7a4ad5f",
   "metadata": {},
   "outputs": [],
   "source": []
  },
  {
   "cell_type": "code",
   "execution_count": null,
   "id": "9db2aeb2-d80c-4c3f-83b4-f09c9041edce",
   "metadata": {},
   "outputs": [],
   "source": []
  },
  {
   "cell_type": "markdown",
   "id": "4a3ae780-86a9-4085-a67a-98447e97aeec",
   "metadata": {},
   "source": [
    "### Other models"
   ]
  },
  {
   "cell_type": "code",
   "execution_count": null,
   "id": "68036f65-18cd-48dc-9f52-fc1effed66dd",
   "metadata": {},
   "outputs": [],
   "source": []
  },
  {
   "cell_type": "code",
   "execution_count": null,
   "id": "b726af10-e102-4e9a-a73b-90eeb31656f1",
   "metadata": {},
   "outputs": [],
   "source": []
  },
  {
   "cell_type": "markdown",
   "id": "f969346b-a2d4-48ab-b5de-6d5b8d7f418c",
   "metadata": {},
   "source": [
    "## Fit, Predict, Evaluate"
   ]
  },
  {
   "cell_type": "code",
   "execution_count": 47,
   "id": "7dd789f4-8336-4ef2-bc54-f7be1757dbe4",
   "metadata": {},
   "outputs": [],
   "source": [
    "# Split train, test\n",
    "X_train, X_test, y_train, y_test = train_test_split(X, y_binary, test_size=0.2)"
   ]
  },
  {
   "cell_type": "code",
   "execution_count": 48,
   "id": "32dec2b6-5aeb-4764-8102-0b10ede44046",
   "metadata": {},
   "outputs": [],
   "source": [
    "pipe_selected = pipe_gb"
   ]
  },
  {
   "cell_type": "code",
   "execution_count": 49,
   "id": "79a9c1b9-8843-4c17-8ce6-e8d4301a0334",
   "metadata": {},
   "outputs": [
    {
     "data": {
      "text/html": [
       "<style>#sk-container-id-2 {\n",
       "  /* Definition of color scheme common for light and dark mode */\n",
       "  --sklearn-color-text: black;\n",
       "  --sklearn-color-line: gray;\n",
       "  /* Definition of color scheme for unfitted estimators */\n",
       "  --sklearn-color-unfitted-level-0: #fff5e6;\n",
       "  --sklearn-color-unfitted-level-1: #f6e4d2;\n",
       "  --sklearn-color-unfitted-level-2: #ffe0b3;\n",
       "  --sklearn-color-unfitted-level-3: chocolate;\n",
       "  /* Definition of color scheme for fitted estimators */\n",
       "  --sklearn-color-fitted-level-0: #f0f8ff;\n",
       "  --sklearn-color-fitted-level-1: #d4ebff;\n",
       "  --sklearn-color-fitted-level-2: #b3dbfd;\n",
       "  --sklearn-color-fitted-level-3: cornflowerblue;\n",
       "\n",
       "  /* Specific color for light theme */\n",
       "  --sklearn-color-text-on-default-background: var(--sg-text-color, var(--theme-code-foreground, var(--jp-content-font-color1, black)));\n",
       "  --sklearn-color-background: var(--sg-background-color, var(--theme-background, var(--jp-layout-color0, white)));\n",
       "  --sklearn-color-border-box: var(--sg-text-color, var(--theme-code-foreground, var(--jp-content-font-color1, black)));\n",
       "  --sklearn-color-icon: #696969;\n",
       "\n",
       "  @media (prefers-color-scheme: dark) {\n",
       "    /* Redefinition of color scheme for dark theme */\n",
       "    --sklearn-color-text-on-default-background: var(--sg-text-color, var(--theme-code-foreground, var(--jp-content-font-color1, white)));\n",
       "    --sklearn-color-background: var(--sg-background-color, var(--theme-background, var(--jp-layout-color0, #111)));\n",
       "    --sklearn-color-border-box: var(--sg-text-color, var(--theme-code-foreground, var(--jp-content-font-color1, white)));\n",
       "    --sklearn-color-icon: #878787;\n",
       "  }\n",
       "}\n",
       "\n",
       "#sk-container-id-2 {\n",
       "  color: var(--sklearn-color-text);\n",
       "}\n",
       "\n",
       "#sk-container-id-2 pre {\n",
       "  padding: 0;\n",
       "}\n",
       "\n",
       "#sk-container-id-2 input.sk-hidden--visually {\n",
       "  border: 0;\n",
       "  clip: rect(1px 1px 1px 1px);\n",
       "  clip: rect(1px, 1px, 1px, 1px);\n",
       "  height: 1px;\n",
       "  margin: -1px;\n",
       "  overflow: hidden;\n",
       "  padding: 0;\n",
       "  position: absolute;\n",
       "  width: 1px;\n",
       "}\n",
       "\n",
       "#sk-container-id-2 div.sk-dashed-wrapped {\n",
       "  border: 1px dashed var(--sklearn-color-line);\n",
       "  margin: 0 0.4em 0.5em 0.4em;\n",
       "  box-sizing: border-box;\n",
       "  padding-bottom: 0.4em;\n",
       "  background-color: var(--sklearn-color-background);\n",
       "}\n",
       "\n",
       "#sk-container-id-2 div.sk-container {\n",
       "  /* jupyter's `normalize.less` sets `[hidden] { display: none; }`\n",
       "     but bootstrap.min.css set `[hidden] { display: none !important; }`\n",
       "     so we also need the `!important` here to be able to override the\n",
       "     default hidden behavior on the sphinx rendered scikit-learn.org.\n",
       "     See: https://github.com/scikit-learn/scikit-learn/issues/21755 */\n",
       "  display: inline-block !important;\n",
       "  position: relative;\n",
       "}\n",
       "\n",
       "#sk-container-id-2 div.sk-text-repr-fallback {\n",
       "  display: none;\n",
       "}\n",
       "\n",
       "div.sk-parallel-item,\n",
       "div.sk-serial,\n",
       "div.sk-item {\n",
       "  /* draw centered vertical line to link estimators */\n",
       "  background-image: linear-gradient(var(--sklearn-color-text-on-default-background), var(--sklearn-color-text-on-default-background));\n",
       "  background-size: 2px 100%;\n",
       "  background-repeat: no-repeat;\n",
       "  background-position: center center;\n",
       "}\n",
       "\n",
       "/* Parallel-specific style estimator block */\n",
       "\n",
       "#sk-container-id-2 div.sk-parallel-item::after {\n",
       "  content: \"\";\n",
       "  width: 100%;\n",
       "  border-bottom: 2px solid var(--sklearn-color-text-on-default-background);\n",
       "  flex-grow: 1;\n",
       "}\n",
       "\n",
       "#sk-container-id-2 div.sk-parallel {\n",
       "  display: flex;\n",
       "  align-items: stretch;\n",
       "  justify-content: center;\n",
       "  background-color: var(--sklearn-color-background);\n",
       "  position: relative;\n",
       "}\n",
       "\n",
       "#sk-container-id-2 div.sk-parallel-item {\n",
       "  display: flex;\n",
       "  flex-direction: column;\n",
       "}\n",
       "\n",
       "#sk-container-id-2 div.sk-parallel-item:first-child::after {\n",
       "  align-self: flex-end;\n",
       "  width: 50%;\n",
       "}\n",
       "\n",
       "#sk-container-id-2 div.sk-parallel-item:last-child::after {\n",
       "  align-self: flex-start;\n",
       "  width: 50%;\n",
       "}\n",
       "\n",
       "#sk-container-id-2 div.sk-parallel-item:only-child::after {\n",
       "  width: 0;\n",
       "}\n",
       "\n",
       "/* Serial-specific style estimator block */\n",
       "\n",
       "#sk-container-id-2 div.sk-serial {\n",
       "  display: flex;\n",
       "  flex-direction: column;\n",
       "  align-items: center;\n",
       "  background-color: var(--sklearn-color-background);\n",
       "  padding-right: 1em;\n",
       "  padding-left: 1em;\n",
       "}\n",
       "\n",
       "\n",
       "/* Toggleable style: style used for estimator/Pipeline/ColumnTransformer box that is\n",
       "clickable and can be expanded/collapsed.\n",
       "- Pipeline and ColumnTransformer use this feature and define the default style\n",
       "- Estimators will overwrite some part of the style using the `sk-estimator` class\n",
       "*/\n",
       "\n",
       "/* Pipeline and ColumnTransformer style (default) */\n",
       "\n",
       "#sk-container-id-2 div.sk-toggleable {\n",
       "  /* Default theme specific background. It is overwritten whether we have a\n",
       "  specific estimator or a Pipeline/ColumnTransformer */\n",
       "  background-color: var(--sklearn-color-background);\n",
       "}\n",
       "\n",
       "/* Toggleable label */\n",
       "#sk-container-id-2 label.sk-toggleable__label {\n",
       "  cursor: pointer;\n",
       "  display: block;\n",
       "  width: 100%;\n",
       "  margin-bottom: 0;\n",
       "  padding: 0.5em;\n",
       "  box-sizing: border-box;\n",
       "  text-align: center;\n",
       "}\n",
       "\n",
       "#sk-container-id-2 label.sk-toggleable__label-arrow:before {\n",
       "  /* Arrow on the left of the label */\n",
       "  content: \"▸\";\n",
       "  float: left;\n",
       "  margin-right: 0.25em;\n",
       "  color: var(--sklearn-color-icon);\n",
       "}\n",
       "\n",
       "#sk-container-id-2 label.sk-toggleable__label-arrow:hover:before {\n",
       "  color: var(--sklearn-color-text);\n",
       "}\n",
       "\n",
       "/* Toggleable content - dropdown */\n",
       "\n",
       "#sk-container-id-2 div.sk-toggleable__content {\n",
       "  max-height: 0;\n",
       "  max-width: 0;\n",
       "  overflow: hidden;\n",
       "  text-align: left;\n",
       "  /* unfitted */\n",
       "  background-color: var(--sklearn-color-unfitted-level-0);\n",
       "}\n",
       "\n",
       "#sk-container-id-2 div.sk-toggleable__content.fitted {\n",
       "  /* fitted */\n",
       "  background-color: var(--sklearn-color-fitted-level-0);\n",
       "}\n",
       "\n",
       "#sk-container-id-2 div.sk-toggleable__content pre {\n",
       "  margin: 0.2em;\n",
       "  border-radius: 0.25em;\n",
       "  color: var(--sklearn-color-text);\n",
       "  /* unfitted */\n",
       "  background-color: var(--sklearn-color-unfitted-level-0);\n",
       "}\n",
       "\n",
       "#sk-container-id-2 div.sk-toggleable__content.fitted pre {\n",
       "  /* unfitted */\n",
       "  background-color: var(--sklearn-color-fitted-level-0);\n",
       "}\n",
       "\n",
       "#sk-container-id-2 input.sk-toggleable__control:checked~div.sk-toggleable__content {\n",
       "  /* Expand drop-down */\n",
       "  max-height: 200px;\n",
       "  max-width: 100%;\n",
       "  overflow: auto;\n",
       "}\n",
       "\n",
       "#sk-container-id-2 input.sk-toggleable__control:checked~label.sk-toggleable__label-arrow:before {\n",
       "  content: \"▾\";\n",
       "}\n",
       "\n",
       "/* Pipeline/ColumnTransformer-specific style */\n",
       "\n",
       "#sk-container-id-2 div.sk-label input.sk-toggleable__control:checked~label.sk-toggleable__label {\n",
       "  color: var(--sklearn-color-text);\n",
       "  background-color: var(--sklearn-color-unfitted-level-2);\n",
       "}\n",
       "\n",
       "#sk-container-id-2 div.sk-label.fitted input.sk-toggleable__control:checked~label.sk-toggleable__label {\n",
       "  background-color: var(--sklearn-color-fitted-level-2);\n",
       "}\n",
       "\n",
       "/* Estimator-specific style */\n",
       "\n",
       "/* Colorize estimator box */\n",
       "#sk-container-id-2 div.sk-estimator input.sk-toggleable__control:checked~label.sk-toggleable__label {\n",
       "  /* unfitted */\n",
       "  background-color: var(--sklearn-color-unfitted-level-2);\n",
       "}\n",
       "\n",
       "#sk-container-id-2 div.sk-estimator.fitted input.sk-toggleable__control:checked~label.sk-toggleable__label {\n",
       "  /* fitted */\n",
       "  background-color: var(--sklearn-color-fitted-level-2);\n",
       "}\n",
       "\n",
       "#sk-container-id-2 div.sk-label label.sk-toggleable__label,\n",
       "#sk-container-id-2 div.sk-label label {\n",
       "  /* The background is the default theme color */\n",
       "  color: var(--sklearn-color-text-on-default-background);\n",
       "}\n",
       "\n",
       "/* On hover, darken the color of the background */\n",
       "#sk-container-id-2 div.sk-label:hover label.sk-toggleable__label {\n",
       "  color: var(--sklearn-color-text);\n",
       "  background-color: var(--sklearn-color-unfitted-level-2);\n",
       "}\n",
       "\n",
       "/* Label box, darken color on hover, fitted */\n",
       "#sk-container-id-2 div.sk-label.fitted:hover label.sk-toggleable__label.fitted {\n",
       "  color: var(--sklearn-color-text);\n",
       "  background-color: var(--sklearn-color-fitted-level-2);\n",
       "}\n",
       "\n",
       "/* Estimator label */\n",
       "\n",
       "#sk-container-id-2 div.sk-label label {\n",
       "  font-family: monospace;\n",
       "  font-weight: bold;\n",
       "  display: inline-block;\n",
       "  line-height: 1.2em;\n",
       "}\n",
       "\n",
       "#sk-container-id-2 div.sk-label-container {\n",
       "  text-align: center;\n",
       "}\n",
       "\n",
       "/* Estimator-specific */\n",
       "#sk-container-id-2 div.sk-estimator {\n",
       "  font-family: monospace;\n",
       "  border: 1px dotted var(--sklearn-color-border-box);\n",
       "  border-radius: 0.25em;\n",
       "  box-sizing: border-box;\n",
       "  margin-bottom: 0.5em;\n",
       "  /* unfitted */\n",
       "  background-color: var(--sklearn-color-unfitted-level-0);\n",
       "}\n",
       "\n",
       "#sk-container-id-2 div.sk-estimator.fitted {\n",
       "  /* fitted */\n",
       "  background-color: var(--sklearn-color-fitted-level-0);\n",
       "}\n",
       "\n",
       "/* on hover */\n",
       "#sk-container-id-2 div.sk-estimator:hover {\n",
       "  /* unfitted */\n",
       "  background-color: var(--sklearn-color-unfitted-level-2);\n",
       "}\n",
       "\n",
       "#sk-container-id-2 div.sk-estimator.fitted:hover {\n",
       "  /* fitted */\n",
       "  background-color: var(--sklearn-color-fitted-level-2);\n",
       "}\n",
       "\n",
       "/* Specification for estimator info (e.g. \"i\" and \"?\") */\n",
       "\n",
       "/* Common style for \"i\" and \"?\" */\n",
       "\n",
       ".sk-estimator-doc-link,\n",
       "a:link.sk-estimator-doc-link,\n",
       "a:visited.sk-estimator-doc-link {\n",
       "  float: right;\n",
       "  font-size: smaller;\n",
       "  line-height: 1em;\n",
       "  font-family: monospace;\n",
       "  background-color: var(--sklearn-color-background);\n",
       "  border-radius: 1em;\n",
       "  height: 1em;\n",
       "  width: 1em;\n",
       "  text-decoration: none !important;\n",
       "  margin-left: 1ex;\n",
       "  /* unfitted */\n",
       "  border: var(--sklearn-color-unfitted-level-1) 1pt solid;\n",
       "  color: var(--sklearn-color-unfitted-level-1);\n",
       "}\n",
       "\n",
       ".sk-estimator-doc-link.fitted,\n",
       "a:link.sk-estimator-doc-link.fitted,\n",
       "a:visited.sk-estimator-doc-link.fitted {\n",
       "  /* fitted */\n",
       "  border: var(--sklearn-color-fitted-level-1) 1pt solid;\n",
       "  color: var(--sklearn-color-fitted-level-1);\n",
       "}\n",
       "\n",
       "/* On hover */\n",
       "div.sk-estimator:hover .sk-estimator-doc-link:hover,\n",
       ".sk-estimator-doc-link:hover,\n",
       "div.sk-label-container:hover .sk-estimator-doc-link:hover,\n",
       ".sk-estimator-doc-link:hover {\n",
       "  /* unfitted */\n",
       "  background-color: var(--sklearn-color-unfitted-level-3);\n",
       "  color: var(--sklearn-color-background);\n",
       "  text-decoration: none;\n",
       "}\n",
       "\n",
       "div.sk-estimator.fitted:hover .sk-estimator-doc-link.fitted:hover,\n",
       ".sk-estimator-doc-link.fitted:hover,\n",
       "div.sk-label-container:hover .sk-estimator-doc-link.fitted:hover,\n",
       ".sk-estimator-doc-link.fitted:hover {\n",
       "  /* fitted */\n",
       "  background-color: var(--sklearn-color-fitted-level-3);\n",
       "  color: var(--sklearn-color-background);\n",
       "  text-decoration: none;\n",
       "}\n",
       "\n",
       "/* Span, style for the box shown on hovering the info icon */\n",
       ".sk-estimator-doc-link span {\n",
       "  display: none;\n",
       "  z-index: 9999;\n",
       "  position: relative;\n",
       "  font-weight: normal;\n",
       "  right: .2ex;\n",
       "  padding: .5ex;\n",
       "  margin: .5ex;\n",
       "  width: min-content;\n",
       "  min-width: 20ex;\n",
       "  max-width: 50ex;\n",
       "  color: var(--sklearn-color-text);\n",
       "  box-shadow: 2pt 2pt 4pt #999;\n",
       "  /* unfitted */\n",
       "  background: var(--sklearn-color-unfitted-level-0);\n",
       "  border: .5pt solid var(--sklearn-color-unfitted-level-3);\n",
       "}\n",
       "\n",
       ".sk-estimator-doc-link.fitted span {\n",
       "  /* fitted */\n",
       "  background: var(--sklearn-color-fitted-level-0);\n",
       "  border: var(--sklearn-color-fitted-level-3);\n",
       "}\n",
       "\n",
       ".sk-estimator-doc-link:hover span {\n",
       "  display: block;\n",
       "}\n",
       "\n",
       "/* \"?\"-specific style due to the `<a>` HTML tag */\n",
       "\n",
       "#sk-container-id-2 a.estimator_doc_link {\n",
       "  float: right;\n",
       "  font-size: 1rem;\n",
       "  line-height: 1em;\n",
       "  font-family: monospace;\n",
       "  background-color: var(--sklearn-color-background);\n",
       "  border-radius: 1rem;\n",
       "  height: 1rem;\n",
       "  width: 1rem;\n",
       "  text-decoration: none;\n",
       "  /* unfitted */\n",
       "  color: var(--sklearn-color-unfitted-level-1);\n",
       "  border: var(--sklearn-color-unfitted-level-1) 1pt solid;\n",
       "}\n",
       "\n",
       "#sk-container-id-2 a.estimator_doc_link.fitted {\n",
       "  /* fitted */\n",
       "  border: var(--sklearn-color-fitted-level-1) 1pt solid;\n",
       "  color: var(--sklearn-color-fitted-level-1);\n",
       "}\n",
       "\n",
       "/* On hover */\n",
       "#sk-container-id-2 a.estimator_doc_link:hover {\n",
       "  /* unfitted */\n",
       "  background-color: var(--sklearn-color-unfitted-level-3);\n",
       "  color: var(--sklearn-color-background);\n",
       "  text-decoration: none;\n",
       "}\n",
       "\n",
       "#sk-container-id-2 a.estimator_doc_link.fitted:hover {\n",
       "  /* fitted */\n",
       "  background-color: var(--sklearn-color-fitted-level-3);\n",
       "}\n",
       "</style><div id=\"sk-container-id-2\" class=\"sk-top-container\"><div class=\"sk-text-repr-fallback\"><pre>Pipeline(steps=[(&#x27;columntransformer&#x27;,\n",
       "                 ColumnTransformer(transformers=[(&#x27;pipeline-1&#x27;,\n",
       "                                                  Pipeline(steps=[(&#x27;simpleimputer&#x27;,\n",
       "                                                                   SimpleImputer()),\n",
       "                                                                  (&#x27;minmaxscaler&#x27;,\n",
       "                                                                   MinMaxScaler())]),\n",
       "                                                  &lt;sklearn.compose._column_transformer.make_column_selector object at 0x7f21b6672e90&gt;),\n",
       "                                                 (&#x27;pipeline-2&#x27;,\n",
       "                                                  Pipeline(steps=[(&#x27;simpleimputer&#x27;,\n",
       "                                                                   SimpleImputer(strategy=&#x27;most_frequent&#x27;)),\n",
       "                                                                  (&#x27;onehotencoder&#x27;,\n",
       "                                                                   OneHotEncoder(handle_unknown=&#x27;ignore&#x27;))]),\n",
       "                                                  &lt;sklearn.compose._column_transformer.make_column_selector object at 0x7f21b66738b0&gt;)])),\n",
       "                (&#x27;gradientboostingclassifier&#x27;, GradientBoostingClassifier())])</pre><b>In a Jupyter environment, please rerun this cell to show the HTML representation or trust the notebook. <br />On GitHub, the HTML representation is unable to render, please try loading this page with nbviewer.org.</b></div><div class=\"sk-container\" hidden><div class=\"sk-item sk-dashed-wrapped\"><div class=\"sk-label-container\"><div class=\"sk-label fitted sk-toggleable\"><input class=\"sk-toggleable__control sk-hidden--visually\" id=\"sk-estimator-id-8\" type=\"checkbox\" ><label for=\"sk-estimator-id-8\" class=\"sk-toggleable__label fitted sk-toggleable__label-arrow fitted\">&nbsp;&nbsp;Pipeline<a class=\"sk-estimator-doc-link fitted\" rel=\"noreferrer\" target=\"_blank\" href=\"https://scikit-learn.org/1.4/modules/generated/sklearn.pipeline.Pipeline.html\">?<span>Documentation for Pipeline</span></a><span class=\"sk-estimator-doc-link fitted\">i<span>Fitted</span></span></label><div class=\"sk-toggleable__content fitted\"><pre>Pipeline(steps=[(&#x27;columntransformer&#x27;,\n",
       "                 ColumnTransformer(transformers=[(&#x27;pipeline-1&#x27;,\n",
       "                                                  Pipeline(steps=[(&#x27;simpleimputer&#x27;,\n",
       "                                                                   SimpleImputer()),\n",
       "                                                                  (&#x27;minmaxscaler&#x27;,\n",
       "                                                                   MinMaxScaler())]),\n",
       "                                                  &lt;sklearn.compose._column_transformer.make_column_selector object at 0x7f21b6672e90&gt;),\n",
       "                                                 (&#x27;pipeline-2&#x27;,\n",
       "                                                  Pipeline(steps=[(&#x27;simpleimputer&#x27;,\n",
       "                                                                   SimpleImputer(strategy=&#x27;most_frequent&#x27;)),\n",
       "                                                                  (&#x27;onehotencoder&#x27;,\n",
       "                                                                   OneHotEncoder(handle_unknown=&#x27;ignore&#x27;))]),\n",
       "                                                  &lt;sklearn.compose._column_transformer.make_column_selector object at 0x7f21b66738b0&gt;)])),\n",
       "                (&#x27;gradientboostingclassifier&#x27;, GradientBoostingClassifier())])</pre></div> </div></div><div class=\"sk-serial\"><div class=\"sk-item sk-dashed-wrapped\"><div class=\"sk-label-container\"><div class=\"sk-label fitted sk-toggleable\"><input class=\"sk-toggleable__control sk-hidden--visually\" id=\"sk-estimator-id-9\" type=\"checkbox\" ><label for=\"sk-estimator-id-9\" class=\"sk-toggleable__label fitted sk-toggleable__label-arrow fitted\">&nbsp;columntransformer: ColumnTransformer<a class=\"sk-estimator-doc-link fitted\" rel=\"noreferrer\" target=\"_blank\" href=\"https://scikit-learn.org/1.4/modules/generated/sklearn.compose.ColumnTransformer.html\">?<span>Documentation for columntransformer: ColumnTransformer</span></a></label><div class=\"sk-toggleable__content fitted\"><pre>ColumnTransformer(transformers=[(&#x27;pipeline-1&#x27;,\n",
       "                                 Pipeline(steps=[(&#x27;simpleimputer&#x27;,\n",
       "                                                  SimpleImputer()),\n",
       "                                                 (&#x27;minmaxscaler&#x27;,\n",
       "                                                  MinMaxScaler())]),\n",
       "                                 &lt;sklearn.compose._column_transformer.make_column_selector object at 0x7f21b6672e90&gt;),\n",
       "                                (&#x27;pipeline-2&#x27;,\n",
       "                                 Pipeline(steps=[(&#x27;simpleimputer&#x27;,\n",
       "                                                  SimpleImputer(strategy=&#x27;most_frequent&#x27;)),\n",
       "                                                 (&#x27;onehotencoder&#x27;,\n",
       "                                                  OneHotEncoder(handle_unknown=&#x27;ignore&#x27;))]),\n",
       "                                 &lt;sklearn.compose._column_transformer.make_column_selector object at 0x7f21b66738b0&gt;)])</pre></div> </div></div><div class=\"sk-parallel\"><div class=\"sk-parallel-item\"><div class=\"sk-item\"><div class=\"sk-label-container\"><div class=\"sk-label fitted sk-toggleable\"><input class=\"sk-toggleable__control sk-hidden--visually\" id=\"sk-estimator-id-10\" type=\"checkbox\" ><label for=\"sk-estimator-id-10\" class=\"sk-toggleable__label fitted sk-toggleable__label-arrow fitted\">pipeline-1</label><div class=\"sk-toggleable__content fitted\"><pre>&lt;sklearn.compose._column_transformer.make_column_selector object at 0x7f21b6672e90&gt;</pre></div> </div></div><div class=\"sk-serial\"><div class=\"sk-item\"><div class=\"sk-serial\"><div class=\"sk-item\"><div class=\"sk-estimator fitted sk-toggleable\"><input class=\"sk-toggleable__control sk-hidden--visually\" id=\"sk-estimator-id-11\" type=\"checkbox\" ><label for=\"sk-estimator-id-11\" class=\"sk-toggleable__label fitted sk-toggleable__label-arrow fitted\">&nbsp;SimpleImputer<a class=\"sk-estimator-doc-link fitted\" rel=\"noreferrer\" target=\"_blank\" href=\"https://scikit-learn.org/1.4/modules/generated/sklearn.impute.SimpleImputer.html\">?<span>Documentation for SimpleImputer</span></a></label><div class=\"sk-toggleable__content fitted\"><pre>SimpleImputer()</pre></div> </div></div><div class=\"sk-item\"><div class=\"sk-estimator fitted sk-toggleable\"><input class=\"sk-toggleable__control sk-hidden--visually\" id=\"sk-estimator-id-12\" type=\"checkbox\" ><label for=\"sk-estimator-id-12\" class=\"sk-toggleable__label fitted sk-toggleable__label-arrow fitted\">&nbsp;MinMaxScaler<a class=\"sk-estimator-doc-link fitted\" rel=\"noreferrer\" target=\"_blank\" href=\"https://scikit-learn.org/1.4/modules/generated/sklearn.preprocessing.MinMaxScaler.html\">?<span>Documentation for MinMaxScaler</span></a></label><div class=\"sk-toggleable__content fitted\"><pre>MinMaxScaler()</pre></div> </div></div></div></div></div></div></div><div class=\"sk-parallel-item\"><div class=\"sk-item\"><div class=\"sk-label-container\"><div class=\"sk-label fitted sk-toggleable\"><input class=\"sk-toggleable__control sk-hidden--visually\" id=\"sk-estimator-id-13\" type=\"checkbox\" ><label for=\"sk-estimator-id-13\" class=\"sk-toggleable__label fitted sk-toggleable__label-arrow fitted\">pipeline-2</label><div class=\"sk-toggleable__content fitted\"><pre>&lt;sklearn.compose._column_transformer.make_column_selector object at 0x7f21b66738b0&gt;</pre></div> </div></div><div class=\"sk-serial\"><div class=\"sk-item\"><div class=\"sk-serial\"><div class=\"sk-item\"><div class=\"sk-estimator fitted sk-toggleable\"><input class=\"sk-toggleable__control sk-hidden--visually\" id=\"sk-estimator-id-14\" type=\"checkbox\" ><label for=\"sk-estimator-id-14\" class=\"sk-toggleable__label fitted sk-toggleable__label-arrow fitted\">&nbsp;SimpleImputer<a class=\"sk-estimator-doc-link fitted\" rel=\"noreferrer\" target=\"_blank\" href=\"https://scikit-learn.org/1.4/modules/generated/sklearn.impute.SimpleImputer.html\">?<span>Documentation for SimpleImputer</span></a></label><div class=\"sk-toggleable__content fitted\"><pre>SimpleImputer(strategy=&#x27;most_frequent&#x27;)</pre></div> </div></div><div class=\"sk-item\"><div class=\"sk-estimator fitted sk-toggleable\"><input class=\"sk-toggleable__control sk-hidden--visually\" id=\"sk-estimator-id-15\" type=\"checkbox\" ><label for=\"sk-estimator-id-15\" class=\"sk-toggleable__label fitted sk-toggleable__label-arrow fitted\">&nbsp;OneHotEncoder<a class=\"sk-estimator-doc-link fitted\" rel=\"noreferrer\" target=\"_blank\" href=\"https://scikit-learn.org/1.4/modules/generated/sklearn.preprocessing.OneHotEncoder.html\">?<span>Documentation for OneHotEncoder</span></a></label><div class=\"sk-toggleable__content fitted\"><pre>OneHotEncoder(handle_unknown=&#x27;ignore&#x27;)</pre></div> </div></div></div></div></div></div></div></div></div><div class=\"sk-item\"><div class=\"sk-estimator fitted sk-toggleable\"><input class=\"sk-toggleable__control sk-hidden--visually\" id=\"sk-estimator-id-16\" type=\"checkbox\" ><label for=\"sk-estimator-id-16\" class=\"sk-toggleable__label fitted sk-toggleable__label-arrow fitted\">&nbsp;GradientBoostingClassifier<a class=\"sk-estimator-doc-link fitted\" rel=\"noreferrer\" target=\"_blank\" href=\"https://scikit-learn.org/1.4/modules/generated/sklearn.ensemble.GradientBoostingClassifier.html\">?<span>Documentation for GradientBoostingClassifier</span></a></label><div class=\"sk-toggleable__content fitted\"><pre>GradientBoostingClassifier()</pre></div> </div></div></div></div></div></div>"
      ],
      "text/plain": [
       "Pipeline(steps=[('columntransformer',\n",
       "                 ColumnTransformer(transformers=[('pipeline-1',\n",
       "                                                  Pipeline(steps=[('simpleimputer',\n",
       "                                                                   SimpleImputer()),\n",
       "                                                                  ('minmaxscaler',\n",
       "                                                                   MinMaxScaler())]),\n",
       "                                                  <sklearn.compose._column_transformer.make_column_selector object at 0x7f21b6672e90>),\n",
       "                                                 ('pipeline-2',\n",
       "                                                  Pipeline(steps=[('simpleimputer',\n",
       "                                                                   SimpleImputer(strategy='most_frequent')),\n",
       "                                                                  ('onehotencoder',\n",
       "                                                                   OneHotEncoder(handle_unknown='ignore'))]),\n",
       "                                                  <sklearn.compose._column_transformer.make_column_selector object at 0x7f21b66738b0>)])),\n",
       "                ('gradientboostingclassifier', GradientBoostingClassifier())])"
      ]
     },
     "execution_count": 49,
     "metadata": {},
     "output_type": "execute_result"
    }
   ],
   "source": [
    "pipe_selected.fit(X_train, y_train)"
   ]
  },
  {
   "cell_type": "code",
   "execution_count": 50,
   "id": "459f70a7-abbd-494e-aa02-971bfaa4511f",
   "metadata": {},
   "outputs": [],
   "source": [
    "y_pred = pipe_selected.predict(X_test)"
   ]
  },
  {
   "cell_type": "code",
   "execution_count": 51,
   "id": "a412723b-2b72-4a87-bdd6-dc530bfaf784",
   "metadata": {},
   "outputs": [
    {
     "data": {
      "text/plain": [
       "(4630, 8989)"
      ]
     },
     "execution_count": 51,
     "metadata": {},
     "output_type": "execute_result"
    }
   ],
   "source": [
    "(y_pred.sum(), y_test.sum())"
   ]
  },
  {
   "cell_type": "code",
   "execution_count": 52,
   "id": "a71bb3fe-9991-459a-83c5-f94fe09b4c26",
   "metadata": {
    "scrolled": true
   },
   "outputs": [
    {
     "name": "stdout",
     "output_type": "stream",
     "text": [
      "Accuracy: 0.7453086321169049\n",
      "Precision: 0.7818574514038877\n",
      "Recall: 0.4027144287462454\n",
      "F1-score: 0.5316102503854908\n",
      "Confusion Matrix:\n",
      " [[15047  1010]\n",
      " [ 5369  3620]]\n"
     ]
    }
   ],
   "source": [
    "from sklearn.metrics import accuracy_score, precision_score, recall_score, f1_score, confusion_matrix\n",
    "# Assuming y_test contains the actual labels\n",
    "accuracy = accuracy_score(y_test, y_pred)\n",
    "precision = precision_score(y_test, y_pred)\n",
    "recall = recall_score(y_test, y_pred)\n",
    "f1 = f1_score(y_test, y_pred)\n",
    "conf_matrix = confusion_matrix(y_test, y_pred)\n",
    "\n",
    "print(\"Accuracy:\", accuracy)\n",
    "print(\"Precision:\", precision)\n",
    "print(\"Recall:\", recall)\n",
    "print(\"F1-score:\", f1)\n",
    "print(\"Confusion Matrix:\\n\", conf_matrix)"
   ]
  },
  {
   "cell_type": "code",
   "execution_count": null,
   "id": "c68db9a7-f911-4781-8664-18dc4343d81a",
   "metadata": {},
   "outputs": [],
   "source": [
    "# # Get the Random Forest model from the pipeline\n",
    "# rf_model = pipe_selected.named_steps['randomforestclassifier']\n",
    "\n",
    "# # Access feature importance from the Random Forest model\n",
    "# feature_importance = rf_model.feature_importances_\n",
    "\n",
    "# # Get the transformed feature names from OneHotEncoder\n",
    "# one_hot_encoder = preproc_baseline.named_transformers_['pipeline-2']['onehotencoder']\n",
    "\n",
    "# # Get the feature names after one-hot encoding\n",
    "# encoded_columns = one_hot_encoder.get_feature_names_out()"
   ]
  },
  {
   "cell_type": "code",
   "execution_count": null,
   "id": "f67b89e2-1da6-4148-9df3-32d447745577",
   "metadata": {},
   "outputs": [],
   "source": []
  },
  {
   "cell_type": "markdown",
   "id": "9d21fa22-e10e-4cf1-8a64-a3f058ed5c11",
   "metadata": {},
   "source": [
    "## Explanation of the model"
   ]
  },
  {
   "cell_type": "code",
   "execution_count": 53,
   "id": "b4985131-5317-4bd7-be36-5fc8800acdd7",
   "metadata": {},
   "outputs": [
    {
     "ename": "NameError",
     "evalue": "name 'encoded_columns' is not defined",
     "output_type": "error",
     "traceback": [
      "\u001b[0;31m---------------------------------------------------------------------------\u001b[0m",
      "\u001b[0;31mNameError\u001b[0m                                 Traceback (most recent call last)",
      "Cell \u001b[0;32mIn[53], line 5\u001b[0m\n\u001b[1;32m      2\u001b[0m numerical_columns \u001b[38;5;241m=\u001b[39m preproc_baseline\u001b[38;5;241m.\u001b[39mnamed_transformers_[\u001b[38;5;124m'\u001b[39m\u001b[38;5;124mpipeline-1\u001b[39m\u001b[38;5;124m'\u001b[39m][\u001b[38;5;124m'\u001b[39m\u001b[38;5;124msimpleimputer\u001b[39m\u001b[38;5;124m'\u001b[39m]\u001b[38;5;241m.\u001b[39mget_feature_names_out()\n\u001b[1;32m      4\u001b[0m \u001b[38;5;66;03m# Concatenate the numerical column names with the one-hot encoded column names\u001b[39;00m\n\u001b[0;32m----> 5\u001b[0m all_column_names \u001b[38;5;241m=\u001b[39m \u001b[38;5;28mlist\u001b[39m(numerical_columns) \u001b[38;5;241m+\u001b[39m \u001b[38;5;28mlist\u001b[39m(\u001b[43mencoded_columns\u001b[49m)\n\u001b[1;32m      7\u001b[0m \u001b[38;5;66;03m# Ensure that the length of the concatenated list matches the length of the feature_importance array\u001b[39;00m\n\u001b[1;32m      8\u001b[0m \u001b[38;5;28;01massert\u001b[39;00m \u001b[38;5;28mlen\u001b[39m(all_column_names) \u001b[38;5;241m==\u001b[39m \u001b[38;5;28mlen\u001b[39m(feature_importance), \u001b[38;5;124m\"\u001b[39m\u001b[38;5;124mLengths of column names and feature importance values do not match\u001b[39m\u001b[38;5;124m\"\u001b[39m\n",
      "\u001b[0;31mNameError\u001b[0m: name 'encoded_columns' is not defined"
     ]
    }
   ],
   "source": [
    "# Get the original numerical column names\n",
    "numerical_columns = preproc_baseline.named_transformers_['pipeline-1']['simpleimputer'].get_feature_names_out()\n",
    "\n",
    "# Concatenate the numerical column names with the one-hot encoded column names\n",
    "all_column_names = list(numerical_columns) + list(encoded_columns)\n",
    "\n",
    "# Ensure that the length of the concatenated list matches the length of the feature_importance array\n",
    "assert len(all_column_names) == len(feature_importance), \"Lengths of column names and feature importance values do not match\""
   ]
  },
  {
   "cell_type": "code",
   "execution_count": null,
   "id": "3e476249-9fb9-47d3-b6df-e0f2cbb3208d",
   "metadata": {},
   "outputs": [],
   "source": [
    "# Get Feature importance\n",
    "model = pipe_selected.named_steps['gradientboostingclassifier']\n",
    "\n",
    "feature_importance = model.feature_importances_\n",
    "one_hot_encoder = preproc_baseline.named_transformers_['pipeline-2']['onehotencoder']\n",
    "encoded_columns = one_hot_encoder.get_feature_names_out()\n",
    "\n",
    "\n",
    "numerical_columns = preproc_baseline.named_transformers_['pipeline-1']['simpleimputer'].get_feature_names_out()\n",
    "all_column_names = list(numerical_columns) + list(encoded_columns)\n",
    "\n",
    "# Ensure that the length of the concatenated list matches the length of the feature_importance array\n",
    "assert len(all_column_names) == len(feature_importance), \"Lengths of column names and feature importance values do not match\""
   ]
  },
  {
   "cell_type": "code",
   "execution_count": null,
   "id": "9a436c3b-b30b-4419-aa27-729917a11b50",
   "metadata": {},
   "outputs": [],
   "source": [
    "# Pair feature importance scores with corresponding column names\n",
    "feature_importance_df = pd.DataFrame({'Feature': all_column_names, 'Importance': feature_importance})\n",
    "\n",
    "# Sort the DataFrame by importance score in descending order\n",
    "feature_importance_df = feature_importance_df.sort_values(by='Importance', ascending=False)\n",
    "\n",
    "# Plot the feature importance\n",
    "plt.figure(figsize=(10, 6))\n",
    "plt.barh(feature_importance_df['Feature'][:30], feature_importance_df['Importance'][:30])\n",
    "plt.xlabel('Importance')\n",
    "plt.ylabel('Feature')\n",
    "plt.title('Top 20 Feature Importance')\n",
    "plt.show()"
   ]
  },
  {
   "cell_type": "code",
   "execution_count": null,
   "id": "0cabfba0-7190-48c8-9bd3-f557128ca1ee",
   "metadata": {},
   "outputs": [],
   "source": []
  },
  {
   "cell_type": "code",
   "execution_count": null,
   "id": "a5d67031-bd09-481b-8515-719132b6d40c",
   "metadata": {},
   "outputs": [],
   "source": []
  },
  {
   "cell_type": "markdown",
   "id": "5fa84d8c-4bb7-476d-af8a-b2e36a1e0122",
   "metadata": {},
   "source": [
    "## Save model"
   ]
  },
  {
   "cell_type": "code",
   "execution_count": null,
   "id": "bd74a5b1-53ae-4bba-93c3-395b224de77b",
   "metadata": {},
   "outputs": [],
   "source": [
    "import pickle\n",
    "import joblib"
   ]
  },
  {
   "cell_type": "code",
   "execution_count": null,
   "id": "1cf1bd0c-1095-4a36-9b8f-d935f2103944",
   "metadata": {},
   "outputs": [],
   "source": [
    "# # Define the filename for your .pkl file\n",
    "# filename = '../clv_the_look/training/rf_model_v1.pkl'\n",
    "\n",
    "# # Save the trained model to a .pkl file\n",
    "# with open(filename, 'wb') as file:\n",
    "#     pickle.dump(pipe_randomforest, file)"
   ]
  },
  {
   "cell_type": "code",
   "execution_count": null,
   "id": "f3038c02-f00c-42c9-a00a-90f6dfcd8acd",
   "metadata": {},
   "outputs": [],
   "source": [
    "filename = '../clv_the_look/training/gb_model_v1.pkl'\n",
    "\n",
    "# Save the trained model to a .pkl file\n",
    "with open(filename, 'wb') as file:\n",
    "    joblib.dump(pipe_selected, filename)"
   ]
  },
  {
   "cell_type": "code",
   "execution_count": null,
   "id": "5934ac80-eb0b-4ecd-a227-57a20befa725",
   "metadata": {},
   "outputs": [],
   "source": [
    "## input csv\n",
    "\n",
    "X_test.to_csv('../clv_the_look/training/input_X_test.csv', index=False, encoding='utf-8')\n",
    "\n",
    "X_test"
   ]
  },
  {
   "cell_type": "markdown",
   "id": "c98bc6e9-1bce-4de0-ab10-22c31d0601b0",
   "metadata": {
    "jp-MarkdownHeadingCollapsed": true
   },
   "source": [
    "## Try KNN"
   ]
  },
  {
   "cell_type": "code",
   "execution_count": null,
   "id": "628cd8e6-25ce-499d-bd9f-e8984a342ae3",
   "metadata": {},
   "outputs": [],
   "source": [
    "test_country_event = events_df.groupby(by='user_id')['traffic_source'].nunique().reset_index()"
   ]
  },
  {
   "cell_type": "code",
   "execution_count": null,
   "id": "bb06ac49-384c-40c7-94a2-fd1b0f62dc3b",
   "metadata": {},
   "outputs": [],
   "source": [
    "event_types_list = ['product','cart','department','purchase','cancel','home']\n",
    "\n",
    "for idx, type in enumerate(event_types_list):\n",
    "    print(idx, type)"
   ]
  },
  {
   "cell_type": "code",
   "execution_count": null,
   "id": "8fa5650e-8497-48aa-b400-cbf9a97cc75a",
   "metadata": {},
   "outputs": [],
   "source": [
    "def cluster_event_df(events_df):\n",
    "    '''\n",
    "    Returns most used browser per user_id\n",
    "    '''\n",
    "    \n",
    "    events_df = events_df[events_df['user_id'].notna()].copy()\n",
    "    events_df['created_at'] = pd.to_datetime(events_df['created_at'], format='mixed').dt.tz_localize(None)\n",
    "\n",
    "    # base\n",
    "    base = events_df.groupby('user_id')['session_id'].nunique().reset_index(name='sessions')\n",
    "    \n",
    "    # Preffered browser\n",
    "    count_browser = events_df.groupby(['user_id', 'browser']).size().reset_index(name='count')\n",
    "    max_count_index = count_browser.groupby('user_id')['count'].idxmax()\n",
    "    preferred_browser = count_browser.loc[max_count_index]\n",
    "    pref_brsr_no_duplicates = preferred_browser.drop_duplicates(subset=['user_id']).rename(columns={'browser':'browser_pref'})\n",
    "    base = base.merge(pref_brsr_no_duplicates[['user_id','browser_pref']],on='user_id',how='left')\n",
    "\n",
    "    # types of events\n",
    "    event_types_list = ['product','cart','department','purchase','cancel','home']\n",
    "    \n",
    "    for type in event_types_list:\n",
    "        column_ = type + '_counts'\n",
    "        user_behaviour = events_df[events_df['event_type']==type].groupby(by='user_id')['session_id'].nunique().reset_index(name=column_)\n",
    "        base = base.merge(user_behaviour, on='user_id', how='left')\n",
    "    \n",
    "    \n",
    "    return base"
   ]
  },
  {
   "cell_type": "code",
   "execution_count": null,
   "id": "45db75c1-3c5c-435c-9de3-7142db45f62d",
   "metadata": {},
   "outputs": [],
   "source": [
    "select_user_columns(users_df)"
   ]
  },
  {
   "cell_type": "code",
   "execution_count": null,
   "id": "a33baa4d-3783-466c-8c41-03ff805f5ce3",
   "metadata": {},
   "outputs": [],
   "source": [
    "item_product_df.created_at.dt.year"
   ]
  },
  {
   "cell_type": "code",
   "execution_count": null,
   "id": "160055dc-7956-4436-bd00-f129a436fdd9",
   "metadata": {},
   "outputs": [],
   "source": [
    "def cluser_item_product_agg(item_product_df):\n",
    "    '''\n",
    "    to user level\n",
    "    '''\n",
    "\n",
    "    base = item_level_df[['user_id','order_item_id']].groupby('user_id').count().fillna(0).rename(columns={'order_item_id':'num_order_items'}).reset_index()\n",
    "    \n",
    "    # order revenue\n",
    "    revenue = item_level_df.groupby(by='user_id')['sale_price'].sum().reset_index(name='total_sales')\n",
    "    base = base.merge(revenue, on='user_id', how='left') \n",
    "    \n",
    "    # order retail_price\n",
    "    retail_price = item_level_df.groupby(by='user_id')['retail_price'].sum().reset_index(name='total_retail_price')\n",
    "    base = base.merge(retail_price, on='user_id', how='left') \n",
    "\n",
    "    # total_orders\n",
    "    total_orders = item_level_df.groupby(by='user_id')['order_id'].nunique().reset_index(name='total_orders')\n",
    "    base = base.merge(total_orders, on='user_id', how='left')\n",
    "\n",
    "    # total_brands\n",
    "    total_brands = item_level_df.groupby(by='user_id')['brand'].nunique().reset_index(name='total_num_brands')\n",
    "    base = base.merge(total_brands, on='user_id', how='left')\n",
    "\n",
    "    # firt order created at year, month\n",
    "    year = item_level_df.groupby(by='user_id')['created_at'].min().reset_index(name='min_order_created_at')\n",
    "    year['min_order_created_year'] = year.min_order_created_at.dt.year\n",
    "    year['min_order_created_month'] = year.min_order_created_at.dt.month\n",
    "    base = base.merge(year, on='user_id', how='left')\n",
    "\n",
    "    base['abv'] = base.total_sales / base.total_orders\n",
    "\n",
    "    # total_period\n",
    "    max_date = item_level_df['created_at'].max()\n",
    "    base['customer_T'] = (max_date - base['min_order_created_at']).dt.days\n",
    "    \n",
    "    \n",
    "    \n",
    "    # Most frequent category\n",
    "    count_cat = item_level_df.groupby(['user_id', 'category']).size().reset_index(name='count')\n",
    "    # Find the index of the row with the maximum count for each user\n",
    "    max_count_index = count_cat.groupby('user_id')['count'].idxmax()\n",
    "    # Extract the rows corresponding to the maximum counts\n",
    "    preferred_categories = count_cat.loc[max_count_index]\n",
    "    # remove duplicates\n",
    "    pref_cat_no_duplicates = preferred_categories.drop_duplicates(subset=['user_id']).rename(columns={'category':'category_preffered'})\n",
    "\n",
    "    base = base.merge(pref_cat_no_duplicates[['user_id','category_preffered']],on='user_id',how='left')            \n",
    "\n",
    "\n",
    "    # Department\n",
    "    # Most frequent category\n",
    "    count_dept = item_level_df.groupby(['user_id', 'department']).size().reset_index(name='count')\n",
    "    # Find the index of the row with the maximum count for each user\n",
    "    max_count_index_dept = count_dept.groupby('user_id')['count'].idxmax()\n",
    "    # Extract the rows corresponding to the maximum counts\n",
    "    preferred_dept = count_dept.loc[max_count_index_dept]\n",
    "    # remove duplicates\n",
    "    pref_dept_no_duplicates = preferred_dept.drop_duplicates(subset=['user_id']).rename(columns={'department':'dept_pref'})\n",
    "\n",
    "    base = base.merge(pref_dept_no_duplicates[['user_id','dept_pref']],on='user_id',how='left')    \n",
    "    \n",
    "    return base"
   ]
  },
  {
   "cell_type": "code",
   "execution_count": null,
   "id": "fca7b36e-6e14-4a1b-b487-f1a3eed02d8a",
   "metadata": {},
   "outputs": [],
   "source": [
    "item_product_df = join_tables_item_level(order_items_df, products_df)"
   ]
  },
  {
   "cell_type": "code",
   "execution_count": null,
   "id": "ec6d5bfa-5589-464d-aec9-0092b31556fb",
   "metadata": {},
   "outputs": [],
   "source": [
    "test = cluser_item_product_agg(item_product_df)"
   ]
  },
  {
   "cell_type": "markdown",
   "id": "d9d0e8e7-fe96-4a50-930b-f1acd1c84d4f",
   "metadata": {
    "jp-MarkdownHeadingCollapsed": true
   },
   "source": [
    "## Data Prep for Clustering"
   ]
  },
  {
   "cell_type": "code",
   "execution_count": null,
   "id": "bae7951d-ae18-4b9b-8c4c-6eaba27bbbfc",
   "metadata": {},
   "outputs": [],
   "source": [
    "user_prep = select_user_columns(users_df)\n",
    "event_prep = cluster_event_df(events_df)\n",
    "item_product_df = join_tables_item_level(order_items_df, products_df)\n",
    "order_prep = cluser_item_product_agg(item_product_df)"
   ]
  },
  {
   "cell_type": "code",
   "execution_count": null,
   "id": "566090b7-92d0-46d3-82b8-579ccf3c61db",
   "metadata": {},
   "outputs": [],
   "source": [
    "## Join all of them\n",
    "\n",
    "input_prep = user_prep.copy()\n",
    "input_prep = input_prep.merge(event_prep, on='user_id', how='left')\n",
    "input_prep = input_prep.merge(order_prep, on='user_id', how='left')\n",
    "\n",
    "columns_excl = ['user_id','user_created_at','min_order_created_at','min_order_created_at']\n",
    "\n",
    "input_prep = input_prep.drop(columns=columns_excl)\n",
    "input_prep.info()"
   ]
  },
  {
   "cell_type": "code",
   "execution_count": null,
   "id": "d13df101-014a-43e6-b496-cff34d7c4e47",
   "metadata": {},
   "outputs": [],
   "source": [
    "input_prep.isna().sum()"
   ]
  },
  {
   "cell_type": "code",
   "execution_count": null,
   "id": "0097768a-6ffb-4653-9376-2fe2f71d11b2",
   "metadata": {},
   "outputs": [],
   "source": []
  },
  {
   "cell_type": "code",
   "execution_count": null,
   "id": "cbfee90b-b722-408f-8be4-4247e385552b",
   "metadata": {},
   "outputs": [],
   "source": [
    "input_prep['total_orders'].value_counts()"
   ]
  },
  {
   "cell_type": "markdown",
   "id": "27ea1307-9070-4a9a-95ef-d8dd7c6837f5",
   "metadata": {
    "jp-MarkdownHeadingCollapsed": true
   },
   "source": [
    "## preprocessing, fit, predict"
   ]
  },
  {
   "cell_type": "code",
   "execution_count": null,
   "id": "ae8425c2-3b1c-497f-b945-ea4dc4ca3522",
   "metadata": {},
   "outputs": [],
   "source": [
    "km_input = preproc_baseline.fit_transform(input_prep)"
   ]
  },
  {
   "cell_type": "code",
   "execution_count": null,
   "id": "98126496-c69d-4e33-b5eb-f3a9dce4dd13",
   "metadata": {},
   "outputs": [],
   "source": [
    "prepped_values = pd.DataFrame(km_input.toarray())"
   ]
  },
  {
   "cell_type": "code",
   "execution_count": null,
   "id": "a8683cb1-cbb4-4a8d-acc2-dbcb15cd2262",
   "metadata": {},
   "outputs": [],
   "source": [
    "sns.heatmap(prepped_values.corr(), cmap='coolwarm')"
   ]
  },
  {
   "cell_type": "code",
   "execution_count": null,
   "id": "e4b9463f-3542-4909-81d3-36cb021d76bf",
   "metadata": {},
   "outputs": [],
   "source": [
    "km_input.shape"
   ]
  },
  {
   "cell_type": "code",
   "execution_count": null,
   "id": "cf17cf90-5785-4df9-a635-18f17e2356a5",
   "metadata": {},
   "outputs": [],
   "source": [
    "km = KMeans(n_clusters=4)\n",
    "km.fit(km_input)"
   ]
  },
  {
   "cell_type": "code",
   "execution_count": null,
   "id": "2b486719-7542-41fb-b53a-2235604d0dd9",
   "metadata": {},
   "outputs": [],
   "source": [
    "cluster_labels= km.predict(km_input)\n",
    "cluster_labels"
   ]
  },
  {
   "cell_type": "code",
   "execution_count": null,
   "id": "cbd0758c-763f-4796-9b4a-57c96b9766fe",
   "metadata": {},
   "outputs": [],
   "source": [
    "centroids = km.cluster_centers_\n",
    "centroids.shape"
   ]
  },
  {
   "cell_type": "code",
   "execution_count": null,
   "id": "dcbaa528-6cb0-49c9-b034-bb3ddd133ec2",
   "metadata": {},
   "outputs": [],
   "source": [
    "unique, counts = np.unique(cluster_labels, return_counts=True)\n",
    "cluster_counts = dict(zip(unique, counts))\n",
    "print(cluster_counts)"
   ]
  },
  {
   "cell_type": "markdown",
   "id": "69ddc74c-7c82-4d37-9286-c9f163b17736",
   "metadata": {
    "jp-MarkdownHeadingCollapsed": true
   },
   "source": [
    "## Trying DeepLearning"
   ]
  },
  {
   "cell_type": "code",
   "execution_count": null,
   "id": "c7133708-fab6-4abf-9a59-68efc23a5424",
   "metadata": {
    "scrolled": true
   },
   "outputs": [],
   "source": [
    "''' Imbalanced Classes'''\n",
    "import imblearn\n",
    "from imblearn.over_sampling import SMOTE\n",
    "from imblearn.under_sampling import RandomUnderSampler\n",
    "from imblearn.pipeline import Pipeline\n",
    "\n",
    "''' Tensorflow Keras'''\n",
    "from tensorflow import keras\n",
    "from tensorflow.keras import models\n",
    "from tensorflow.keras import layers\n",
    "from tensorflow.keras.callbacks import EarlyStopping\n",
    "from tensorflow.keras import regularizers\n",
    "from tensorflow.keras.optimizers import Adam\n",
    "from tensorflow.keras.optimizers.schedules import ExponentialDecay\n",
    "from tensorflow.keras.layers import Normalization\n",
    "from tensorflow.keras.metrics import Recall, Precision\n"
   ]
  },
  {
   "cell_type": "code",
   "execution_count": null,
   "id": "eea5c642-66ca-474d-868b-585597aa2729",
   "metadata": {},
   "outputs": [],
   "source": [
    "X.head()"
   ]
  },
  {
   "cell_type": "code",
   "execution_count": null,
   "id": "7b2c0c28-e155-4a6a-be0c-6bf5c18180a5",
   "metadata": {},
   "outputs": [],
   "source": [
    "# Preprocess\n",
    "X_t = preproc_baseline.fit_transform(X)"
   ]
  },
  {
   "cell_type": "code",
   "execution_count": null,
   "id": "25b66e62-f345-46c3-aec6-699133a48a0f",
   "metadata": {},
   "outputs": [],
   "source": [
    "X_t.toarray()"
   ]
  },
  {
   "cell_type": "code",
   "execution_count": null,
   "id": "f58bb40a-fecd-4311-887d-9a0e63dba3c2",
   "metadata": {},
   "outputs": [],
   "source": [
    "# Train test split before any resampling to keep real test set\n",
    "X_train, X_test, y_train, y_test = train_test_split(X_t, y_binary, test_size = 0.3)"
   ]
  },
  {
   "cell_type": "code",
   "execution_count": null,
   "id": "956ce019-4c39-41a9-b5a6-12a8e7c3fe28",
   "metadata": {},
   "outputs": [],
   "source": [
    "X_train, X_val, y_train, y_val = train_test_split(X_train, y_train, test_size = 0.3)"
   ]
  },
  {
   "cell_type": "code",
   "execution_count": null,
   "id": "cab6a197-68cc-441b-b86f-e4596d13cfd3",
   "metadata": {},
   "outputs": [],
   "source": [
    "X_train = X_train.toarray()\n",
    "X_val = X_val.toarray()"
   ]
  },
  {
   "cell_type": "code",
   "execution_count": null,
   "id": "0bb9dce9-eb55-44d6-aa1c-452ef01d2b6c",
   "metadata": {},
   "outputs": [],
   "source": [
    "# How many \"fraud\" samples do I have in each split?\n",
    "print(np.sum(y_train[y_train == 1]))\n",
    "print(np.sum(y_val[y_val == 1]))\n",
    "print(np.sum(y_test[y_test == 1]))\n",
    "\n",
    "print(\"-\"*100)\n",
    "\n",
    "print(f\"There are {pd.Series(y_train).value_counts()[1]} purchased users in the train set\")\n",
    "print(f\"There are {pd.Series(y_val).value_counts()[1]} purchased users in the val set\")\n",
    "print(f\"There are {pd.Series(y_test).value_counts()[1]} purchased users in the test set\")"
   ]
  },
  {
   "cell_type": "code",
   "execution_count": null,
   "id": "3567d5b1-55ef-489e-a958-5b7c5530df67",
   "metadata": {},
   "outputs": [],
   "source": [
    "print(X_train.shape)\n",
    "print(X_val.shape)"
   ]
  },
  {
   "cell_type": "markdown",
   "id": "eb0697a7-d5a8-43fa-926c-27aeb5785e37",
   "metadata": {
    "jp-MarkdownHeadingCollapsed": true
   },
   "source": [
    "## Neural Network Iteration"
   ]
  },
  {
   "cell_type": "code",
   "execution_count": null,
   "id": "45f22280-8985-494b-8733-59ebc72a39b4",
   "metadata": {},
   "outputs": [],
   "source": [
    "metrics = [\n",
    "    keras.metrics.Recall(name='recall'),\n",
    "    keras.metrics.Precision(name='precision'),\n",
    "    keras.metrics.AUC(name='prc', curve='PR'),  # precision-recall curve\n",
    "]"
   ]
  },
  {
   "cell_type": "code",
   "execution_count": null,
   "id": "f03050d7-f590-4a07-9135-a69bffd791f2",
   "metadata": {},
   "outputs": [],
   "source": [
    "X_train.shape"
   ]
  },
  {
   "cell_type": "code",
   "execution_count": null,
   "id": "7a852ffd-32b3-4ecc-ac69-cd48fec711a1",
   "metadata": {},
   "outputs": [],
   "source": [
    "def init_model():\n",
    "    input_shape = X_train.shape[1:]\n",
    "    # normalizer = Normalization()\n",
    "    # normalizer.adapt(X_train)\n",
    "    \n",
    "    model = models.Sequential()\n",
    "    # model.add()\n",
    "    model.add(layers.Dense(64, activation='relu', input_shape=input_shape))\n",
    "    model.add(layers.Dropout(0.3))\n",
    "    model.add(layers.Dense(32, activation='relu'))\n",
    "    model.add(layers.Dropout(0.3))\n",
    "    model.add(layers.Dense(16, activation='relu'))\n",
    "    model.add(layers.Dropout(0.3))\n",
    "    model.add(layers.Dense(8, activation='relu'))\n",
    "    model.add(layers.Dropout(0.3))\n",
    "    model.add(layers.Dense(1, activation = 'sigmoid'))\n",
    "\n",
    "    # Model compilation\n",
    "    optimizer = Adam(learning_rate=0.0001)\n",
    "    model.compile(loss='binary_crossentropy',\n",
    "                  optimizer=optimizer,\n",
    "                  metrics=metrics)\n",
    "    return model"
   ]
  },
  {
   "cell_type": "markdown",
   "id": "ce3ef123-ae3c-4ab5-bbd8-e88c8a73d2ff",
   "metadata": {
    "jp-MarkdownHeadingCollapsed": true
   },
   "source": [
    "## Regularized model"
   ]
  },
  {
   "cell_type": "code",
   "execution_count": null,
   "id": "7eb63894-ae42-4223-99bb-3449068f129d",
   "metadata": {},
   "outputs": [],
   "source": [
    "[X_train.shape, y_train.shape]"
   ]
  },
  {
   "cell_type": "code",
   "execution_count": null,
   "id": "e63e3660-9388-4da6-b75f-10f314b86d34",
   "metadata": {
    "scrolled": true
   },
   "outputs": [],
   "source": [
    "[X_val.shape, y_val.shape]"
   ]
  },
  {
   "cell_type": "code",
   "execution_count": null,
   "id": "715dfa80-2c8f-44c3-8123-7693986025f9",
   "metadata": {},
   "outputs": [],
   "source": [
    "model = init_model()\n",
    "\n",
    "es = EarlyStopping(\n",
    "    patience=10,\n",
    "    monitor='val_recall', \n",
    "    restore_best_weights=True)\n",
    "\n",
    "history = model.fit(X_train, y_train,\n",
    "                    validation_data=(X_val, y_val),\n",
    "                    epochs=100,\n",
    "                    batch_size=4,\n",
    "                    callbacks=[es], shuffle=True)"
   ]
  },
  {
   "cell_type": "code",
   "execution_count": null,
   "id": "c926a5bb-9f7f-456c-ba37-9b1b2409b499",
   "metadata": {},
   "outputs": [],
   "source": [
    "def plot_loss_precision_recall_curve(history):\n",
    "    \n",
    "    fig, ax =plt.subplots(1,3,figsize=(20,5))\n",
    "    \n",
    "    # --- LOSS\n",
    "    \n",
    "    ax[0].plot(history.history['loss'])\n",
    "    ax[0].plot(history.history['val_loss'])\n",
    "    ax[0].set_title('Model loss')\n",
    "    ax[0].set_xlabel('Epoch')\n",
    "    ax[0].set_ylabel('Loss')\n",
    "    ax[0].legend(['Train', 'Val'], loc='upper right')\n",
    "    ax[0].grid(axis=\"x\",linewidth=0.5)\n",
    "    ax[0].grid(axis=\"y\",linewidth=0.5)\n",
    "    \n",
    "    # --- RECALL\n",
    "\n",
    "    ax[1].plot(history.history['recall'])\n",
    "    ax[1].plot(history.history['val_recall'])\n",
    "    ax[1].set_title('Model recall', fontsize = 18)\n",
    "    ax[1].set_xlabel('Epoch', fontsize = 14)\n",
    "    ax[1].set_ylabel('Recall', fontsize = 14)\n",
    "    ax[1].legend(['Train', 'Val'], loc='lower right') \n",
    "    ax[1].grid(axis=\"x\",linewidth=0.5)\n",
    "    ax[1].grid(axis=\"y\",linewidth=0.5)\n",
    "\n",
    "    \n",
    "    # --- PRECISION\n",
    "    \n",
    "    \n",
    "    ax[2].plot(history.history['precision'])\n",
    "    ax[2].plot(history.history['val_precision'])\n",
    "    ax[2].set_title('Model precision', fontsize = 18)\n",
    "    ax[2].set_xlabel('Epoch', fontsize = 14)\n",
    "    ax[2].set_ylabel('Precision', fontsize = 14)\n",
    "    ax[2].legend(['Train', 'Val'], loc='lower right')  \n",
    "    ax[2].grid(axis=\"x\",linewidth=0.5)\n",
    "    ax[2].grid(axis=\"y\",linewidth=0.5)    \n",
    "    \n",
    "    plt.show()"
   ]
  },
  {
   "cell_type": "code",
   "execution_count": null,
   "id": "33a26549-f27b-4332-a002-e0e13766345a",
   "metadata": {},
   "outputs": [],
   "source": [
    "plot_loss_precision_recall_curve(history)"
   ]
  },
  {
   "cell_type": "code",
   "execution_count": null,
   "id": "f27f9516-58f2-46fe-a8ac-9f1f76f9503b",
   "metadata": {},
   "outputs": [],
   "source": []
  },
  {
   "cell_type": "code",
   "execution_count": null,
   "id": "1b1343c8-e428-49b5-b47f-94420d98fe31",
   "metadata": {},
   "outputs": [],
   "source": []
  },
  {
   "cell_type": "markdown",
   "id": "0afc0045-21e2-4b1b-884b-e9ae68d158a0",
   "metadata": {
    "jp-MarkdownHeadingCollapsed": true
   },
   "source": [
    "## Score it"
   ]
  },
  {
   "cell_type": "code",
   "execution_count": null,
   "id": "1993951a-e236-4bcb-9039-44e0b96e0613",
   "metadata": {},
   "outputs": [],
   "source": [
    "model.evaluate(X_test, y_test, verbose=0, return_dict=True)"
   ]
  },
  {
   "cell_type": "code",
   "execution_count": null,
   "id": "a5eb2f8e-6c0d-45db-835b-c225f964fc68",
   "metadata": {},
   "outputs": [],
   "source": [
    "y_pred_proba = model.predict(X_test)"
   ]
  },
  {
   "cell_type": "code",
   "execution_count": null,
   "id": "5325c2ac-f458-4ff1-b40d-da94997644fc",
   "metadata": {},
   "outputs": [],
   "source": [
    "threshold = 0.50 # 50% \n",
    "\n",
    "y_pred_binary = np.where(y_pred_proba > threshold, 1, 0 )"
   ]
  },
  {
   "cell_type": "code",
   "execution_count": null,
   "id": "b6cac33e-e862-4f09-86eb-39e5acb34195",
   "metadata": {},
   "outputs": [],
   "source": []
  },
  {
   "cell_type": "markdown",
   "id": "92370b83-166a-49c4-b744-9726e9c09cba",
   "metadata": {
    "jp-MarkdownHeadingCollapsed": true
   },
   "source": [
    "## Confusion Matrix"
   ]
  },
  {
   "cell_type": "code",
   "execution_count": null,
   "id": "98349804-c279-4bf2-9add-7c985dac2471",
   "metadata": {},
   "outputs": [],
   "source": [
    "# Confusion Matrix\n",
    "cm = confusion_matrix(y_test,y_pred_binary)\n",
    "cm"
   ]
  },
  {
   "cell_type": "code",
   "execution_count": null,
   "id": "1a80c525-5035-4270-b015-bd395cc4ca6a",
   "metadata": {},
   "outputs": [],
   "source": [
    "plt.figure(figsize=(5,5))\n",
    "sns.heatmap(cm, annot=True, fmt=\"d\")\n",
    "plt.title('Confusion matrix')\n",
    "plt.ylabel('Actual label')\n",
    "plt.xlabel('Predicted label')"
   ]
  },
  {
   "cell_type": "code",
   "execution_count": null,
   "id": "bf23eba2-122f-4a0b-adec-4c54e2b95c5a",
   "metadata": {},
   "outputs": [],
   "source": [
    "from sklearn.metrics import classification_report\n",
    "print(classification_report(y_test,y_pred_binary))"
   ]
  },
  {
   "cell_type": "code",
   "execution_count": null,
   "id": "9bf42293-fbd7-4a27-8c55-3918128f1a16",
   "metadata": {},
   "outputs": [],
   "source": [
    "from sklearn.metrics import precision_recall_curve\n",
    "\n",
    "def plot_prc(name, labels, predictions, **kwargs):\n",
    "    precision, recall, _ = precision_recall_curve(labels, predictions)\n",
    "    plt.plot(recall, precision, label=name, linewidth=2, **kwargs)\n",
    "    plt.xlabel('Recall')\n",
    "    plt.ylabel('Precision')\n",
    "    plt.grid(True)\n",
    "    ax = plt.gca()\n",
    "    ax.set_aspect('equal')"
   ]
  },
  {
   "cell_type": "code",
   "execution_count": null,
   "id": "d04b72f9-566d-4822-962e-95c2ebd3a76f",
   "metadata": {},
   "outputs": [],
   "source": [
    "plot_prc(\"Test\", y_test, y_pred_proba, linestyle='--')\n",
    "plt.legend(loc='lower right')"
   ]
  },
  {
   "cell_type": "code",
   "execution_count": null,
   "id": "2eaa62ed-0d18-45b9-bb74-ddc17e9e234a",
   "metadata": {},
   "outputs": [],
   "source": []
  },
  {
   "cell_type": "code",
   "execution_count": null,
   "id": "fd6e922a-0145-40bc-95c6-a8de48d8825a",
   "metadata": {},
   "outputs": [],
   "source": []
  },
  {
   "cell_type": "code",
   "execution_count": null,
   "id": "0c00442f-e4a9-432f-807e-daf7bd531e6c",
   "metadata": {},
   "outputs": [],
   "source": []
  },
  {
   "cell_type": "code",
   "execution_count": null,
   "id": "06678830-4409-46fc-97d2-4567d0fc5d88",
   "metadata": {},
   "outputs": [],
   "source": []
  },
  {
   "cell_type": "code",
   "execution_count": null,
   "id": "f9caac46-2cef-48e5-947e-dd9f3b5f97bd",
   "metadata": {},
   "outputs": [],
   "source": []
  }
 ],
 "metadata": {
  "kernelspec": {
   "display_name": "Python 3 (ipykernel)",
   "language": "python",
   "name": "python3"
  },
  "language_info": {
   "codemirror_mode": {
    "name": "ipython",
    "version": 3
   },
   "file_extension": ".py",
   "mimetype": "text/x-python",
   "name": "python",
   "nbconvert_exporter": "python",
   "pygments_lexer": "ipython3",
   "version": "3.10.6"
  }
 },
 "nbformat": 4,
 "nbformat_minor": 5
}
