{
 "cells": [
  {
   "cell_type": "code",
   "execution_count": 140,
   "id": "0dc21e48-60bd-4856-b0ed-247ad6649768",
   "metadata": {},
   "outputs": [],
   "source": [
    "import matplotlib.pyplot as plt\n",
    "import numpy as np\n",
    "import pandas as pd\n",
    "import seaborn as sns\n",
    "import datetime as dt\n",
    "import warnings\n",
    "import math\n",
    "\n",
    "from scipy import stats\n",
    "from tempfile import mkdtemp\n",
    "from shutil import rmtree\n",
    "\n",
    "from xgboost import XGBRegressor, XGBClassifier\n",
    "\n",
    "from sklearn import set_config\n",
    "set_config(display = 'diagram')\n",
    "# Sklearn preprocessing\n",
    "from sklearn.base import BaseEstimator, TransformerMixin\n",
    "from sklearn.compose import make_column_transformer, make_column_selector, ColumnTransformer\n",
    "from sklearn.ensemble import AdaBoostRegressor, VotingRegressor, GradientBoostingRegressor, StackingRegressor, RandomForestRegressor,\\\n",
    "                            RandomForestClassifier, AdaBoostClassifier, GradientBoostingClassifier, BaggingClassifier, ExtraTreesClassifier, VotingClassifier\n",
    "from sklearn.feature_selection import SelectPercentile, mutual_info_regression, VarianceThreshold, SelectFromModel\n",
    "from sklearn.impute import SimpleImputer, KNNImputer\n",
    "from sklearn.linear_model import Ridge, LinearRegression, LogisticRegression\n",
    "from sklearn.metrics import make_scorer, mean_squared_error, mean_squared_log_error, r2_score, confusion_matrix\n",
    "from sklearn.model_selection import train_test_split, cross_val_score, GridSearchCV, RandomizedSearchCV\n",
    "from sklearn.neighbors import KNeighborsRegressor, KNeighborsClassifier\n",
    "from sklearn.pipeline import make_pipeline\n",
    "from sklearn.preprocessing import MinMaxScaler, OneHotEncoder, OrdinalEncoder, RobustScaler\n",
    "from sklearn.svm import SVR, SVC\n",
    "from sklearn.tree import DecisionTreeRegressor, DecisionTreeClassifier\n",
    "from sklearn.cluster import KMeans"
   ]
  },
  {
   "cell_type": "code",
   "execution_count": 204,
   "id": "1f5d743e-55ce-4ce1-8e13-96ac6f33f3ff",
   "metadata": {},
   "outputs": [],
   "source": [
    "users_df = pd.read_csv('../raw_data/users.csv')\n",
    "centers_df = pd.read_csv('../raw_data/distribution_centers.csv')\n",
    "events_df = pd.read_csv('../raw_data/events.csv')\n",
    "inventory_items_df = pd.read_csv('../raw_data/inventory_items.csv')\n",
    "order_items_df = pd.read_csv('../raw_data/order_items.csv')\n",
    "orders_df = pd.read_csv('../raw_data/orders.csv')\n",
    "products_df = pd.read_csv('../raw_data/products.csv')"
   ]
  },
  {
   "cell_type": "markdown",
   "id": "d20c277e-102e-4089-bb16-5d5cd45af638",
   "metadata": {},
   "source": [
    "## basic join"
   ]
  },
  {
   "cell_type": "code",
   "execution_count": 3,
   "id": "89ccd034-1705-42ce-af20-87d4f25d108b",
   "metadata": {},
   "outputs": [],
   "source": [
    "def join_tables_item_level(order_items_df, products_df):\n",
    "    '''\n",
    "    Joins order-item & product\n",
    "    '''\n",
    "    order_items_df = order_items_df[['id', \n",
    "                                     'order_id', \n",
    "                                     'user_id', \n",
    "                                     'product_id', \n",
    "                                     'inventory_item_id',\n",
    "                                     'status', \n",
    "                                     'created_at', \n",
    "                                     # 'shipped_at', \n",
    "                                     # 'delivered_at', \n",
    "                                     # 'returned_at',\n",
    "                                     'sale_price']].rename(columns={'id':'order_item_id','status':'order_status'})    \n",
    "\n",
    "    order_items_df['created_at'] = pd.to_datetime(order_items_df['created_at'],\n",
    "                                                       format='mixed').dt.tz_localize(None)\n",
    "    products_df = products_df[['id', \n",
    "                               'cost', \n",
    "                               'category', \n",
    "                               'name',\n",
    "                               'brand',\n",
    "                               'retail_price', \n",
    "                               'department',\n",
    "                               # 'sku',\n",
    "                               'distribution_center_id']]\n",
    "\n",
    "    \n",
    "    df_joined = order_items_df.merge(products_df, left_on='product_id', right_on='id', how='left')\n",
    "    df_joined = df_joined.drop(columns=['id']) # duplicate product id    \n",
    "\n",
    "    return df_joined"
   ]
  },
  {
   "cell_type": "markdown",
   "id": "60a113b4-aa83-4cc8-ac62-a80e1df7db9c",
   "metadata": {},
   "source": [
    "## Data Exploration"
   ]
  },
  {
   "cell_type": "code",
   "execution_count": null,
   "id": "8eae87ad-ad1f-4264-a42a-4cf25bc9a15a",
   "metadata": {},
   "outputs": [],
   "source": [
    "# Check users\n",
    "users_df_test = users_df.copy()\n",
    "users_df_test['created_at'] = pd.to_datetime(users_df_test['created_at'],format='mixed').dt.tz_localize(None)\n",
    "users_df_test.hist('created_at')"
   ]
  },
  {
   "cell_type": "code",
   "execution_count": null,
   "id": "9de5a64f-e5ce-4832-a159-692413aa233f",
   "metadata": {},
   "outputs": [],
   "source": [
    "# Check order trend\n",
    "orders_test = orders_df.copy()\n",
    "orders_test['created_at'] = pd.to_datetime(orders_test['created_at'],format='mixed').dt.tz_localize(None)\n",
    "orders_test.hist('created_at')"
   ]
  },
  {
   "cell_type": "code",
   "execution_count": null,
   "id": "6d99fff7-5219-445a-bd23-dcd8d9b55c46",
   "metadata": {},
   "outputs": [],
   "source": [
    "orders_cnt = orders_test.groupby(by='user_id')['order_id'].count().reset_index(name='orders')\n",
    "\n",
    "orders_cnt['orders'].hist()\n",
    "\n",
    "# Most of users only buy once"
   ]
  },
  {
   "cell_type": "code",
   "execution_count": null,
   "id": "5de5c94b-d668-47e7-9b83-4e25391a69af",
   "metadata": {},
   "outputs": [],
   "source": [
    "users_test = orders_df.copy()\n",
    "users_test['created_at'] = pd.to_datetime(users_test['created_at'],format='mixed').dt.tz_localize(None)"
   ]
  },
  {
   "cell_type": "code",
   "execution_count": null,
   "id": "a2a27d5e-ee95-4ade-a494-86b2bd7360f7",
   "metadata": {},
   "outputs": [],
   "source": [
    "users_test['year'] = users_test.created_at.dt.year"
   ]
  },
  {
   "cell_type": "markdown",
   "id": "515a1961-1168-46fb-9925-b1115c748955",
   "metadata": {},
   "source": [
    "#### ? Users sign up early and buy later somehow"
   ]
  },
  {
   "cell_type": "code",
   "execution_count": null,
   "id": "9e7fd5b5-cd5b-4da8-a624-cb38ba390799",
   "metadata": {},
   "outputs": [],
   "source": [
    "orders_w_user = orders_test.merge(users_test[['user_id','created_at']].rename(columns={'created_at':'user_created_at'}), on='user_id')"
   ]
  },
  {
   "cell_type": "code",
   "execution_count": null,
   "id": "5b883a46-ffdc-479d-8b46-84313f765f27",
   "metadata": {},
   "outputs": [],
   "source": [
    "orders_w_user['months_from_signup'] = (orders_w_user.created_at-orders_w_user.user_created_at).dt.days/30"
   ]
  },
  {
   "cell_type": "code",
   "execution_count": null,
   "id": "8845fef8-00c4-4ed0-a9cc-e543140ac0d5",
   "metadata": {},
   "outputs": [],
   "source": [
    "orders_w_user.months_from_signup.hist()\n",
    "\n",
    "# user_created_at is wrong"
   ]
  },
  {
   "cell_type": "code",
   "execution_count": null,
   "id": "cbe5e793-1df5-4b59-bd72-a36c5998002b",
   "metadata": {},
   "outputs": [],
   "source": [
    "orders_df.columns"
   ]
  },
  {
   "cell_type": "markdown",
   "id": "28d3dab9-d361-4e48-b789-519656d14963",
   "metadata": {},
   "source": [
    "#### ? Is there brands working bad in terms of return rate?"
   ]
  },
  {
   "cell_type": "code",
   "execution_count": null,
   "id": "b20f0f7b-cbc8-426a-8e11-086f7bb47796",
   "metadata": {},
   "outputs": [],
   "source": [
    "item_product_df = join_tables_item_level(order_items_df, products_df)"
   ]
  },
  {
   "cell_type": "code",
   "execution_count": null,
   "id": "8c3fd8de-49c8-451c-b763-bbe23500634a",
   "metadata": {},
   "outputs": [],
   "source": [
    "item_product_df['num_returns'] = item_product_df."
   ]
  },
  {
   "cell_type": "code",
   "execution_count": null,
   "id": "981b258a-f57b-48a2-a069-b1e4744b9fdb",
   "metadata": {},
   "outputs": [],
   "source": [
    "item_product_df.groupby(by=['brand','order_status'])['order_id'].nunique().reset_index()"
   ]
  },
  {
   "cell_type": "code",
   "execution_count": null,
   "id": "712a723a-3507-48f3-9199-12d1b02591fc",
   "metadata": {},
   "outputs": [],
   "source": []
  },
  {
   "cell_type": "code",
   "execution_count": null,
   "id": "ec454ae8-707d-4b05-bf37-45e2a3385be7",
   "metadata": {},
   "outputs": [],
   "source": []
  },
  {
   "cell_type": "code",
   "execution_count": null,
   "id": "46813663-b2c6-4f01-b9a7-5037480895f0",
   "metadata": {},
   "outputs": [],
   "source": []
  },
  {
   "cell_type": "markdown",
   "id": "accc52de-62a0-4ee2-bfc8-785e07228f60",
   "metadata": {},
   "source": [
    "## Data Prep"
   ]
  },
  {
   "cell_type": "code",
   "execution_count": null,
   "id": "d01603c6-3638-440b-bdd9-a01ca7380945",
   "metadata": {},
   "outputs": [],
   "source": [
    "orders_test_df = orders_df.copy()\n",
    "\n",
    "# datetime format cast\n",
    "dt_columns = [ 'created_at', 'returned_at', 'shipped_at', 'delivered_at']\n",
    "\n",
    "for column in dt_columns:\n",
    "    orders_test_df[column] = pd.to_datetime(orders_test_df[column],format='mixed').dt.tz_localize(None)\n",
    "\n",
    "# First order only\n",
    "orders_test_df['order_rank'] = orders_test_df.groupby('user_id')['created_at'].rank(method='first').astype(int)\n",
    "orders_df_first = orders_test_df[orders_test_df.order_rank == 1].copy()"
   ]
  },
  {
   "cell_type": "code",
   "execution_count": null,
   "id": "b2bf1fe2-c33b-4385-9b82-e39787e35e93",
   "metadata": {},
   "outputs": [],
   "source": [
    "orders_df_first.groupby(by='user_id')['order_id'].count().value_counts()"
   ]
  },
  {
   "cell_type": "code",
   "execution_count": null,
   "id": "99b0406a-d7eb-4901-a799-8af8c0568c76",
   "metadata": {},
   "outputs": [],
   "source": [
    "orders_df_first.groupby(by='user_id')['order_id'].count().value_counts()"
   ]
  },
  {
   "cell_type": "code",
   "execution_count": null,
   "id": "7adf3818-2a7f-4ff9-a732-4115d8df3490",
   "metadata": {},
   "outputs": [],
   "source": [
    "orders_df.status.value_counts()"
   ]
  },
  {
   "cell_type": "code",
   "execution_count": 142,
   "id": "7faddd1c-4281-4502-a6d1-e778d7e98645",
   "metadata": {},
   "outputs": [],
   "source": [
    "def dtype_cast_datetime(orders_df):    \n",
    "    # datetime format cast\n",
    "    dt_columns = [ 'created_at', 'returned_at', 'shipped_at', 'delivered_at']\n",
    "\n",
    "    for column in dt_columns:\n",
    "        orders_df[column] = pd.to_datetime(orders_df[column],format='mixed').dt.tz_localize(None)\n",
    "\n",
    "    return orders_df\n"
   ]
  },
  {
   "cell_type": "code",
   "execution_count": 152,
   "id": "a02968ed-b5bb-4ce4-9614-359154be3a2b",
   "metadata": {},
   "outputs": [],
   "source": [
    "test = dtype_cast_datetime(orders_df).copy()"
   ]
  },
  {
   "cell_type": "code",
   "execution_count": 195,
   "id": "c13b43df-84bb-4089-ac1c-6e514a2eb75e",
   "metadata": {},
   "outputs": [],
   "source": [
    "def restructure_orders_prev_next(df):\n",
    "    '''\n",
    "    ---\n",
    "    '''\n",
    "\n",
    "    orders_df = dtype_cast_datetime(df).copy()\n",
    "\n",
    "    # Calc delivery day\n",
    "    orders_df['delivery_days'] = (orders_df['delivered_at'] - orders_df['created_at']).dt.days\n",
    "    # Calc shipped day\n",
    "    orders_df['delivery_days'] = (orders_df['shipped_at'] - orders_df['created_at']).dt.days\n",
    "\n",
    "    # weekday\n",
    "    orders_df['weekday_ordered'] = orders_df['created_at'].dt.dayofweek\n",
    "    orders_df['weekday_delivered'] = orders_df['delivered_at'].dt.dayofweek\n",
    "\n",
    "    # counts other status\n",
    "    orders_df['returned?'] = orders_df['returned_at'].apply(lambda x : 1 if pd.notna(x) else 0)\n",
    "    orders_df['shipped?'] = orders_df['shipped_at'].apply(lambda x : 1 if pd.notna(x) else 0)\n",
    "    orders_df['delivered?'] = orders_df['delivered_at'].apply(lambda x : 1 if pd.notna(x) else 0)\n",
    "\n",
    "    orders_df['return_cumsum'] = orders_df.groupby(by='user_id')['returned?'].cumsum()\n",
    "    orders_df['ship_cumsum'] = orders_df.groupby(by='user_id')['shipped?'].cumsum()\n",
    "    orders_df['deliver_cumsum'] = orders_df.groupby(by='user_id')['delivered?'].cumsum()\n",
    "    \n",
    "    # User-level T\n",
    "    orders_df['min_order_created_at'] = orders_df.groupby(by='user_id')['created_at'].transform('min')\n",
    "    orders_df['min_order_delivered_at'] = orders_df.groupby(by='user_id')['delivered_at'].transform('min')\n",
    "\n",
    "    orders_df['customer_T'] = (orders_df['created_at']-orders_df['min_order_created_at']).dt.days\n",
    "    orders_df['days_from_first_delivery'] = (orders_df['created_at']-orders_df['min_order_delivered_at']).dt.days\n",
    "    \n",
    "    # Total items\n",
    "    orders_df['items_until_now'] = orders_df.groupby(by='user_id')['num_of_item'].cumsum()\n",
    "\n",
    "    \n",
    "    # order ranks\n",
    "    orders_df['order_rank'] = orders_df.groupby('user_id')['created_at'].rank(method='first').astype(int)\n",
    "\n",
    "    # Next orders\n",
    "    orders_next = orders_df.copy()\n",
    "    orders_next['order_rank_prev'] = orders_next['order_rank']-1\n",
    "    orders_next = orders_next[['user_id','order_id','order_rank_prev']].rename(columns={'order_id':'next_order_id'})\n",
    "    \n",
    "    orders_prev_next = orders_df.merge(orders_next, left_on=['user_id','order_rank'], right_on=['user_id','order_rank_prev'], how='left')\n",
    "\n",
    "    orders_prev_next['next_order?'] = orders_prev_next['next_order_id'].notna()\n",
    "\n",
    "    return orders_prev_next.drop(columns='order_rank_prev')"
   ]
  },
  {
   "cell_type": "code",
   "execution_count": 196,
   "id": "3bc8cfd9-4c10-4715-8565-1df9c20a09c6",
   "metadata": {},
   "outputs": [],
   "source": [
    "test = restructure_orders_prev_next(orders_df)"
   ]
  },
  {
   "cell_type": "code",
   "execution_count": 200,
   "id": "e976985e-6bb2-4db3-a92d-3412a5de82b2",
   "metadata": {
    "scrolled": true
   },
   "outputs": [
    {
     "data": {
      "text/html": [
       "<div>\n",
       "<style scoped>\n",
       "    .dataframe tbody tr th:only-of-type {\n",
       "        vertical-align: middle;\n",
       "    }\n",
       "\n",
       "    .dataframe tbody tr th {\n",
       "        vertical-align: top;\n",
       "    }\n",
       "\n",
       "    .dataframe thead th {\n",
       "        text-align: right;\n",
       "    }\n",
       "</style>\n",
       "<table border=\"1\" class=\"dataframe\">\n",
       "  <thead>\n",
       "    <tr style=\"text-align: right;\">\n",
       "      <th></th>\n",
       "      <th>order_id</th>\n",
       "      <th>user_id</th>\n",
       "      <th>created_at</th>\n",
       "      <th>order_rank</th>\n",
       "      <th>min_order_created_at</th>\n",
       "      <th>return_cumsum</th>\n",
       "    </tr>\n",
       "  </thead>\n",
       "  <tbody>\n",
       "    <tr>\n",
       "      <th>1</th>\n",
       "      <td>60</td>\n",
       "      <td>44</td>\n",
       "      <td>2023-01-20 02:12:00</td>\n",
       "      <td>1</td>\n",
       "      <td>2023-01-20 02:12:00</td>\n",
       "      <td>0</td>\n",
       "    </tr>\n",
       "    <tr>\n",
       "      <th>9304</th>\n",
       "      <td>59</td>\n",
       "      <td>44</td>\n",
       "      <td>2023-09-11 02:12:00</td>\n",
       "      <td>2</td>\n",
       "      <td>2023-01-20 02:12:00</td>\n",
       "      <td>0</td>\n",
       "    </tr>\n",
       "    <tr>\n",
       "      <th>87752</th>\n",
       "      <td>125211</td>\n",
       "      <td>99983</td>\n",
       "      <td>2023-08-25 15:06:00</td>\n",
       "      <td>4</td>\n",
       "      <td>2022-03-14 15:06:00</td>\n",
       "      <td>0</td>\n",
       "    </tr>\n",
       "    <tr>\n",
       "      <th>100258</th>\n",
       "      <td>125209</td>\n",
       "      <td>99983</td>\n",
       "      <td>2022-09-07 15:06:00</td>\n",
       "      <td>2</td>\n",
       "      <td>2022-03-14 15:06:00</td>\n",
       "      <td>0</td>\n",
       "    </tr>\n",
       "    <tr>\n",
       "      <th>125223</th>\n",
       "      <td>125208</td>\n",
       "      <td>99983</td>\n",
       "      <td>2022-03-14 15:06:00</td>\n",
       "      <td>1</td>\n",
       "      <td>2022-03-14 15:06:00</td>\n",
       "      <td>0</td>\n",
       "    </tr>\n",
       "    <tr>\n",
       "      <th>125224</th>\n",
       "      <td>125210</td>\n",
       "      <td>99983</td>\n",
       "      <td>2023-03-01 15:06:00</td>\n",
       "      <td>3</td>\n",
       "      <td>2022-03-14 15:06:00</td>\n",
       "      <td>0</td>\n",
       "    </tr>\n",
       "  </tbody>\n",
       "</table>\n",
       "</div>"
      ],
      "text/plain": [
       "        order_id  user_id          created_at  order_rank  \\\n",
       "1             60       44 2023-01-20 02:12:00           1   \n",
       "9304          59       44 2023-09-11 02:12:00           2   \n",
       "87752     125211    99983 2023-08-25 15:06:00           4   \n",
       "100258    125209    99983 2022-09-07 15:06:00           2   \n",
       "125223    125208    99983 2022-03-14 15:06:00           1   \n",
       "125224    125210    99983 2023-03-01 15:06:00           3   \n",
       "\n",
       "       min_order_created_at  return_cumsum  \n",
       "1       2023-01-20 02:12:00              0  \n",
       "9304    2023-01-20 02:12:00              0  \n",
       "87752   2022-03-14 15:06:00              0  \n",
       "100258  2022-03-14 15:06:00              0  \n",
       "125223  2022-03-14 15:06:00              0  \n",
       "125224  2022-03-14 15:06:00              0  "
      ]
     },
     "execution_count": 200,
     "metadata": {},
     "output_type": "execute_result"
    }
   ],
   "source": [
    "test[test['user_id'].isin([99983,44])][['order_id','user_id','created_at','order_rank','min_order_created_at','return_cumsum']]"
   ]
  },
  {
   "cell_type": "markdown",
   "id": "42eaefb4-f4fd-4cd9-bd14-3b0d7843af8f",
   "metadata": {},
   "source": [
    "### distance to products"
   ]
  },
  {
   "cell_type": "code",
   "execution_count": 202,
   "id": "34babe15-77ae-43bb-82da-25a7b408a342",
   "metadata": {},
   "outputs": [],
   "source": [
    "def haversine(lat1, lon1, lat2, lon2):\n",
    "    \"\"\"\n",
    "    Calculate the great circle distance between two points\n",
    "    on the Earth's surface given their latitude and longitude\n",
    "    in decimal degrees.\n",
    "    \"\"\"\n",
    "    # Convert decimal degrees to radians\n",
    "    lat1, lon1, lat2, lon2 = map(math.radians, [lat1, lon1, lat2, lon2])\n",
    "\n",
    "    # Haversine formula\n",
    "    dlon = lon2 - lon1\n",
    "    dlat = lat2 - lat1\n",
    "    a = math.sin(dlat/2)**2 + math.cos(lat1) * math.cos(lat2) * math.sin(dlon/2)**2\n",
    "    c = 2 * math.asin(math.sqrt(a))\n",
    "    r = 6371  # Radius of Earth in kilometers. Use 3956 for miles\n",
    "    return c * r"
   ]
  },
  {
   "cell_type": "code",
   "execution_count": 224,
   "id": "54b907c5-5f1f-4bc5-9ba7-16646f32ca5a",
   "metadata": {},
   "outputs": [],
   "source": [
    "def calc_distance(products_df, centers_df, users_df, order_items_df):\n",
    "    prod_center_df = products_df[['id','distribution_center_id']].merge(centers_df[['id','latitude','longitude']], \n",
    "                                                                        left_on='distribution_center_id', \n",
    "                                                                        right_on='id', how='left')\\\n",
    "                                                                .rename(\n",
    "                                                                    columns={'id_x':'product_id',\n",
    "                                                                             'latitude':'prod_lat',\n",
    "                                                                             'longitude':'prod_lon'}).drop(columns='id_y')\n",
    "    \n",
    "    \n",
    "    order_user_df = order_items_df[['order_id','user_id','product_id']].merge(users_df[['id','latitude','longitude']]\n",
    "                                                                              , left_on= 'product_id', right_on = 'id', how='left')\\\n",
    "                                                                              .drop(columns='id') \\\n",
    "                                                                              .rename(columns={\n",
    "                                                                                  'latitude':'user_lat',\n",
    "                                                                                  'longitude':'user_lon'\n",
    "                                                                              })\n",
    "    \n",
    "    distance_df = order_user_df.merge(prod_center_df, on='product_id', how='left')\n",
    "\n",
    "    # Assuming df has columns 'lat1', 'lon1', 'lat2', 'lon2'\n",
    "    distance_df['distance'] = distance_df.apply(lambda row: haversine(row['prod_lat'], row['prod_lon'], row['user_lat'], row['user_lon']), axis=1)\n",
    "\n",
    "    result = distance_df.groupby(by='order_id')['distance'].mean().reset_index(name='avg_distance')\n",
    "\n",
    "    return result\n",
    "\n"
   ]
  },
  {
   "cell_type": "code",
   "execution_count": 225,
   "id": "e7434d87-ff1f-495e-9fe7-479e8db374d6",
   "metadata": {},
   "outputs": [
    {
     "data": {
      "text/html": [
       "<div>\n",
       "<style scoped>\n",
       "    .dataframe tbody tr th:only-of-type {\n",
       "        vertical-align: middle;\n",
       "    }\n",
       "\n",
       "    .dataframe tbody tr th {\n",
       "        vertical-align: top;\n",
       "    }\n",
       "\n",
       "    .dataframe thead th {\n",
       "        text-align: right;\n",
       "    }\n",
       "</style>\n",
       "<table border=\"1\" class=\"dataframe\">\n",
       "  <thead>\n",
       "    <tr style=\"text-align: right;\">\n",
       "      <th></th>\n",
       "      <th>order_id</th>\n",
       "      <th>avg_distance</th>\n",
       "    </tr>\n",
       "  </thead>\n",
       "  <tbody>\n",
       "    <tr>\n",
       "      <th>0</th>\n",
       "      <td>1</td>\n",
       "      <td>12169.291372</td>\n",
       "    </tr>\n",
       "    <tr>\n",
       "      <th>1</th>\n",
       "      <td>2</td>\n",
       "      <td>10981.424735</td>\n",
       "    </tr>\n",
       "    <tr>\n",
       "      <th>2</th>\n",
       "      <td>3</td>\n",
       "      <td>7551.181495</td>\n",
       "    </tr>\n",
       "    <tr>\n",
       "      <th>3</th>\n",
       "      <td>4</td>\n",
       "      <td>9183.548783</td>\n",
       "    </tr>\n",
       "    <tr>\n",
       "      <th>4</th>\n",
       "      <td>5</td>\n",
       "      <td>6668.954200</td>\n",
       "    </tr>\n",
       "    <tr>\n",
       "      <th>...</th>\n",
       "      <td>...</td>\n",
       "      <td>...</td>\n",
       "    </tr>\n",
       "    <tr>\n",
       "      <th>125221</th>\n",
       "      <td>125222</td>\n",
       "      <td>12457.922574</td>\n",
       "    </tr>\n",
       "    <tr>\n",
       "      <th>125222</th>\n",
       "      <td>125223</td>\n",
       "      <td>6889.798937</td>\n",
       "    </tr>\n",
       "    <tr>\n",
       "      <th>125223</th>\n",
       "      <td>125224</td>\n",
       "      <td>9422.287851</td>\n",
       "    </tr>\n",
       "    <tr>\n",
       "      <th>125224</th>\n",
       "      <td>125225</td>\n",
       "      <td>7259.330858</td>\n",
       "    </tr>\n",
       "    <tr>\n",
       "      <th>125225</th>\n",
       "      <td>125226</td>\n",
       "      <td>12200.595182</td>\n",
       "    </tr>\n",
       "  </tbody>\n",
       "</table>\n",
       "<p>125226 rows × 2 columns</p>\n",
       "</div>"
      ],
      "text/plain": [
       "        order_id  avg_distance\n",
       "0              1  12169.291372\n",
       "1              2  10981.424735\n",
       "2              3   7551.181495\n",
       "3              4   9183.548783\n",
       "4              5   6668.954200\n",
       "...          ...           ...\n",
       "125221    125222  12457.922574\n",
       "125222    125223   6889.798937\n",
       "125223    125224   9422.287851\n",
       "125224    125225   7259.330858\n",
       "125225    125226  12200.595182\n",
       "\n",
       "[125226 rows x 2 columns]"
      ]
     },
     "execution_count": 225,
     "metadata": {},
     "output_type": "execute_result"
    }
   ],
   "source": [
    "calc_distance(products_df, centers_df, users_df, order_items_df)"
   ]
  },
  {
   "cell_type": "markdown",
   "id": "4372996f-68bd-48c8-a898-c40840410ba2",
   "metadata": {},
   "source": [
    "## Join item level dataframe into one"
   ]
  },
  {
   "cell_type": "code",
   "execution_count": 226,
   "id": "9155dfa0-a754-41a7-a04d-7915c5b48df3",
   "metadata": {},
   "outputs": [],
   "source": [
    "def join_tables_item_level(order_items_df, products_df):\n",
    "    '''\n",
    "    Joins order-item & product\n",
    "    '''\n",
    "    order_items_df = order_items_df[['id', \n",
    "                                     'order_id', \n",
    "                                     'user_id', \n",
    "                                     'product_id', \n",
    "                                     'inventory_item_id',\n",
    "                                     # 'status', \n",
    "                                     'created_at', \n",
    "                                     # 'shipped_at', \n",
    "                                     # 'delivered_at', \n",
    "                                     # 'returned_at',\n",
    "                                     'sale_price']].rename(columns={'id':'order_item_id'})\n",
    "\n",
    "    \n",
    "\n",
    "    order_items_df['created_at'] = pd.to_datetime(order_items_df['created_at'],\n",
    "                                                       format='mixed').dt.tz_localize(None)\n",
    "    products_df = products_df[['id', \n",
    "                               'cost', \n",
    "                               'category', \n",
    "                               'name',\n",
    "                               'brand',\n",
    "                               'retail_price', \n",
    "                               'department',\n",
    "                               # 'sku',\n",
    "                               'distribution_center_id']]\n",
    "\n",
    "    \n",
    "    df_joined = order_items_df.merge(products_df, left_on='product_id', right_on='id', how='left')\n",
    "    df_joined = df_joined.drop(columns=['id']) # duplicate product id    \n",
    "\n",
    "    return df_joined"
   ]
  },
  {
   "cell_type": "markdown",
   "id": "64d22038-987e-40b4-b5da-5e4efc598521",
   "metadata": {},
   "source": [
    "## - Joined Dataframe Aggregation\n",
    "### -- Calculates preffered brand and category"
   ]
  },
  {
   "cell_type": "code",
   "execution_count": 227,
   "id": "c92e3444-5966-49f9-80e6-63ff8bb127d9",
   "metadata": {},
   "outputs": [],
   "source": [
    "def product_info(item_level_df):\n",
    "    '''\n",
    "    takes item-level dataframe and calculate features to user level.\n",
    "    '''\n",
    "\n",
    "    base = item_level_df[['order_id','order_item_id']].groupby('order_id').count().fillna(0).rename(columns={'order_item_id':'num_order_item'}).reset_index()\n",
    "\n",
    "    # order revenue\n",
    "    revenue = item_level_df.groupby(by='order_id')['sale_price'].sum().reset_index(name='sale_price')\n",
    "    base = base.merge(revenue, on='order_id', how='left') \n",
    "    \n",
    "    # order retail_price\n",
    "    revenue = item_level_df.groupby(by='order_id')['retail_price'].sum().reset_index(name='retail_price')\n",
    "    base = base.merge(revenue, on='order_id', how='left') \n",
    "    \n",
    "    \n",
    "    # Most frequent category\n",
    "    count_cat = item_level_df.groupby(['order_id', 'category']).size().reset_index(name='count')\n",
    "    # Find the index of the row with the maximum count for each user\n",
    "    max_count_index = count_cat.groupby('order_id')['count'].idxmax()\n",
    "    # Extract the rows corresponding to the maximum counts\n",
    "    preferred_categories = count_cat.loc[max_count_index]\n",
    "    # remove duplicates\n",
    "    pref_cat_no_duplicates = preferred_categories.drop_duplicates(subset=['order_id']).rename(columns={'category':'category_preffered'})\n",
    "\n",
    "    base = base.merge(pref_cat_no_duplicates[['order_id','category_preffered']],on='order_id',how='left')            \n",
    "\n",
    "\n",
    "    # Department\n",
    "    # Most frequent category\n",
    "    count_dept = item_level_df.groupby(['order_id', 'department']).size().reset_index(name='count')\n",
    "    # Find the index of the row with the maximum count for each user\n",
    "    max_count_index_dept = count_dept.groupby('order_id')['count'].idxmax()\n",
    "    # Extract the rows corresponding to the maximum counts\n",
    "    preferred_dept = count_dept.loc[max_count_index_dept]\n",
    "    # remove duplicates\n",
    "    pref_dept_no_duplicates = preferred_dept.drop_duplicates(subset=['order_id']).rename(columns={'department':'dept_pref'})\n",
    "\n",
    "    base = base.merge(pref_dept_no_duplicates[['order_id','dept_pref']],on='order_id',how='left')    \n",
    "    \n",
    "    return base"
   ]
  },
  {
   "cell_type": "markdown",
   "id": "74b318f3-00b9-4de3-a05d-ebb5aba9400f",
   "metadata": {},
   "source": [
    "## User dataset"
   ]
  },
  {
   "cell_type": "code",
   "execution_count": null,
   "id": "74490b96-5793-4645-ae0a-7d74e65d9990",
   "metadata": {},
   "outputs": [],
   "source": [
    "# users_df.groupby('age')['id'].nunique()"
   ]
  },
  {
   "cell_type": "code",
   "execution_count": 228,
   "id": "e204014d-5a76-4b04-ae53-18e054cbcf3a",
   "metadata": {},
   "outputs": [],
   "source": [
    "def select_user_columns(users_df):\n",
    "\n",
    "    df = users_df[['id','age','country','created_at','traffic_source']].rename(columns={'id':'user_id','created_at':'user_created_at'})\n",
    "    # Filter users only for last 2 years from split date\n",
    "    # min_date = split_date - pd.DateOffset(days=365*5)\n",
    "\n",
    "    def assign_age_group(age):\n",
    "        if age <= 15:\n",
    "            return '00_15'\n",
    "        elif age <= 25:\n",
    "            return '16_25'\n",
    "        elif age <= 35:\n",
    "            return '26_35'\n",
    "        elif age <= 45:\n",
    "            return '36_45'\n",
    "        elif age <= 55:\n",
    "            return '46_55'\n",
    "        else:\n",
    "            return '56_99'\n",
    "\n",
    "    df['age_group'] = df['age'].apply(assign_age_group)\n",
    "    \n",
    "    return df"
   ]
  },
  {
   "cell_type": "markdown",
   "id": "2f83f1c1-2bf8-4cc2-9c7f-cb80bde52eb8",
   "metadata": {},
   "source": [
    "## Event Dataset"
   ]
  },
  {
   "cell_type": "code",
   "execution_count": null,
   "id": "0a056afe-cae6-4c0f-8bd8-0df98c8e8f83",
   "metadata": {},
   "outputs": [],
   "source": [
    "events_df.event_type.value_counts()"
   ]
  },
  {
   "cell_type": "code",
   "execution_count": 229,
   "id": "db483007-6f56-4942-8cc3-7c8ce3ecee34",
   "metadata": {},
   "outputs": [],
   "source": [
    "def event_dataset(events_df):\n",
    "    '''\n",
    "    Returns most used browser per user_id\n",
    "    '''\n",
    "    \n",
    "    events_df = events_df[events_df['user_id'].notna()].copy()\n",
    "    events_df['created_at'] = pd.to_datetime(events_df['created_at'], format='mixed').dt.tz_localize(None)\n",
    "    \n",
    "    # Preffered browser\n",
    "    count_browser = events_df.groupby(['user_id', 'browser']).size().reset_index(name='count')\n",
    "    max_count_index = count_browser.groupby('user_id')['count'].idxmax()\n",
    "    preferred_browser = count_browser.loc[max_count_index]\n",
    "    pref_brsr_no_duplicates = preferred_browser.drop_duplicates(subset=['user_id']).rename(columns={'browser':'browser_pref'})\n",
    "    base = pref_brsr_no_duplicates[['user_id','browser_pref']]\n",
    "\n",
    "    return base"
   ]
  },
  {
   "cell_type": "code",
   "execution_count": 231,
   "id": "fc387644-cb5a-435c-96c7-3cbbed7446f6",
   "metadata": {},
   "outputs": [],
   "source": [
    "item_level_df = join_tables_item_level(order_items_df, products_df)"
   ]
  },
  {
   "cell_type": "code",
   "execution_count": 234,
   "id": "9035528a-2137-426d-9199-14be277c35aa",
   "metadata": {},
   "outputs": [],
   "source": [
    "df_user = select_user_columns(users_df)\n",
    "df_order = restructure_orders_prev_next(orders_df)\n",
    "df_item = product_info(item_level_df)\n",
    "df_event = event_dataset(events_df)\n",
    "df_distance = calc_distance(products_df, centers_df, users_df, order_items_df)"
   ]
  },
  {
   "cell_type": "markdown",
   "id": "a8b431d4-24b1-4e92-a7a9-7ea483107130",
   "metadata": {},
   "source": [
    "## Testing to create user-event dataset"
   ]
  },
  {
   "cell_type": "code",
   "execution_count": null,
   "id": "94fc4e08-3821-4078-ab33-83944066c454",
   "metadata": {},
   "outputs": [],
   "source": [
    "order_event_jd = orders_df[['order_id', 'created_at']].merge(events_df[[]], on='user_id', how='left')"
   ]
  },
  {
   "cell_type": "code",
   "execution_count": null,
   "id": "efc57496-e392-4da6-854d-ca67ad57b670",
   "metadata": {},
   "outputs": [],
   "source": [
    "order_event_jd.head(10)"
   ]
  },
  {
   "cell_type": "code",
   "execution_count": null,
   "id": "f010a1ad-e1b2-4432-8111-c9ca0883dfa0",
   "metadata": {},
   "outputs": [],
   "source": []
  },
  {
   "cell_type": "markdown",
   "id": "ba349003-c57a-4832-9892-a2c6117000bf",
   "metadata": {
    "jp-MarkdownHeadingCollapsed": true
   },
   "source": [
    "## Checking if there are any duplicates"
   ]
  },
  {
   "cell_type": "code",
   "execution_count": null,
   "id": "684299b1-16cf-48d4-a176-f2ac35c2ceae",
   "metadata": {},
   "outputs": [],
   "source": [
    "df_user.user_id.count(), df_user.user_id.nunique()"
   ]
  },
  {
   "cell_type": "code",
   "execution_count": null,
   "id": "3a08c51a-6d36-45a7-9f84-b02096f81009",
   "metadata": {},
   "outputs": [],
   "source": [
    "df_order.user_id.count(), df_order.user_id.nunique()"
   ]
  },
  {
   "cell_type": "code",
   "execution_count": null,
   "id": "68f478ad-1a3f-425c-bd76-60a8185367a1",
   "metadata": {},
   "outputs": [],
   "source": [
    "df_item.order_id.count(), df_item.order_id.nunique()"
   ]
  },
  {
   "cell_type": "code",
   "execution_count": null,
   "id": "01b2d536-5ec8-4572-b129-4733ef4aca1b",
   "metadata": {},
   "outputs": [],
   "source": [
    "df_event.user_id.count(), df_event.user_id.nunique()"
   ]
  },
  {
   "cell_type": "markdown",
   "id": "cbb19fae-ddd7-4eb1-a666-00e11f4fb02c",
   "metadata": {},
   "source": [
    "## Join all the prepped datasets"
   ]
  },
  {
   "cell_type": "code",
   "execution_count": 235,
   "id": "90fb1a27-dfb0-4d89-8485-dba81d45a6b8",
   "metadata": {},
   "outputs": [],
   "source": [
    "def prep_input_dataset(df_user, df_order, df_item, df_event, df_distance):\n",
    "    '''\n",
    "    joins all preprocessed user-level-df\n",
    "    '''\n",
    "    \n",
    "    final_df = df_order.merge(df_user, on='user_id', how='left')\n",
    "    final_df = final_df.merge(df_item, on='order_id', how='left')\n",
    "    final_df = final_df.merge(df_event, on='user_id', how='left')\n",
    "    final_df = final_df.merge(df_distance, on='order_id', how='left').reset_index()\n",
    "\n",
    "    return final_df\n"
   ]
  },
  {
   "cell_type": "code",
   "execution_count": 236,
   "id": "1b190587-dc0c-4d30-b8ad-0f2ebf1f5d92",
   "metadata": {},
   "outputs": [],
   "source": [
    "input_dataset = prep_input_dataset(df_user, df_order, df_item, df_event, df_distance)"
   ]
  },
  {
   "cell_type": "code",
   "execution_count": 237,
   "id": "07ce6340-4d04-427a-bf54-90e1bdfd06e0",
   "metadata": {},
   "outputs": [
    {
     "data": {
      "text/plain": [
       "Index(['index', 'order_id', 'user_id', 'status', 'gender', 'created_at',\n",
       "       'returned_at', 'shipped_at', 'delivered_at', 'num_of_item',\n",
       "       'delivery_days', 'weekday_ordered', 'weekday_delivered', 'returned?',\n",
       "       'shipped?', 'delivered?', 'return_cumsum', 'ship_cumsum',\n",
       "       'deliver_cumsum', 'min_order_created_at', 'min_order_delivered_at',\n",
       "       'customer_T', 'days_from_first_delivery', 'items_until_now',\n",
       "       'order_rank', 'next_order_id', 'next_order?', 'age', 'country',\n",
       "       'user_created_at', 'traffic_source', 'age_group', 'num_order_item',\n",
       "       'sale_price', 'retail_price', 'category_preffered', 'dept_pref',\n",
       "       'browser_pref', 'avg_distance'],\n",
       "      dtype='object')"
      ]
     },
     "execution_count": 237,
     "metadata": {},
     "output_type": "execute_result"
    }
   ],
   "source": [
    "input_dataset.columns"
   ]
  },
  {
   "cell_type": "code",
   "execution_count": 238,
   "id": "3097dfb5-135e-4cd4-86d7-b01b5cd9ebda",
   "metadata": {},
   "outputs": [
    {
     "data": {
      "text/plain": [
       "next_order?\n",
       "False    80044\n",
       "True     45182\n",
       "Name: count, dtype: int64"
      ]
     },
     "execution_count": 238,
     "metadata": {},
     "output_type": "execute_result"
    }
   ],
   "source": [
    "input_dataset['next_order?'].value_counts()"
   ]
  },
  {
   "cell_type": "code",
   "execution_count": 239,
   "id": "acb6558f-965e-45bb-9afd-4f5e6249d2d3",
   "metadata": {},
   "outputs": [],
   "source": [
    "input_dataset['sale_ratio'] = input_dataset['sale_price']/input_dataset['retail_price']"
   ]
  },
  {
   "cell_type": "code",
   "execution_count": 240,
   "id": "6982ebf4-ddab-424c-a6bd-ec279f86003e",
   "metadata": {},
   "outputs": [
    {
     "data": {
      "text/plain": [
       "Index(['index', 'order_id', 'user_id', 'status', 'gender', 'created_at',\n",
       "       'returned_at', 'shipped_at', 'delivered_at', 'num_of_item',\n",
       "       'delivery_days', 'weekday_ordered', 'weekday_delivered', 'returned?',\n",
       "       'shipped?', 'delivered?', 'return_cumsum', 'ship_cumsum',\n",
       "       'deliver_cumsum', 'min_order_created_at', 'min_order_delivered_at',\n",
       "       'customer_T', 'days_from_first_delivery', 'items_until_now',\n",
       "       'order_rank', 'next_order_id', 'next_order?', 'age', 'country',\n",
       "       'user_created_at', 'traffic_source', 'age_group', 'num_order_item',\n",
       "       'sale_price', 'retail_price', 'category_preffered', 'dept_pref',\n",
       "       'browser_pref', 'avg_distance', 'sale_ratio'],\n",
       "      dtype='object')"
      ]
     },
     "execution_count": 240,
     "metadata": {},
     "output_type": "execute_result"
    }
   ],
   "source": [
    "input_dataset.columns"
   ]
  },
  {
   "cell_type": "code",
   "execution_count": null,
   "id": "aebb894a-e341-42ae-9baa-4e81a0c47c78",
   "metadata": {},
   "outputs": [],
   "source": []
  },
  {
   "cell_type": "markdown",
   "id": "e9cc09e9-1318-4e55-96dd-67c474cd0b8c",
   "metadata": {},
   "source": [
    "## Additional transformation"
   ]
  },
  {
   "cell_type": "code",
   "execution_count": 241,
   "id": "a64e7e00-cabf-4250-9e8b-e709910ea2ec",
   "metadata": {},
   "outputs": [],
   "source": [
    "def month_sold(input_dataset):\n",
    "    \n",
    "    \n",
    "    # Time that the order was placed\n",
    "\n",
    "    ## Month\n",
    "    months_in_a_year = 12\n",
    "\n",
    "    input_dataset['MoSold'] = input_dataset['created_at'].dt.month\n",
    "    input_dataset['sin_MoSold'] = np.sin(2 * np.pi * (input_dataset.MoSold - 1) / months_in_a_year)\n",
    "    input_dataset['cos_MoSold'] = np.cos(2 * np.pi * (input_dataset.MoSold - 1) / months_in_a_year)    \n",
    "    input_dataset.drop(columns=['MoSold'], inplace=True)\n",
    "\n",
    "\n",
    "    ## Year\n",
    "    input_dataset['year'] = input_dataset['created_at'].dt.year\n",
    "\n",
    "    return input_dataset"
   ]
  },
  {
   "cell_type": "code",
   "execution_count": 242,
   "id": "8cf0b586-4161-480e-9fdd-78c4a8899f38",
   "metadata": {},
   "outputs": [],
   "source": [
    "input_dataset= month_sold(input_dataset)"
   ]
  },
  {
   "cell_type": "markdown",
   "id": "70bc25b6-8928-4f54-834a-7f548f2701e3",
   "metadata": {},
   "source": [
    "## Define X, y"
   ]
  },
  {
   "cell_type": "code",
   "execution_count": 245,
   "id": "38fc7d40-85d3-41d2-bc8d-fbd00e715b78",
   "metadata": {
    "scrolled": true
   },
   "outputs": [],
   "source": [
    "# List of columns to drop\n",
    "columns_to_drop = ['index', 'order_id', 'user_id', 'created_at','returned_at', 'shipped_at', 'delivered_at', \n",
    "       'next_order_id', 'user_created_at','next_order?']\n",
    "\n",
    "X = input_dataset.drop(columns=columns_to_drop).copy()\n",
    "y = input_dataset['next_order?'].fillna(0).copy()"
   ]
  },
  {
   "cell_type": "code",
   "execution_count": 246,
   "id": "5410b5ef-0b07-4719-8eba-34f730a51dc7",
   "metadata": {},
   "outputs": [],
   "source": [
    "y_binary = y.apply(lambda x: 1 if x > 0 else 0)"
   ]
  },
  {
   "cell_type": "code",
   "execution_count": 247,
   "id": "6de7e20a-3e5f-4b5d-a1b5-5f250bab217c",
   "metadata": {},
   "outputs": [
    {
     "data": {
      "text/plain": [
       "Index(['status', 'gender', 'num_of_item', 'delivery_days', 'weekday_ordered',\n",
       "       'weekday_delivered', 'returned?', 'shipped?', 'delivered?',\n",
       "       'return_cumsum', 'ship_cumsum', 'deliver_cumsum',\n",
       "       'min_order_created_at', 'min_order_delivered_at', 'customer_T',\n",
       "       'days_from_first_delivery', 'items_until_now', 'order_rank', 'age',\n",
       "       'country', 'traffic_source', 'age_group', 'num_order_item',\n",
       "       'sale_price', 'retail_price', 'category_preffered', 'dept_pref',\n",
       "       'browser_pref', 'avg_distance', 'sale_ratio', 'sin_MoSold',\n",
       "       'cos_MoSold', 'year'],\n",
       "      dtype='object')"
      ]
     },
     "execution_count": 247,
     "metadata": {},
     "output_type": "execute_result"
    }
   ],
   "source": [
    "X.columns"
   ]
  },
  {
   "cell_type": "code",
   "execution_count": 249,
   "id": "dab1988e-8c33-445c-852f-8535dcf05bc9",
   "metadata": {},
   "outputs": [
    {
     "data": {
      "image/png": "[encoded data removed]",
      "text/plain": [
       "<Figure size 600x400 with 2 Axes>"
      ]
     },
     "metadata": {},
     "output_type": "display_data"
    }
   ],
   "source": [
    "feat_numerical = sorted(X.select_dtypes(include=[\"int64\", \"int32\",\"float64\"]).columns)\n",
    "\n",
    "corr_num = X[feat_numerical].corr()\n",
    "\n",
    "plt.figure(figsize=(6, 4))\n",
    "sns.heatmap(corr_num, cmap='coolwarm',vmin=-1, vmax=1);"
   ]
  },
  {
   "cell_type": "code",
   "execution_count": 250,
   "id": "f2ad9b63-a475-442e-b1c2-12fc8ca7e596",
   "metadata": {},
   "outputs": [
    {
     "data": {
      "text/plain": [
       "((125226, 33), (125226,))"
      ]
     },
     "execution_count": 250,
     "metadata": {},
     "output_type": "execute_result"
    }
   ],
   "source": [
    "X.shape, y.shape"
   ]
  },
  {
   "cell_type": "code",
   "execution_count": 251,
   "id": "a59f0c82-961c-4a81-a379-f6509574949e",
   "metadata": {},
   "outputs": [
    {
     "data": {
      "text/plain": [
       "status                 5\n",
       "gender                 2\n",
       "country               16\n",
       "traffic_source         5\n",
       "age_group              6\n",
       "category_preffered    26\n",
       "dept_pref              2\n",
       "browser_pref           5\n",
       "dtype: int64"
      ]
     },
     "execution_count": 251,
     "metadata": {},
     "output_type": "execute_result"
    }
   ],
   "source": [
    "X.select_dtypes(include='object').nunique()"
   ]
  },
  {
   "cell_type": "markdown",
   "id": "e32d351a-e942-42b5-a2f9-3df14f9d714e",
   "metadata": {},
   "source": [
    "## Preprocessor Pipelines"
   ]
  },
  {
   "cell_type": "code",
   "execution_count": 252,
   "id": "afb37d69-0715-41fd-8410-ad286d14f3c5",
   "metadata": {},
   "outputs": [
    {
     "data": {
      "text/html": [
       "<style>#sk-container-id-11 {\n",
       "  /* Definition of color scheme common for light and dark mode */\n",
       "  --sklearn-color-text: black;\n",
       "  --sklearn-color-line: gray;\n",
       "  /* Definition of color scheme for unfitted estimators */\n",
       "  --sklearn-color-unfitted-level-0: #fff5e6;\n",
       "  --sklearn-color-unfitted-level-1: #f6e4d2;\n",
       "  --sklearn-color-unfitted-level-2: #ffe0b3;\n",
       "  --sklearn-color-unfitted-level-3: chocolate;\n",
       "  /* Definition of color scheme for fitted estimators */\n",
       "  --sklearn-color-fitted-level-0: #f0f8ff;\n",
       "  --sklearn-color-fitted-level-1: #d4ebff;\n",
       "  --sklearn-color-fitted-level-2: #b3dbfd;\n",
       "  --sklearn-color-fitted-level-3: cornflowerblue;\n",
       "\n",
       "  /* Specific color for light theme */\n",
       "  --sklearn-color-text-on-default-background: var(--sg-text-color, var(--theme-code-foreground, var(--jp-content-font-color1, black)));\n",
       "  --sklearn-color-background: var(--sg-background-color, var(--theme-background, var(--jp-layout-color0, white)));\n",
       "  --sklearn-color-border-box: var(--sg-text-color, var(--theme-code-foreground, var(--jp-content-font-color1, black)));\n",
       "  --sklearn-color-icon: #696969;\n",
       "\n",
       "  @media (prefers-color-scheme: dark) {\n",
       "    /* Redefinition of color scheme for dark theme */\n",
       "    --sklearn-color-text-on-default-background: var(--sg-text-color, var(--theme-code-foreground, var(--jp-content-font-color1, white)));\n",
       "    --sklearn-color-background: var(--sg-background-color, var(--theme-background, var(--jp-layout-color0, #111)));\n",
       "    --sklearn-color-border-box: var(--sg-text-color, var(--theme-code-foreground, var(--jp-content-font-color1, white)));\n",
       "    --sklearn-color-icon: #878787;\n",
       "  }\n",
       "}\n",
       "\n",
       "#sk-container-id-11 {\n",
       "  color: var(--sklearn-color-text);\n",
       "}\n",
       "\n",
       "#sk-container-id-11 pre {\n",
       "  padding: 0;\n",
       "}\n",
       "\n",
       "#sk-container-id-11 input.sk-hidden--visually {\n",
       "  border: 0;\n",
       "  clip: rect(1px 1px 1px 1px);\n",
       "  clip: rect(1px, 1px, 1px, 1px);\n",
       "  height: 1px;\n",
       "  margin: -1px;\n",
       "  overflow: hidden;\n",
       "  padding: 0;\n",
       "  position: absolute;\n",
       "  width: 1px;\n",
       "}\n",
       "\n",
       "#sk-container-id-11 div.sk-dashed-wrapped {\n",
       "  border: 1px dashed var(--sklearn-color-line);\n",
       "  margin: 0 0.4em 0.5em 0.4em;\n",
       "  box-sizing: border-box;\n",
       "  padding-bottom: 0.4em;\n",
       "  background-color: var(--sklearn-color-background);\n",
       "}\n",
       "\n",
       "#sk-container-id-11 div.sk-container {\n",
       "  /* jupyter's `normalize.less` sets `[hidden] { display: none; }`\n",
       "     but bootstrap.min.css set `[hidden] { display: none !important; }`\n",
       "     so we also need the `!important` here to be able to override the\n",
       "     default hidden behavior on the sphinx rendered scikit-learn.org.\n",
       "     See: https://github.com/scikit-learn/scikit-learn/issues/21755 */\n",
       "  display: inline-block !important;\n",
       "  position: relative;\n",
       "}\n",
       "\n",
       "#sk-container-id-11 div.sk-text-repr-fallback {\n",
       "  display: none;\n",
       "}\n",
       "\n",
       "div.sk-parallel-item,\n",
       "div.sk-serial,\n",
       "div.sk-item {\n",
       "  /* draw centered vertical line to link estimators */\n",
       "  background-image: linear-gradient(var(--sklearn-color-text-on-default-background), var(--sklearn-color-text-on-default-background));\n",
       "  background-size: 2px 100%;\n",
       "  background-repeat: no-repeat;\n",
       "  background-position: center center;\n",
       "}\n",
       "\n",
       "/* Parallel-specific style estimator block */\n",
       "\n",
       "#sk-container-id-11 div.sk-parallel-item::after {\n",
       "  content: \"\";\n",
       "  width: 100%;\n",
       "  border-bottom: 2px solid var(--sklearn-color-text-on-default-background);\n",
       "  flex-grow: 1;\n",
       "}\n",
       "\n",
       "#sk-container-id-11 div.sk-parallel {\n",
       "  display: flex;\n",
       "  align-items: stretch;\n",
       "  justify-content: center;\n",
       "  background-color: var(--sklearn-color-background);\n",
       "  position: relative;\n",
       "}\n",
       "\n",
       "#sk-container-id-11 div.sk-parallel-item {\n",
       "  display: flex;\n",
       "  flex-direction: column;\n",
       "}\n",
       "\n",
       "#sk-container-id-11 div.sk-parallel-item:first-child::after {\n",
       "  align-self: flex-end;\n",
       "  width: 50%;\n",
       "}\n",
       "\n",
       "#sk-container-id-11 div.sk-parallel-item:last-child::after {\n",
       "  align-self: flex-start;\n",
       "  width: 50%;\n",
       "}\n",
       "\n",
       "#sk-container-id-11 div.sk-parallel-item:only-child::after {\n",
       "  width: 0;\n",
       "}\n",
       "\n",
       "/* Serial-specific style estimator block */\n",
       "\n",
       "#sk-container-id-11 div.sk-serial {\n",
       "  display: flex;\n",
       "  flex-direction: column;\n",
       "  align-items: center;\n",
       "  background-color: var(--sklearn-color-background);\n",
       "  padding-right: 1em;\n",
       "  padding-left: 1em;\n",
       "}\n",
       "\n",
       "\n",
       "/* Toggleable style: style used for estimator/Pipeline/ColumnTransformer box that is\n",
       "clickable and can be expanded/collapsed.\n",
       "- Pipeline and ColumnTransformer use this feature and define the default style\n",
       "- Estimators will overwrite some part of the style using the `sk-estimator` class\n",
       "*/\n",
       "\n",
       "/* Pipeline and ColumnTransformer style (default) */\n",
       "\n",
       "#sk-container-id-11 div.sk-toggleable {\n",
       "  /* Default theme specific background. It is overwritten whether we have a\n",
       "  specific estimator or a Pipeline/ColumnTransformer */\n",
       "  background-color: var(--sklearn-color-background);\n",
       "}\n",
       "\n",
       "/* Toggleable label */\n",
       "#sk-container-id-11 label.sk-toggleable__label {\n",
       "  cursor: pointer;\n",
       "  display: block;\n",
       "  width: 100%;\n",
       "  margin-bottom: 0;\n",
       "  padding: 0.5em;\n",
       "  box-sizing: border-box;\n",
       "  text-align: center;\n",
       "}\n",
       "\n",
       "#sk-container-id-11 label.sk-toggleable__label-arrow:before {\n",
       "  /* Arrow on the left of the label */\n",
       "  content: \"▸\";\n",
       "  float: left;\n",
       "  margin-right: 0.25em;\n",
       "  color: var(--sklearn-color-icon);\n",
       "}\n",
       "\n",
       "#sk-container-id-11 label.sk-toggleable__label-arrow:hover:before {\n",
       "  color: var(--sklearn-color-text);\n",
       "}\n",
       "\n",
       "/* Toggleable content - dropdown */\n",
       "\n",
       "#sk-container-id-11 div.sk-toggleable__content {\n",
       "  max-height: 0;\n",
       "  max-width: 0;\n",
       "  overflow: hidden;\n",
       "  text-align: left;\n",
       "  /* unfitted */\n",
       "  background-color: var(--sklearn-color-unfitted-level-0);\n",
       "}\n",
       "\n",
       "#sk-container-id-11 div.sk-toggleable__content.fitted {\n",
       "  /* fitted */\n",
       "  background-color: var(--sklearn-color-fitted-level-0);\n",
       "}\n",
       "\n",
       "#sk-container-id-11 div.sk-toggleable__content pre {\n",
       "  margin: 0.2em;\n",
       "  border-radius: 0.25em;\n",
       "  color: var(--sklearn-color-text);\n",
       "  /* unfitted */\n",
       "  background-color: var(--sklearn-color-unfitted-level-0);\n",
       "}\n",
       "\n",
       "#sk-container-id-11 div.sk-toggleable__content.fitted pre {\n",
       "  /* unfitted */\n",
       "  background-color: var(--sklearn-color-fitted-level-0);\n",
       "}\n",
       "\n",
       "#sk-container-id-11 input.sk-toggleable__control:checked~div.sk-toggleable__content {\n",
       "  /* Expand drop-down */\n",
       "  max-height: 200px;\n",
       "  max-width: 100%;\n",
       "  overflow: auto;\n",
       "}\n",
       "\n",
       "#sk-container-id-11 input.sk-toggleable__control:checked~label.sk-toggleable__label-arrow:before {\n",
       "  content: \"▾\";\n",
       "}\n",
       "\n",
       "/* Pipeline/ColumnTransformer-specific style */\n",
       "\n",
       "#sk-container-id-11 div.sk-label input.sk-toggleable__control:checked~label.sk-toggleable__label {\n",
       "  color: var(--sklearn-color-text);\n",
       "  background-color: var(--sklearn-color-unfitted-level-2);\n",
       "}\n",
       "\n",
       "#sk-container-id-11 div.sk-label.fitted input.sk-toggleable__control:checked~label.sk-toggleable__label {\n",
       "  background-color: var(--sklearn-color-fitted-level-2);\n",
       "}\n",
       "\n",
       "/* Estimator-specific style */\n",
       "\n",
       "/* Colorize estimator box */\n",
       "#sk-container-id-11 div.sk-estimator input.sk-toggleable__control:checked~label.sk-toggleable__label {\n",
       "  /* unfitted */\n",
       "  background-color: var(--sklearn-color-unfitted-level-2);\n",
       "}\n",
       "\n",
       "#sk-container-id-11 div.sk-estimator.fitted input.sk-toggleable__control:checked~label.sk-toggleable__label {\n",
       "  /* fitted */\n",
       "  background-color: var(--sklearn-color-fitted-level-2);\n",
       "}\n",
       "\n",
       "#sk-container-id-11 div.sk-label label.sk-toggleable__label,\n",
       "#sk-container-id-11 div.sk-label label {\n",
       "  /* The background is the default theme color */\n",
       "  color: var(--sklearn-color-text-on-default-background);\n",
       "}\n",
       "\n",
       "/* On hover, darken the color of the background */\n",
       "#sk-container-id-11 div.sk-label:hover label.sk-toggleable__label {\n",
       "  color: var(--sklearn-color-text);\n",
       "  background-color: var(--sklearn-color-unfitted-level-2);\n",
       "}\n",
       "\n",
       "/* Label box, darken color on hover, fitted */\n",
       "#sk-container-id-11 div.sk-label.fitted:hover label.sk-toggleable__label.fitted {\n",
       "  color: var(--sklearn-color-text);\n",
       "  background-color: var(--sklearn-color-fitted-level-2);\n",
       "}\n",
       "\n",
       "/* Estimator label */\n",
       "\n",
       "#sk-container-id-11 div.sk-label label {\n",
       "  font-family: monospace;\n",
       "  font-weight: bold;\n",
       "  display: inline-block;\n",
       "  line-height: 1.2em;\n",
       "}\n",
       "\n",
       "#sk-container-id-11 div.sk-label-container {\n",
       "  text-align: center;\n",
       "}\n",
       "\n",
       "/* Estimator-specific */\n",
       "#sk-container-id-11 div.sk-estimator {\n",
       "  font-family: monospace;\n",
       "  border: 1px dotted var(--sklearn-color-border-box);\n",
       "  border-radius: 0.25em;\n",
       "  box-sizing: border-box;\n",
       "  margin-bottom: 0.5em;\n",
       "  /* unfitted */\n",
       "  background-color: var(--sklearn-color-unfitted-level-0);\n",
       "}\n",
       "\n",
       "#sk-container-id-11 div.sk-estimator.fitted {\n",
       "  /* fitted */\n",
       "  background-color: var(--sklearn-color-fitted-level-0);\n",
       "}\n",
       "\n",
       "/* on hover */\n",
       "#sk-container-id-11 div.sk-estimator:hover {\n",
       "  /* unfitted */\n",
       "  background-color: var(--sklearn-color-unfitted-level-2);\n",
       "}\n",
       "\n",
       "#sk-container-id-11 div.sk-estimator.fitted:hover {\n",
       "  /* fitted */\n",
       "  background-color: var(--sklearn-color-fitted-level-2);\n",
       "}\n",
       "\n",
       "/* Specification for estimator info (e.g. \"i\" and \"?\") */\n",
       "\n",
       "/* Common style for \"i\" and \"?\" */\n",
       "\n",
       ".sk-estimator-doc-link,\n",
       "a:link.sk-estimator-doc-link,\n",
       "a:visited.sk-estimator-doc-link {\n",
       "  float: right;\n",
       "  font-size: smaller;\n",
       "  line-height: 1em;\n",
       "  font-family: monospace;\n",
       "  background-color: var(--sklearn-color-background);\n",
       "  border-radius: 1em;\n",
       "  height: 1em;\n",
       "  width: 1em;\n",
       "  text-decoration: none !important;\n",
       "  margin-left: 1ex;\n",
       "  /* unfitted */\n",
       "  border: var(--sklearn-color-unfitted-level-1) 1pt solid;\n",
       "  color: var(--sklearn-color-unfitted-level-1);\n",
       "}\n",
       "\n",
       ".sk-estimator-doc-link.fitted,\n",
       "a:link.sk-estimator-doc-link.fitted,\n",
       "a:visited.sk-estimator-doc-link.fitted {\n",
       "  /* fitted */\n",
       "  border: var(--sklearn-color-fitted-level-1) 1pt solid;\n",
       "  color: var(--sklearn-color-fitted-level-1);\n",
       "}\n",
       "\n",
       "/* On hover */\n",
       "div.sk-estimator:hover .sk-estimator-doc-link:hover,\n",
       ".sk-estimator-doc-link:hover,\n",
       "div.sk-label-container:hover .sk-estimator-doc-link:hover,\n",
       ".sk-estimator-doc-link:hover {\n",
       "  /* unfitted */\n",
       "  background-color: var(--sklearn-color-unfitted-level-3);\n",
       "  color: var(--sklearn-color-background);\n",
       "  text-decoration: none;\n",
       "}\n",
       "\n",
       "div.sk-estimator.fitted:hover .sk-estimator-doc-link.fitted:hover,\n",
       ".sk-estimator-doc-link.fitted:hover,\n",
       "div.sk-label-container:hover .sk-estimator-doc-link.fitted:hover,\n",
       ".sk-estimator-doc-link.fitted:hover {\n",
       "  /* fitted */\n",
       "  background-color: var(--sklearn-color-fitted-level-3);\n",
       "  color: var(--sklearn-color-background);\n",
       "  text-decoration: none;\n",
       "}\n",
       "\n",
       "/* Span, style for the box shown on hovering the info icon */\n",
       ".sk-estimator-doc-link span {\n",
       "  display: none;\n",
       "  z-index: 9999;\n",
       "  position: relative;\n",
       "  font-weight: normal;\n",
       "  right: .2ex;\n",
       "  padding: .5ex;\n",
       "  margin: .5ex;\n",
       "  width: min-content;\n",
       "  min-width: 20ex;\n",
       "  max-width: 50ex;\n",
       "  color: var(--sklearn-color-text);\n",
       "  box-shadow: 2pt 2pt 4pt #999;\n",
       "  /* unfitted */\n",
       "  background: var(--sklearn-color-unfitted-level-0);\n",
       "  border: .5pt solid var(--sklearn-color-unfitted-level-3);\n",
       "}\n",
       "\n",
       ".sk-estimator-doc-link.fitted span {\n",
       "  /* fitted */\n",
       "  background: var(--sklearn-color-fitted-level-0);\n",
       "  border: var(--sklearn-color-fitted-level-3);\n",
       "}\n",
       "\n",
       ".sk-estimator-doc-link:hover span {\n",
       "  display: block;\n",
       "}\n",
       "\n",
       "/* \"?\"-specific style due to the `<a>` HTML tag */\n",
       "\n",
       "#sk-container-id-11 a.estimator_doc_link {\n",
       "  float: right;\n",
       "  font-size: 1rem;\n",
       "  line-height: 1em;\n",
       "  font-family: monospace;\n",
       "  background-color: var(--sklearn-color-background);\n",
       "  border-radius: 1rem;\n",
       "  height: 1rem;\n",
       "  width: 1rem;\n",
       "  text-decoration: none;\n",
       "  /* unfitted */\n",
       "  color: var(--sklearn-color-unfitted-level-1);\n",
       "  border: var(--sklearn-color-unfitted-level-1) 1pt solid;\n",
       "}\n",
       "\n",
       "#sk-container-id-11 a.estimator_doc_link.fitted {\n",
       "  /* fitted */\n",
       "  border: var(--sklearn-color-fitted-level-1) 1pt solid;\n",
       "  color: var(--sklearn-color-fitted-level-1);\n",
       "}\n",
       "\n",
       "/* On hover */\n",
       "#sk-container-id-11 a.estimator_doc_link:hover {\n",
       "  /* unfitted */\n",
       "  background-color: var(--sklearn-color-unfitted-level-3);\n",
       "  color: var(--sklearn-color-background);\n",
       "  text-decoration: none;\n",
       "}\n",
       "\n",
       "#sk-container-id-11 a.estimator_doc_link.fitted:hover {\n",
       "  /* fitted */\n",
       "  background-color: var(--sklearn-color-fitted-level-3);\n",
       "}\n",
       "</style><div id=\"sk-container-id-11\" class=\"sk-top-container\"><div class=\"sk-text-repr-fallback\"><pre>ColumnTransformer(transformers=[(&#x27;pipeline-1&#x27;,\n",
       "                                 Pipeline(steps=[(&#x27;simpleimputer&#x27;,\n",
       "                                                  SimpleImputer()),\n",
       "                                                 (&#x27;minmaxscaler&#x27;,\n",
       "                                                  MinMaxScaler())]),\n",
       "                                 &lt;sklearn.compose._column_transformer.make_column_selector object at 0x7fd993366140&gt;),\n",
       "                                (&#x27;pipeline-2&#x27;,\n",
       "                                 Pipeline(steps=[(&#x27;simpleimputer&#x27;,\n",
       "                                                  SimpleImputer(strategy=&#x27;most_frequent&#x27;)),\n",
       "                                                 (&#x27;onehotencoder&#x27;,\n",
       "                                                  OneHotEncoder(handle_unknown=&#x27;ignore&#x27;))]),\n",
       "                                 &lt;sklearn.compose._column_transformer.make_column_selector object at 0x7fd9933881c0&gt;)])</pre><b>In a Jupyter environment, please rerun this cell to show the HTML representation or trust the notebook. <br />On GitHub, the HTML representation is unable to render, please try loading this page with nbviewer.org.</b></div><div class=\"sk-container\" hidden><div class=\"sk-item sk-dashed-wrapped\"><div class=\"sk-label-container\"><div class=\"sk-label  sk-toggleable\"><input class=\"sk-toggleable__control sk-hidden--visually\" id=\"sk-estimator-id-87\" type=\"checkbox\" ><label for=\"sk-estimator-id-87\" class=\"sk-toggleable__label  sk-toggleable__label-arrow \">&nbsp;&nbsp;ColumnTransformer<a class=\"sk-estimator-doc-link \" rel=\"noreferrer\" target=\"_blank\" href=\"https://scikit-learn.org/1.4/modules/generated/sklearn.compose.ColumnTransformer.html\">?<span>Documentation for ColumnTransformer</span></a><span class=\"sk-estimator-doc-link \">i<span>Not fitted</span></span></label><div class=\"sk-toggleable__content \"><pre>ColumnTransformer(transformers=[(&#x27;pipeline-1&#x27;,\n",
       "                                 Pipeline(steps=[(&#x27;simpleimputer&#x27;,\n",
       "                                                  SimpleImputer()),\n",
       "                                                 (&#x27;minmaxscaler&#x27;,\n",
       "                                                  MinMaxScaler())]),\n",
       "                                 &lt;sklearn.compose._column_transformer.make_column_selector object at 0x7fd993366140&gt;),\n",
       "                                (&#x27;pipeline-2&#x27;,\n",
       "                                 Pipeline(steps=[(&#x27;simpleimputer&#x27;,\n",
       "                                                  SimpleImputer(strategy=&#x27;most_frequent&#x27;)),\n",
       "                                                 (&#x27;onehotencoder&#x27;,\n",
       "                                                  OneHotEncoder(handle_unknown=&#x27;ignore&#x27;))]),\n",
       "                                 &lt;sklearn.compose._column_transformer.make_column_selector object at 0x7fd9933881c0&gt;)])</pre></div> </div></div><div class=\"sk-parallel\"><div class=\"sk-parallel-item\"><div class=\"sk-item\"><div class=\"sk-label-container\"><div class=\"sk-label  sk-toggleable\"><input class=\"sk-toggleable__control sk-hidden--visually\" id=\"sk-estimator-id-88\" type=\"checkbox\" ><label for=\"sk-estimator-id-88\" class=\"sk-toggleable__label  sk-toggleable__label-arrow \">pipeline-1</label><div class=\"sk-toggleable__content \"><pre>&lt;sklearn.compose._column_transformer.make_column_selector object at 0x7fd993366140&gt;</pre></div> </div></div><div class=\"sk-serial\"><div class=\"sk-item\"><div class=\"sk-serial\"><div class=\"sk-item\"><div class=\"sk-estimator  sk-toggleable\"><input class=\"sk-toggleable__control sk-hidden--visually\" id=\"sk-estimator-id-89\" type=\"checkbox\" ><label for=\"sk-estimator-id-89\" class=\"sk-toggleable__label  sk-toggleable__label-arrow \">&nbsp;SimpleImputer<a class=\"sk-estimator-doc-link \" rel=\"noreferrer\" target=\"_blank\" href=\"https://scikit-learn.org/1.4/modules/generated/sklearn.impute.SimpleImputer.html\">?<span>Documentation for SimpleImputer</span></a></label><div class=\"sk-toggleable__content \"><pre>SimpleImputer()</pre></div> </div></div><div class=\"sk-item\"><div class=\"sk-estimator  sk-toggleable\"><input class=\"sk-toggleable__control sk-hidden--visually\" id=\"sk-estimator-id-90\" type=\"checkbox\" ><label for=\"sk-estimator-id-90\" class=\"sk-toggleable__label  sk-toggleable__label-arrow \">&nbsp;MinMaxScaler<a class=\"sk-estimator-doc-link \" rel=\"noreferrer\" target=\"_blank\" href=\"https://scikit-learn.org/1.4/modules/generated/sklearn.preprocessing.MinMaxScaler.html\">?<span>Documentation for MinMaxScaler</span></a></label><div class=\"sk-toggleable__content \"><pre>MinMaxScaler()</pre></div> </div></div></div></div></div></div></div><div class=\"sk-parallel-item\"><div class=\"sk-item\"><div class=\"sk-label-container\"><div class=\"sk-label  sk-toggleable\"><input class=\"sk-toggleable__control sk-hidden--visually\" id=\"sk-estimator-id-91\" type=\"checkbox\" ><label for=\"sk-estimator-id-91\" class=\"sk-toggleable__label  sk-toggleable__label-arrow \">pipeline-2</label><div class=\"sk-toggleable__content \"><pre>&lt;sklearn.compose._column_transformer.make_column_selector object at 0x7fd9933881c0&gt;</pre></div> </div></div><div class=\"sk-serial\"><div class=\"sk-item\"><div class=\"sk-serial\"><div class=\"sk-item\"><div class=\"sk-estimator  sk-toggleable\"><input class=\"sk-toggleable__control sk-hidden--visually\" id=\"sk-estimator-id-92\" type=\"checkbox\" ><label for=\"sk-estimator-id-92\" class=\"sk-toggleable__label  sk-toggleable__label-arrow \">&nbsp;SimpleImputer<a class=\"sk-estimator-doc-link \" rel=\"noreferrer\" target=\"_blank\" href=\"https://scikit-learn.org/1.4/modules/generated/sklearn.impute.SimpleImputer.html\">?<span>Documentation for SimpleImputer</span></a></label><div class=\"sk-toggleable__content \"><pre>SimpleImputer(strategy=&#x27;most_frequent&#x27;)</pre></div> </div></div><div class=\"sk-item\"><div class=\"sk-estimator  sk-toggleable\"><input class=\"sk-toggleable__control sk-hidden--visually\" id=\"sk-estimator-id-93\" type=\"checkbox\" ><label for=\"sk-estimator-id-93\" class=\"sk-toggleable__label  sk-toggleable__label-arrow \">&nbsp;OneHotEncoder<a class=\"sk-estimator-doc-link \" rel=\"noreferrer\" target=\"_blank\" href=\"https://scikit-learn.org/1.4/modules/generated/sklearn.preprocessing.OneHotEncoder.html\">?<span>Documentation for OneHotEncoder</span></a></label><div class=\"sk-toggleable__content \"><pre>OneHotEncoder(handle_unknown=&#x27;ignore&#x27;)</pre></div> </div></div></div></div></div></div></div></div></div></div></div>"
      ],
      "text/plain": [
       "ColumnTransformer(transformers=[('pipeline-1',\n",
       "                                 Pipeline(steps=[('simpleimputer',\n",
       "                                                  SimpleImputer()),\n",
       "                                                 ('minmaxscaler',\n",
       "                                                  MinMaxScaler())]),\n",
       "                                 <sklearn.compose._column_transformer.make_column_selector object at 0x7fd993366140>),\n",
       "                                ('pipeline-2',\n",
       "                                 Pipeline(steps=[('simpleimputer',\n",
       "                                                  SimpleImputer(strategy='most_frequent')),\n",
       "                                                 ('onehotencoder',\n",
       "                                                  OneHotEncoder(handle_unknown='ignore'))]),\n",
       "                                 <sklearn.compose._column_transformer.make_column_selector object at 0x7fd9933881c0>)])"
      ]
     },
     "execution_count": 252,
     "metadata": {},
     "output_type": "execute_result"
    }
   ],
   "source": [
    "preproc_numerical_baseline = make_pipeline(\n",
    "    SimpleImputer(),\n",
    "    MinMaxScaler()\n",
    ")\n",
    "\n",
    "preproc_categorical_baseline = make_pipeline(\n",
    "    SimpleImputer(strategy=\"most_frequent\"),\n",
    "    OneHotEncoder(handle_unknown=\"ignore\")\n",
    ")\n",
    "\n",
    "\n",
    "preproc_baseline = make_column_transformer(\n",
    "    (preproc_numerical_baseline, make_column_selector(dtype_include=[\"int64\", \"float64\", \"int32\"])),\n",
    "    (preproc_categorical_baseline, make_column_selector(dtype_include=[\"object\"])),\n",
    "    remainder=\"drop\"\n",
    ")\n",
    "\n",
    "preproc_baseline"
   ]
  },
  {
   "cell_type": "code",
   "execution_count": 24,
   "id": "11386502-b1ba-47c3-8ca6-0d7c7b9f9e4a",
   "metadata": {},
   "outputs": [
    {
     "data": {
      "text/plain": [
       "(125226, 75)"
      ]
     },
     "execution_count": 24,
     "metadata": {},
     "output_type": "execute_result"
    }
   ],
   "source": [
    "test = preproc_baseline.fit_transform(X)\n",
    "test.shape"
   ]
  },
  {
   "cell_type": "markdown",
   "id": "e53d0207-5153-43e4-b4e7-6c2da6052b96",
   "metadata": {},
   "source": [
    "# Model Selection"
   ]
  },
  {
   "cell_type": "markdown",
   "id": "4d175d25-b024-486f-858e-0bfb3de4d148",
   "metadata": {},
   "source": [
    "## Trees"
   ]
  },
  {
   "cell_type": "code",
   "execution_count": 254,
   "id": "22e4d7b6-b799-408f-984e-fdc1a0e4dd69",
   "metadata": {},
   "outputs": [
    {
     "data": {
      "text/plain": [
       "0.8346515083039779"
      ]
     },
     "execution_count": 254,
     "metadata": {},
     "output_type": "execute_result"
    }
   ],
   "source": [
    "model = GradientBoostingClassifier(n_estimators=100, verbose=0)\n",
    "\n",
    "pipe_gb = make_pipeline(preproc_baseline, model)\n",
    "score = cross_val_score(pipe_gb, X, y_binary, cv=5, scoring='accuracy', n_jobs=-1).mean()\n",
    "\n",
    "score"
   ]
  },
  {
   "cell_type": "code",
   "execution_count": 255,
   "id": "5a042975-e355-4b9d-95d7-56ad095a0d48",
   "metadata": {},
   "outputs": [
    {
     "data": {
      "text/plain": [
       "0.8161967600696771"
      ]
     },
     "execution_count": 255,
     "metadata": {},
     "output_type": "execute_result"
    }
   ],
   "source": [
    "pipe_randomforest = make_pipeline(preproc_baseline, RandomForestClassifier())\n",
    "score_randomforest = cross_val_score(pipe_randomforest, X, y_binary, cv=5, scoring='accuracy', n_jobs=-1).mean()\n",
    "score_randomforest"
   ]
  },
  {
   "cell_type": "code",
   "execution_count": 256,
   "id": "f8a747a7-bcb2-45f2-a518-94a475130e05",
   "metadata": {},
   "outputs": [
    {
     "data": {
      "text/plain": [
       "0.7958015857330796"
      ]
     },
     "execution_count": 256,
     "metadata": {},
     "output_type": "execute_result"
    }
   ],
   "source": [
    "model = AdaBoostClassifier(n_estimators=100, algorithm='SAMME')\n",
    "\n",
    "pipe_ada = make_pipeline(preproc_baseline, model)\n",
    "score = cross_val_score(pipe_ada, X, y_binary, cv=5, scoring='accuracy', n_jobs=-1).mean()\n",
    "\n",
    "score"
   ]
  },
  {
   "cell_type": "code",
   "execution_count": 141,
   "id": "77ec6b69-a985-4799-9231-194faedcc812",
   "metadata": {},
   "outputs": [
    {
     "data": {
      "text/plain": [
       "0.6501764379813851"
      ]
     },
     "execution_count": 141,
     "metadata": {},
     "output_type": "execute_result"
    }
   ],
   "source": [
    "estimators_ = [\n",
    "    ('decision_tree', DecisionTreeClassifier()),\n",
    "    ('svm', SVC()),\n",
    "    ('logistic_regression', LogisticRegression())\n",
    "]\n",
    "\n",
    "model = VotingClassifier(estimators=estimators_)\n",
    "\n",
    "pipe_vote = make_pipeline(preproc_baseline, model)\n",
    "score = cross_val_score(pipe_vote, X, y_binary, cv=5, scoring='accuracy', n_jobs=-1).mean()\n",
    "\n",
    "score"
   ]
  },
  {
   "cell_type": "code",
   "execution_count": 136,
   "id": "7b4b3dfb-95b3-4f57-8ff1-656f980926b8",
   "metadata": {},
   "outputs": [
    {
     "data": {
      "text/plain": [
       "0.6399948042098844"
      ]
     },
     "execution_count": 136,
     "metadata": {},
     "output_type": "execute_result"
    }
   ],
   "source": [
    "model = ExtraTreesClassifier()\n",
    "\n",
    "pipe_ext = make_pipeline(preproc_baseline, model)\n",
    "score = cross_val_score(pipe_ext, X, y_binary, cv=5, scoring='accuracy', n_jobs=-1).mean()\n",
    "\n",
    "score"
   ]
  },
  {
   "cell_type": "code",
   "execution_count": 133,
   "id": "a1410a83-03b3-4977-a7c3-1586fbbdb666",
   "metadata": {},
   "outputs": [
    {
     "data": {
      "text/plain": [
       "0.6344289852648368"
      ]
     },
     "execution_count": 133,
     "metadata": {},
     "output_type": "execute_result"
    }
   ],
   "source": [
    "model = BaggingClassifier()\n",
    "\n",
    "pipe_bag = make_pipeline(preproc_baseline, model)\n",
    "score = cross_val_score(pipe_bag, X, y_binary, cv=5, scoring='accuracy').mean()\n",
    "\n",
    "score"
   ]
  },
  {
   "cell_type": "code",
   "execution_count": 134,
   "id": "32a85bb7-d2cf-43ff-bf7b-76a12b755dbb",
   "metadata": {},
   "outputs": [
    {
     "data": {
      "text/plain": [
       "0.5833373376775912"
      ]
     },
     "execution_count": 134,
     "metadata": {},
     "output_type": "execute_result"
    }
   ],
   "source": [
    "pipe_tree = make_pipeline(preproc_baseline, DecisionTreeClassifier())\n",
    "score_tree = cross_val_score(pipe_tree, X, y_binary, cv=5, scoring='accuracy').mean()\n",
    "\n",
    "score_tree"
   ]
  },
  {
   "cell_type": "markdown",
   "id": "2dc78f0b-52af-4b26-aab6-f1aa47a47dd3",
   "metadata": {},
   "source": [
    "## KNN"
   ]
  },
  {
   "cell_type": "code",
   "execution_count": 258,
   "id": "94d8bb69-2261-4128-8c6d-b7591c0c527f",
   "metadata": {},
   "outputs": [],
   "source": [
    "pipe_knn = make_pipeline(preproc_baseline, KNeighborsClassifier())"
   ]
  },
  {
   "cell_type": "code",
   "execution_count": 259,
   "id": "68f1aad7-ef44-4c38-9169-a4bb6629e72f",
   "metadata": {
    "scrolled": true
   },
   "outputs": [
    {
     "data": {
      "text/plain": [
       "0.5996517969324145"
      ]
     },
     "execution_count": 259,
     "metadata": {},
     "output_type": "execute_result"
    }
   ],
   "source": [
    "score_knn = cross_val_score(pipe_knn, X, y_binary, cv=5, scoring='accuracy', n_jobs=-1).mean()\n",
    "score_knn\n",
    "\n",
    "## 0.587976953150862"
   ]
  },
  {
   "cell_type": "markdown",
   "id": "a4907d7d-75e3-4288-bbe9-21d2080c0ae3",
   "metadata": {},
   "source": [
    "## SVM"
   ]
  },
  {
   "cell_type": "code",
   "execution_count": null,
   "id": "2e411211-ac71-473c-984a-c9a0ec7e2d47",
   "metadata": {},
   "outputs": [],
   "source": [
    "svm_classifier = SVC(kernal='poly', degree=3)\n",
    "\n",
    "pipe_svc = make_pipeline(preproc_baseline, svm_classifier)"
   ]
  },
  {
   "cell_type": "code",
   "execution_count": null,
   "id": "325d6d40-1c25-433c-9b33-d5a842e8ba01",
   "metadata": {},
   "outputs": [],
   "source": [
    "score_svc = cross_val_score(pipe_svc, X, y_binary, cv=5, scoring='accuracy').mean()\n",
    "score_svc"
   ]
  },
  {
   "cell_type": "code",
   "execution_count": null,
   "id": "13ae505d-e02c-4afe-8d6d-6523a7a4ad5f",
   "metadata": {},
   "outputs": [],
   "source": []
  },
  {
   "cell_type": "code",
   "execution_count": null,
   "id": "9db2aeb2-d80c-4c3f-83b4-f09c9041edce",
   "metadata": {},
   "outputs": [],
   "source": []
  },
  {
   "cell_type": "markdown",
   "id": "4a3ae780-86a9-4085-a67a-98447e97aeec",
   "metadata": {},
   "source": [
    "### Other models"
   ]
  },
  {
   "cell_type": "code",
   "execution_count": null,
   "id": "68036f65-18cd-48dc-9f52-fc1effed66dd",
   "metadata": {},
   "outputs": [],
   "source": []
  },
  {
   "cell_type": "code",
   "execution_count": null,
   "id": "b726af10-e102-4e9a-a73b-90eeb31656f1",
   "metadata": {},
   "outputs": [],
   "source": []
  },
  {
   "cell_type": "markdown",
   "id": "f969346b-a2d4-48ab-b5de-6d5b8d7f418c",
   "metadata": {},
   "source": [
    "## Fit, Predict, Evaluate"
   ]
  },
  {
   "cell_type": "code",
   "execution_count": 263,
   "id": "7dd789f4-8336-4ef2-bc54-f7be1757dbe4",
   "metadata": {},
   "outputs": [],
   "source": [
    "# Split train, test\n",
    "X_train, X_test, y_train, y_test = train_test_split(X, y_binary, test_size=0.3)"
   ]
  },
  {
   "cell_type": "code",
   "execution_count": 264,
   "id": "32dec2b6-5aeb-4764-8102-0b10ede44046",
   "metadata": {},
   "outputs": [],
   "source": [
    "pipe_selected = pipe_gb"
   ]
  },
  {
   "cell_type": "code",
   "execution_count": 266,
   "id": "79a9c1b9-8843-4c17-8ce6-e8d4301a0334",
   "metadata": {},
   "outputs": [
    {
     "data": {
      "text/html": [
       "<style>#sk-container-id-12 {\n",
       "  /* Definition of color scheme common for light and dark mode */\n",
       "  --sklearn-color-text: black;\n",
       "  --sklearn-color-line: gray;\n",
       "  /* Definition of color scheme for unfitted estimators */\n",
       "  --sklearn-color-unfitted-level-0: #fff5e6;\n",
       "  --sklearn-color-unfitted-level-1: #f6e4d2;\n",
       "  --sklearn-color-unfitted-level-2: #ffe0b3;\n",
       "  --sklearn-color-unfitted-level-3: chocolate;\n",
       "  /* Definition of color scheme for fitted estimators */\n",
       "  --sklearn-color-fitted-level-0: #f0f8ff;\n",
       "  --sklearn-color-fitted-level-1: #d4ebff;\n",
       "  --sklearn-color-fitted-level-2: #b3dbfd;\n",
       "  --sklearn-color-fitted-level-3: cornflowerblue;\n",
       "\n",
       "  /* Specific color for light theme */\n",
       "  --sklearn-color-text-on-default-background: var(--sg-text-color, var(--theme-code-foreground, var(--jp-content-font-color1, black)));\n",
       "  --sklearn-color-background: var(--sg-background-color, var(--theme-background, var(--jp-layout-color0, white)));\n",
       "  --sklearn-color-border-box: var(--sg-text-color, var(--theme-code-foreground, var(--jp-content-font-color1, black)));\n",
       "  --sklearn-color-icon: #696969;\n",
       "\n",
       "  @media (prefers-color-scheme: dark) {\n",
       "    /* Redefinition of color scheme for dark theme */\n",
       "    --sklearn-color-text-on-default-background: var(--sg-text-color, var(--theme-code-foreground, var(--jp-content-font-color1, white)));\n",
       "    --sklearn-color-background: var(--sg-background-color, var(--theme-background, var(--jp-layout-color0, #111)));\n",
       "    --sklearn-color-border-box: var(--sg-text-color, var(--theme-code-foreground, var(--jp-content-font-color1, white)));\n",
       "    --sklearn-color-icon: #878787;\n",
       "  }\n",
       "}\n",
       "\n",
       "#sk-container-id-12 {\n",
       "  color: var(--sklearn-color-text);\n",
       "}\n",
       "\n",
       "#sk-container-id-12 pre {\n",
       "  padding: 0;\n",
       "}\n",
       "\n",
       "#sk-container-id-12 input.sk-hidden--visually {\n",
       "  border: 0;\n",
       "  clip: rect(1px 1px 1px 1px);\n",
       "  clip: rect(1px, 1px, 1px, 1px);\n",
       "  height: 1px;\n",
       "  margin: -1px;\n",
       "  overflow: hidden;\n",
       "  padding: 0;\n",
       "  position: absolute;\n",
       "  width: 1px;\n",
       "}\n",
       "\n",
       "#sk-container-id-12 div.sk-dashed-wrapped {\n",
       "  border: 1px dashed var(--sklearn-color-line);\n",
       "  margin: 0 0.4em 0.5em 0.4em;\n",
       "  box-sizing: border-box;\n",
       "  padding-bottom: 0.4em;\n",
       "  background-color: var(--sklearn-color-background);\n",
       "}\n",
       "\n",
       "#sk-container-id-12 div.sk-container {\n",
       "  /* jupyter's `normalize.less` sets `[hidden] { display: none; }`\n",
       "     but bootstrap.min.css set `[hidden] { display: none !important; }`\n",
       "     so we also need the `!important` here to be able to override the\n",
       "     default hidden behavior on the sphinx rendered scikit-learn.org.\n",
       "     See: https://github.com/scikit-learn/scikit-learn/issues/21755 */\n",
       "  display: inline-block !important;\n",
       "  position: relative;\n",
       "}\n",
       "\n",
       "#sk-container-id-12 div.sk-text-repr-fallback {\n",
       "  display: none;\n",
       "}\n",
       "\n",
       "div.sk-parallel-item,\n",
       "div.sk-serial,\n",
       "div.sk-item {\n",
       "  /* draw centered vertical line to link estimators */\n",
       "  background-image: linear-gradient(var(--sklearn-color-text-on-default-background), var(--sklearn-color-text-on-default-background));\n",
       "  background-size: 2px 100%;\n",
       "  background-repeat: no-repeat;\n",
       "  background-position: center center;\n",
       "}\n",
       "\n",
       "/* Parallel-specific style estimator block */\n",
       "\n",
       "#sk-container-id-12 div.sk-parallel-item::after {\n",
       "  content: \"\";\n",
       "  width: 100%;\n",
       "  border-bottom: 2px solid var(--sklearn-color-text-on-default-background);\n",
       "  flex-grow: 1;\n",
       "}\n",
       "\n",
       "#sk-container-id-12 div.sk-parallel {\n",
       "  display: flex;\n",
       "  align-items: stretch;\n",
       "  justify-content: center;\n",
       "  background-color: var(--sklearn-color-background);\n",
       "  position: relative;\n",
       "}\n",
       "\n",
       "#sk-container-id-12 div.sk-parallel-item {\n",
       "  display: flex;\n",
       "  flex-direction: column;\n",
       "}\n",
       "\n",
       "#sk-container-id-12 div.sk-parallel-item:first-child::after {\n",
       "  align-self: flex-end;\n",
       "  width: 50%;\n",
       "}\n",
       "\n",
       "#sk-container-id-12 div.sk-parallel-item:last-child::after {\n",
       "  align-self: flex-start;\n",
       "  width: 50%;\n",
       "}\n",
       "\n",
       "#sk-container-id-12 div.sk-parallel-item:only-child::after {\n",
       "  width: 0;\n",
       "}\n",
       "\n",
       "/* Serial-specific style estimator block */\n",
       "\n",
       "#sk-container-id-12 div.sk-serial {\n",
       "  display: flex;\n",
       "  flex-direction: column;\n",
       "  align-items: center;\n",
       "  background-color: var(--sklearn-color-background);\n",
       "  padding-right: 1em;\n",
       "  padding-left: 1em;\n",
       "}\n",
       "\n",
       "\n",
       "/* Toggleable style: style used for estimator/Pipeline/ColumnTransformer box that is\n",
       "clickable and can be expanded/collapsed.\n",
       "- Pipeline and ColumnTransformer use this feature and define the default style\n",
       "- Estimators will overwrite some part of the style using the `sk-estimator` class\n",
       "*/\n",
       "\n",
       "/* Pipeline and ColumnTransformer style (default) */\n",
       "\n",
       "#sk-container-id-12 div.sk-toggleable {\n",
       "  /* Default theme specific background. It is overwritten whether we have a\n",
       "  specific estimator or a Pipeline/ColumnTransformer */\n",
       "  background-color: var(--sklearn-color-background);\n",
       "}\n",
       "\n",
       "/* Toggleable label */\n",
       "#sk-container-id-12 label.sk-toggleable__label {\n",
       "  cursor: pointer;\n",
       "  display: block;\n",
       "  width: 100%;\n",
       "  margin-bottom: 0;\n",
       "  padding: 0.5em;\n",
       "  box-sizing: border-box;\n",
       "  text-align: center;\n",
       "}\n",
       "\n",
       "#sk-container-id-12 label.sk-toggleable__label-arrow:before {\n",
       "  /* Arrow on the left of the label */\n",
       "  content: \"▸\";\n",
       "  float: left;\n",
       "  margin-right: 0.25em;\n",
       "  color: var(--sklearn-color-icon);\n",
       "}\n",
       "\n",
       "#sk-container-id-12 label.sk-toggleable__label-arrow:hover:before {\n",
       "  color: var(--sklearn-color-text);\n",
       "}\n",
       "\n",
       "/* Toggleable content - dropdown */\n",
       "\n",
       "#sk-container-id-12 div.sk-toggleable__content {\n",
       "  max-height: 0;\n",
       "  max-width: 0;\n",
       "  overflow: hidden;\n",
       "  text-align: left;\n",
       "  /* unfitted */\n",
       "  background-color: var(--sklearn-color-unfitted-level-0);\n",
       "}\n",
       "\n",
       "#sk-container-id-12 div.sk-toggleable__content.fitted {\n",
       "  /* fitted */\n",
       "  background-color: var(--sklearn-color-fitted-level-0);\n",
       "}\n",
       "\n",
       "#sk-container-id-12 div.sk-toggleable__content pre {\n",
       "  margin: 0.2em;\n",
       "  border-radius: 0.25em;\n",
       "  color: var(--sklearn-color-text);\n",
       "  /* unfitted */\n",
       "  background-color: var(--sklearn-color-unfitted-level-0);\n",
       "}\n",
       "\n",
       "#sk-container-id-12 div.sk-toggleable__content.fitted pre {\n",
       "  /* unfitted */\n",
       "  background-color: var(--sklearn-color-fitted-level-0);\n",
       "}\n",
       "\n",
       "#sk-container-id-12 input.sk-toggleable__control:checked~div.sk-toggleable__content {\n",
       "  /* Expand drop-down */\n",
       "  max-height: 200px;\n",
       "  max-width: 100%;\n",
       "  overflow: auto;\n",
       "}\n",
       "\n",
       "#sk-container-id-12 input.sk-toggleable__control:checked~label.sk-toggleable__label-arrow:before {\n",
       "  content: \"▾\";\n",
       "}\n",
       "\n",
       "/* Pipeline/ColumnTransformer-specific style */\n",
       "\n",
       "#sk-container-id-12 div.sk-label input.sk-toggleable__control:checked~label.sk-toggleable__label {\n",
       "  color: var(--sklearn-color-text);\n",
       "  background-color: var(--sklearn-color-unfitted-level-2);\n",
       "}\n",
       "\n",
       "#sk-container-id-12 div.sk-label.fitted input.sk-toggleable__control:checked~label.sk-toggleable__label {\n",
       "  background-color: var(--sklearn-color-fitted-level-2);\n",
       "}\n",
       "\n",
       "/* Estimator-specific style */\n",
       "\n",
       "/* Colorize estimator box */\n",
       "#sk-container-id-12 div.sk-estimator input.sk-toggleable__control:checked~label.sk-toggleable__label {\n",
       "  /* unfitted */\n",
       "  background-color: var(--sklearn-color-unfitted-level-2);\n",
       "}\n",
       "\n",
       "#sk-container-id-12 div.sk-estimator.fitted input.sk-toggleable__control:checked~label.sk-toggleable__label {\n",
       "  /* fitted */\n",
       "  background-color: var(--sklearn-color-fitted-level-2);\n",
       "}\n",
       "\n",
       "#sk-container-id-12 div.sk-label label.sk-toggleable__label,\n",
       "#sk-container-id-12 div.sk-label label {\n",
       "  /* The background is the default theme color */\n",
       "  color: var(--sklearn-color-text-on-default-background);\n",
       "}\n",
       "\n",
       "/* On hover, darken the color of the background */\n",
       "#sk-container-id-12 div.sk-label:hover label.sk-toggleable__label {\n",
       "  color: var(--sklearn-color-text);\n",
       "  background-color: var(--sklearn-color-unfitted-level-2);\n",
       "}\n",
       "\n",
       "/* Label box, darken color on hover, fitted */\n",
       "#sk-container-id-12 div.sk-label.fitted:hover label.sk-toggleable__label.fitted {\n",
       "  color: var(--sklearn-color-text);\n",
       "  background-color: var(--sklearn-color-fitted-level-2);\n",
       "}\n",
       "\n",
       "/* Estimator label */\n",
       "\n",
       "#sk-container-id-12 div.sk-label label {\n",
       "  font-family: monospace;\n",
       "  font-weight: bold;\n",
       "  display: inline-block;\n",
       "  line-height: 1.2em;\n",
       "}\n",
       "\n",
       "#sk-container-id-12 div.sk-label-container {\n",
       "  text-align: center;\n",
       "}\n",
       "\n",
       "/* Estimator-specific */\n",
       "#sk-container-id-12 div.sk-estimator {\n",
       "  font-family: monospace;\n",
       "  border: 1px dotted var(--sklearn-color-border-box);\n",
       "  border-radius: 0.25em;\n",
       "  box-sizing: border-box;\n",
       "  margin-bottom: 0.5em;\n",
       "  /* unfitted */\n",
       "  background-color: var(--sklearn-color-unfitted-level-0);\n",
       "}\n",
       "\n",
       "#sk-container-id-12 div.sk-estimator.fitted {\n",
       "  /* fitted */\n",
       "  background-color: var(--sklearn-color-fitted-level-0);\n",
       "}\n",
       "\n",
       "/* on hover */\n",
       "#sk-container-id-12 div.sk-estimator:hover {\n",
       "  /* unfitted */\n",
       "  background-color: var(--sklearn-color-unfitted-level-2);\n",
       "}\n",
       "\n",
       "#sk-container-id-12 div.sk-estimator.fitted:hover {\n",
       "  /* fitted */\n",
       "  background-color: var(--sklearn-color-fitted-level-2);\n",
       "}\n",
       "\n",
       "/* Specification for estimator info (e.g. \"i\" and \"?\") */\n",
       "\n",
       "/* Common style for \"i\" and \"?\" */\n",
       "\n",
       ".sk-estimator-doc-link,\n",
       "a:link.sk-estimator-doc-link,\n",
       "a:visited.sk-estimator-doc-link {\n",
       "  float: right;\n",
       "  font-size: smaller;\n",
       "  line-height: 1em;\n",
       "  font-family: monospace;\n",
       "  background-color: var(--sklearn-color-background);\n",
       "  border-radius: 1em;\n",
       "  height: 1em;\n",
       "  width: 1em;\n",
       "  text-decoration: none !important;\n",
       "  margin-left: 1ex;\n",
       "  /* unfitted */\n",
       "  border: var(--sklearn-color-unfitted-level-1) 1pt solid;\n",
       "  color: var(--sklearn-color-unfitted-level-1);\n",
       "}\n",
       "\n",
       ".sk-estimator-doc-link.fitted,\n",
       "a:link.sk-estimator-doc-link.fitted,\n",
       "a:visited.sk-estimator-doc-link.fitted {\n",
       "  /* fitted */\n",
       "  border: var(--sklearn-color-fitted-level-1) 1pt solid;\n",
       "  color: var(--sklearn-color-fitted-level-1);\n",
       "}\n",
       "\n",
       "/* On hover */\n",
       "div.sk-estimator:hover .sk-estimator-doc-link:hover,\n",
       ".sk-estimator-doc-link:hover,\n",
       "div.sk-label-container:hover .sk-estimator-doc-link:hover,\n",
       ".sk-estimator-doc-link:hover {\n",
       "  /* unfitted */\n",
       "  background-color: var(--sklearn-color-unfitted-level-3);\n",
       "  color: var(--sklearn-color-background);\n",
       "  text-decoration: none;\n",
       "}\n",
       "\n",
       "div.sk-estimator.fitted:hover .sk-estimator-doc-link.fitted:hover,\n",
       ".sk-estimator-doc-link.fitted:hover,\n",
       "div.sk-label-container:hover .sk-estimator-doc-link.fitted:hover,\n",
       ".sk-estimator-doc-link.fitted:hover {\n",
       "  /* fitted */\n",
       "  background-color: var(--sklearn-color-fitted-level-3);\n",
       "  color: var(--sklearn-color-background);\n",
       "  text-decoration: none;\n",
       "}\n",
       "\n",
       "/* Span, style for the box shown on hovering the info icon */\n",
       ".sk-estimator-doc-link span {\n",
       "  display: none;\n",
       "  z-index: 9999;\n",
       "  position: relative;\n",
       "  font-weight: normal;\n",
       "  right: .2ex;\n",
       "  padding: .5ex;\n",
       "  margin: .5ex;\n",
       "  width: min-content;\n",
       "  min-width: 20ex;\n",
       "  max-width: 50ex;\n",
       "  color: var(--sklearn-color-text);\n",
       "  box-shadow: 2pt 2pt 4pt #999;\n",
       "  /* unfitted */\n",
       "  background: var(--sklearn-color-unfitted-level-0);\n",
       "  border: .5pt solid var(--sklearn-color-unfitted-level-3);\n",
       "}\n",
       "\n",
       ".sk-estimator-doc-link.fitted span {\n",
       "  /* fitted */\n",
       "  background: var(--sklearn-color-fitted-level-0);\n",
       "  border: var(--sklearn-color-fitted-level-3);\n",
       "}\n",
       "\n",
       ".sk-estimator-doc-link:hover span {\n",
       "  display: block;\n",
       "}\n",
       "\n",
       "/* \"?\"-specific style due to the `<a>` HTML tag */\n",
       "\n",
       "#sk-container-id-12 a.estimator_doc_link {\n",
       "  float: right;\n",
       "  font-size: 1rem;\n",
       "  line-height: 1em;\n",
       "  font-family: monospace;\n",
       "  background-color: var(--sklearn-color-background);\n",
       "  border-radius: 1rem;\n",
       "  height: 1rem;\n",
       "  width: 1rem;\n",
       "  text-decoration: none;\n",
       "  /* unfitted */\n",
       "  color: var(--sklearn-color-unfitted-level-1);\n",
       "  border: var(--sklearn-color-unfitted-level-1) 1pt solid;\n",
       "}\n",
       "\n",
       "#sk-container-id-12 a.estimator_doc_link.fitted {\n",
       "  /* fitted */\n",
       "  border: var(--sklearn-color-fitted-level-1) 1pt solid;\n",
       "  color: var(--sklearn-color-fitted-level-1);\n",
       "}\n",
       "\n",
       "/* On hover */\n",
       "#sk-container-id-12 a.estimator_doc_link:hover {\n",
       "  /* unfitted */\n",
       "  background-color: var(--sklearn-color-unfitted-level-3);\n",
       "  color: var(--sklearn-color-background);\n",
       "  text-decoration: none;\n",
       "}\n",
       "\n",
       "#sk-container-id-12 a.estimator_doc_link.fitted:hover {\n",
       "  /* fitted */\n",
       "  background-color: var(--sklearn-color-fitted-level-3);\n",
       "}\n",
       "</style><div id=\"sk-container-id-12\" class=\"sk-top-container\"><div class=\"sk-text-repr-fallback\"><pre>Pipeline(steps=[(&#x27;columntransformer&#x27;,\n",
       "                 ColumnTransformer(transformers=[(&#x27;pipeline-1&#x27;,\n",
       "                                                  Pipeline(steps=[(&#x27;simpleimputer&#x27;,\n",
       "                                                                   SimpleImputer()),\n",
       "                                                                  (&#x27;minmaxscaler&#x27;,\n",
       "                                                                   MinMaxScaler())]),\n",
       "                                                  &lt;sklearn.compose._column_transformer.make_column_selector object at 0x7fd993366140&gt;),\n",
       "                                                 (&#x27;pipeline-2&#x27;,\n",
       "                                                  Pipeline(steps=[(&#x27;simpleimputer&#x27;,\n",
       "                                                                   SimpleImputer(strategy=&#x27;most_frequent&#x27;)),\n",
       "                                                                  (&#x27;onehotencoder&#x27;,\n",
       "                                                                   OneHotEncoder(handle_unknown=&#x27;ignore&#x27;))]),\n",
       "                                                  &lt;sklearn.compose._column_transformer.make_column_selector object at 0x7fd9933881c0&gt;)])),\n",
       "                (&#x27;gradientboostingclassifier&#x27;, GradientBoostingClassifier())])</pre><b>In a Jupyter environment, please rerun this cell to show the HTML representation or trust the notebook. <br />On GitHub, the HTML representation is unable to render, please try loading this page with nbviewer.org.</b></div><div class=\"sk-container\" hidden><div class=\"sk-item sk-dashed-wrapped\"><div class=\"sk-label-container\"><div class=\"sk-label fitted sk-toggleable\"><input class=\"sk-toggleable__control sk-hidden--visually\" id=\"sk-estimator-id-94\" type=\"checkbox\" ><label for=\"sk-estimator-id-94\" class=\"sk-toggleable__label fitted sk-toggleable__label-arrow fitted\">&nbsp;&nbsp;Pipeline<a class=\"sk-estimator-doc-link fitted\" rel=\"noreferrer\" target=\"_blank\" href=\"https://scikit-learn.org/1.4/modules/generated/sklearn.pipeline.Pipeline.html\">?<span>Documentation for Pipeline</span></a><span class=\"sk-estimator-doc-link fitted\">i<span>Fitted</span></span></label><div class=\"sk-toggleable__content fitted\"><pre>Pipeline(steps=[(&#x27;columntransformer&#x27;,\n",
       "                 ColumnTransformer(transformers=[(&#x27;pipeline-1&#x27;,\n",
       "                                                  Pipeline(steps=[(&#x27;simpleimputer&#x27;,\n",
       "                                                                   SimpleImputer()),\n",
       "                                                                  (&#x27;minmaxscaler&#x27;,\n",
       "                                                                   MinMaxScaler())]),\n",
       "                                                  &lt;sklearn.compose._column_transformer.make_column_selector object at 0x7fd993366140&gt;),\n",
       "                                                 (&#x27;pipeline-2&#x27;,\n",
       "                                                  Pipeline(steps=[(&#x27;simpleimputer&#x27;,\n",
       "                                                                   SimpleImputer(strategy=&#x27;most_frequent&#x27;)),\n",
       "                                                                  (&#x27;onehotencoder&#x27;,\n",
       "                                                                   OneHotEncoder(handle_unknown=&#x27;ignore&#x27;))]),\n",
       "                                                  &lt;sklearn.compose._column_transformer.make_column_selector object at 0x7fd9933881c0&gt;)])),\n",
       "                (&#x27;gradientboostingclassifier&#x27;, GradientBoostingClassifier())])</pre></div> </div></div><div class=\"sk-serial\"><div class=\"sk-item sk-dashed-wrapped\"><div class=\"sk-label-container\"><div class=\"sk-label fitted sk-toggleable\"><input class=\"sk-toggleable__control sk-hidden--visually\" id=\"sk-estimator-id-95\" type=\"checkbox\" ><label for=\"sk-estimator-id-95\" class=\"sk-toggleable__label fitted sk-toggleable__label-arrow fitted\">&nbsp;columntransformer: ColumnTransformer<a class=\"sk-estimator-doc-link fitted\" rel=\"noreferrer\" target=\"_blank\" href=\"https://scikit-learn.org/1.4/modules/generated/sklearn.compose.ColumnTransformer.html\">?<span>Documentation for columntransformer: ColumnTransformer</span></a></label><div class=\"sk-toggleable__content fitted\"><pre>ColumnTransformer(transformers=[(&#x27;pipeline-1&#x27;,\n",
       "                                 Pipeline(steps=[(&#x27;simpleimputer&#x27;,\n",
       "                                                  SimpleImputer()),\n",
       "                                                 (&#x27;minmaxscaler&#x27;,\n",
       "                                                  MinMaxScaler())]),\n",
       "                                 &lt;sklearn.compose._column_transformer.make_column_selector object at 0x7fd993366140&gt;),\n",
       "                                (&#x27;pipeline-2&#x27;,\n",
       "                                 Pipeline(steps=[(&#x27;simpleimputer&#x27;,\n",
       "                                                  SimpleImputer(strategy=&#x27;most_frequent&#x27;)),\n",
       "                                                 (&#x27;onehotencoder&#x27;,\n",
       "                                                  OneHotEncoder(handle_unknown=&#x27;ignore&#x27;))]),\n",
       "                                 &lt;sklearn.compose._column_transformer.make_column_selector object at 0x7fd9933881c0&gt;)])</pre></div> </div></div><div class=\"sk-parallel\"><div class=\"sk-parallel-item\"><div class=\"sk-item\"><div class=\"sk-label-container\"><div class=\"sk-label fitted sk-toggleable\"><input class=\"sk-toggleable__control sk-hidden--visually\" id=\"sk-estimator-id-96\" type=\"checkbox\" ><label for=\"sk-estimator-id-96\" class=\"sk-toggleable__label fitted sk-toggleable__label-arrow fitted\">pipeline-1</label><div class=\"sk-toggleable__content fitted\"><pre>&lt;sklearn.compose._column_transformer.make_column_selector object at 0x7fd993366140&gt;</pre></div> </div></div><div class=\"sk-serial\"><div class=\"sk-item\"><div class=\"sk-serial\"><div class=\"sk-item\"><div class=\"sk-estimator fitted sk-toggleable\"><input class=\"sk-toggleable__control sk-hidden--visually\" id=\"sk-estimator-id-97\" type=\"checkbox\" ><label for=\"sk-estimator-id-97\" class=\"sk-toggleable__label fitted sk-toggleable__label-arrow fitted\">&nbsp;SimpleImputer<a class=\"sk-estimator-doc-link fitted\" rel=\"noreferrer\" target=\"_blank\" href=\"https://scikit-learn.org/1.4/modules/generated/sklearn.impute.SimpleImputer.html\">?<span>Documentation for SimpleImputer</span></a></label><div class=\"sk-toggleable__content fitted\"><pre>SimpleImputer()</pre></div> </div></div><div class=\"sk-item\"><div class=\"sk-estimator fitted sk-toggleable\"><input class=\"sk-toggleable__control sk-hidden--visually\" id=\"sk-estimator-id-98\" type=\"checkbox\" ><label for=\"sk-estimator-id-98\" class=\"sk-toggleable__label fitted sk-toggleable__label-arrow fitted\">&nbsp;MinMaxScaler<a class=\"sk-estimator-doc-link fitted\" rel=\"noreferrer\" target=\"_blank\" href=\"https://scikit-learn.org/1.4/modules/generated/sklearn.preprocessing.MinMaxScaler.html\">?<span>Documentation for MinMaxScaler</span></a></label><div class=\"sk-toggleable__content fitted\"><pre>MinMaxScaler()</pre></div> </div></div></div></div></div></div></div><div class=\"sk-parallel-item\"><div class=\"sk-item\"><div class=\"sk-label-container\"><div class=\"sk-label fitted sk-toggleable\"><input class=\"sk-toggleable__control sk-hidden--visually\" id=\"sk-estimator-id-99\" type=\"checkbox\" ><label for=\"sk-estimator-id-99\" class=\"sk-toggleable__label fitted sk-toggleable__label-arrow fitted\">pipeline-2</label><div class=\"sk-toggleable__content fitted\"><pre>&lt;sklearn.compose._column_transformer.make_column_selector object at 0x7fd9933881c0&gt;</pre></div> </div></div><div class=\"sk-serial\"><div class=\"sk-item\"><div class=\"sk-serial\"><div class=\"sk-item\"><div class=\"sk-estimator fitted sk-toggleable\"><input class=\"sk-toggleable__control sk-hidden--visually\" id=\"sk-estimator-id-100\" type=\"checkbox\" ><label for=\"sk-estimator-id-100\" class=\"sk-toggleable__label fitted sk-toggleable__label-arrow fitted\">&nbsp;SimpleImputer<a class=\"sk-estimator-doc-link fitted\" rel=\"noreferrer\" target=\"_blank\" href=\"https://scikit-learn.org/1.4/modules/generated/sklearn.impute.SimpleImputer.html\">?<span>Documentation for SimpleImputer</span></a></label><div class=\"sk-toggleable__content fitted\"><pre>SimpleImputer(strategy=&#x27;most_frequent&#x27;)</pre></div> </div></div><div class=\"sk-item\"><div class=\"sk-estimator fitted sk-toggleable\"><input class=\"sk-toggleable__control sk-hidden--visually\" id=\"sk-estimator-id-101\" type=\"checkbox\" ><label for=\"sk-estimator-id-101\" class=\"sk-toggleable__label fitted sk-toggleable__label-arrow fitted\">&nbsp;OneHotEncoder<a class=\"sk-estimator-doc-link fitted\" rel=\"noreferrer\" target=\"_blank\" href=\"https://scikit-learn.org/1.4/modules/generated/sklearn.preprocessing.OneHotEncoder.html\">?<span>Documentation for OneHotEncoder</span></a></label><div class=\"sk-toggleable__content fitted\"><pre>OneHotEncoder(handle_unknown=&#x27;ignore&#x27;)</pre></div> </div></div></div></div></div></div></div></div></div><div class=\"sk-item\"><div class=\"sk-estimator fitted sk-toggleable\"><input class=\"sk-toggleable__control sk-hidden--visually\" id=\"sk-estimator-id-102\" type=\"checkbox\" ><label for=\"sk-estimator-id-102\" class=\"sk-toggleable__label fitted sk-toggleable__label-arrow fitted\">&nbsp;GradientBoostingClassifier<a class=\"sk-estimator-doc-link fitted\" rel=\"noreferrer\" target=\"_blank\" href=\"https://scikit-learn.org/1.4/modules/generated/sklearn.ensemble.GradientBoostingClassifier.html\">?<span>Documentation for GradientBoostingClassifier</span></a></label><div class=\"sk-toggleable__content fitted\"><pre>GradientBoostingClassifier()</pre></div> </div></div></div></div></div></div>"
      ],
      "text/plain": [
       "Pipeline(steps=[('columntransformer',\n",
       "                 ColumnTransformer(transformers=[('pipeline-1',\n",
       "                                                  Pipeline(steps=[('simpleimputer',\n",
       "                                                                   SimpleImputer()),\n",
       "                                                                  ('minmaxscaler',\n",
       "                                                                   MinMaxScaler())]),\n",
       "                                                  <sklearn.compose._column_transformer.make_column_selector object at 0x7fd993366140>),\n",
       "                                                 ('pipeline-2',\n",
       "                                                  Pipeline(steps=[('simpleimputer',\n",
       "                                                                   SimpleImputer(strategy='most_frequent')),\n",
       "                                                                  ('onehotencoder',\n",
       "                                                                   OneHotEncoder(handle_unknown='ignore'))]),\n",
       "                                                  <sklearn.compose._column_transformer.make_column_selector object at 0x7fd9933881c0>)])),\n",
       "                ('gradientboostingclassifier', GradientBoostingClassifier())])"
      ]
     },
     "execution_count": 266,
     "metadata": {},
     "output_type": "execute_result"
    }
   ],
   "source": [
    "pipe_selected.fit(X_train, y_train)"
   ]
  },
  {
   "cell_type": "code",
   "execution_count": 267,
   "id": "459f70a7-abbd-494e-aa02-971bfaa4511f",
   "metadata": {},
   "outputs": [],
   "source": [
    "y_pred = pipe_selected.predict(X_test)"
   ]
  },
  {
   "cell_type": "code",
   "execution_count": 268,
   "id": "a412723b-2b72-4a87-bdd6-dc530bfaf784",
   "metadata": {},
   "outputs": [
    {
     "data": {
      "text/plain": [
       "(8789, 13589)"
      ]
     },
     "execution_count": 268,
     "metadata": {},
     "output_type": "execute_result"
    }
   ],
   "source": [
    "(y_pred.sum(), y_test.sum())"
   ]
  },
  {
   "cell_type": "code",
   "execution_count": 269,
   "id": "a71bb3fe-9991-459a-83c5-f94fe09b4c26",
   "metadata": {
    "scrolled": true
   },
   "outputs": [
    {
     "name": "stdout",
     "output_type": "stream",
     "text": [
      "Accuracy: 0.8329961669505963\n",
      "Precision: 0.9161451814768461\n",
      "Recall: 0.5925380822724262\n",
      "F1-score: 0.7196353561533649\n",
      "Confusion Matrix:\n",
      " [[23242   737]\n",
      " [ 5537  8052]]\n"
     ]
    }
   ],
   "source": [
    "from sklearn.metrics import accuracy_score, precision_score, recall_score, f1_score, confusion_matrix\n",
    "# Assuming y_test contains the actual labels\n",
    "accuracy = accuracy_score(y_test, y_pred)\n",
    "precision = precision_score(y_test, y_pred)\n",
    "recall = recall_score(y_test, y_pred)\n",
    "f1 = f1_score(y_test, y_pred)\n",
    "conf_matrix = confusion_matrix(y_test, y_pred)\n",
    "\n",
    "print(\"Accuracy:\", accuracy)\n",
    "print(\"Precision:\", precision)\n",
    "print(\"Recall:\", recall)\n",
    "print(\"F1-score:\", f1)\n",
    "print(\"Confusion Matrix:\\n\", conf_matrix)"
   ]
  },
  {
   "cell_type": "code",
   "execution_count": 89,
   "id": "c68db9a7-f911-4781-8664-18dc4343d81a",
   "metadata": {},
   "outputs": [],
   "source": [
    "# # Get the Random Forest model from the pipeline\n",
    "# rf_model = pipe_selected.named_steps['randomforestclassifier']\n",
    "\n",
    "# # Access feature importance from the Random Forest model\n",
    "# feature_importance = rf_model.feature_importances_\n",
    "\n",
    "# # Get the transformed feature names from OneHotEncoder\n",
    "# one_hot_encoder = preproc_baseline.named_transformers_['pipeline-2']['onehotencoder']\n",
    "\n",
    "# # Get the feature names after one-hot encoding\n",
    "# encoded_columns = one_hot_encoder.get_feature_names_out()"
   ]
  },
  {
   "cell_type": "code",
   "execution_count": 90,
   "id": "b4985131-5317-4bd7-be36-5fc8800acdd7",
   "metadata": {},
   "outputs": [],
   "source": [
    "# Get the original numerical column names\n",
    "numerical_columns = preproc_baseline.named_transformers_['pipeline-1']['simpleimputer'].get_feature_names_out()\n",
    "\n",
    "# Concatenate the numerical column names with the one-hot encoded column names\n",
    "all_column_names = list(numerical_columns) + list(encoded_columns)\n",
    "\n",
    "# Ensure that the length of the concatenated list matches the length of the feature_importance array\n",
    "assert len(all_column_names) == len(feature_importance), \"Lengths of column names and feature importance values do not match\""
   ]
  },
  {
   "cell_type": "code",
   "execution_count": 275,
   "id": "3e476249-9fb9-47d3-b6df-e0f2cbb3208d",
   "metadata": {},
   "outputs": [],
   "source": [
    "# Get Feature importance\n",
    "model = pipe_selected.named_steps['gradientboostingclassifier']\n",
    "\n",
    "feature_importance = model.feature_importances_\n",
    "one_hot_encoder = preproc_baseline.named_transformers_['pipeline-2']['onehotencoder']\n",
    "encoded_columns = one_hot_encoder.get_feature_names_out()\n",
    "\n",
    "\n",
    "numerical_columns = preproc_baseline.named_transformers_['pipeline-1']['simpleimputer'].get_feature_names_out()\n",
    "all_column_names = list(numerical_columns) + list(encoded_columns)\n",
    "\n",
    "# Ensure that the length of the concatenated list matches the length of the feature_importance array\n",
    "assert len(all_column_names) == len(feature_importance), \"Lengths of column names and feature importance values do not match\""
   ]
  },
  {
   "cell_type": "code",
   "execution_count": 277,
   "id": "9a436c3b-b30b-4419-aa27-729917a11b50",
   "metadata": {},
   "outputs": [
    {
     "data": {
      "image/png": "[encoded data removed]",
      "text/plain": [
       "<Figure size 1000x600 with 1 Axes>"
      ]
     },
     "metadata": {},
     "output_type": "display_data"
    }
   ],
   "source": [
    "# Pair feature importance scores with corresponding column names\n",
    "feature_importance_df = pd.DataFrame({'Feature': all_column_names, 'Importance': feature_importance})\n",
    "\n",
    "# Sort the DataFrame by importance score in descending order\n",
    "feature_importance_df = feature_importance_df.sort_values(by='Importance', ascending=False)\n",
    "\n",
    "# Plot the feature importance\n",
    "plt.figure(figsize=(10, 6))\n",
    "plt.barh(feature_importance_df['Feature'][:20], feature_importance_df['Importance'][:20])\n",
    "plt.xlabel('Importance')\n",
    "plt.ylabel('Feature')\n",
    "plt.title('Top 20 Feature Importance')\n",
    "plt.show()"
   ]
  },
  {
   "cell_type": "code",
   "execution_count": null,
   "id": "0cabfba0-7190-48c8-9bd3-f557128ca1ee",
   "metadata": {},
   "outputs": [],
   "source": []
  },
  {
   "cell_type": "code",
   "execution_count": null,
   "id": "a5d67031-bd09-481b-8515-719132b6d40c",
   "metadata": {},
   "outputs": [],
   "source": []
  },
  {
   "cell_type": "markdown",
   "id": "5fa84d8c-4bb7-476d-af8a-b2e36a1e0122",
   "metadata": {},
   "source": [
    "## Save model"
   ]
  },
  {
   "cell_type": "code",
   "execution_count": 279,
   "id": "bd74a5b1-53ae-4bba-93c3-395b224de77b",
   "metadata": {},
   "outputs": [],
   "source": [
    "import pickle\n",
    "import joblib"
   ]
  },
  {
   "cell_type": "code",
   "execution_count": null,
   "id": "1cf1bd0c-1095-4a36-9b8f-d935f2103944",
   "metadata": {},
   "outputs": [],
   "source": [
    "# # Define the filename for your .pkl file\n",
    "# filename = '../clv_the_look/training/rf_model_v1.pkl'\n",
    "\n",
    "# # Save the trained model to a .pkl file\n",
    "# with open(filename, 'wb') as file:\n",
    "#     pickle.dump(pipe_randomforest, file)"
   ]
  },
  {
   "cell_type": "code",
   "execution_count": 284,
   "id": "f3038c02-f00c-42c9-a00a-90f6dfcd8acd",
   "metadata": {},
   "outputs": [],
   "source": [
    "filename = '../clv_the_look/training/rf_model_v2.pkl'\n",
    "\n",
    "# Save the trained model to a .pkl file\n",
    "with open(filename, 'wb') as file:\n",
    "    joblib.dump(pipe_selected, filename)"
   ]
  },
  {
   "cell_type": "code",
   "execution_count": 282,
   "id": "5934ac80-eb0b-4ecd-a227-57a20befa725",
   "metadata": {},
   "outputs": [
    {
     "data": {
      "text/html": [
       "<div>\n",
       "<style scoped>\n",
       "    .dataframe tbody tr th:only-of-type {\n",
       "        vertical-align: middle;\n",
       "    }\n",
       "\n",
       "    .dataframe tbody tr th {\n",
       "        vertical-align: top;\n",
       "    }\n",
       "\n",
       "    .dataframe thead th {\n",
       "        text-align: right;\n",
       "    }\n",
       "</style>\n",
       "<table border=\"1\" class=\"dataframe\">\n",
       "  <thead>\n",
       "    <tr style=\"text-align: right;\">\n",
       "      <th></th>\n",
       "      <th>status</th>\n",
       "      <th>gender</th>\n",
       "      <th>num_of_item</th>\n",
       "      <th>delivery_days</th>\n",
       "      <th>weekday_ordered</th>\n",
       "      <th>weekday_delivered</th>\n",
       "      <th>returned?</th>\n",
       "      <th>shipped?</th>\n",
       "      <th>delivered?</th>\n",
       "      <th>return_cumsum</th>\n",
       "      <th>...</th>\n",
       "      <th>sale_price</th>\n",
       "      <th>retail_price</th>\n",
       "      <th>category_preffered</th>\n",
       "      <th>dept_pref</th>\n",
       "      <th>browser_pref</th>\n",
       "      <th>avg_distance</th>\n",
       "      <th>sale_ratio</th>\n",
       "      <th>sin_MoSold</th>\n",
       "      <th>cos_MoSold</th>\n",
       "      <th>year</th>\n",
       "    </tr>\n",
       "  </thead>\n",
       "  <tbody>\n",
       "    <tr>\n",
       "      <th>44278</th>\n",
       "      <td>Shipped</td>\n",
       "      <td>F</td>\n",
       "      <td>1</td>\n",
       "      <td>1.0</td>\n",
       "      <td>0</td>\n",
       "      <td>NaN</td>\n",
       "      <td>0</td>\n",
       "      <td>1</td>\n",
       "      <td>0</td>\n",
       "      <td>0</td>\n",
       "      <td>...</td>\n",
       "      <td>8.650000</td>\n",
       "      <td>8.650000</td>\n",
       "      <td>Active</td>\n",
       "      <td>Women</td>\n",
       "      <td>Chrome</td>\n",
       "      <td>697.131070</td>\n",
       "      <td>1.0</td>\n",
       "      <td>-0.866025</td>\n",
       "      <td>5.000000e-01</td>\n",
       "      <td>2023</td>\n",
       "    </tr>\n",
       "    <tr>\n",
       "      <th>33823</th>\n",
       "      <td>Processing</td>\n",
       "      <td>F</td>\n",
       "      <td>1</td>\n",
       "      <td>NaN</td>\n",
       "      <td>0</td>\n",
       "      <td>NaN</td>\n",
       "      <td>0</td>\n",
       "      <td>0</td>\n",
       "      <td>0</td>\n",
       "      <td>0</td>\n",
       "      <td>...</td>\n",
       "      <td>16.990000</td>\n",
       "      <td>16.990000</td>\n",
       "      <td>Leggings</td>\n",
       "      <td>Women</td>\n",
       "      <td>Chrome</td>\n",
       "      <td>6766.487225</td>\n",
       "      <td>1.0</td>\n",
       "      <td>0.866025</td>\n",
       "      <td>-5.000000e-01</td>\n",
       "      <td>2023</td>\n",
       "    </tr>\n",
       "    <tr>\n",
       "      <th>38667</th>\n",
       "      <td>Returned</td>\n",
       "      <td>F</td>\n",
       "      <td>1</td>\n",
       "      <td>0.0</td>\n",
       "      <td>6</td>\n",
       "      <td>3.0</td>\n",
       "      <td>1</td>\n",
       "      <td>1</td>\n",
       "      <td>1</td>\n",
       "      <td>1</td>\n",
       "      <td>...</td>\n",
       "      <td>22.000000</td>\n",
       "      <td>22.000000</td>\n",
       "      <td>Intimates</td>\n",
       "      <td>Women</td>\n",
       "      <td>IE</td>\n",
       "      <td>2108.707881</td>\n",
       "      <td>1.0</td>\n",
       "      <td>-0.500000</td>\n",
       "      <td>8.660254e-01</td>\n",
       "      <td>2023</td>\n",
       "    </tr>\n",
       "    <tr>\n",
       "      <th>93740</th>\n",
       "      <td>Processing</td>\n",
       "      <td>M</td>\n",
       "      <td>1</td>\n",
       "      <td>NaN</td>\n",
       "      <td>1</td>\n",
       "      <td>NaN</td>\n",
       "      <td>0</td>\n",
       "      <td>0</td>\n",
       "      <td>0</td>\n",
       "      <td>0</td>\n",
       "      <td>...</td>\n",
       "      <td>52.000000</td>\n",
       "      <td>52.000000</td>\n",
       "      <td>Sweaters</td>\n",
       "      <td>Men</td>\n",
       "      <td>Chrome</td>\n",
       "      <td>7317.056215</td>\n",
       "      <td>1.0</td>\n",
       "      <td>-0.866025</td>\n",
       "      <td>5.000000e-01</td>\n",
       "      <td>2023</td>\n",
       "    </tr>\n",
       "    <tr>\n",
       "      <th>96562</th>\n",
       "      <td>Processing</td>\n",
       "      <td>M</td>\n",
       "      <td>1</td>\n",
       "      <td>NaN</td>\n",
       "      <td>3</td>\n",
       "      <td>NaN</td>\n",
       "      <td>0</td>\n",
       "      <td>0</td>\n",
       "      <td>0</td>\n",
       "      <td>0</td>\n",
       "      <td>...</td>\n",
       "      <td>39.990002</td>\n",
       "      <td>39.990002</td>\n",
       "      <td>Pants</td>\n",
       "      <td>Men</td>\n",
       "      <td>Safari</td>\n",
       "      <td>1607.598233</td>\n",
       "      <td>1.0</td>\n",
       "      <td>-1.000000</td>\n",
       "      <td>-1.836970e-16</td>\n",
       "      <td>2020</td>\n",
       "    </tr>\n",
       "    <tr>\n",
       "      <th>...</th>\n",
       "      <td>...</td>\n",
       "      <td>...</td>\n",
       "      <td>...</td>\n",
       "      <td>...</td>\n",
       "      <td>...</td>\n",
       "      <td>...</td>\n",
       "      <td>...</td>\n",
       "      <td>...</td>\n",
       "      <td>...</td>\n",
       "      <td>...</td>\n",
       "      <td>...</td>\n",
       "      <td>...</td>\n",
       "      <td>...</td>\n",
       "      <td>...</td>\n",
       "      <td>...</td>\n",
       "      <td>...</td>\n",
       "      <td>...</td>\n",
       "      <td>...</td>\n",
       "      <td>...</td>\n",
       "      <td>...</td>\n",
       "      <td>...</td>\n",
       "    </tr>\n",
       "    <tr>\n",
       "      <th>19703</th>\n",
       "      <td>Complete</td>\n",
       "      <td>F</td>\n",
       "      <td>1</td>\n",
       "      <td>0.0</td>\n",
       "      <td>6</td>\n",
       "      <td>3.0</td>\n",
       "      <td>0</td>\n",
       "      <td>1</td>\n",
       "      <td>1</td>\n",
       "      <td>0</td>\n",
       "      <td>...</td>\n",
       "      <td>223.970001</td>\n",
       "      <td>223.970001</td>\n",
       "      <td>Blazers &amp; Jackets</td>\n",
       "      <td>Women</td>\n",
       "      <td>Firefox</td>\n",
       "      <td>11945.078142</td>\n",
       "      <td>1.0</td>\n",
       "      <td>0.500000</td>\n",
       "      <td>-8.660254e-01</td>\n",
       "      <td>2022</td>\n",
       "    </tr>\n",
       "    <tr>\n",
       "      <th>122067</th>\n",
       "      <td>Shipped</td>\n",
       "      <td>M</td>\n",
       "      <td>2</td>\n",
       "      <td>1.0</td>\n",
       "      <td>3</td>\n",
       "      <td>NaN</td>\n",
       "      <td>0</td>\n",
       "      <td>1</td>\n",
       "      <td>0</td>\n",
       "      <td>1</td>\n",
       "      <td>...</td>\n",
       "      <td>52.990000</td>\n",
       "      <td>52.990000</td>\n",
       "      <td>Sleep &amp; Lounge</td>\n",
       "      <td>Men</td>\n",
       "      <td>Chrome</td>\n",
       "      <td>8597.101428</td>\n",
       "      <td>1.0</td>\n",
       "      <td>-0.500000</td>\n",
       "      <td>8.660254e-01</td>\n",
       "      <td>2021</td>\n",
       "    </tr>\n",
       "    <tr>\n",
       "      <th>46144</th>\n",
       "      <td>Shipped</td>\n",
       "      <td>F</td>\n",
       "      <td>1</td>\n",
       "      <td>2.0</td>\n",
       "      <td>4</td>\n",
       "      <td>NaN</td>\n",
       "      <td>0</td>\n",
       "      <td>1</td>\n",
       "      <td>0</td>\n",
       "      <td>0</td>\n",
       "      <td>...</td>\n",
       "      <td>89.989998</td>\n",
       "      <td>89.989998</td>\n",
       "      <td>Dresses</td>\n",
       "      <td>Women</td>\n",
       "      <td>IE</td>\n",
       "      <td>1335.036467</td>\n",
       "      <td>1.0</td>\n",
       "      <td>0.866025</td>\n",
       "      <td>5.000000e-01</td>\n",
       "      <td>2021</td>\n",
       "    </tr>\n",
       "    <tr>\n",
       "      <th>54460</th>\n",
       "      <td>Shipped</td>\n",
       "      <td>F</td>\n",
       "      <td>2</td>\n",
       "      <td>1.0</td>\n",
       "      <td>0</td>\n",
       "      <td>NaN</td>\n",
       "      <td>0</td>\n",
       "      <td>1</td>\n",
       "      <td>0</td>\n",
       "      <td>0</td>\n",
       "      <td>...</td>\n",
       "      <td>79.489998</td>\n",
       "      <td>79.489998</td>\n",
       "      <td>Intimates</td>\n",
       "      <td>Women</td>\n",
       "      <td>Chrome</td>\n",
       "      <td>7403.649519</td>\n",
       "      <td>1.0</td>\n",
       "      <td>0.500000</td>\n",
       "      <td>-8.660254e-01</td>\n",
       "      <td>2020</td>\n",
       "    </tr>\n",
       "    <tr>\n",
       "      <th>119066</th>\n",
       "      <td>Shipped</td>\n",
       "      <td>M</td>\n",
       "      <td>1</td>\n",
       "      <td>0.0</td>\n",
       "      <td>0</td>\n",
       "      <td>NaN</td>\n",
       "      <td>0</td>\n",
       "      <td>1</td>\n",
       "      <td>0</td>\n",
       "      <td>0</td>\n",
       "      <td>...</td>\n",
       "      <td>120.000000</td>\n",
       "      <td>120.000000</td>\n",
       "      <td>Sweaters</td>\n",
       "      <td>Men</td>\n",
       "      <td>Chrome</td>\n",
       "      <td>3330.182368</td>\n",
       "      <td>1.0</td>\n",
       "      <td>0.500000</td>\n",
       "      <td>-8.660254e-01</td>\n",
       "      <td>2023</td>\n",
       "    </tr>\n",
       "  </tbody>\n",
       "</table>\n",
       "<p>37568 rows × 33 columns</p>\n",
       "</div>"
      ],
      "text/plain": [
       "            status gender  num_of_item  delivery_days  weekday_ordered  \\\n",
       "44278      Shipped      F            1            1.0                0   \n",
       "33823   Processing      F            1            NaN                0   \n",
       "38667     Returned      F            1            0.0                6   \n",
       "93740   Processing      M            1            NaN                1   \n",
       "96562   Processing      M            1            NaN                3   \n",
       "...            ...    ...          ...            ...              ...   \n",
       "19703     Complete      F            1            0.0                6   \n",
       "122067     Shipped      M            2            1.0                3   \n",
       "46144      Shipped      F            1            2.0                4   \n",
       "54460      Shipped      F            2            1.0                0   \n",
       "119066     Shipped      M            1            0.0                0   \n",
       "\n",
       "        weekday_delivered  returned?  shipped?  delivered?  return_cumsum  \\\n",
       "44278                 NaN          0         1           0              0   \n",
       "33823                 NaN          0         0           0              0   \n",
       "38667                 3.0          1         1           1              1   \n",
       "93740                 NaN          0         0           0              0   \n",
       "96562                 NaN          0         0           0              0   \n",
       "...                   ...        ...       ...         ...            ...   \n",
       "19703                 3.0          0         1           1              0   \n",
       "122067                NaN          0         1           0              1   \n",
       "46144                 NaN          0         1           0              0   \n",
       "54460                 NaN          0         1           0              0   \n",
       "119066                NaN          0         1           0              0   \n",
       "\n",
       "        ...  sale_price  retail_price category_preffered dept_pref  \\\n",
       "44278   ...    8.650000      8.650000             Active     Women   \n",
       "33823   ...   16.990000     16.990000           Leggings     Women   \n",
       "38667   ...   22.000000     22.000000          Intimates     Women   \n",
       "93740   ...   52.000000     52.000000           Sweaters       Men   \n",
       "96562   ...   39.990002     39.990002              Pants       Men   \n",
       "...     ...         ...           ...                ...       ...   \n",
       "19703   ...  223.970001    223.970001  Blazers & Jackets     Women   \n",
       "122067  ...   52.990000     52.990000     Sleep & Lounge       Men   \n",
       "46144   ...   89.989998     89.989998            Dresses     Women   \n",
       "54460   ...   79.489998     79.489998          Intimates     Women   \n",
       "119066  ...  120.000000    120.000000           Sweaters       Men   \n",
       "\n",
       "        browser_pref  avg_distance  sale_ratio  sin_MoSold    cos_MoSold  year  \n",
       "44278         Chrome    697.131070         1.0   -0.866025  5.000000e-01  2023  \n",
       "33823         Chrome   6766.487225         1.0    0.866025 -5.000000e-01  2023  \n",
       "38667             IE   2108.707881         1.0   -0.500000  8.660254e-01  2023  \n",
       "93740         Chrome   7317.056215         1.0   -0.866025  5.000000e-01  2023  \n",
       "96562         Safari   1607.598233         1.0   -1.000000 -1.836970e-16  2020  \n",
       "...              ...           ...         ...         ...           ...   ...  \n",
       "19703        Firefox  11945.078142         1.0    0.500000 -8.660254e-01  2022  \n",
       "122067        Chrome   8597.101428         1.0   -0.500000  8.660254e-01  2021  \n",
       "46144             IE   1335.036467         1.0    0.866025  5.000000e-01  2021  \n",
       "54460         Chrome   7403.649519         1.0    0.500000 -8.660254e-01  2020  \n",
       "119066        Chrome   3330.182368         1.0    0.500000 -8.660254e-01  2023  \n",
       "\n",
       "[37568 rows x 33 columns]"
      ]
     },
     "execution_count": 282,
     "metadata": {},
     "output_type": "execute_result"
    }
   ],
   "source": [
    "## input csv\n",
    "\n",
    "X_test.to_csv('../clv_the_look/training/input_X_test.csv', index=False, encoding='utf-8')\n",
    "\n",
    "X_test"
   ]
  },
  {
   "cell_type": "markdown",
   "id": "c98bc6e9-1bce-4de0-ab10-22c31d0601b0",
   "metadata": {
    "jp-MarkdownHeadingCollapsed": true
   },
   "source": [
    "## Try KNN"
   ]
  },
  {
   "cell_type": "code",
   "execution_count": null,
   "id": "628cd8e6-25ce-499d-bd9f-e8984a342ae3",
   "metadata": {},
   "outputs": [],
   "source": [
    "test_country_event = events_df.groupby(by='user_id')['traffic_source'].nunique().reset_index()"
   ]
  },
  {
   "cell_type": "code",
   "execution_count": null,
   "id": "bb06ac49-384c-40c7-94a2-fd1b0f62dc3b",
   "metadata": {},
   "outputs": [],
   "source": [
    "event_types_list = ['product','cart','department','purchase','cancel','home']\n",
    "\n",
    "for idx, type in enumerate(event_types_list):\n",
    "    print(idx, type)"
   ]
  },
  {
   "cell_type": "code",
   "execution_count": null,
   "id": "8fa5650e-8497-48aa-b400-cbf9a97cc75a",
   "metadata": {},
   "outputs": [],
   "source": [
    "def cluster_event_df(events_df):\n",
    "    '''\n",
    "    Returns most used browser per user_id\n",
    "    '''\n",
    "    \n",
    "    events_df = events_df[events_df['user_id'].notna()].copy()\n",
    "    events_df['created_at'] = pd.to_datetime(events_df['created_at'], format='mixed').dt.tz_localize(None)\n",
    "\n",
    "    # base\n",
    "    base = events_df.groupby('user_id')['session_id'].nunique().reset_index(name='sessions')\n",
    "    \n",
    "    # Preffered browser\n",
    "    count_browser = events_df.groupby(['user_id', 'browser']).size().reset_index(name='count')\n",
    "    max_count_index = count_browser.groupby('user_id')['count'].idxmax()\n",
    "    preferred_browser = count_browser.loc[max_count_index]\n",
    "    pref_brsr_no_duplicates = preferred_browser.drop_duplicates(subset=['user_id']).rename(columns={'browser':'browser_pref'})\n",
    "    base = base.merge(pref_brsr_no_duplicates[['user_id','browser_pref']],on='user_id',how='left')\n",
    "\n",
    "    # types of events\n",
    "    event_types_list = ['product','cart','department','purchase','cancel','home']\n",
    "    \n",
    "    for type in event_types_list:\n",
    "        column_ = type + '_counts'\n",
    "        user_behaviour = events_df[events_df['event_type']==type].groupby(by='user_id')['session_id'].nunique().reset_index(name=column_)\n",
    "        base = base.merge(user_behaviour, on='user_id', how='left')\n",
    "    \n",
    "    \n",
    "    return base"
   ]
  },
  {
   "cell_type": "code",
   "execution_count": null,
   "id": "45db75c1-3c5c-435c-9de3-7142db45f62d",
   "metadata": {},
   "outputs": [],
   "source": [
    "select_user_columns(users_df)"
   ]
  },
  {
   "cell_type": "code",
   "execution_count": null,
   "id": "a33baa4d-3783-466c-8c41-03ff805f5ce3",
   "metadata": {},
   "outputs": [],
   "source": [
    "item_product_df.created_at.dt.year"
   ]
  },
  {
   "cell_type": "code",
   "execution_count": null,
   "id": "160055dc-7956-4436-bd00-f129a436fdd9",
   "metadata": {},
   "outputs": [],
   "source": [
    "def cluser_item_product_agg(item_product_df):\n",
    "    '''\n",
    "    to user level\n",
    "    '''\n",
    "\n",
    "    base = item_level_df[['user_id','order_item_id']].groupby('user_id').count().fillna(0).rename(columns={'order_item_id':'num_order_items'}).reset_index()\n",
    "    \n",
    "    # order revenue\n",
    "    revenue = item_level_df.groupby(by='user_id')['sale_price'].sum().reset_index(name='total_sales')\n",
    "    base = base.merge(revenue, on='user_id', how='left') \n",
    "    \n",
    "    # order retail_price\n",
    "    retail_price = item_level_df.groupby(by='user_id')['retail_price'].sum().reset_index(name='total_retail_price')\n",
    "    base = base.merge(retail_price, on='user_id', how='left') \n",
    "\n",
    "    # total_orders\n",
    "    total_orders = item_level_df.groupby(by='user_id')['order_id'].nunique().reset_index(name='total_orders')\n",
    "    base = base.merge(total_orders, on='user_id', how='left')\n",
    "\n",
    "    # total_brands\n",
    "    total_brands = item_level_df.groupby(by='user_id')['brand'].nunique().reset_index(name='total_num_brands')\n",
    "    base = base.merge(total_brands, on='user_id', how='left')\n",
    "\n",
    "    # firt order created at year, month\n",
    "    year = item_level_df.groupby(by='user_id')['created_at'].min().reset_index(name='min_order_created_at')\n",
    "    year['min_order_created_year'] = year.min_order_created_at.dt.year\n",
    "    year['min_order_created_month'] = year.min_order_created_at.dt.month\n",
    "    base = base.merge(year, on='user_id', how='left')\n",
    "\n",
    "    base['abv'] = base.total_sales / base.total_orders\n",
    "\n",
    "    # total_period\n",
    "    max_date = item_level_df['created_at'].max()\n",
    "    base['customer_T'] = (max_date - base['min_order_created_at']).dt.days\n",
    "    \n",
    "    \n",
    "    \n",
    "    # Most frequent category\n",
    "    count_cat = item_level_df.groupby(['user_id', 'category']).size().reset_index(name='count')\n",
    "    # Find the index of the row with the maximum count for each user\n",
    "    max_count_index = count_cat.groupby('user_id')['count'].idxmax()\n",
    "    # Extract the rows corresponding to the maximum counts\n",
    "    preferred_categories = count_cat.loc[max_count_index]\n",
    "    # remove duplicates\n",
    "    pref_cat_no_duplicates = preferred_categories.drop_duplicates(subset=['user_id']).rename(columns={'category':'category_preffered'})\n",
    "\n",
    "    base = base.merge(pref_cat_no_duplicates[['user_id','category_preffered']],on='user_id',how='left')            \n",
    "\n",
    "\n",
    "    # Department\n",
    "    # Most frequent category\n",
    "    count_dept = item_level_df.groupby(['user_id', 'department']).size().reset_index(name='count')\n",
    "    # Find the index of the row with the maximum count for each user\n",
    "    max_count_index_dept = count_dept.groupby('user_id')['count'].idxmax()\n",
    "    # Extract the rows corresponding to the maximum counts\n",
    "    preferred_dept = count_dept.loc[max_count_index_dept]\n",
    "    # remove duplicates\n",
    "    pref_dept_no_duplicates = preferred_dept.drop_duplicates(subset=['user_id']).rename(columns={'department':'dept_pref'})\n",
    "\n",
    "    base = base.merge(pref_dept_no_duplicates[['user_id','dept_pref']],on='user_id',how='left')    \n",
    "    \n",
    "    return base"
   ]
  },
  {
   "cell_type": "code",
   "execution_count": null,
   "id": "fca7b36e-6e14-4a1b-b487-f1a3eed02d8a",
   "metadata": {},
   "outputs": [],
   "source": [
    "item_product_df = join_tables_item_level(order_items_df, products_df)"
   ]
  },
  {
   "cell_type": "code",
   "execution_count": null,
   "id": "ec6d5bfa-5589-464d-aec9-0092b31556fb",
   "metadata": {},
   "outputs": [],
   "source": [
    "test = cluser_item_product_agg(item_product_df)"
   ]
  },
  {
   "cell_type": "markdown",
   "id": "d9d0e8e7-fe96-4a50-930b-f1acd1c84d4f",
   "metadata": {
    "jp-MarkdownHeadingCollapsed": true
   },
   "source": [
    "## Data Prep for Clustering"
   ]
  },
  {
   "cell_type": "code",
   "execution_count": null,
   "id": "bae7951d-ae18-4b9b-8c4c-6eaba27bbbfc",
   "metadata": {},
   "outputs": [],
   "source": [
    "user_prep = select_user_columns(users_df)\n",
    "event_prep = cluster_event_df(events_df)\n",
    "item_product_df = join_tables_item_level(order_items_df, products_df)\n",
    "order_prep = cluser_item_product_agg(item_product_df)"
   ]
  },
  {
   "cell_type": "code",
   "execution_count": null,
   "id": "566090b7-92d0-46d3-82b8-579ccf3c61db",
   "metadata": {},
   "outputs": [],
   "source": [
    "## Join all of them\n",
    "\n",
    "input_prep = user_prep.copy()\n",
    "input_prep = input_prep.merge(event_prep, on='user_id', how='left')\n",
    "input_prep = input_prep.merge(order_prep, on='user_id', how='left')\n",
    "\n",
    "columns_excl = ['user_id','user_created_at','min_order_created_at','min_order_created_at']\n",
    "\n",
    "input_prep = input_prep.drop(columns=columns_excl)\n",
    "input_prep.info()"
   ]
  },
  {
   "cell_type": "code",
   "execution_count": null,
   "id": "d13df101-014a-43e6-b496-cff34d7c4e47",
   "metadata": {},
   "outputs": [],
   "source": [
    "input_prep.isna().sum()"
   ]
  },
  {
   "cell_type": "code",
   "execution_count": null,
   "id": "0097768a-6ffb-4653-9376-2fe2f71d11b2",
   "metadata": {},
   "outputs": [],
   "source": []
  },
  {
   "cell_type": "code",
   "execution_count": null,
   "id": "cbfee90b-b722-408f-8be4-4247e385552b",
   "metadata": {},
   "outputs": [],
   "source": [
    "input_prep['total_orders'].value_counts()"
   ]
  },
  {
   "cell_type": "markdown",
   "id": "27ea1307-9070-4a9a-95ef-d8dd7c6837f5",
   "metadata": {
    "jp-MarkdownHeadingCollapsed": true
   },
   "source": [
    "## preprocessing, fit, predict"
   ]
  },
  {
   "cell_type": "code",
   "execution_count": null,
   "id": "ae8425c2-3b1c-497f-b945-ea4dc4ca3522",
   "metadata": {},
   "outputs": [],
   "source": [
    "km_input = preproc_baseline.fit_transform(input_prep)"
   ]
  },
  {
   "cell_type": "code",
   "execution_count": null,
   "id": "98126496-c69d-4e33-b5eb-f3a9dce4dd13",
   "metadata": {},
   "outputs": [],
   "source": [
    "prepped_values = pd.DataFrame(km_input.toarray())"
   ]
  },
  {
   "cell_type": "code",
   "execution_count": null,
   "id": "a8683cb1-cbb4-4a8d-acc2-dbcb15cd2262",
   "metadata": {},
   "outputs": [],
   "source": [
    "sns.heatmap(prepped_values.corr(), cmap='coolwarm')"
   ]
  },
  {
   "cell_type": "code",
   "execution_count": null,
   "id": "e4b9463f-3542-4909-81d3-36cb021d76bf",
   "metadata": {},
   "outputs": [],
   "source": [
    "km_input.shape"
   ]
  },
  {
   "cell_type": "code",
   "execution_count": null,
   "id": "cf17cf90-5785-4df9-a635-18f17e2356a5",
   "metadata": {},
   "outputs": [],
   "source": [
    "km = KMeans(n_clusters=4)\n",
    "km.fit(km_input)"
   ]
  },
  {
   "cell_type": "code",
   "execution_count": null,
   "id": "2b486719-7542-41fb-b53a-2235604d0dd9",
   "metadata": {},
   "outputs": [],
   "source": [
    "cluster_labels= km.predict(km_input)\n",
    "cluster_labels"
   ]
  },
  {
   "cell_type": "code",
   "execution_count": null,
   "id": "cbd0758c-763f-4796-9b4a-57c96b9766fe",
   "metadata": {},
   "outputs": [],
   "source": [
    "centroids = km.cluster_centers_\n",
    "centroids.shape"
   ]
  },
  {
   "cell_type": "code",
   "execution_count": null,
   "id": "dcbaa528-6cb0-49c9-b034-bb3ddd133ec2",
   "metadata": {},
   "outputs": [],
   "source": [
    "unique, counts = np.unique(cluster_labels, return_counts=True)\n",
    "cluster_counts = dict(zip(unique, counts))\n",
    "print(cluster_counts)"
   ]
  },
  {
   "cell_type": "markdown",
   "id": "69ddc74c-7c82-4d37-9286-c9f163b17736",
   "metadata": {
    "jp-MarkdownHeadingCollapsed": true
   },
   "source": [
    "## Trying DeepLearning"
   ]
  },
  {
   "cell_type": "code",
   "execution_count": 93,
   "id": "c7133708-fab6-4abf-9a59-68efc23a5424",
   "metadata": {
    "scrolled": true
   },
   "outputs": [
    {
     "name": "stderr",
     "output_type": "stream",
     "text": [
      "2024-03-11 11:18:34.527973: I tensorflow/core/util/port.cc:113] oneDNN custom operations are on. You may see slightly different numerical results due to floating-point round-off errors from different computation orders. To turn them off, set the environment variable `TF_ENABLE_ONEDNN_OPTS=0`.\n",
      "2024-03-11 11:18:34.553668: I external/local_tsl/tsl/cuda/cudart_stub.cc:31] Could not find cuda drivers on your machine, GPU will not be used.\n",
      "2024-03-11 11:18:34.681195: E external/local_xla/xla/stream_executor/cuda/cuda_dnn.cc:9261] Unable to register cuDNN factory: Attempting to register factory for plugin cuDNN when one has already been registered\n",
      "2024-03-11 11:18:34.681229: E external/local_xla/xla/stream_executor/cuda/cuda_fft.cc:607] Unable to register cuFFT factory: Attempting to register factory for plugin cuFFT when one has already been registered\n",
      "2024-03-11 11:18:34.706979: E external/local_xla/xla/stream_executor/cuda/cuda_blas.cc:1515] Unable to register cuBLAS factory: Attempting to register factory for plugin cuBLAS when one has already been registered\n",
      "2024-03-11 11:18:34.759985: I external/local_tsl/tsl/cuda/cudart_stub.cc:31] Could not find cuda drivers on your machine, GPU will not be used.\n",
      "2024-03-11 11:18:34.761771: I tensorflow/core/platform/cpu_feature_guard.cc:182] This TensorFlow binary is optimized to use available CPU instructions in performance-critical operations.\n",
      "To enable the following instructions: AVX2 AVX_VNNI FMA, in other operations, rebuild TensorFlow with the appropriate compiler flags.\n",
      "2024-03-11 11:18:35.654097: W tensorflow/compiler/tf2tensorrt/utils/py_utils.cc:38] TF-TRT Warning: Could not find TensorRT\n"
     ]
    }
   ],
   "source": [
    "''' Imbalanced Classes'''\n",
    "import imblearn\n",
    "from imblearn.over_sampling import SMOTE\n",
    "from imblearn.under_sampling import RandomUnderSampler\n",
    "from imblearn.pipeline import Pipeline\n",
    "\n",
    "''' Tensorflow Keras'''\n",
    "from tensorflow import keras\n",
    "from tensorflow.keras import models\n",
    "from tensorflow.keras import layers\n",
    "from tensorflow.keras.callbacks import EarlyStopping\n",
    "from tensorflow.keras import regularizers\n",
    "from tensorflow.keras.optimizers import Adam\n",
    "from tensorflow.keras.optimizers.schedules import ExponentialDecay\n",
    "from tensorflow.keras.layers import Normalization\n",
    "from tensorflow.keras.metrics import Recall, Precision\n"
   ]
  },
  {
   "cell_type": "code",
   "execution_count": 95,
   "id": "eea5c642-66ca-474d-868b-585597aa2729",
   "metadata": {},
   "outputs": [
    {
     "data": {
      "text/html": [
       "<div>\n",
       "<style scoped>\n",
       "    .dataframe tbody tr th:only-of-type {\n",
       "        vertical-align: middle;\n",
       "    }\n",
       "\n",
       "    .dataframe tbody tr th {\n",
       "        vertical-align: top;\n",
       "    }\n",
       "\n",
       "    .dataframe thead th {\n",
       "        text-align: right;\n",
       "    }\n",
       "</style>\n",
       "<table border=\"1\" class=\"dataframe\">\n",
       "  <thead>\n",
       "    <tr style=\"text-align: right;\">\n",
       "      <th></th>\n",
       "      <th>status</th>\n",
       "      <th>gender</th>\n",
       "      <th>num_of_item</th>\n",
       "      <th>delivery_days</th>\n",
       "      <th>order_rank</th>\n",
       "      <th>next_order?</th>\n",
       "      <th>age</th>\n",
       "      <th>country</th>\n",
       "      <th>traffic_source</th>\n",
       "      <th>age_group</th>\n",
       "      <th>num_order_item</th>\n",
       "      <th>sale_price</th>\n",
       "      <th>retail_price</th>\n",
       "      <th>category_preffered</th>\n",
       "      <th>dept_pref</th>\n",
       "      <th>browser_pref</th>\n",
       "      <th>sin_MoSold</th>\n",
       "      <th>cos_MoSold</th>\n",
       "      <th>year</th>\n",
       "    </tr>\n",
       "  </thead>\n",
       "  <tbody>\n",
       "    <tr>\n",
       "      <th>0</th>\n",
       "      <td>Cancelled</td>\n",
       "      <td>F</td>\n",
       "      <td>3</td>\n",
       "      <td>NaN</td>\n",
       "      <td>1</td>\n",
       "      <td>False</td>\n",
       "      <td>52</td>\n",
       "      <td>Brasil</td>\n",
       "      <td>Organic</td>\n",
       "      <td>46_55</td>\n",
       "      <td>3</td>\n",
       "      <td>65.650000</td>\n",
       "      <td>65.650000</td>\n",
       "      <td>Shorts</td>\n",
       "      <td>Women</td>\n",
       "      <td>Chrome</td>\n",
       "      <td>-1.0</td>\n",
       "      <td>-1.836970e-16</td>\n",
       "      <td>2022</td>\n",
       "    </tr>\n",
       "    <tr>\n",
       "      <th>1</th>\n",
       "      <td>Cancelled</td>\n",
       "      <td>F</td>\n",
       "      <td>1</td>\n",
       "      <td>NaN</td>\n",
       "      <td>1</td>\n",
       "      <td>True</td>\n",
       "      <td>56</td>\n",
       "      <td>South Korea</td>\n",
       "      <td>Search</td>\n",
       "      <td>56_99</td>\n",
       "      <td>1</td>\n",
       "      <td>16.990000</td>\n",
       "      <td>16.990000</td>\n",
       "      <td>Maternity</td>\n",
       "      <td>Women</td>\n",
       "      <td>Firefox</td>\n",
       "      <td>0.0</td>\n",
       "      <td>1.000000e+00</td>\n",
       "      <td>2023</td>\n",
       "    </tr>\n",
       "    <tr>\n",
       "      <th>2</th>\n",
       "      <td>Cancelled</td>\n",
       "      <td>F</td>\n",
       "      <td>1</td>\n",
       "      <td>NaN</td>\n",
       "      <td>2</td>\n",
       "      <td>False</td>\n",
       "      <td>40</td>\n",
       "      <td>United States</td>\n",
       "      <td>Search</td>\n",
       "      <td>36_45</td>\n",
       "      <td>1</td>\n",
       "      <td>36.000000</td>\n",
       "      <td>36.000000</td>\n",
       "      <td>Sleep &amp; Lounge</td>\n",
       "      <td>Women</td>\n",
       "      <td>Chrome</td>\n",
       "      <td>-0.5</td>\n",
       "      <td>8.660254e-01</td>\n",
       "      <td>2021</td>\n",
       "    </tr>\n",
       "    <tr>\n",
       "      <th>3</th>\n",
       "      <td>Cancelled</td>\n",
       "      <td>F</td>\n",
       "      <td>1</td>\n",
       "      <td>NaN</td>\n",
       "      <td>1</td>\n",
       "      <td>False</td>\n",
       "      <td>59</td>\n",
       "      <td>China</td>\n",
       "      <td>Organic</td>\n",
       "      <td>56_99</td>\n",
       "      <td>1</td>\n",
       "      <td>49.990002</td>\n",
       "      <td>49.990002</td>\n",
       "      <td>Tops &amp; Tees</td>\n",
       "      <td>Women</td>\n",
       "      <td>Chrome</td>\n",
       "      <td>-0.5</td>\n",
       "      <td>-8.660254e-01</td>\n",
       "      <td>2020</td>\n",
       "    </tr>\n",
       "    <tr>\n",
       "      <th>4</th>\n",
       "      <td>Cancelled</td>\n",
       "      <td>F</td>\n",
       "      <td>2</td>\n",
       "      <td>NaN</td>\n",
       "      <td>2</td>\n",
       "      <td>False</td>\n",
       "      <td>16</td>\n",
       "      <td>Japan</td>\n",
       "      <td>Organic</td>\n",
       "      <td>16_25</td>\n",
       "      <td>2</td>\n",
       "      <td>43.190001</td>\n",
       "      <td>43.190001</td>\n",
       "      <td>Intimates</td>\n",
       "      <td>Women</td>\n",
       "      <td>Other</td>\n",
       "      <td>0.0</td>\n",
       "      <td>1.000000e+00</td>\n",
       "      <td>2023</td>\n",
       "    </tr>\n",
       "  </tbody>\n",
       "</table>\n",
       "</div>"
      ],
      "text/plain": [
       "      status gender  num_of_item  delivery_days  order_rank  next_order?  age  \\\n",
       "0  Cancelled      F            3            NaN           1        False   52   \n",
       "1  Cancelled      F            1            NaN           1         True   56   \n",
       "2  Cancelled      F            1            NaN           2        False   40   \n",
       "3  Cancelled      F            1            NaN           1        False   59   \n",
       "4  Cancelled      F            2            NaN           2        False   16   \n",
       "\n",
       "         country traffic_source age_group  num_order_item  sale_price  \\\n",
       "0         Brasil        Organic     46_55               3   65.650000   \n",
       "1    South Korea         Search     56_99               1   16.990000   \n",
       "2  United States         Search     36_45               1   36.000000   \n",
       "3          China        Organic     56_99               1   49.990002   \n",
       "4          Japan        Organic     16_25               2   43.190001   \n",
       "\n",
       "   retail_price category_preffered dept_pref browser_pref  sin_MoSold  \\\n",
       "0     65.650000             Shorts     Women       Chrome        -1.0   \n",
       "1     16.990000          Maternity     Women      Firefox         0.0   \n",
       "2     36.000000     Sleep & Lounge     Women       Chrome        -0.5   \n",
       "3     49.990002        Tops & Tees     Women       Chrome        -0.5   \n",
       "4     43.190001          Intimates     Women        Other         0.0   \n",
       "\n",
       "     cos_MoSold  year  \n",
       "0 -1.836970e-16  2022  \n",
       "1  1.000000e+00  2023  \n",
       "2  8.660254e-01  2021  \n",
       "3 -8.660254e-01  2020  \n",
       "4  1.000000e+00  2023  "
      ]
     },
     "execution_count": 95,
     "metadata": {},
     "output_type": "execute_result"
    }
   ],
   "source": [
    "X.head()"
   ]
  },
  {
   "cell_type": "code",
   "execution_count": 96,
   "id": "7b2c0c28-e155-4a6a-be0c-6bf5c18180a5",
   "metadata": {},
   "outputs": [],
   "source": [
    "# Preprocess\n",
    "X_t = preproc_baseline.fit_transform(X)"
   ]
  },
  {
   "cell_type": "code",
   "execution_count": 97,
   "id": "25b66e62-f345-46c3-aec6-699133a48a0f",
   "metadata": {},
   "outputs": [
    {
     "data": {
      "text/plain": [
       "array([[0.66666667, 0.50104496, 0.        , ..., 0.        , 0.        ,\n",
       "        0.        ],\n",
       "       [0.        , 0.50104496, 0.        , ..., 0.        , 0.        ,\n",
       "        0.        ],\n",
       "       [0.        , 0.50104496, 0.33333333, ..., 0.        , 0.        ,\n",
       "        0.        ],\n",
       "       ...,\n",
       "       [0.        , 0.50104496, 0.        , ..., 0.        , 0.        ,\n",
       "        0.        ],\n",
       "       [0.33333333, 0.50104496, 0.66666667, ..., 0.        , 0.        ,\n",
       "        0.        ],\n",
       "       [0.33333333, 0.50104496, 0.        , ..., 0.        , 0.        ,\n",
       "        0.        ]])"
      ]
     },
     "execution_count": 97,
     "metadata": {},
     "output_type": "execute_result"
    }
   ],
   "source": [
    "X_t.toarray()"
   ]
  },
  {
   "cell_type": "code",
   "execution_count": 98,
   "id": "f58bb40a-fecd-4311-887d-9a0e63dba3c2",
   "metadata": {},
   "outputs": [],
   "source": [
    "# Train test split before any resampling to keep real test set\n",
    "X_train, X_test, y_train, y_test = train_test_split(X_t, y_binary, test_size = 0.3)"
   ]
  },
  {
   "cell_type": "code",
   "execution_count": 99,
   "id": "956ce019-4c39-41a9-b5a6-12a8e7c3fe28",
   "metadata": {},
   "outputs": [],
   "source": [
    "X_train, X_val, y_train, y_val = train_test_split(X_train, y_train, test_size = 0.3)"
   ]
  },
  {
   "cell_type": "code",
   "execution_count": 100,
   "id": "cab6a197-68cc-441b-b86f-e4596d13cfd3",
   "metadata": {},
   "outputs": [],
   "source": [
    "X_train = X_train.toarray()\n",
    "X_val = X_val.toarray()"
   ]
  },
  {
   "cell_type": "code",
   "execution_count": 101,
   "id": "0bb9dce9-eb55-44d6-aa1c-452ef01d2b6c",
   "metadata": {},
   "outputs": [
    {
     "name": "stdout",
     "output_type": "stream",
     "text": [
      "22267\n",
      "9455\n",
      "13460\n",
      "----------------------------------------------------------------------------------------------------\n",
      "There are 22267 purchased users in the train set\n",
      "There are 9455 purchased users in the val set\n",
      "There are 13460 purchased users in the test set\n"
     ]
    }
   ],
   "source": [
    "# How many \"fraud\" samples do I have in each split?\n",
    "print(np.sum(y_train[y_train == 1]))\n",
    "print(np.sum(y_val[y_val == 1]))\n",
    "print(np.sum(y_test[y_test == 1]))\n",
    "\n",
    "print(\"-\"*100)\n",
    "\n",
    "print(f\"There are {pd.Series(y_train).value_counts()[1]} purchased users in the train set\")\n",
    "print(f\"There are {pd.Series(y_val).value_counts()[1]} purchased users in the val set\")\n",
    "print(f\"There are {pd.Series(y_test).value_counts()[1]} purchased users in the test set\")"
   ]
  },
  {
   "cell_type": "code",
   "execution_count": 102,
   "id": "3567d5b1-55ef-489e-a958-5b7c5530df67",
   "metadata": {},
   "outputs": [
    {
     "name": "stdout",
     "output_type": "stream",
     "text": [
      "(61360, 77)\n",
      "(26298, 77)\n"
     ]
    }
   ],
   "source": [
    "print(X_train.shape)\n",
    "print(X_val.shape)"
   ]
  },
  {
   "cell_type": "markdown",
   "id": "eb0697a7-d5a8-43fa-926c-27aeb5785e37",
   "metadata": {
    "jp-MarkdownHeadingCollapsed": true
   },
   "source": [
    "## Neural Network Iteration"
   ]
  },
  {
   "cell_type": "code",
   "execution_count": 103,
   "id": "45f22280-8985-494b-8733-59ebc72a39b4",
   "metadata": {},
   "outputs": [],
   "source": [
    "metrics = [\n",
    "    keras.metrics.Recall(name='recall'),\n",
    "    keras.metrics.Precision(name='precision'),\n",
    "    keras.metrics.AUC(name='prc', curve='PR'),  # precision-recall curve\n",
    "]"
   ]
  },
  {
   "cell_type": "code",
   "execution_count": 104,
   "id": "f03050d7-f590-4a07-9135-a69bffd791f2",
   "metadata": {},
   "outputs": [
    {
     "data": {
      "text/plain": [
       "(61360, 77)"
      ]
     },
     "execution_count": 104,
     "metadata": {},
     "output_type": "execute_result"
    }
   ],
   "source": [
    "X_train.shape"
   ]
  },
  {
   "cell_type": "code",
   "execution_count": 105,
   "id": "7a852ffd-32b3-4ecc-ac69-cd48fec711a1",
   "metadata": {},
   "outputs": [],
   "source": [
    "def init_model():\n",
    "    input_shape = X_train.shape[1:]\n",
    "    # normalizer = Normalization()\n",
    "    # normalizer.adapt(X_train)\n",
    "    \n",
    "    model = models.Sequential()\n",
    "    # model.add()\n",
    "    model.add(layers.Dense(64, activation='relu', input_shape=input_shape))\n",
    "    model.add(layers.Dropout(0.3))\n",
    "    model.add(layers.Dense(32, activation='relu'))\n",
    "    model.add(layers.Dropout(0.3))\n",
    "    model.add(layers.Dense(16, activation='relu'))\n",
    "    model.add(layers.Dropout(0.3))\n",
    "    model.add(layers.Dense(8, activation='relu'))\n",
    "    model.add(layers.Dropout(0.3))\n",
    "    model.add(layers.Dense(1, activation = 'sigmoid'))\n",
    "\n",
    "    # Model compilation\n",
    "    optimizer = Adam(learning_rate=0.0001)\n",
    "    model.compile(loss='binary_crossentropy',\n",
    "                  optimizer=optimizer,\n",
    "                  metrics=metrics)\n",
    "    return model"
   ]
  },
  {
   "cell_type": "markdown",
   "id": "ce3ef123-ae3c-4ab5-bbd8-e88c8a73d2ff",
   "metadata": {
    "jp-MarkdownHeadingCollapsed": true
   },
   "source": [
    "## Regularized model"
   ]
  },
  {
   "cell_type": "code",
   "execution_count": 106,
   "id": "7eb63894-ae42-4223-99bb-3449068f129d",
   "metadata": {},
   "outputs": [
    {
     "data": {
      "text/plain": [
       "[(61360, 77), (61360,)]"
      ]
     },
     "execution_count": 106,
     "metadata": {},
     "output_type": "execute_result"
    }
   ],
   "source": [
    "[X_train.shape, y_train.shape]"
   ]
  },
  {
   "cell_type": "code",
   "execution_count": 107,
   "id": "e63e3660-9388-4da6-b75f-10f314b86d34",
   "metadata": {
    "scrolled": true
   },
   "outputs": [
    {
     "data": {
      "text/plain": [
       "[(26298, 77), (26298,)]"
      ]
     },
     "execution_count": 107,
     "metadata": {},
     "output_type": "execute_result"
    }
   ],
   "source": [
    "[X_val.shape, y_val.shape]"
   ]
  },
  {
   "cell_type": "code",
   "execution_count": 108,
   "id": "715dfa80-2c8f-44c3-8123-7693986025f9",
   "metadata": {},
   "outputs": [
    {
     "name": "stdout",
     "output_type": "stream",
     "text": [
      "Epoch 1/100\n",
      "15340/15340 [==============================] - 21s 1ms/step - loss: 0.6602 - recall: 0.0155 - precision: 0.3376 - prc: 0.3697 - val_loss: 0.6478 - val_recall: 0.0000e+00 - val_precision: 0.0000e+00 - val_prc: 0.4414\n",
      "Epoch 2/100\n",
      "15340/15340 [==============================] - 20s 1ms/step - loss: 0.6494 - recall: 0.0000e+00 - precision: 0.0000e+00 - prc: 0.3991 - val_loss: 0.6389 - val_recall: 0.0000e+00 - val_precision: 0.0000e+00 - val_prc: 0.4609\n",
      "Epoch 3/100\n",
      "15340/15340 [==============================] - 20s 1ms/step - loss: 0.6436 - recall: 0.0000e+00 - precision: 0.0000e+00 - prc: 0.4327 - val_loss: 0.6340 - val_recall: 0.0000e+00 - val_precision: 0.0000e+00 - val_prc: 0.4706\n",
      "Epoch 4/100\n",
      "15340/15340 [==============================] - 20s 1ms/step - loss: 0.6386 - recall: 4.4910e-05 - precision: 1.0000 - prc: 0.4558 - val_loss: 0.6301 - val_recall: 0.0000e+00 - val_precision: 0.0000e+00 - val_prc: 0.4789\n",
      "Epoch 5/100\n",
      "15340/15340 [==============================] - 20s 1ms/step - loss: 0.6368 - recall: 0.0046 - precision: 0.4952 - prc: 0.4593 - val_loss: 0.6265 - val_recall: 0.0000e+00 - val_precision: 0.0000e+00 - val_prc: 0.4844\n",
      "Epoch 6/100\n",
      "15340/15340 [==============================] - 20s 1ms/step - loss: 0.6338 - recall: 0.0765 - precision: 0.5580 - prc: 0.4690 - val_loss: 0.6274 - val_recall: 0.0000e+00 - val_precision: 0.0000e+00 - val_prc: 0.4852\n",
      "Epoch 7/100\n",
      "15340/15340 [==============================] - 21s 1ms/step - loss: 0.6316 - recall: 0.1322 - precision: 0.5355 - prc: 0.4719 - val_loss: 0.6257 - val_recall: 0.0047 - val_precision: 0.6027 - val_prc: 0.4888\n",
      "Epoch 8/100\n",
      "15340/15340 [==============================] - 21s 1ms/step - loss: 0.6306 - recall: 0.1483 - precision: 0.5452 - prc: 0.4807 - val_loss: 0.6237 - val_recall: 0.0997 - val_precision: 0.5670 - val_prc: 0.4909\n",
      "Epoch 9/100\n",
      "15340/15340 [==============================] - 20s 1ms/step - loss: 0.6294 - recall: 0.1821 - precision: 0.5398 - prc: 0.4810 - val_loss: 0.6215 - val_recall: 0.1554 - val_precision: 0.5659 - val_prc: 0.4941\n",
      "Epoch 10/100\n",
      "15340/15340 [==============================] - 20s 1ms/step - loss: 0.6283 - recall: 0.2093 - precision: 0.5460 - prc: 0.4827 - val_loss: 0.6210 - val_recall: 0.1668 - val_precision: 0.5685 - val_prc: 0.4942\n",
      "Epoch 11/100\n",
      "15340/15340 [==============================] - 20s 1ms/step - loss: 0.6254 - recall: 0.2200 - precision: 0.5500 - prc: 0.4886 - val_loss: 0.6211 - val_recall: 0.2841 - val_precision: 0.5515 - val_prc: 0.4952\n"
     ]
    }
   ],
   "source": [
    "model = init_model()\n",
    "\n",
    "es = EarlyStopping(\n",
    "    patience=10,\n",
    "    monitor='val_recall', \n",
    "    restore_best_weights=True)\n",
    "\n",
    "history = model.fit(X_train, y_train,\n",
    "                    validation_data=(X_val, y_val),\n",
    "                    epochs=100,\n",
    "                    batch_size=4,\n",
    "                    callbacks=[es], shuffle=True)"
   ]
  },
  {
   "cell_type": "code",
   "execution_count": 109,
   "id": "c926a5bb-9f7f-456c-ba37-9b1b2409b499",
   "metadata": {},
   "outputs": [],
   "source": [
    "def plot_loss_precision_recall_curve(history):\n",
    "    \n",
    "    fig, ax =plt.subplots(1,3,figsize=(20,5))\n",
    "    \n",
    "    # --- LOSS\n",
    "    \n",
    "    ax[0].plot(history.history['loss'])\n",
    "    ax[0].plot(history.history['val_loss'])\n",
    "    ax[0].set_title('Model loss')\n",
    "    ax[0].set_xlabel('Epoch')\n",
    "    ax[0].set_ylabel('Loss')\n",
    "    ax[0].legend(['Train', 'Val'], loc='upper right')\n",
    "    ax[0].grid(axis=\"x\",linewidth=0.5)\n",
    "    ax[0].grid(axis=\"y\",linewidth=0.5)\n",
    "    \n",
    "    # --- RECALL\n",
    "\n",
    "    ax[1].plot(history.history['recall'])\n",
    "    ax[1].plot(history.history['val_recall'])\n",
    "    ax[1].set_title('Model recall', fontsize = 18)\n",
    "    ax[1].set_xlabel('Epoch', fontsize = 14)\n",
    "    ax[1].set_ylabel('Recall', fontsize = 14)\n",
    "    ax[1].legend(['Train', 'Val'], loc='lower right') \n",
    "    ax[1].grid(axis=\"x\",linewidth=0.5)\n",
    "    ax[1].grid(axis=\"y\",linewidth=0.5)\n",
    "\n",
    "    \n",
    "    # --- PRECISION\n",
    "    \n",
    "    \n",
    "    ax[2].plot(history.history['precision'])\n",
    "    ax[2].plot(history.history['val_precision'])\n",
    "    ax[2].set_title('Model precision', fontsize = 18)\n",
    "    ax[2].set_xlabel('Epoch', fontsize = 14)\n",
    "    ax[2].set_ylabel('Precision', fontsize = 14)\n",
    "    ax[2].legend(['Train', 'Val'], loc='lower right')  \n",
    "    ax[2].grid(axis=\"x\",linewidth=0.5)\n",
    "    ax[2].grid(axis=\"y\",linewidth=0.5)    \n",
    "    \n",
    "    plt.show()"
   ]
  },
  {
   "cell_type": "code",
   "execution_count": 110,
   "id": "33a26549-f27b-4332-a002-e0e13766345a",
   "metadata": {},
   "outputs": [
    {
     "data": {
      "image/png": "[encoded data removed]",
      "text/plain": [
       "<Figure size 2000x500 with 3 Axes>"
      ]
     },
     "metadata": {},
     "output_type": "display_data"
    }
   ],
   "source": [
    "plot_loss_precision_recall_curve(history)"
   ]
  },
  {
   "cell_type": "code",
   "execution_count": null,
   "id": "f27f9516-58f2-46fe-a8ac-9f1f76f9503b",
   "metadata": {},
   "outputs": [],
   "source": []
  },
  {
   "cell_type": "code",
   "execution_count": null,
   "id": "1b1343c8-e428-49b5-b47f-94420d98fe31",
   "metadata": {},
   "outputs": [],
   "source": []
  },
  {
   "cell_type": "markdown",
   "id": "0afc0045-21e2-4b1b-884b-e9ae68d158a0",
   "metadata": {
    "jp-MarkdownHeadingCollapsed": true
   },
   "source": [
    "## Score it"
   ]
  },
  {
   "cell_type": "code",
   "execution_count": 111,
   "id": "1993951a-e236-4bcb-9039-44e0b96e0613",
   "metadata": {},
   "outputs": [
    {
     "name": "stdout",
     "output_type": "stream",
     "text": [
      "WARNING:tensorflow:Keras is training/fitting/evaluating on array-like data. Keras may not be optimized for this format, so if your input data format is supported by TensorFlow I/O (https://github.com/tensorflow/io) we recommend using that to load a Dataset instead.\n"
     ]
    },
    {
     "name": "stderr",
     "output_type": "stream",
     "text": [
      "2024-03-11 11:23:45.003658: W tensorflow/core/framework/op_kernel.cc:1827] INVALID_ARGUMENT: TypeError: 'SparseTensor' object is not subscriptable\n",
      "Traceback (most recent call last):\n",
      "\n",
      "  File \"/home/jeongmin/.pyenv/versions/3.10.6/envs/clv-the-look/lib/python3.10/site-packages/tensorflow/python/ops/script_ops.py\", line 268, in __call__\n",
      "    return func(device, token, args)\n",
      "\n",
      "  File \"/home/jeongmin/.pyenv/versions/3.10.6/envs/clv-the-look/lib/python3.10/site-packages/tensorflow/python/ops/script_ops.py\", line 146, in __call__\n",
      "    outputs = self._call(device, args)\n",
      "\n",
      "  File \"/home/jeongmin/.pyenv/versions/3.10.6/envs/clv-the-look/lib/python3.10/site-packages/tensorflow/python/ops/script_ops.py\", line 153, in _call\n",
      "    ret = self._func(*args)\n",
      "\n",
      "  File \"/home/jeongmin/.pyenv/versions/3.10.6/envs/clv-the-look/lib/python3.10/site-packages/tensorflow/python/autograph/impl/api.py\", line 643, in wrapper\n",
      "    return func(*args, **kwargs)\n",
      "\n",
      "  File \"/home/jeongmin/.pyenv/versions/3.10.6/envs/clv-the-look/lib/python3.10/site-packages/keras/src/engine/data_adapter.py\", line 519, in py_method\n",
      "    return [slice_array(inp) for inp in flat_inputs]\n",
      "\n",
      "  File \"/home/jeongmin/.pyenv/versions/3.10.6/envs/clv-the-look/lib/python3.10/site-packages/keras/src/engine/data_adapter.py\", line 519, in <listcomp>\n",
      "    return [slice_array(inp) for inp in flat_inputs]\n",
      "\n",
      "  File \"/home/jeongmin/.pyenv/versions/3.10.6/envs/clv-the-look/lib/python3.10/site-packages/keras/src/engine/data_adapter.py\", line 515, in slice_array\n",
      "    return training_utils.slice_arrays(\n",
      "\n",
      "  File \"/home/jeongmin/.pyenv/versions/3.10.6/envs/clv-the-look/lib/python3.10/site-packages/keras/src/engine/training_utils.py\", line 50, in slice_arrays\n",
      "    slices = [x[indices[0] : indices[-1] + 1] for x in arrays]\n",
      "\n",
      "  File \"/home/jeongmin/.pyenv/versions/3.10.6/envs/clv-the-look/lib/python3.10/site-packages/keras/src/engine/training_utils.py\", line 50, in <listcomp>\n",
      "    slices = [x[indices[0] : indices[-1] + 1] for x in arrays]\n",
      "\n",
      "TypeError: 'SparseTensor' object is not subscriptable\n",
      "\n",
      "\n",
      "2024-03-11 11:23:45.003874: W tensorflow/core/framework/op_kernel.cc:1827] INVALID_ARGUMENT: TypeError: 'SparseTensor' object is not subscriptable\n",
      "Traceback (most recent call last):\n",
      "\n",
      "  File \"/home/jeongmin/.pyenv/versions/3.10.6/envs/clv-the-look/lib/python3.10/site-packages/tensorflow/python/ops/script_ops.py\", line 268, in __call__\n",
      "    return func(device, token, args)\n",
      "\n",
      "  File \"/home/jeongmin/.pyenv/versions/3.10.6/envs/clv-the-look/lib/python3.10/site-packages/tensorflow/python/ops/script_ops.py\", line 146, in __call__\n",
      "    outputs = self._call(device, args)\n",
      "\n",
      "  File \"/home/jeongmin/.pyenv/versions/3.10.6/envs/clv-the-look/lib/python3.10/site-packages/tensorflow/python/ops/script_ops.py\", line 153, in _call\n",
      "    ret = self._func(*args)\n",
      "\n",
      "  File \"/home/jeongmin/.pyenv/versions/3.10.6/envs/clv-the-look/lib/python3.10/site-packages/tensorflow/python/autograph/impl/api.py\", line 643, in wrapper\n",
      "    return func(*args, **kwargs)\n",
      "\n",
      "  File \"/home/jeongmin/.pyenv/versions/3.10.6/envs/clv-the-look/lib/python3.10/site-packages/keras/src/engine/data_adapter.py\", line 519, in py_method\n",
      "    return [slice_array(inp) for inp in flat_inputs]\n",
      "\n",
      "  File \"/home/jeongmin/.pyenv/versions/3.10.6/envs/clv-the-look/lib/python3.10/site-packages/keras/src/engine/data_adapter.py\", line 519, in <listcomp>\n",
      "    return [slice_array(inp) for inp in flat_inputs]\n",
      "\n",
      "  File \"/home/jeongmin/.pyenv/versions/3.10.6/envs/clv-the-look/lib/python3.10/site-packages/keras/src/engine/data_adapter.py\", line 515, in slice_array\n",
      "    return training_utils.slice_arrays(\n",
      "\n",
      "  File \"/home/jeongmin/.pyenv/versions/3.10.6/envs/clv-the-look/lib/python3.10/site-packages/keras/src/engine/training_utils.py\", line 50, in slice_arrays\n",
      "    slices = [x[indices[0] : indices[-1] + 1] for x in arrays]\n",
      "\n",
      "  File \"/home/jeongmin/.pyenv/versions/3.10.6/envs/clv-the-look/lib/python3.10/site-packages/keras/src/engine/training_utils.py\", line 50, in <listcomp>\n",
      "    slices = [x[indices[0] : indices[-1] + 1] for x in arrays]\n",
      "\n",
      "TypeError: 'SparseTensor' object is not subscriptable\n",
      "\n",
      "\n",
      "2024-03-11 11:23:45.004545: W tensorflow/core/framework/op_kernel.cc:1827] INVALID_ARGUMENT: TypeError: 'SparseTensor' object is not subscriptable\n",
      "Traceback (most recent call last):\n",
      "\n",
      "  File \"/home/jeongmin/.pyenv/versions/3.10.6/envs/clv-the-look/lib/python3.10/site-packages/tensorflow/python/ops/script_ops.py\", line 268, in __call__\n",
      "    return func(device, token, args)\n",
      "\n",
      "  File \"/home/jeongmin/.pyenv/versions/3.10.6/envs/clv-the-look/lib/python3.10/site-packages/tensorflow/python/ops/script_ops.py\", line 146, in __call__\n",
      "    outputs = self._call(device, args)\n",
      "\n",
      "  File \"/home/jeongmin/.pyenv/versions/3.10.6/envs/clv-the-look/lib/python3.10/site-packages/tensorflow/python/ops/script_ops.py\", line 153, in _call\n",
      "    ret = self._func(*args)\n",
      "\n",
      "  File \"/home/jeongmin/.pyenv/versions/3.10.6/envs/clv-the-look/lib/python3.10/site-packages/tensorflow/python/autograph/impl/api.py\", line 643, in wrapper\n",
      "    return func(*args, **kwargs)\n",
      "\n",
      "  File \"/home/jeongmin/.pyenv/versions/3.10.6/envs/clv-the-look/lib/python3.10/site-packages/keras/src/engine/data_adapter.py\", line 519, in py_method\n",
      "    return [slice_array(inp) for inp in flat_inputs]\n",
      "\n",
      "  File \"/home/jeongmin/.pyenv/versions/3.10.6/envs/clv-the-look/lib/python3.10/site-packages/keras/src/engine/data_adapter.py\", line 519, in <listcomp>\n",
      "    return [slice_array(inp) for inp in flat_inputs]\n",
      "\n",
      "  File \"/home/jeongmin/.pyenv/versions/3.10.6/envs/clv-the-look/lib/python3.10/site-packages/keras/src/engine/data_adapter.py\", line 515, in slice_array\n",
      "    return training_utils.slice_arrays(\n",
      "\n",
      "  File \"/home/jeongmin/.pyenv/versions/3.10.6/envs/clv-the-look/lib/python3.10/site-packages/keras/src/engine/training_utils.py\", line 50, in slice_arrays\n",
      "    slices = [x[indices[0] : indices[-1] + 1] for x in arrays]\n",
      "\n",
      "  File \"/home/jeongmin/.pyenv/versions/3.10.6/envs/clv-the-look/lib/python3.10/site-packages/keras/src/engine/training_utils.py\", line 50, in <listcomp>\n",
      "    slices = [x[indices[0] : indices[-1] + 1] for x in arrays]\n",
      "\n",
      "TypeError: 'SparseTensor' object is not subscriptable\n",
      "\n",
      "\n",
      "2024-03-11 11:23:45.004684: W tensorflow/core/framework/op_kernel.cc:1827] INVALID_ARGUMENT: TypeError: 'SparseTensor' object is not subscriptable\n",
      "Traceback (most recent call last):\n",
      "\n",
      "  File \"/home/jeongmin/.pyenv/versions/3.10.6/envs/clv-the-look/lib/python3.10/site-packages/tensorflow/python/ops/script_ops.py\", line 268, in __call__\n",
      "    return func(device, token, args)\n",
      "\n",
      "  File \"/home/jeongmin/.pyenv/versions/3.10.6/envs/clv-the-look/lib/python3.10/site-packages/tensorflow/python/ops/script_ops.py\", line 146, in __call__\n",
      "    outputs = self._call(device, args)\n",
      "\n",
      "  File \"/home/jeongmin/.pyenv/versions/3.10.6/envs/clv-the-look/lib/python3.10/site-packages/tensorflow/python/ops/script_ops.py\", line 153, in _call\n",
      "    ret = self._func(*args)\n",
      "\n",
      "  File \"/home/jeongmin/.pyenv/versions/3.10.6/envs/clv-the-look/lib/python3.10/site-packages/tensorflow/python/autograph/impl/api.py\", line 643, in wrapper\n",
      "    return func(*args, **kwargs)\n",
      "\n",
      "  File \"/home/jeongmin/.pyenv/versions/3.10.6/envs/clv-the-look/lib/python3.10/site-packages/keras/src/engine/data_adapter.py\", line 519, in py_method\n",
      "    return [slice_array(inp) for inp in flat_inputs]\n",
      "\n",
      "  File \"/home/jeongmin/.pyenv/versions/3.10.6/envs/clv-the-look/lib/python3.10/site-packages/keras/src/engine/data_adapter.py\", line 519, in <listcomp>\n",
      "    return [slice_array(inp) for inp in flat_inputs]\n",
      "\n",
      "  File \"/home/jeongmin/.pyenv/versions/3.10.6/envs/clv-the-look/lib/python3.10/site-packages/keras/src/engine/data_adapter.py\", line 515, in slice_array\n",
      "    return training_utils.slice_arrays(\n",
      "\n",
      "  File \"/home/jeongmin/.pyenv/versions/3.10.6/envs/clv-the-look/lib/python3.10/site-packages/keras/src/engine/training_utils.py\", line 50, in slice_arrays\n",
      "    slices = [x[indices[0] : indices[-1] + 1] for x in arrays]\n",
      "\n",
      "  File \"/home/jeongmin/.pyenv/versions/3.10.6/envs/clv-the-look/lib/python3.10/site-packages/keras/src/engine/training_utils.py\", line 50, in <listcomp>\n",
      "    slices = [x[indices[0] : indices[-1] + 1] for x in arrays]\n",
      "\n",
      "TypeError: 'SparseTensor' object is not subscriptable\n",
      "\n",
      "\n",
      "2024-03-11 11:23:45.006063: W tensorflow/core/framework/op_kernel.cc:1827] INVALID_ARGUMENT: TypeError: 'SparseTensor' object is not subscriptable\n",
      "Traceback (most recent call last):\n",
      "\n",
      "  File \"/home/jeongmin/.pyenv/versions/3.10.6/envs/clv-the-look/lib/python3.10/site-packages/tensorflow/python/ops/script_ops.py\", line 268, in __call__\n",
      "    return func(device, token, args)\n",
      "\n",
      "  File \"/home/jeongmin/.pyenv/versions/3.10.6/envs/clv-the-look/lib/python3.10/site-packages/tensorflow/python/ops/script_ops.py\", line 146, in __call__\n",
      "    outputs = self._call(device, args)\n",
      "\n",
      "  File \"/home/jeongmin/.pyenv/versions/3.10.6/envs/clv-the-look/lib/python3.10/site-packages/tensorflow/python/ops/script_ops.py\", line 153, in _call\n",
      "    ret = self._func(*args)\n",
      "\n",
      "  File \"/home/jeongmin/.pyenv/versions/3.10.6/envs/clv-the-look/lib/python3.10/site-packages/tensorflow/python/autograph/impl/api.py\", line 643, in wrapper\n",
      "    return func(*args, **kwargs)\n",
      "\n",
      "  File \"/home/jeongmin/.pyenv/versions/3.10.6/envs/clv-the-look/lib/python3.10/site-packages/keras/src/engine/data_adapter.py\", line 519, in py_method\n",
      "    return [slice_array(inp) for inp in flat_inputs]\n",
      "\n",
      "  File \"/home/jeongmin/.pyenv/versions/3.10.6/envs/clv-the-look/lib/python3.10/site-packages/keras/src/engine/data_adapter.py\", line 519, in <listcomp>\n",
      "    return [slice_array(inp) for inp in flat_inputs]\n",
      "\n",
      "  File \"/home/jeongmin/.pyenv/versions/3.10.6/envs/clv-the-look/lib/python3.10/site-packages/keras/src/engine/data_adapter.py\", line 515, in slice_array\n",
      "    return training_utils.slice_arrays(\n",
      "\n",
      "  File \"/home/jeongmin/.pyenv/versions/3.10.6/envs/clv-the-look/lib/python3.10/site-packages/keras/src/engine/training_utils.py\", line 50, in slice_arrays\n",
      "    slices = [x[indices[0] : indices[-1] + 1] for x in arrays]\n",
      "\n",
      "  File \"/home/jeongmin/.pyenv/versions/3.10.6/envs/clv-the-look/lib/python3.10/site-packages/keras/src/engine/training_utils.py\", line 50, in <listcomp>\n",
      "    slices = [x[indices[0] : indices[-1] + 1] for x in arrays]\n",
      "\n",
      "TypeError: 'SparseTensor' object is not subscriptable\n",
      "\n",
      "\n",
      "2024-03-11 11:23:45.006447: W tensorflow/core/framework/op_kernel.cc:1827] INVALID_ARGUMENT: TypeError: 'SparseTensor' object is not subscriptable\n",
      "Traceback (most recent call last):\n",
      "\n",
      "  File \"/home/jeongmin/.pyenv/versions/3.10.6/envs/clv-the-look/lib/python3.10/site-packages/tensorflow/python/ops/script_ops.py\", line 268, in __call__\n",
      "    return func(device, token, args)\n",
      "\n",
      "  File \"/home/jeongmin/.pyenv/versions/3.10.6/envs/clv-the-look/lib/python3.10/site-packages/tensorflow/python/ops/script_ops.py\", line 146, in __call__\n",
      "    outputs = self._call(device, args)\n",
      "\n",
      "  File \"/home/jeongmin/.pyenv/versions/3.10.6/envs/clv-the-look/lib/python3.10/site-packages/tensorflow/python/ops/script_ops.py\", line 153, in _call\n",
      "    ret = self._func(*args)\n",
      "\n",
      "  File \"/home/jeongmin/.pyenv/versions/3.10.6/envs/clv-the-look/lib/python3.10/site-packages/tensorflow/python/autograph/impl/api.py\", line 643, in wrapper\n",
      "    return func(*args, **kwargs)\n",
      "\n",
      "  File \"/home/jeongmin/.pyenv/versions/3.10.6/envs/clv-the-look/lib/python3.10/site-packages/keras/src/engine/data_adapter.py\", line 519, in py_method\n",
      "    return [slice_array(inp) for inp in flat_inputs]\n",
      "\n",
      "  File \"/home/jeongmin/.pyenv/versions/3.10.6/envs/clv-the-look/lib/python3.10/site-packages/keras/src/engine/data_adapter.py\", line 519, in <listcomp>\n",
      "    return [slice_array(inp) for inp in flat_inputs]\n",
      "\n",
      "  File \"/home/jeongmin/.pyenv/versions/3.10.6/envs/clv-the-look/lib/python3.10/site-packages/keras/src/engine/data_adapter.py\", line 515, in slice_array\n",
      "    return training_utils.slice_arrays(\n",
      "\n",
      "  File \"/home/jeongmin/.pyenv/versions/3.10.6/envs/clv-the-look/lib/python3.10/site-packages/keras/src/engine/training_utils.py\", line 50, in slice_arrays\n",
      "    slices = [x[indices[0] : indices[-1] + 1] for x in arrays]\n",
      "\n",
      "  File \"/home/jeongmin/.pyenv/versions/3.10.6/envs/clv-the-look/lib/python3.10/site-packages/keras/src/engine/training_utils.py\", line 50, in <listcomp>\n",
      "    slices = [x[indices[0] : indices[-1] + 1] for x in arrays]\n",
      "\n",
      "TypeError: 'SparseTensor' object is not subscriptable\n",
      "\n",
      "\n",
      "2024-03-11 11:23:45.006654: W tensorflow/core/framework/op_kernel.cc:1827] INVALID_ARGUMENT: TypeError: 'SparseTensor' object is not subscriptable\n",
      "Traceback (most recent call last):\n",
      "\n",
      "  File \"/home/jeongmin/.pyenv/versions/3.10.6/envs/clv-the-look/lib/python3.10/site-packages/tensorflow/python/ops/script_ops.py\", line 268, in __call__\n",
      "    return func(device, token, args)\n",
      "\n",
      "  File \"/home/jeongmin/.pyenv/versions/3.10.6/envs/clv-the-look/lib/python3.10/site-packages/tensorflow/python/ops/script_ops.py\", line 146, in __call__\n",
      "    outputs = self._call(device, args)\n",
      "\n",
      "  File \"/home/jeongmin/.pyenv/versions/3.10.6/envs/clv-the-look/lib/python3.10/site-packages/tensorflow/python/ops/script_ops.py\", line 153, in _call\n",
      "    ret = self._func(*args)\n",
      "\n",
      "  File \"/home/jeongmin/.pyenv/versions/3.10.6/envs/clv-the-look/lib/python3.10/site-packages/tensorflow/python/autograph/impl/api.py\", line 643, in wrapper\n",
      "    return func(*args, **kwargs)\n",
      "\n",
      "  File \"/home/jeongmin/.pyenv/versions/3.10.6/envs/clv-the-look/lib/python3.10/site-packages/keras/src/engine/data_adapter.py\", line 519, in py_method\n",
      "    return [slice_array(inp) for inp in flat_inputs]\n",
      "\n",
      "  File \"/home/jeongmin/.pyenv/versions/3.10.6/envs/clv-the-look/lib/python3.10/site-packages/keras/src/engine/data_adapter.py\", line 519, in <listcomp>\n",
      "    return [slice_array(inp) for inp in flat_inputs]\n",
      "\n",
      "  File \"/home/jeongmin/.pyenv/versions/3.10.6/envs/clv-the-look/lib/python3.10/site-packages/keras/src/engine/data_adapter.py\", line 515, in slice_array\n",
      "    return training_utils.slice_arrays(\n",
      "\n",
      "  File \"/home/jeongmin/.pyenv/versions/3.10.6/envs/clv-the-look/lib/python3.10/site-packages/keras/src/engine/training_utils.py\", line 50, in slice_arrays\n",
      "    slices = [x[indices[0] : indices[-1] + 1] for x in arrays]\n",
      "\n",
      "  File \"/home/jeongmin/.pyenv/versions/3.10.6/envs/clv-the-look/lib/python3.10/site-packages/keras/src/engine/training_utils.py\", line 50, in <listcomp>\n",
      "    slices = [x[indices[0] : indices[-1] + 1] for x in arrays]\n",
      "\n",
      "TypeError: 'SparseTensor' object is not subscriptable\n",
      "\n",
      "\n",
      "2024-03-11 11:23:45.006809: W tensorflow/core/framework/op_kernel.cc:1827] INVALID_ARGUMENT: TypeError: 'SparseTensor' object is not subscriptable\n",
      "Traceback (most recent call last):\n",
      "\n",
      "  File \"/home/jeongmin/.pyenv/versions/3.10.6/envs/clv-the-look/lib/python3.10/site-packages/tensorflow/python/ops/script_ops.py\", line 268, in __call__\n",
      "    return func(device, token, args)\n",
      "\n",
      "  File \"/home/jeongmin/.pyenv/versions/3.10.6/envs/clv-the-look/lib/python3.10/site-packages/tensorflow/python/ops/script_ops.py\", line 146, in __call__\n",
      "    outputs = self._call(device, args)\n",
      "\n",
      "  File \"/home/jeongmin/.pyenv/versions/3.10.6/envs/clv-the-look/lib/python3.10/site-packages/tensorflow/python/ops/script_ops.py\", line 153, in _call\n",
      "    ret = self._func(*args)\n",
      "\n",
      "  File \"/home/jeongmin/.pyenv/versions/3.10.6/envs/clv-the-look/lib/python3.10/site-packages/tensorflow/python/autograph/impl/api.py\", line 643, in wrapper\n",
      "    return func(*args, **kwargs)\n",
      "\n",
      "  File \"/home/jeongmin/.pyenv/versions/3.10.6/envs/clv-the-look/lib/python3.10/site-packages/keras/src/engine/data_adapter.py\", line 519, in py_method\n",
      "    return [slice_array(inp) for inp in flat_inputs]\n",
      "\n",
      "  File \"/home/jeongmin/.pyenv/versions/3.10.6/envs/clv-the-look/lib/python3.10/site-packages/keras/src/engine/data_adapter.py\", line 519, in <listcomp>\n",
      "    return [slice_array(inp) for inp in flat_inputs]\n",
      "\n",
      "  File \"/home/jeongmin/.pyenv/versions/3.10.6/envs/clv-the-look/lib/python3.10/site-packages/keras/src/engine/data_adapter.py\", line 515, in slice_array\n",
      "    return training_utils.slice_arrays(\n",
      "\n",
      "  File \"/home/jeongmin/.pyenv/versions/3.10.6/envs/clv-the-look/lib/python3.10/site-packages/keras/src/engine/training_utils.py\", line 50, in slice_arrays\n",
      "    slices = [x[indices[0] : indices[-1] + 1] for x in arrays]\n",
      "\n",
      "  File \"/home/jeongmin/.pyenv/versions/3.10.6/envs/clv-the-look/lib/python3.10/site-packages/keras/src/engine/training_utils.py\", line 50, in <listcomp>\n",
      "    slices = [x[indices[0] : indices[-1] + 1] for x in arrays]\n",
      "\n",
      "TypeError: 'SparseTensor' object is not subscriptable\n",
      "\n",
      "\n",
      "2024-03-11 11:23:45.006941: W tensorflow/core/framework/op_kernel.cc:1827] INVALID_ARGUMENT: TypeError: 'SparseTensor' object is not subscriptable\n",
      "Traceback (most recent call last):\n",
      "\n",
      "  File \"/home/jeongmin/.pyenv/versions/3.10.6/envs/clv-the-look/lib/python3.10/site-packages/tensorflow/python/ops/script_ops.py\", line 268, in __call__\n",
      "    return func(device, token, args)\n",
      "\n",
      "  File \"/home/jeongmin/.pyenv/versions/3.10.6/envs/clv-the-look/lib/python3.10/site-packages/tensorflow/python/ops/script_ops.py\", line 146, in __call__\n",
      "    outputs = self._call(device, args)\n",
      "\n",
      "  File \"/home/jeongmin/.pyenv/versions/3.10.6/envs/clv-the-look/lib/python3.10/site-packages/tensorflow/python/ops/script_ops.py\", line 153, in _call\n",
      "    ret = self._func(*args)\n",
      "\n",
      "  File \"/home/jeongmin/.pyenv/versions/3.10.6/envs/clv-the-look/lib/python3.10/site-packages/tensorflow/python/autograph/impl/api.py\", line 643, in wrapper\n",
      "    return func(*args, **kwargs)\n",
      "\n",
      "  File \"/home/jeongmin/.pyenv/versions/3.10.6/envs/clv-the-look/lib/python3.10/site-packages/keras/src/engine/data_adapter.py\", line 519, in py_method\n",
      "    return [slice_array(inp) for inp in flat_inputs]\n",
      "\n",
      "  File \"/home/jeongmin/.pyenv/versions/3.10.6/envs/clv-the-look/lib/python3.10/site-packages/keras/src/engine/data_adapter.py\", line 519, in <listcomp>\n",
      "    return [slice_array(inp) for inp in flat_inputs]\n",
      "\n",
      "  File \"/home/jeongmin/.pyenv/versions/3.10.6/envs/clv-the-look/lib/python3.10/site-packages/keras/src/engine/data_adapter.py\", line 515, in slice_array\n",
      "    return training_utils.slice_arrays(\n",
      "\n",
      "  File \"/home/jeongmin/.pyenv/versions/3.10.6/envs/clv-the-look/lib/python3.10/site-packages/keras/src/engine/training_utils.py\", line 50, in slice_arrays\n",
      "    slices = [x[indices[0] : indices[-1] + 1] for x in arrays]\n",
      "\n",
      "  File \"/home/jeongmin/.pyenv/versions/3.10.6/envs/clv-the-look/lib/python3.10/site-packages/keras/src/engine/training_utils.py\", line 50, in <listcomp>\n",
      "    slices = [x[indices[0] : indices[-1] + 1] for x in arrays]\n",
      "\n",
      "TypeError: 'SparseTensor' object is not subscriptable\n",
      "\n",
      "\n",
      "2024-03-11 11:23:45.007186: W tensorflow/core/framework/op_kernel.cc:1827] INVALID_ARGUMENT: TypeError: 'SparseTensor' object is not subscriptable\n",
      "Traceback (most recent call last):\n",
      "\n",
      "  File \"/home/jeongmin/.pyenv/versions/3.10.6/envs/clv-the-look/lib/python3.10/site-packages/tensorflow/python/ops/script_ops.py\", line 268, in __call__\n",
      "    return func(device, token, args)\n",
      "\n",
      "  File \"/home/jeongmin/.pyenv/versions/3.10.6/envs/clv-the-look/lib/python3.10/site-packages/tensorflow/python/ops/script_ops.py\", line 146, in __call__\n",
      "    outputs = self._call(device, args)\n",
      "\n",
      "  File \"/home/jeongmin/.pyenv/versions/3.10.6/envs/clv-the-look/lib/python3.10/site-packages/tensorflow/python/ops/script_ops.py\", line 153, in _call\n",
      "    ret = self._func(*args)\n",
      "\n",
      "  File \"/home/jeongmin/.pyenv/versions/3.10.6/envs/clv-the-look/lib/python3.10/site-packages/tensorflow/python/autograph/impl/api.py\", line 643, in wrapper\n",
      "    return func(*args, **kwargs)\n",
      "\n",
      "  File \"/home/jeongmin/.pyenv/versions/3.10.6/envs/clv-the-look/lib/python3.10/site-packages/keras/src/engine/data_adapter.py\", line 519, in py_method\n",
      "    return [slice_array(inp) for inp in flat_inputs]\n",
      "\n",
      "  File \"/home/jeongmin/.pyenv/versions/3.10.6/envs/clv-the-look/lib/python3.10/site-packages/keras/src/engine/data_adapter.py\", line 519, in <listcomp>\n",
      "    return [slice_array(inp) for inp in flat_inputs]\n",
      "\n",
      "  File \"/home/jeongmin/.pyenv/versions/3.10.6/envs/clv-the-look/lib/python3.10/site-packages/keras/src/engine/data_adapter.py\", line 515, in slice_array\n",
      "    return training_utils.slice_arrays(\n",
      "\n",
      "  File \"/home/jeongmin/.pyenv/versions/3.10.6/envs/clv-the-look/lib/python3.10/site-packages/keras/src/engine/training_utils.py\", line 50, in slice_arrays\n",
      "    slices = [x[indices[0] : indices[-1] + 1] for x in arrays]\n",
      "\n",
      "  File \"/home/jeongmin/.pyenv/versions/3.10.6/envs/clv-the-look/lib/python3.10/site-packages/keras/src/engine/training_utils.py\", line 50, in <listcomp>\n",
      "    slices = [x[indices[0] : indices[-1] + 1] for x in arrays]\n",
      "\n",
      "TypeError: 'SparseTensor' object is not subscriptable\n",
      "\n",
      "\n",
      "2024-03-11 11:23:45.007643: W tensorflow/core/framework/op_kernel.cc:1827] INVALID_ARGUMENT: TypeError: 'SparseTensor' object is not subscriptable\n",
      "Traceback (most recent call last):\n",
      "\n",
      "  File \"/home/jeongmin/.pyenv/versions/3.10.6/envs/clv-the-look/lib/python3.10/site-packages/tensorflow/python/ops/script_ops.py\", line 268, in __call__\n",
      "    return func(device, token, args)\n",
      "\n",
      "  File \"/home/jeongmin/.pyenv/versions/3.10.6/envs/clv-the-look/lib/python3.10/site-packages/tensorflow/python/ops/script_ops.py\", line 146, in __call__\n",
      "    outputs = self._call(device, args)\n",
      "\n",
      "  File \"/home/jeongmin/.pyenv/versions/3.10.6/envs/clv-the-look/lib/python3.10/site-packages/tensorflow/python/ops/script_ops.py\", line 153, in _call\n",
      "    ret = self._func(*args)\n",
      "\n",
      "  File \"/home/jeongmin/.pyenv/versions/3.10.6/envs/clv-the-look/lib/python3.10/site-packages/tensorflow/python/autograph/impl/api.py\", line 643, in wrapper\n",
      "    return func(*args, **kwargs)\n",
      "\n",
      "  File \"/home/jeongmin/.pyenv/versions/3.10.6/envs/clv-the-look/lib/python3.10/site-packages/keras/src/engine/data_adapter.py\", line 519, in py_method\n",
      "    return [slice_array(inp) for inp in flat_inputs]\n",
      "\n",
      "  File \"/home/jeongmin/.pyenv/versions/3.10.6/envs/clv-the-look/lib/python3.10/site-packages/keras/src/engine/data_adapter.py\", line 519, in <listcomp>\n",
      "    return [slice_array(inp) for inp in flat_inputs]\n",
      "\n",
      "  File \"/home/jeongmin/.pyenv/versions/3.10.6/envs/clv-the-look/lib/python3.10/site-packages/keras/src/engine/data_adapter.py\", line 515, in slice_array\n",
      "    return training_utils.slice_arrays(\n",
      "\n",
      "  File \"/home/jeongmin/.pyenv/versions/3.10.6/envs/clv-the-look/lib/python3.10/site-packages/keras/src/engine/training_utils.py\", line 50, in slice_arrays\n",
      "    slices = [x[indices[0] : indices[-1] + 1] for x in arrays]\n",
      "\n",
      "  File \"/home/jeongmin/.pyenv/versions/3.10.6/envs/clv-the-look/lib/python3.10/site-packages/keras/src/engine/training_utils.py\", line 50, in <listcomp>\n",
      "    slices = [x[indices[0] : indices[-1] + 1] for x in arrays]\n",
      "\n",
      "TypeError: 'SparseTensor' object is not subscriptable\n",
      "\n",
      "\n",
      "2024-03-11 11:23:45.007974: W tensorflow/core/framework/op_kernel.cc:1827] INVALID_ARGUMENT: TypeError: 'SparseTensor' object is not subscriptable\n",
      "Traceback (most recent call last):\n",
      "\n",
      "  File \"/home/jeongmin/.pyenv/versions/3.10.6/envs/clv-the-look/lib/python3.10/site-packages/tensorflow/python/ops/script_ops.py\", line 268, in __call__\n",
      "    return func(device, token, args)\n",
      "\n",
      "  File \"/home/jeongmin/.pyenv/versions/3.10.6/envs/clv-the-look/lib/python3.10/site-packages/tensorflow/python/ops/script_ops.py\", line 146, in __call__\n",
      "    outputs = self._call(device, args)\n",
      "\n",
      "  File \"/home/jeongmin/.pyenv/versions/3.10.6/envs/clv-the-look/lib/python3.10/site-packages/tensorflow/python/ops/script_ops.py\", line 153, in _call\n",
      "    ret = self._func(*args)\n",
      "\n",
      "  File \"/home/jeongmin/.pyenv/versions/3.10.6/envs/clv-the-look/lib/python3.10/site-packages/tensorflow/python/autograph/impl/api.py\", line 643, in wrapper\n",
      "    return func(*args, **kwargs)\n",
      "\n",
      "  File \"/home/jeongmin/.pyenv/versions/3.10.6/envs/clv-the-look/lib/python3.10/site-packages/keras/src/engine/data_adapter.py\", line 519, in py_method\n",
      "    return [slice_array(inp) for inp in flat_inputs]\n",
      "\n",
      "  File \"/home/jeongmin/.pyenv/versions/3.10.6/envs/clv-the-look/lib/python3.10/site-packages/keras/src/engine/data_adapter.py\", line 519, in <listcomp>\n",
      "    return [slice_array(inp) for inp in flat_inputs]\n",
      "\n",
      "  File \"/home/jeongmin/.pyenv/versions/3.10.6/envs/clv-the-look/lib/python3.10/site-packages/keras/src/engine/data_adapter.py\", line 515, in slice_array\n",
      "    return training_utils.slice_arrays(\n",
      "\n",
      "  File \"/home/jeongmin/.pyenv/versions/3.10.6/envs/clv-the-look/lib/python3.10/site-packages/keras/src/engine/training_utils.py\", line 50, in slice_arrays\n",
      "    slices = [x[indices[0] : indices[-1] + 1] for x in arrays]\n",
      "\n",
      "  File \"/home/jeongmin/.pyenv/versions/3.10.6/envs/clv-the-look/lib/python3.10/site-packages/keras/src/engine/training_utils.py\", line 50, in <listcomp>\n",
      "    slices = [x[indices[0] : indices[-1] + 1] for x in arrays]\n",
      "\n",
      "TypeError: 'SparseTensor' object is not subscriptable\n",
      "\n",
      "\n",
      "2024-03-11 11:23:45.008178: W tensorflow/core/framework/op_kernel.cc:1827] INVALID_ARGUMENT: TypeError: 'SparseTensor' object is not subscriptable\n",
      "Traceback (most recent call last):\n",
      "\n",
      "  File \"/home/jeongmin/.pyenv/versions/3.10.6/envs/clv-the-look/lib/python3.10/site-packages/tensorflow/python/ops/script_ops.py\", line 268, in __call__\n",
      "    return func(device, token, args)\n",
      "\n",
      "  File \"/home/jeongmin/.pyenv/versions/3.10.6/envs/clv-the-look/lib/python3.10/site-packages/tensorflow/python/ops/script_ops.py\", line 146, in __call__\n",
      "    outputs = self._call(device, args)\n",
      "\n",
      "  File \"/home/jeongmin/.pyenv/versions/3.10.6/envs/clv-the-look/lib/python3.10/site-packages/tensorflow/python/ops/script_ops.py\", line 153, in _call\n",
      "    ret = self._func(*args)\n",
      "\n",
      "  File \"/home/jeongmin/.pyenv/versions/3.10.6/envs/clv-the-look/lib/python3.10/site-packages/tensorflow/python/autograph/impl/api.py\", line 643, in wrapper\n",
      "    return func(*args, **kwargs)\n",
      "\n",
      "  File \"/home/jeongmin/.pyenv/versions/3.10.6/envs/clv-the-look/lib/python3.10/site-packages/keras/src/engine/data_adapter.py\", line 519, in py_method\n",
      "    return [slice_array(inp) for inp in flat_inputs]\n",
      "\n",
      "  File \"/home/jeongmin/.pyenv/versions/3.10.6/envs/clv-the-look/lib/python3.10/site-packages/keras/src/engine/data_adapter.py\", line 519, in <listcomp>\n",
      "    return [slice_array(inp) for inp in flat_inputs]\n",
      "\n",
      "  File \"/home/jeongmin/.pyenv/versions/3.10.6/envs/clv-the-look/lib/python3.10/site-packages/keras/src/engine/data_adapter.py\", line 515, in slice_array\n",
      "    return training_utils.slice_arrays(\n",
      "\n",
      "  File \"/home/jeongmin/.pyenv/versions/3.10.6/envs/clv-the-look/lib/python3.10/site-packages/keras/src/engine/training_utils.py\", line 50, in slice_arrays\n",
      "    slices = [x[indices[0] : indices[-1] + 1] for x in arrays]\n",
      "\n",
      "  File \"/home/jeongmin/.pyenv/versions/3.10.6/envs/clv-the-look/lib/python3.10/site-packages/keras/src/engine/training_utils.py\", line 50, in <listcomp>\n",
      "    slices = [x[indices[0] : indices[-1] + 1] for x in arrays]\n",
      "\n",
      "TypeError: 'SparseTensor' object is not subscriptable\n",
      "\n",
      "\n",
      "2024-03-11 11:23:45.008417: W tensorflow/core/framework/op_kernel.cc:1827] INVALID_ARGUMENT: TypeError: 'SparseTensor' object is not subscriptable\n",
      "Traceback (most recent call last):\n",
      "\n",
      "  File \"/home/jeongmin/.pyenv/versions/3.10.6/envs/clv-the-look/lib/python3.10/site-packages/tensorflow/python/ops/script_ops.py\", line 268, in __call__\n",
      "    return func(device, token, args)\n",
      "\n",
      "  File \"/home/jeongmin/.pyenv/versions/3.10.6/envs/clv-the-look/lib/python3.10/site-packages/tensorflow/python/ops/script_ops.py\", line 146, in __call__\n",
      "    outputs = self._call(device, args)\n",
      "\n",
      "  File \"/home/jeongmin/.pyenv/versions/3.10.6/envs/clv-the-look/lib/python3.10/site-packages/tensorflow/python/ops/script_ops.py\", line 153, in _call\n",
      "    ret = self._func(*args)\n",
      "\n",
      "  File \"/home/jeongmin/.pyenv/versions/3.10.6/envs/clv-the-look/lib/python3.10/site-packages/tensorflow/python/autograph/impl/api.py\", line 643, in wrapper\n",
      "    return func(*args, **kwargs)\n",
      "\n",
      "  File \"/home/jeongmin/.pyenv/versions/3.10.6/envs/clv-the-look/lib/python3.10/site-packages/keras/src/engine/data_adapter.py\", line 519, in py_method\n",
      "    return [slice_array(inp) for inp in flat_inputs]\n",
      "\n",
      "  File \"/home/jeongmin/.pyenv/versions/3.10.6/envs/clv-the-look/lib/python3.10/site-packages/keras/src/engine/data_adapter.py\", line 519, in <listcomp>\n",
      "    return [slice_array(inp) for inp in flat_inputs]\n",
      "\n",
      "  File \"/home/jeongmin/.pyenv/versions/3.10.6/envs/clv-the-look/lib/python3.10/site-packages/keras/src/engine/data_adapter.py\", line 515, in slice_array\n",
      "    return training_utils.slice_arrays(\n",
      "\n",
      "  File \"/home/jeongmin/.pyenv/versions/3.10.6/envs/clv-the-look/lib/python3.10/site-packages/keras/src/engine/training_utils.py\", line 50, in slice_arrays\n",
      "    slices = [x[indices[0] : indices[-1] + 1] for x in arrays]\n",
      "\n",
      "  File \"/home/jeongmin/.pyenv/versions/3.10.6/envs/clv-the-look/lib/python3.10/site-packages/keras/src/engine/training_utils.py\", line 50, in <listcomp>\n",
      "    slices = [x[indices[0] : indices[-1] + 1] for x in arrays]\n",
      "\n",
      "TypeError: 'SparseTensor' object is not subscriptable\n",
      "\n",
      "\n",
      "2024-03-11 11:23:45.008585: W tensorflow/core/framework/op_kernel.cc:1827] INVALID_ARGUMENT: TypeError: 'SparseTensor' object is not subscriptable\n",
      "Traceback (most recent call last):\n",
      "\n",
      "  File \"/home/jeongmin/.pyenv/versions/3.10.6/envs/clv-the-look/lib/python3.10/site-packages/tensorflow/python/ops/script_ops.py\", line 268, in __call__\n",
      "    return func(device, token, args)\n",
      "\n",
      "  File \"/home/jeongmin/.pyenv/versions/3.10.6/envs/clv-the-look/lib/python3.10/site-packages/tensorflow/python/ops/script_ops.py\", line 146, in __call__\n",
      "    outputs = self._call(device, args)\n",
      "\n",
      "  File \"/home/jeongmin/.pyenv/versions/3.10.6/envs/clv-the-look/lib/python3.10/site-packages/tensorflow/python/ops/script_ops.py\", line 153, in _call\n",
      "    ret = self._func(*args)\n",
      "\n",
      "  File \"/home/jeongmin/.pyenv/versions/3.10.6/envs/clv-the-look/lib/python3.10/site-packages/tensorflow/python/autograph/impl/api.py\", line 643, in wrapper\n",
      "    return func(*args, **kwargs)\n",
      "\n",
      "  File \"/home/jeongmin/.pyenv/versions/3.10.6/envs/clv-the-look/lib/python3.10/site-packages/keras/src/engine/data_adapter.py\", line 519, in py_method\n",
      "    return [slice_array(inp) for inp in flat_inputs]\n",
      "\n",
      "  File \"/home/jeongmin/.pyenv/versions/3.10.6/envs/clv-the-look/lib/python3.10/site-packages/keras/src/engine/data_adapter.py\", line 519, in <listcomp>\n",
      "    return [slice_array(inp) for inp in flat_inputs]\n",
      "\n",
      "  File \"/home/jeongmin/.pyenv/versions/3.10.6/envs/clv-the-look/lib/python3.10/site-packages/keras/src/engine/data_adapter.py\", line 515, in slice_array\n",
      "    return training_utils.slice_arrays(\n",
      "\n",
      "  File \"/home/jeongmin/.pyenv/versions/3.10.6/envs/clv-the-look/lib/python3.10/site-packages/keras/src/engine/training_utils.py\", line 50, in slice_arrays\n",
      "    slices = [x[indices[0] : indices[-1] + 1] for x in arrays]\n",
      "\n",
      "  File \"/home/jeongmin/.pyenv/versions/3.10.6/envs/clv-the-look/lib/python3.10/site-packages/keras/src/engine/training_utils.py\", line 50, in <listcomp>\n",
      "    slices = [x[indices[0] : indices[-1] + 1] for x in arrays]\n",
      "\n",
      "TypeError: 'SparseTensor' object is not subscriptable\n",
      "\n",
      "\n",
      "2024-03-11 11:23:45.008757: W tensorflow/core/framework/op_kernel.cc:1827] INVALID_ARGUMENT: TypeError: 'SparseTensor' object is not subscriptable\n",
      "Traceback (most recent call last):\n",
      "\n",
      "  File \"/home/jeongmin/.pyenv/versions/3.10.6/envs/clv-the-look/lib/python3.10/site-packages/tensorflow/python/ops/script_ops.py\", line 268, in __call__\n",
      "    return func(device, token, args)\n",
      "\n",
      "  File \"/home/jeongmin/.pyenv/versions/3.10.6/envs/clv-the-look/lib/python3.10/site-packages/tensorflow/python/ops/script_ops.py\", line 146, in __call__\n",
      "    outputs = self._call(device, args)\n",
      "\n",
      "  File \"/home/jeongmin/.pyenv/versions/3.10.6/envs/clv-the-look/lib/python3.10/site-packages/tensorflow/python/ops/script_ops.py\", line 153, in _call\n",
      "    ret = self._func(*args)\n",
      "\n",
      "  File \"/home/jeongmin/.pyenv/versions/3.10.6/envs/clv-the-look/lib/python3.10/site-packages/tensorflow/python/autograph/impl/api.py\", line 643, in wrapper\n",
      "    return func(*args, **kwargs)\n",
      "\n",
      "  File \"/home/jeongmin/.pyenv/versions/3.10.6/envs/clv-the-look/lib/python3.10/site-packages/keras/src/engine/data_adapter.py\", line 519, in py_method\n",
      "    return [slice_array(inp) for inp in flat_inputs]\n",
      "\n",
      "  File \"/home/jeongmin/.pyenv/versions/3.10.6/envs/clv-the-look/lib/python3.10/site-packages/keras/src/engine/data_adapter.py\", line 519, in <listcomp>\n",
      "    return [slice_array(inp) for inp in flat_inputs]\n",
      "\n",
      "  File \"/home/jeongmin/.pyenv/versions/3.10.6/envs/clv-the-look/lib/python3.10/site-packages/keras/src/engine/data_adapter.py\", line 515, in slice_array\n",
      "    return training_utils.slice_arrays(\n",
      "\n",
      "  File \"/home/jeongmin/.pyenv/versions/3.10.6/envs/clv-the-look/lib/python3.10/site-packages/keras/src/engine/training_utils.py\", line 50, in slice_arrays\n",
      "    slices = [x[indices[0] : indices[-1] + 1] for x in arrays]\n",
      "\n",
      "  File \"/home/jeongmin/.pyenv/versions/3.10.6/envs/clv-the-look/lib/python3.10/site-packages/keras/src/engine/training_utils.py\", line 50, in <listcomp>\n",
      "    slices = [x[indices[0] : indices[-1] + 1] for x in arrays]\n",
      "\n",
      "TypeError: 'SparseTensor' object is not subscriptable\n",
      "\n",
      "\n",
      "2024-03-11 11:23:45.008895: W tensorflow/core/framework/op_kernel.cc:1827] INVALID_ARGUMENT: TypeError: 'SparseTensor' object is not subscriptable\n",
      "Traceback (most recent call last):\n",
      "\n",
      "  File \"/home/jeongmin/.pyenv/versions/3.10.6/envs/clv-the-look/lib/python3.10/site-packages/tensorflow/python/ops/script_ops.py\", line 268, in __call__\n",
      "    return func(device, token, args)\n",
      "\n",
      "  File \"/home/jeongmin/.pyenv/versions/3.10.6/envs/clv-the-look/lib/python3.10/site-packages/tensorflow/python/ops/script_ops.py\", line 146, in __call__\n",
      "    outputs = self._call(device, args)\n",
      "\n",
      "  File \"/home/jeongmin/.pyenv/versions/3.10.6/envs/clv-the-look/lib/python3.10/site-packages/tensorflow/python/ops/script_ops.py\", line 153, in _call\n",
      "    ret = self._func(*args)\n",
      "\n",
      "  File \"/home/jeongmin/.pyenv/versions/3.10.6/envs/clv-the-look/lib/python3.10/site-packages/tensorflow/python/autograph/impl/api.py\", line 643, in wrapper\n",
      "    return func(*args, **kwargs)\n",
      "\n",
      "  File \"/home/jeongmin/.pyenv/versions/3.10.6/envs/clv-the-look/lib/python3.10/site-packages/keras/src/engine/data_adapter.py\", line 519, in py_method\n",
      "    return [slice_array(inp) for inp in flat_inputs]\n",
      "\n",
      "  File \"/home/jeongmin/.pyenv/versions/3.10.6/envs/clv-the-look/lib/python3.10/site-packages/keras/src/engine/data_adapter.py\", line 519, in <listcomp>\n",
      "    return [slice_array(inp) for inp in flat_inputs]\n",
      "\n",
      "  File \"/home/jeongmin/.pyenv/versions/3.10.6/envs/clv-the-look/lib/python3.10/site-packages/keras/src/engine/data_adapter.py\", line 515, in slice_array\n",
      "    return training_utils.slice_arrays(\n",
      "\n",
      "  File \"/home/jeongmin/.pyenv/versions/3.10.6/envs/clv-the-look/lib/python3.10/site-packages/keras/src/engine/training_utils.py\", line 50, in slice_arrays\n",
      "    slices = [x[indices[0] : indices[-1] + 1] for x in arrays]\n",
      "\n",
      "  File \"/home/jeongmin/.pyenv/versions/3.10.6/envs/clv-the-look/lib/python3.10/site-packages/keras/src/engine/training_utils.py\", line 50, in <listcomp>\n",
      "    slices = [x[indices[0] : indices[-1] + 1] for x in arrays]\n",
      "\n",
      "TypeError: 'SparseTensor' object is not subscriptable\n",
      "\n",
      "\n",
      "2024-03-11 11:23:45.025846: W tensorflow/core/framework/op_kernel.cc:1827] INVALID_ARGUMENT: TypeError: 'SparseTensor' object is not subscriptable\n",
      "Traceback (most recent call last):\n",
      "\n",
      "  File \"/home/jeongmin/.pyenv/versions/3.10.6/envs/clv-the-look/lib/python3.10/site-packages/tensorflow/python/ops/script_ops.py\", line 268, in __call__\n",
      "    return func(device, token, args)\n",
      "\n",
      "  File \"/home/jeongmin/.pyenv/versions/3.10.6/envs/clv-the-look/lib/python3.10/site-packages/tensorflow/python/ops/script_ops.py\", line 146, in __call__\n",
      "    outputs = self._call(device, args)\n",
      "\n",
      "  File \"/home/jeongmin/.pyenv/versions/3.10.6/envs/clv-the-look/lib/python3.10/site-packages/tensorflow/python/ops/script_ops.py\", line 153, in _call\n",
      "    ret = self._func(*args)\n",
      "\n",
      "  File \"/home/jeongmin/.pyenv/versions/3.10.6/envs/clv-the-look/lib/python3.10/site-packages/tensorflow/python/autograph/impl/api.py\", line 643, in wrapper\n",
      "    return func(*args, **kwargs)\n",
      "\n",
      "  File \"/home/jeongmin/.pyenv/versions/3.10.6/envs/clv-the-look/lib/python3.10/site-packages/keras/src/engine/data_adapter.py\", line 519, in py_method\n",
      "    return [slice_array(inp) for inp in flat_inputs]\n",
      "\n",
      "  File \"/home/jeongmin/.pyenv/versions/3.10.6/envs/clv-the-look/lib/python3.10/site-packages/keras/src/engine/data_adapter.py\", line 519, in <listcomp>\n",
      "    return [slice_array(inp) for inp in flat_inputs]\n",
      "\n",
      "  File \"/home/jeongmin/.pyenv/versions/3.10.6/envs/clv-the-look/lib/python3.10/site-packages/keras/src/engine/data_adapter.py\", line 515, in slice_array\n",
      "    return training_utils.slice_arrays(\n",
      "\n",
      "  File \"/home/jeongmin/.pyenv/versions/3.10.6/envs/clv-the-look/lib/python3.10/site-packages/keras/src/engine/training_utils.py\", line 50, in slice_arrays\n",
      "    slices = [x[indices[0] : indices[-1] + 1] for x in arrays]\n",
      "\n",
      "  File \"/home/jeongmin/.pyenv/versions/3.10.6/envs/clv-the-look/lib/python3.10/site-packages/keras/src/engine/training_utils.py\", line 50, in <listcomp>\n",
      "    slices = [x[indices[0] : indices[-1] + 1] for x in arrays]\n",
      "\n",
      "TypeError: 'SparseTensor' object is not subscriptable\n",
      "\n",
      "\n"
     ]
    },
    {
     "ename": "InvalidArgumentError",
     "evalue": "Graph execution error:\n\nDetected at node EagerPyFunc defined at (most recent call last):\n<stack traces unavailable>\nTypeError: 'SparseTensor' object is not subscriptable\nTraceback (most recent call last):\n\n  File \"/home/jeongmin/.pyenv/versions/3.10.6/envs/clv-the-look/lib/python3.10/site-packages/tensorflow/python/ops/script_ops.py\", line 268, in __call__\n    return func(device, token, args)\n\n  File \"/home/jeongmin/.pyenv/versions/3.10.6/envs/clv-the-look/lib/python3.10/site-packages/tensorflow/python/ops/script_ops.py\", line 146, in __call__\n    outputs = self._call(device, args)\n\n  File \"/home/jeongmin/.pyenv/versions/3.10.6/envs/clv-the-look/lib/python3.10/site-packages/tensorflow/python/ops/script_ops.py\", line 153, in _call\n    ret = self._func(*args)\n\n  File \"/home/jeongmin/.pyenv/versions/3.10.6/envs/clv-the-look/lib/python3.10/site-packages/tensorflow/python/autograph/impl/api.py\", line 643, in wrapper\n    return func(*args, **kwargs)\n\n  File \"/home/jeongmin/.pyenv/versions/3.10.6/envs/clv-the-look/lib/python3.10/site-packages/keras/src/engine/data_adapter.py\", line 519, in py_method\n    return [slice_array(inp) for inp in flat_inputs]\n\n  File \"/home/jeongmin/.pyenv/versions/3.10.6/envs/clv-the-look/lib/python3.10/site-packages/keras/src/engine/data_adapter.py\", line 519, in <listcomp>\n    return [slice_array(inp) for inp in flat_inputs]\n\n  File \"/home/jeongmin/.pyenv/versions/3.10.6/envs/clv-the-look/lib/python3.10/site-packages/keras/src/engine/data_adapter.py\", line 515, in slice_array\n    return training_utils.slice_arrays(\n\n  File \"/home/jeongmin/.pyenv/versions/3.10.6/envs/clv-the-look/lib/python3.10/site-packages/keras/src/engine/training_utils.py\", line 50, in slice_arrays\n    slices = [x[indices[0] : indices[-1] + 1] for x in arrays]\n\n  File \"/home/jeongmin/.pyenv/versions/3.10.6/envs/clv-the-look/lib/python3.10/site-packages/keras/src/engine/training_utils.py\", line 50, in <listcomp>\n    slices = [x[indices[0] : indices[-1] + 1] for x in arrays]\n\nTypeError: 'SparseTensor' object is not subscriptable\n\n\n\t [[{{node EagerPyFunc}}]]\n\t [[IteratorGetNext]] [Op:__inference_test_function_94644]",
     "output_type": "error",
     "traceback": [
      "\u001b[0;31m---------------------------------------------------------------------------\u001b[0m",
      "\u001b[0;31mInvalidArgumentError\u001b[0m                      Traceback (most recent call last)",
      "Cell \u001b[0;32mIn[111], line 1\u001b[0m\n\u001b[0;32m----> 1\u001b[0m \u001b[43mmodel\u001b[49m\u001b[38;5;241;43m.\u001b[39;49m\u001b[43mevaluate\u001b[49m\u001b[43m(\u001b[49m\u001b[43mX_test\u001b[49m\u001b[43m,\u001b[49m\u001b[43m \u001b[49m\u001b[43my_test\u001b[49m\u001b[43m,\u001b[49m\u001b[43m \u001b[49m\u001b[43mverbose\u001b[49m\u001b[38;5;241;43m=\u001b[39;49m\u001b[38;5;241;43m0\u001b[39;49m\u001b[43m,\u001b[49m\u001b[43m \u001b[49m\u001b[43mreturn_dict\u001b[49m\u001b[38;5;241;43m=\u001b[39;49m\u001b[38;5;28;43;01mTrue\u001b[39;49;00m\u001b[43m)\u001b[49m\n",
      "File \u001b[0;32m~/.pyenv/versions/3.10.6/envs/clv-the-look/lib/python3.10/site-packages/keras/src/utils/traceback_utils.py:70\u001b[0m, in \u001b[0;36mfilter_traceback.<locals>.error_handler\u001b[0;34m(*args, **kwargs)\u001b[0m\n\u001b[1;32m     67\u001b[0m     filtered_tb \u001b[38;5;241m=\u001b[39m _process_traceback_frames(e\u001b[38;5;241m.\u001b[39m__traceback__)\n\u001b[1;32m     68\u001b[0m     \u001b[38;5;66;03m# To get the full stack trace, call:\u001b[39;00m\n\u001b[1;32m     69\u001b[0m     \u001b[38;5;66;03m# `tf.debugging.disable_traceback_filtering()`\u001b[39;00m\n\u001b[0;32m---> 70\u001b[0m     \u001b[38;5;28;01mraise\u001b[39;00m e\u001b[38;5;241m.\u001b[39mwith_traceback(filtered_tb) \u001b[38;5;28;01mfrom\u001b[39;00m \u001b[38;5;28;01mNone\u001b[39;00m\n\u001b[1;32m     71\u001b[0m \u001b[38;5;28;01mfinally\u001b[39;00m:\n\u001b[1;32m     72\u001b[0m     \u001b[38;5;28;01mdel\u001b[39;00m filtered_tb\n",
      "File \u001b[0;32m~/.pyenv/versions/3.10.6/envs/clv-the-look/lib/python3.10/site-packages/tensorflow/python/eager/execute.py:53\u001b[0m, in \u001b[0;36mquick_execute\u001b[0;34m(op_name, num_outputs, inputs, attrs, ctx, name)\u001b[0m\n\u001b[1;32m     51\u001b[0m \u001b[38;5;28;01mtry\u001b[39;00m:\n\u001b[1;32m     52\u001b[0m   ctx\u001b[38;5;241m.\u001b[39mensure_initialized()\n\u001b[0;32m---> 53\u001b[0m   tensors \u001b[38;5;241m=\u001b[39m pywrap_tfe\u001b[38;5;241m.\u001b[39mTFE_Py_Execute(ctx\u001b[38;5;241m.\u001b[39m_handle, device_name, op_name,\n\u001b[1;32m     54\u001b[0m                                       inputs, attrs, num_outputs)\n\u001b[1;32m     55\u001b[0m \u001b[38;5;28;01mexcept\u001b[39;00m core\u001b[38;5;241m.\u001b[39m_NotOkStatusException \u001b[38;5;28;01mas\u001b[39;00m e:\n\u001b[1;32m     56\u001b[0m   \u001b[38;5;28;01mif\u001b[39;00m name \u001b[38;5;129;01mis\u001b[39;00m \u001b[38;5;129;01mnot\u001b[39;00m \u001b[38;5;28;01mNone\u001b[39;00m:\n",
      "\u001b[0;31mInvalidArgumentError\u001b[0m: Graph execution error:\n\nDetected at node EagerPyFunc defined at (most recent call last):\n<stack traces unavailable>\nTypeError: 'SparseTensor' object is not subscriptable\nTraceback (most recent call last):\n\n  File \"/home/jeongmin/.pyenv/versions/3.10.6/envs/clv-the-look/lib/python3.10/site-packages/tensorflow/python/ops/script_ops.py\", line 268, in __call__\n    return func(device, token, args)\n\n  File \"/home/jeongmin/.pyenv/versions/3.10.6/envs/clv-the-look/lib/python3.10/site-packages/tensorflow/python/ops/script_ops.py\", line 146, in __call__\n    outputs = self._call(device, args)\n\n  File \"/home/jeongmin/.pyenv/versions/3.10.6/envs/clv-the-look/lib/python3.10/site-packages/tensorflow/python/ops/script_ops.py\", line 153, in _call\n    ret = self._func(*args)\n\n  File \"/home/jeongmin/.pyenv/versions/3.10.6/envs/clv-the-look/lib/python3.10/site-packages/tensorflow/python/autograph/impl/api.py\", line 643, in wrapper\n    return func(*args, **kwargs)\n\n  File \"/home/jeongmin/.pyenv/versions/3.10.6/envs/clv-the-look/lib/python3.10/site-packages/keras/src/engine/data_adapter.py\", line 519, in py_method\n    return [slice_array(inp) for inp in flat_inputs]\n\n  File \"/home/jeongmin/.pyenv/versions/3.10.6/envs/clv-the-look/lib/python3.10/site-packages/keras/src/engine/data_adapter.py\", line 519, in <listcomp>\n    return [slice_array(inp) for inp in flat_inputs]\n\n  File \"/home/jeongmin/.pyenv/versions/3.10.6/envs/clv-the-look/lib/python3.10/site-packages/keras/src/engine/data_adapter.py\", line 515, in slice_array\n    return training_utils.slice_arrays(\n\n  File \"/home/jeongmin/.pyenv/versions/3.10.6/envs/clv-the-look/lib/python3.10/site-packages/keras/src/engine/training_utils.py\", line 50, in slice_arrays\n    slices = [x[indices[0] : indices[-1] + 1] for x in arrays]\n\n  File \"/home/jeongmin/.pyenv/versions/3.10.6/envs/clv-the-look/lib/python3.10/site-packages/keras/src/engine/training_utils.py\", line 50, in <listcomp>\n    slices = [x[indices[0] : indices[-1] + 1] for x in arrays]\n\nTypeError: 'SparseTensor' object is not subscriptable\n\n\n\t [[{{node EagerPyFunc}}]]\n\t [[IteratorGetNext]] [Op:__inference_test_function_94644]"
     ]
    }
   ],
   "source": [
    "model.evaluate(X_test, y_test, verbose=0, return_dict=True)"
   ]
  },
  {
   "cell_type": "code",
   "execution_count": 112,
   "id": "a5eb2f8e-6c0d-45db-835b-c225f964fc68",
   "metadata": {},
   "outputs": [
    {
     "name": "stdout",
     "output_type": "stream",
     "text": [
      "1174/1174 [==============================] - 1s 776us/step\n"
     ]
    }
   ],
   "source": [
    "y_pred_proba = model.predict(X_test)"
   ]
  },
  {
   "cell_type": "code",
   "execution_count": 113,
   "id": "5325c2ac-f458-4ff1-b40d-da94997644fc",
   "metadata": {},
   "outputs": [],
   "source": [
    "threshold = 0.50 # 50% \n",
    "\n",
    "y_pred_binary = np.where(y_pred_proba > threshold, 1, 0 )"
   ]
  },
  {
   "cell_type": "code",
   "execution_count": null,
   "id": "b6cac33e-e862-4f09-86eb-39e5acb34195",
   "metadata": {},
   "outputs": [],
   "source": []
  },
  {
   "cell_type": "markdown",
   "id": "92370b83-166a-49c4-b744-9726e9c09cba",
   "metadata": {
    "jp-MarkdownHeadingCollapsed": true
   },
   "source": [
    "## Confusion Matrix"
   ]
  },
  {
   "cell_type": "code",
   "execution_count": 114,
   "id": "98349804-c279-4bf2-9add-7c985dac2471",
   "metadata": {},
   "outputs": [
    {
     "data": {
      "text/plain": [
       "array([[24108,     0],\n",
       "       [13460,     0]])"
      ]
     },
     "execution_count": 114,
     "metadata": {},
     "output_type": "execute_result"
    }
   ],
   "source": [
    "# Confusion Matrix\n",
    "cm = confusion_matrix(y_test,y_pred_binary)\n",
    "cm"
   ]
  },
  {
   "cell_type": "code",
   "execution_count": 115,
   "id": "1a80c525-5035-4270-b015-bd395cc4ca6a",
   "metadata": {},
   "outputs": [
    {
     "data": {
      "text/plain": [
       "Text(0.5, 25.722222222222214, 'Predicted label')"
      ]
     },
     "execution_count": 115,
     "metadata": {},
     "output_type": "execute_result"
    },
    {
     "data": {
      "image/png": "[encoded data removed]",
      "text/plain": [
       "<Figure size 500x500 with 2 Axes>"
      ]
     },
     "metadata": {},
     "output_type": "display_data"
    }
   ],
   "source": [
    "plt.figure(figsize=(5,5))\n",
    "sns.heatmap(cm, annot=True, fmt=\"d\")\n",
    "plt.title('Confusion matrix')\n",
    "plt.ylabel('Actual label')\n",
    "plt.xlabel('Predicted label')"
   ]
  },
  {
   "cell_type": "code",
   "execution_count": 116,
   "id": "bf23eba2-122f-4a0b-adec-4c54e2b95c5a",
   "metadata": {},
   "outputs": [
    {
     "name": "stdout",
     "output_type": "stream",
     "text": [
      "              precision    recall  f1-score   support\n",
      "\n",
      "           0       0.64      1.00      0.78     24108\n",
      "           1       0.00      0.00      0.00     13460\n",
      "\n",
      "    accuracy                           0.64     37568\n",
      "   macro avg       0.32      0.50      0.39     37568\n",
      "weighted avg       0.41      0.64      0.50     37568\n",
      "\n"
     ]
    },
    {
     "name": "stderr",
     "output_type": "stream",
     "text": [
      "/home/jeongmin/.pyenv/versions/3.10.6/envs/clv-the-look/lib/python3.10/site-packages/sklearn/metrics/_classification.py:1509: UndefinedMetricWarning: Precision is ill-defined and being set to 0.0 in labels with no predicted samples. Use `zero_division` parameter to control this behavior.\n",
      "  _warn_prf(average, modifier, f\"{metric.capitalize()} is\", len(result))\n",
      "/home/jeongmin/.pyenv/versions/3.10.6/envs/clv-the-look/lib/python3.10/site-packages/sklearn/metrics/_classification.py:1509: UndefinedMetricWarning: Precision is ill-defined and being set to 0.0 in labels with no predicted samples. Use `zero_division` parameter to control this behavior.\n",
      "  _warn_prf(average, modifier, f\"{metric.capitalize()} is\", len(result))\n",
      "/home/jeongmin/.pyenv/versions/3.10.6/envs/clv-the-look/lib/python3.10/site-packages/sklearn/metrics/_classification.py:1509: UndefinedMetricWarning: Precision is ill-defined and being set to 0.0 in labels with no predicted samples. Use `zero_division` parameter to control this behavior.\n",
      "  _warn_prf(average, modifier, f\"{metric.capitalize()} is\", len(result))\n"
     ]
    }
   ],
   "source": [
    "from sklearn.metrics import classification_report\n",
    "print(classification_report(y_test,y_pred_binary))"
   ]
  },
  {
   "cell_type": "code",
   "execution_count": 117,
   "id": "9bf42293-fbd7-4a27-8c55-3918128f1a16",
   "metadata": {},
   "outputs": [],
   "source": [
    "from sklearn.metrics import precision_recall_curve\n",
    "\n",
    "def plot_prc(name, labels, predictions, **kwargs):\n",
    "    precision, recall, _ = precision_recall_curve(labels, predictions)\n",
    "    plt.plot(recall, precision, label=name, linewidth=2, **kwargs)\n",
    "    plt.xlabel('Recall')\n",
    "    plt.ylabel('Precision')\n",
    "    plt.grid(True)\n",
    "    ax = plt.gca()\n",
    "    ax.set_aspect('equal')"
   ]
  },
  {
   "cell_type": "code",
   "execution_count": 118,
   "id": "d04b72f9-566d-4822-962e-95c2ebd3a76f",
   "metadata": {},
   "outputs": [
    {
     "data": {
      "text/plain": [
       "<matplotlib.legend.Legend at 0x7fd930768ac0>"
      ]
     },
     "execution_count": 118,
     "metadata": {},
     "output_type": "execute_result"
    },
    {
     "data": {
      "image/png": "[encoded data removed]",
      "text/plain": [
       "<Figure size 640x480 with 1 Axes>"
      ]
     },
     "metadata": {},
     "output_type": "display_data"
    }
   ],
   "source": [
    "plot_prc(\"Test\", y_test, y_pred_proba, linestyle='--')\n",
    "plt.legend(loc='lower right')"
   ]
  },
  {
   "cell_type": "code",
   "execution_count": null,
   "id": "2eaa62ed-0d18-45b9-bb74-ddc17e9e234a",
   "metadata": {},
   "outputs": [],
   "source": []
  },
  {
   "cell_type": "code",
   "execution_count": null,
   "id": "fd6e922a-0145-40bc-95c6-a8de48d8825a",
   "metadata": {},
   "outputs": [],
   "source": []
  },
  {
   "cell_type": "code",
   "execution_count": null,
   "id": "0c00442f-e4a9-432f-807e-daf7bd531e6c",
   "metadata": {},
   "outputs": [],
   "source": []
  },
  {
   "cell_type": "code",
   "execution_count": null,
   "id": "06678830-4409-46fc-97d2-4567d0fc5d88",
   "metadata": {},
   "outputs": [],
   "source": []
  },
  {
   "cell_type": "code",
   "execution_count": null,
   "id": "f9caac46-2cef-48e5-947e-dd9f3b5f97bd",
   "metadata": {},
   "outputs": [],
   "source": []
  }
 ],
 "metadata": {
  "kernelspec": {
   "display_name": "Python 3 (ipykernel)",
   "language": "python",
   "name": "python3"
  },
  "language_info": {
   "codemirror_mode": {
    "name": "ipython",
    "version": 3
   },
   "file_extension": ".py",
   "mimetype": "text/x-python",
   "name": "python",
   "nbconvert_exporter": "python",
   "pygments_lexer": "ipython3",
   "version": "3.10.6"
  }
 },
 "nbformat": 4,
 "nbformat_minor": 5
}
