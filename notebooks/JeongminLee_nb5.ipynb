{
 "cells": [
  {
   "cell_type": "code",
   "execution_count": 70,
   "id": "0dc21e48-60bd-4856-b0ed-247ad6649768",
   "metadata": {},
   "outputs": [],
   "source": [
    "import matplotlib.pyplot as plt\n",
    "import numpy as np\n",
    "import pandas as pd\n",
    "import seaborn as sns\n",
    "import datetime as dt\n",
    "import warnings\n",
    "import math\n",
    "\n",
    "from scipy import stats\n",
    "from tempfile import mkdtemp\n",
    "from shutil import rmtree\n",
    "\n",
    "from xgboost import XGBRegressor, XGBClassifier\n",
    "\n",
    "from sklearn import set_config\n",
    "set_config(display = 'diagram')\n",
    "# Sklearn preprocessing\n",
    "from sklearn.base import BaseEstimator, TransformerMixin\n",
    "from sklearn.compose import make_column_transformer, make_column_selector, ColumnTransformer\n",
    "from sklearn.ensemble import AdaBoostRegressor, VotingRegressor, GradientBoostingRegressor, StackingRegressor, RandomForestRegressor,\\\n",
    "                            RandomForestClassifier, AdaBoostClassifier, GradientBoostingClassifier, BaggingClassifier, ExtraTreesClassifier, VotingClassifier\n",
    "from sklearn.feature_selection import SelectPercentile, mutual_info_regression, VarianceThreshold, SelectFromModel\n",
    "from sklearn.impute import SimpleImputer, KNNImputer\n",
    "from sklearn.linear_model import Ridge, LinearRegression, LogisticRegression\n",
    "from sklearn.metrics import make_scorer, mean_squared_error, mean_squared_log_error, r2_score, confusion_matrix\n",
    "from sklearn.model_selection import train_test_split, cross_val_score, GridSearchCV, RandomizedSearchCV\n",
    "from sklearn.neighbors import KNeighborsRegressor, KNeighborsClassifier\n",
    "from sklearn.pipeline import make_pipeline\n",
    "from sklearn.preprocessing import MinMaxScaler, OneHotEncoder, OrdinalEncoder, RobustScaler\n",
    "from sklearn.svm import SVR, SVC\n",
    "from sklearn.tree import DecisionTreeRegressor, DecisionTreeClassifier\n",
    "from sklearn.cluster import KMeans"
   ]
  },
  {
   "cell_type": "code",
   "execution_count": 2,
   "id": "1f5d743e-55ce-4ce1-8e13-96ac6f33f3ff",
   "metadata": {},
   "outputs": [],
   "source": [
    "users_df = pd.read_csv('../raw_data/users.csv')\n",
    "centers_df = pd.read_csv('../raw_data/distribution_centers.csv')\n",
    "events_df = pd.read_csv('../raw_data/events.csv')\n",
    "inventory_items_df = pd.read_csv('../raw_data/inventory_items.csv')\n",
    "order_items_df = pd.read_csv('../raw_data/order_items.csv')\n",
    "orders_df = pd.read_csv('../raw_data/orders.csv')\n",
    "products_df = pd.read_csv('../raw_data/products.csv')"
   ]
  },
  {
   "cell_type": "markdown",
   "id": "d20c277e-102e-4089-bb16-5d5cd45af638",
   "metadata": {},
   "source": [
    "# Data Exploration"
   ]
  },
  {
   "cell_type": "code",
   "execution_count": 3,
   "id": "28756ab3",
   "metadata": {},
   "outputs": [],
   "source": [
    "def dtype_cast_datetime(df):    \n",
    "    # datetime format cast\n",
    "    dt_columns = [col for col in df.columns if col.endswith('_at')]\n",
    "\n",
    "    for column in dt_columns:\n",
    "        df[column] = pd.to_datetime(df[column], errors='coerce',\n",
    "                                    infer_datetime_format=True).dt.tz_localize(None)\n",
    "        \n",
    "#         pd.to_datetime(orders_df[column],format='mixed').dt.tz_localize(None)\n",
    "\n",
    "    return df\n"
   ]
  },
  {
   "cell_type": "code",
   "execution_count": 4,
   "id": "89ccd034-1705-42ce-af20-87d4f25d108b",
   "metadata": {},
   "outputs": [],
   "source": [
    "def join_tables_item_level(order_items_df, products_df):\n",
    "    '''\n",
    "    Joins order-item & product\n",
    "    '''\n",
    "    order_items_df = dtype_cast_datetime(order_items_df) # datetime cast\n",
    "    \n",
    "    order_items_df = order_items_df[['id', \n",
    "                                     'order_id', \n",
    "                                     'user_id', \n",
    "                                     'product_id', \n",
    "                                     'inventory_item_id',\n",
    "                                     'status', \n",
    "                                     'created_at', \n",
    "                                     # 'shipped_at', \n",
    "                                     # 'delivered_at', \n",
    "                                     # 'returned_at',\n",
    "                                     'sale_price']].rename(columns={'id':'order_item_id','status':'order_status'})    \n",
    "    \n",
    "    products_df = products_df[['id', \n",
    "                               'cost', \n",
    "                               'category', \n",
    "                               'name',\n",
    "                               'brand',\n",
    "                               'retail_price', \n",
    "                               'department',\n",
    "                               # 'sku',\n",
    "                               'distribution_center_id']]\n",
    "\n",
    "    \n",
    "    df_joined = order_items_df.merge(products_df, left_on='product_id', right_on='id', how='left')\n",
    "    df_joined = df_joined.drop(columns=['id']) # duplicate product id    \n",
    "\n",
    "    return df_joined"
   ]
  },
  {
   "cell_type": "code",
   "execution_count": 5,
   "id": "0d4d9fdc",
   "metadata": {},
   "outputs": [],
   "source": [
    "item_level_df = join_tables_item_level(order_items_df, products_df)"
   ]
  },
  {
   "cell_type": "markdown",
   "id": "60a113b4-aa83-4cc8-ac62-a80e1df7db9c",
   "metadata": {
    "jp-MarkdownHeadingCollapsed": true
   },
   "source": [
    "## Data Exploration"
   ]
  },
  {
   "cell_type": "code",
   "execution_count": 6,
   "id": "8eae87ad-ad1f-4264-a42a-4cf25bc9a15a",
   "metadata": {},
   "outputs": [],
   "source": [
    "# # Check users\n",
    "# users_df_test = users_df.copy()\n",
    "# users_df_test['created_at'] = pd.to_datetime(users_df_test['created_at'],format='mixed').dt.tz_localize(None)\n",
    "# users_df_test.hist('created_at')"
   ]
  },
  {
   "cell_type": "code",
   "execution_count": 7,
   "id": "9de5a64f-e5ce-4832-a159-692413aa233f",
   "metadata": {},
   "outputs": [],
   "source": [
    "# # Check order trend\n",
    "# orders_test = orders_df.copy()\n",
    "# orders_test['created_at'] = pd.to_datetime(orders_test['created_at'],format='mixed').dt.tz_localize(None)\n",
    "# orders_test.hist('created_at')"
   ]
  },
  {
   "cell_type": "code",
   "execution_count": 8,
   "id": "6d99fff7-5219-445a-bd23-dcd8d9b55c46",
   "metadata": {},
   "outputs": [],
   "source": [
    "# orders_cnt = orders_test.groupby(by='user_id')['order_id'].count().reset_index(name='orders')\n",
    "\n",
    "# orders_cnt['orders'].hist()\n",
    "\n",
    "# # Most of users only buy once"
   ]
  },
  {
   "cell_type": "code",
   "execution_count": 9,
   "id": "5de5c94b-d668-47e7-9b83-4e25391a69af",
   "metadata": {},
   "outputs": [],
   "source": [
    "# users_test = orders_df.copy()\n",
    "# users_test['created_at'] = pd.to_datetime(users_test['created_at'],format='mixed').dt.tz_localize(None)"
   ]
  },
  {
   "cell_type": "code",
   "execution_count": 10,
   "id": "a2a27d5e-ee95-4ade-a494-86b2bd7360f7",
   "metadata": {},
   "outputs": [],
   "source": [
    "# users_test['year'] = users_test.created_at.dt.year"
   ]
  },
  {
   "cell_type": "markdown",
   "id": "515a1961-1168-46fb-9925-b1115c748955",
   "metadata": {},
   "source": [
    "#### ? Users sign up early and buy later somehow"
   ]
  },
  {
   "cell_type": "code",
   "execution_count": 11,
   "id": "9e7fd5b5-cd5b-4da8-a624-cb38ba390799",
   "metadata": {},
   "outputs": [],
   "source": [
    "# orders_w_user = orders_test.merge(users_test[['user_id','created_at']].rename(columns={'created_at':'user_created_at'}), on='user_id')"
   ]
  },
  {
   "cell_type": "code",
   "execution_count": 12,
   "id": "5b883a46-ffdc-479d-8b46-84313f765f27",
   "metadata": {},
   "outputs": [],
   "source": [
    "# orders_w_user['months_from_signup'] = (orders_w_user.created_at-orders_w_user.user_created_at).dt.days/30"
   ]
  },
  {
   "cell_type": "code",
   "execution_count": 13,
   "id": "8845fef8-00c4-4ed0-a9cc-e543140ac0d5",
   "metadata": {},
   "outputs": [],
   "source": [
    "# orders_w_user.months_from_signup.hist()\n",
    "\n",
    "# user_created_at is wrong"
   ]
  },
  {
   "cell_type": "code",
   "execution_count": 14,
   "id": "cbe5e793-1df5-4b59-bd72-a36c5998002b",
   "metadata": {},
   "outputs": [
    {
     "data": {
      "text/plain": [
       "Index(['order_id', 'user_id', 'status', 'gender', 'created_at', 'returned_at',\n",
       "       'shipped_at', 'delivered_at', 'num_of_item'],\n",
       "      dtype='object')"
      ]
     },
     "execution_count": 14,
     "metadata": {},
     "output_type": "execute_result"
    }
   ],
   "source": [
    "orders_df.columns"
   ]
  },
  {
   "cell_type": "markdown",
   "id": "28d3dab9-d361-4e48-b789-519656d14963",
   "metadata": {},
   "source": [
    "#### ? Is there brands working bad in terms of return rate?"
   ]
  },
  {
   "cell_type": "code",
   "execution_count": 15,
   "id": "b20f0f7b-cbc8-426a-8e11-086f7bb47796",
   "metadata": {},
   "outputs": [],
   "source": [
    "# item_product_df = join_tables_item_level(order_items_df, products_df)"
   ]
  },
  {
   "cell_type": "code",
   "execution_count": 16,
   "id": "8c3fd8de-49c8-451c-b763-bbe23500634a",
   "metadata": {},
   "outputs": [],
   "source": [
    "# item_product_df['num_returns'] = item_product_df."
   ]
  },
  {
   "cell_type": "code",
   "execution_count": 17,
   "id": "981b258a-f57b-48a2-a069-b1e4744b9fdb",
   "metadata": {},
   "outputs": [],
   "source": [
    "# item_product_df.groupby(by=['brand','order_status'])['order_id'].nunique().reset_index()"
   ]
  },
  {
   "cell_type": "markdown",
   "id": "accc52de-62a0-4ee2-bfc8-785e07228f60",
   "metadata": {},
   "source": [
    "# Data Prep Functions"
   ]
  },
  {
   "cell_type": "code",
   "execution_count": 18,
   "id": "7d777f20",
   "metadata": {},
   "outputs": [
    {
     "data": {
      "text/plain": [
       "Index(['order_id', 'user_id', 'status', 'gender', 'created_at', 'returned_at',\n",
       "       'shipped_at', 'delivered_at', 'num_of_item'],\n",
       "      dtype='object')"
      ]
     },
     "execution_count": 18,
     "metadata": {},
     "output_type": "execute_result"
    }
   ],
   "source": [
    "orders_df.columns"
   ]
  },
  {
   "cell_type": "markdown",
   "id": "1d35ac8a",
   "metadata": {
    "heading_collapsed": true
   },
   "source": [
    "## Order table prep"
   ]
  },
  {
   "cell_type": "code",
   "execution_count": 340,
   "id": "c13b43df-84bb-4089-ac1c-6e514a2eb75e",
   "metadata": {
    "hidden": true
   },
   "outputs": [],
   "source": [
    "def restructure_orders_prev_next(df):\n",
    "    '''\n",
    "    ---\n",
    "    '''\n",
    "    orders_df = dtype_cast_datetime(df).copy()\n",
    "    # order ranks\n",
    "    orders_df['order_rank'] = orders_df.groupby('user_id')['created_at'].rank(method='first').astype(int)\n",
    "    orders_df = orders_df.sort_values(by=['user_id', 'created_at'])\n",
    "\n",
    "    max_date = orders_df['created_at'].max() ## to calculate days left to predict\n",
    "\n",
    "    # Calc delivery day\n",
    "    orders_df['delivery_days'] = (orders_df['delivered_at'] - orders_df['created_at']).dt.days\n",
    "    # Calc shipped day\n",
    "    orders_df['delivery_days'] = (orders_df['shipped_at'] - orders_df['created_at']).dt.days\n",
    "\n",
    "    # weekday\n",
    "    orders_df['weekday_ordered'] = orders_df['created_at'].dt.dayofweek\n",
    "    orders_df['weekday_delivered'] = orders_df['delivered_at'].dt.dayofweek\n",
    "\n",
    "    # counts other status\n",
    "    orders_df['returned?'] = orders_df['returned_at'].apply(lambda x : 1 if pd.notna(x) else 0)\n",
    "    orders_df['shipped?'] = orders_df['shipped_at'].apply(lambda x : 1 if pd.notna(x) else 0)\n",
    "    orders_df['delivered?'] = orders_df['delivered_at'].apply(lambda x : 1 if pd.notna(x) else 0)\n",
    "\n",
    "    orders_df['return_cumsum'] = orders_df.groupby(by='user_id')['returned?'].cumsum()\n",
    "    orders_df['ship_cumsum'] = orders_df.groupby(by='user_id')['shipped?'].cumsum()\n",
    "    orders_df['deliver_cumsum'] = orders_df.groupby(by='user_id')['delivered?'].cumsum()\n",
    "    \n",
    "    # User-level T\n",
    "    orders_df['min_order_created_at'] = orders_df.groupby(by='user_id')['created_at'].transform('min')\n",
    "    orders_df['min_order_delivered_at'] = orders_df.groupby(by='user_id')['delivered_at'].transform('min')\n",
    "\n",
    "    orders_df['customer_T'] = (orders_df['created_at']-orders_df['min_order_created_at']).dt.days\n",
    "    orders_df['days_from_first_delivery'] = (orders_df['created_at']-orders_df['min_order_delivered_at']).dt.days\n",
    "    orders_df['days_from_first_delivery'] = orders_df['days_from_first_delivery'].apply(lambda x : x if x >= 0 else np.nan)\n",
    "    \n",
    "    orders_df['days_left_to_predict'] = (max_date- orders_df['created_at']).dt.days\n",
    "    \n",
    "    # Total items\n",
    "    orders_df['items_until_now'] = orders_df.groupby(by='user_id')['num_of_item'].cumsum()\n",
    "    orders_df['num_items_delivered'] = orders_df.apply(lambda row: row['num_of_item'] if row['delivered?']==1 else 0, axis=1)\n",
    "    orders_df['delivered_items_until_now'] = orders_df.groupby(by='user_id')['num_items_delivered'].cumsum()\n",
    "\n",
    "    # avg days between orders\n",
    "    orders_df['avg_days_btw_orders'] = orders_df['customer_T']/orders_df['order_rank']\n",
    "    \n",
    "    # Next orders\n",
    "    orders_next = orders_df.copy()\n",
    "    orders_next['order_rank_prev'] = orders_next['order_rank']-1\n",
    "    orders_next = orders_next[['user_id','order_id','order_rank_prev','created_at']].rename(columns={'order_id':'next_order_id',\n",
    "                                                                                                     'created_at':'next_order_created_at'})\n",
    "    \n",
    "    orders_prev_next = orders_df.merge(orders_next, left_on=['user_id','order_rank'], right_on=['user_id','order_rank_prev'], how='left')\n",
    "\n",
    "    \n",
    "    orders_prev_next['days_until_next_order'] = (orders_prev_next.next_order_created_at - orders_prev_next.created_at).dt.days\n",
    "    orders_prev_next['days_until_next_order_group'] = orders_prev_next['days_until_next_order']//50\n",
    "    \n",
    "    orders_prev_next['next_order?'] = orders_prev_next['next_order_id'].notna()\n",
    "\n",
    "    return orders_prev_next.drop(columns='order_rank_prev')"
   ]
  },
  {
   "cell_type": "code",
   "execution_count": 288,
   "id": "3bc8cfd9-4c10-4715-8565-1df9c20a09c6",
   "metadata": {
    "hidden": true
   },
   "outputs": [
    {
     "data": {
      "text/html": [
       "<div>\n",
       "<style scoped>\n",
       "    .dataframe tbody tr th:only-of-type {\n",
       "        vertical-align: middle;\n",
       "    }\n",
       "\n",
       "    .dataframe tbody tr th {\n",
       "        vertical-align: top;\n",
       "    }\n",
       "\n",
       "    .dataframe thead th {\n",
       "        text-align: right;\n",
       "    }\n",
       "</style>\n",
       "<table border=\"1\" class=\"dataframe\">\n",
       "  <thead>\n",
       "    <tr style=\"text-align: right;\">\n",
       "      <th></th>\n",
       "      <th>order_id</th>\n",
       "      <th>user_id</th>\n",
       "      <th>days_until_next_order</th>\n",
       "    </tr>\n",
       "  </thead>\n",
       "  <tbody>\n",
       "    <tr>\n",
       "      <th>0</th>\n",
       "      <td>1</td>\n",
       "      <td>1</td>\n",
       "      <td>NaN</td>\n",
       "    </tr>\n",
       "    <tr>\n",
       "      <th>1</th>\n",
       "      <td>2</td>\n",
       "      <td>2</td>\n",
       "      <td>NaN</td>\n",
       "    </tr>\n",
       "    <tr>\n",
       "      <th>2</th>\n",
       "      <td>5</td>\n",
       "      <td>3</td>\n",
       "      <td>23.0</td>\n",
       "    </tr>\n",
       "    <tr>\n",
       "      <th>3</th>\n",
       "      <td>6</td>\n",
       "      <td>3</td>\n",
       "      <td>21.0</td>\n",
       "    </tr>\n",
       "    <tr>\n",
       "      <th>4</th>\n",
       "      <td>3</td>\n",
       "      <td>3</td>\n",
       "      <td>107.0</td>\n",
       "    </tr>\n",
       "    <tr>\n",
       "      <th>5</th>\n",
       "      <td>4</td>\n",
       "      <td>3</td>\n",
       "      <td>NaN</td>\n",
       "    </tr>\n",
       "    <tr>\n",
       "      <th>6</th>\n",
       "      <td>7</td>\n",
       "      <td>4</td>\n",
       "      <td>NaN</td>\n",
       "    </tr>\n",
       "    <tr>\n",
       "      <th>7</th>\n",
       "      <td>8</td>\n",
       "      <td>5</td>\n",
       "      <td>NaN</td>\n",
       "    </tr>\n",
       "    <tr>\n",
       "      <th>8</th>\n",
       "      <td>9</td>\n",
       "      <td>6</td>\n",
       "      <td>NaN</td>\n",
       "    </tr>\n",
       "    <tr>\n",
       "      <th>9</th>\n",
       "      <td>10</td>\n",
       "      <td>7</td>\n",
       "      <td>NaN</td>\n",
       "    </tr>\n",
       "    <tr>\n",
       "      <th>10</th>\n",
       "      <td>11</td>\n",
       "      <td>8</td>\n",
       "      <td>NaN</td>\n",
       "    </tr>\n",
       "    <tr>\n",
       "      <th>11</th>\n",
       "      <td>13</td>\n",
       "      <td>9</td>\n",
       "      <td>1258.0</td>\n",
       "    </tr>\n",
       "    <tr>\n",
       "      <th>12</th>\n",
       "      <td>12</td>\n",
       "      <td>9</td>\n",
       "      <td>NaN</td>\n",
       "    </tr>\n",
       "    <tr>\n",
       "      <th>13</th>\n",
       "      <td>15</td>\n",
       "      <td>11</td>\n",
       "      <td>149.0</td>\n",
       "    </tr>\n",
       "    <tr>\n",
       "      <th>14</th>\n",
       "      <td>14</td>\n",
       "      <td>11</td>\n",
       "      <td>NaN</td>\n",
       "    </tr>\n",
       "  </tbody>\n",
       "</table>\n",
       "</div>"
      ],
      "text/plain": [
       "    order_id  user_id  days_until_next_order\n",
       "0          1        1                    NaN\n",
       "1          2        2                    NaN\n",
       "2          5        3                   23.0\n",
       "3          6        3                   21.0\n",
       "4          3        3                  107.0\n",
       "5          4        3                    NaN\n",
       "6          7        4                    NaN\n",
       "7          8        5                    NaN\n",
       "8          9        6                    NaN\n",
       "9         10        7                    NaN\n",
       "10        11        8                    NaN\n",
       "11        13        9                 1258.0\n",
       "12        12        9                    NaN\n",
       "13        15       11                  149.0\n",
       "14        14       11                    NaN"
      ]
     },
     "execution_count": 288,
     "metadata": {},
     "output_type": "execute_result"
    }
   ],
   "source": [
    "test = restructure_orders_prev_next(orders_df)"
   ]
  },
  {
   "cell_type": "code",
   "execution_count": 339,
   "id": "2a9f5121",
   "metadata": {
    "hidden": true
   },
   "outputs": [
    {
     "data": {
      "text/plain": [
       "''"
      ]
     },
     "execution_count": 339,
     "metadata": {},
     "output_type": "execute_result"
    },
    {
     "data": {
      "image/png": "[encoded data removed]",
      "text/plain": [
       "<Figure size 1000x600 with 1 Axes>"
      ]
     },
     "metadata": {},
     "output_type": "display_data"
    }
   ],
   "source": [
    "data_test = test[['order_id','user_id','order_rank','days_until_next_order']]\n",
    "data_test['days_group'] = (data_test.days_until_next_order//50)\n",
    "\n",
    "data_test_g = data_test.groupby(['days_group','order_rank'])['order_id'].nunique().reset_index(name='orders')\n",
    "# sns.scatterplot(data=data_test_g, x='days_group', y='order_id', hue='order_rank');\n",
    "\n",
    "\n",
    "data_test_g2 = data_test.groupby('days_group')['order_id'].nunique().reset_index(name='orders').sort_values('days_group')\n",
    "data_test_g2['runsum'] = data_test_g2['orders'].cumsum()\n",
    "total_orders = data_test_g2.orders.sum()\n",
    "data_test_g2['ratio'] =  data_test_g2['runsum']/total_orders\n",
    "\n",
    "data_test_g2\n",
    "\n",
    "plt.figure(figsize=(10,6))\n",
    "sns.barplot(data=data_test_g2,x='days_group',y='ratio')\n",
    "plt.xticks(rotation=90)\n",
    "plt.yticks([i/10 for i in range(11)])\n",
    ";\n",
    "\n",
    "# next 600 days are our y"
   ]
  },
  {
   "cell_type": "code",
   "execution_count": 238,
   "id": "1396d636",
   "metadata": {
    "hidden": true
   },
   "outputs": [],
   "source": [
    "# test[test.weekday_delivered == 6][['weekday_delivered','delivered_at']]"
   ]
  },
  {
   "cell_type": "code",
   "execution_count": 21,
   "id": "e976985e-6bb2-4db3-a92d-3412a5de82b2",
   "metadata": {
    "hidden": true,
    "scrolled": false
   },
   "outputs": [
    {
     "data": {
      "text/html": [
       "<div>\n",
       "<style scoped>\n",
       "    .dataframe tbody tr th:only-of-type {\n",
       "        vertical-align: middle;\n",
       "    }\n",
       "\n",
       "    .dataframe tbody tr th {\n",
       "        vertical-align: top;\n",
       "    }\n",
       "\n",
       "    .dataframe thead th {\n",
       "        text-align: right;\n",
       "    }\n",
       "</style>\n",
       "<table border=\"1\" class=\"dataframe\">\n",
       "  <thead>\n",
       "    <tr style=\"text-align: right;\">\n",
       "      <th></th>\n",
       "      <th>order_id</th>\n",
       "      <th>user_id</th>\n",
       "      <th>created_at</th>\n",
       "      <th>order_rank</th>\n",
       "      <th>min_order_created_at</th>\n",
       "      <th>return_cumsum</th>\n",
       "    </tr>\n",
       "  </thead>\n",
       "  <tbody>\n",
       "    <tr>\n",
       "      <th>58</th>\n",
       "      <td>60</td>\n",
       "      <td>44</td>\n",
       "      <td>2023-01-20 02:12:00</td>\n",
       "      <td>1</td>\n",
       "      <td>2023-01-20 02:12:00</td>\n",
       "      <td>0</td>\n",
       "    </tr>\n",
       "    <tr>\n",
       "      <th>59</th>\n",
       "      <td>59</td>\n",
       "      <td>44</td>\n",
       "      <td>2023-09-11 02:12:00</td>\n",
       "      <td>2</td>\n",
       "      <td>2023-01-20 02:12:00</td>\n",
       "      <td>0</td>\n",
       "    </tr>\n",
       "    <tr>\n",
       "      <th>125207</th>\n",
       "      <td>125208</td>\n",
       "      <td>99983</td>\n",
       "      <td>2022-03-14 15:06:00</td>\n",
       "      <td>1</td>\n",
       "      <td>2022-03-14 15:06:00</td>\n",
       "      <td>0</td>\n",
       "    </tr>\n",
       "    <tr>\n",
       "      <th>125208</th>\n",
       "      <td>125209</td>\n",
       "      <td>99983</td>\n",
       "      <td>2022-09-07 15:06:00</td>\n",
       "      <td>2</td>\n",
       "      <td>2022-03-14 15:06:00</td>\n",
       "      <td>0</td>\n",
       "    </tr>\n",
       "    <tr>\n",
       "      <th>125209</th>\n",
       "      <td>125210</td>\n",
       "      <td>99983</td>\n",
       "      <td>2023-03-01 15:06:00</td>\n",
       "      <td>3</td>\n",
       "      <td>2022-03-14 15:06:00</td>\n",
       "      <td>0</td>\n",
       "    </tr>\n",
       "    <tr>\n",
       "      <th>125210</th>\n",
       "      <td>125211</td>\n",
       "      <td>99983</td>\n",
       "      <td>2023-08-25 15:06:00</td>\n",
       "      <td>4</td>\n",
       "      <td>2022-03-14 15:06:00</td>\n",
       "      <td>0</td>\n",
       "    </tr>\n",
       "  </tbody>\n",
       "</table>\n",
       "</div>"
      ],
      "text/plain": [
       "        order_id  user_id          created_at  order_rank  \\\n",
       "58            60       44 2023-01-20 02:12:00           1   \n",
       "59            59       44 2023-09-11 02:12:00           2   \n",
       "125207    125208    99983 2022-03-14 15:06:00           1   \n",
       "125208    125209    99983 2022-09-07 15:06:00           2   \n",
       "125209    125210    99983 2023-03-01 15:06:00           3   \n",
       "125210    125211    99983 2023-08-25 15:06:00           4   \n",
       "\n",
       "       min_order_created_at  return_cumsum  \n",
       "58      2023-01-20 02:12:00              0  \n",
       "59      2023-01-20 02:12:00              0  \n",
       "125207  2022-03-14 15:06:00              0  \n",
       "125208  2022-03-14 15:06:00              0  \n",
       "125209  2022-03-14 15:06:00              0  \n",
       "125210  2022-03-14 15:06:00              0  "
      ]
     },
     "execution_count": 21,
     "metadata": {},
     "output_type": "execute_result"
    }
   ],
   "source": [
    "test[test['user_id'].isin([99983,44])][['order_id','user_id','created_at','order_rank','min_order_created_at','return_cumsum']]"
   ]
  },
  {
   "cell_type": "markdown",
   "id": "42eaefb4-f4fd-4cd9-bd14-3b0d7843af8f",
   "metadata": {},
   "source": [
    "## distance calculation"
   ]
  },
  {
   "cell_type": "code",
   "execution_count": 22,
   "id": "34babe15-77ae-43bb-82da-25a7b408a342",
   "metadata": {},
   "outputs": [],
   "source": [
    "def haversine(lat1, lon1, lat2, lon2):\n",
    "    \"\"\"\n",
    "    Calculate the great circle distance between two points\n",
    "    on the Earth's surface given their latitude and longitude\n",
    "    in decimal degrees.\n",
    "    \"\"\"\n",
    "    # Convert decimal degrees to radians\n",
    "    lat1, lon1, lat2, lon2 = map(math.radians, [lat1, lon1, lat2, lon2])\n",
    "\n",
    "    # Haversine formula\n",
    "    dlon = lon2 - lon1\n",
    "    dlat = lat2 - lat1\n",
    "    a = math.sin(dlat/2)**2 + math.cos(lat1) * math.cos(lat2) * math.sin(dlon/2)**2\n",
    "    c = 2 * math.asin(math.sqrt(a))\n",
    "    r = 6371  # Radius of Earth in kilometers. Use 3956 for miles\n",
    "    return c * r"
   ]
  },
  {
   "cell_type": "code",
   "execution_count": 23,
   "id": "54b907c5-5f1f-4bc5-9ba7-16646f32ca5a",
   "metadata": {},
   "outputs": [],
   "source": [
    "def calc_distance(products_df, centers_df, users_df, order_items_df):\n",
    "    prod_center_df = products_df[['id','distribution_center_id']].merge(centers_df[['id','latitude','longitude']], \n",
    "                                                                        left_on='distribution_center_id', \n",
    "                                                                        right_on='id', how='left')\\\n",
    "                                                                .rename(\n",
    "                                                                    columns={'id_x':'product_id',\n",
    "                                                                             'latitude':'prod_lat',\n",
    "                                                                             'longitude':'prod_lon'}).drop(columns='id_y')\n",
    "    \n",
    "    \n",
    "    order_user_df = order_items_df[['order_id','user_id','product_id']].merge(users_df[['id','latitude','longitude']]\n",
    "                                                                              , left_on= 'product_id', right_on = 'id', how='left')\\\n",
    "                                                                              .drop(columns='id') \\\n",
    "                                                                              .rename(columns={\n",
    "                                                                                  'latitude':'user_lat',\n",
    "                                                                                  'longitude':'user_lon'\n",
    "                                                                              })\n",
    "    \n",
    "    distance_df = order_user_df.merge(prod_center_df, on='product_id', how='left')\n",
    "\n",
    "    # Assuming df has columns 'lat1', 'lon1', 'lat2', 'lon2'\n",
    "    distance_df['distance'] = distance_df.apply(lambda row: haversine(row['prod_lat'], row['prod_lon'], row['user_lat'], row['user_lon']), axis=1)\n",
    "\n",
    "    result = distance_df.groupby(by='order_id')['distance'].mean().reset_index(name='avg_distance')\n",
    "\n",
    "    return result\n",
    "\n"
   ]
  },
  {
   "cell_type": "code",
   "execution_count": 24,
   "id": "e7434d87-ff1f-495e-9fe7-479e8db374d6",
   "metadata": {},
   "outputs": [
    {
     "data": {
      "text/html": [
       "<div>\n",
       "<style scoped>\n",
       "    .dataframe tbody tr th:only-of-type {\n",
       "        vertical-align: middle;\n",
       "    }\n",
       "\n",
       "    .dataframe tbody tr th {\n",
       "        vertical-align: top;\n",
       "    }\n",
       "\n",
       "    .dataframe thead th {\n",
       "        text-align: right;\n",
       "    }\n",
       "</style>\n",
       "<table border=\"1\" class=\"dataframe\">\n",
       "  <thead>\n",
       "    <tr style=\"text-align: right;\">\n",
       "      <th></th>\n",
       "      <th>order_id</th>\n",
       "      <th>avg_distance</th>\n",
       "    </tr>\n",
       "  </thead>\n",
       "  <tbody>\n",
       "    <tr>\n",
       "      <th>0</th>\n",
       "      <td>1</td>\n",
       "      <td>12169.291372</td>\n",
       "    </tr>\n",
       "    <tr>\n",
       "      <th>1</th>\n",
       "      <td>2</td>\n",
       "      <td>10981.424735</td>\n",
       "    </tr>\n",
       "    <tr>\n",
       "      <th>2</th>\n",
       "      <td>3</td>\n",
       "      <td>7551.181495</td>\n",
       "    </tr>\n",
       "    <tr>\n",
       "      <th>3</th>\n",
       "      <td>4</td>\n",
       "      <td>9183.548783</td>\n",
       "    </tr>\n",
       "    <tr>\n",
       "      <th>4</th>\n",
       "      <td>5</td>\n",
       "      <td>6668.954200</td>\n",
       "    </tr>\n",
       "    <tr>\n",
       "      <th>...</th>\n",
       "      <td>...</td>\n",
       "      <td>...</td>\n",
       "    </tr>\n",
       "    <tr>\n",
       "      <th>125221</th>\n",
       "      <td>125222</td>\n",
       "      <td>12457.922574</td>\n",
       "    </tr>\n",
       "    <tr>\n",
       "      <th>125222</th>\n",
       "      <td>125223</td>\n",
       "      <td>6889.798937</td>\n",
       "    </tr>\n",
       "    <tr>\n",
       "      <th>125223</th>\n",
       "      <td>125224</td>\n",
       "      <td>9422.287851</td>\n",
       "    </tr>\n",
       "    <tr>\n",
       "      <th>125224</th>\n",
       "      <td>125225</td>\n",
       "      <td>7259.330858</td>\n",
       "    </tr>\n",
       "    <tr>\n",
       "      <th>125225</th>\n",
       "      <td>125226</td>\n",
       "      <td>12200.595182</td>\n",
       "    </tr>\n",
       "  </tbody>\n",
       "</table>\n",
       "<p>125226 rows × 2 columns</p>\n",
       "</div>"
      ],
      "text/plain": [
       "        order_id  avg_distance\n",
       "0              1  12169.291372\n",
       "1              2  10981.424735\n",
       "2              3   7551.181495\n",
       "3              4   9183.548783\n",
       "4              5   6668.954200\n",
       "...          ...           ...\n",
       "125221    125222  12457.922574\n",
       "125222    125223   6889.798937\n",
       "125223    125224   9422.287851\n",
       "125224    125225   7259.330858\n",
       "125225    125226  12200.595182\n",
       "\n",
       "[125226 rows x 2 columns]"
      ]
     },
     "execution_count": 24,
     "metadata": {},
     "output_type": "execute_result"
    }
   ],
   "source": [
    "calc_distance(products_df, centers_df, users_df, order_items_df)"
   ]
  },
  {
   "cell_type": "markdown",
   "id": "64d22038-987e-40b4-b5da-5e4efc598521",
   "metadata": {},
   "source": [
    "## Product level calculation"
   ]
  },
  {
   "cell_type": "code",
   "execution_count": 25,
   "id": "c92e3444-5966-49f9-80e6-63ff8bb127d9",
   "metadata": {},
   "outputs": [],
   "source": [
    "def product_info(item_level_df):\n",
    "    '''\n",
    "    takes item-level dataframe and calculate features to user level.\n",
    "    '''\n",
    "\n",
    "    base = item_level_df[['order_id','order_item_id']].groupby('order_id').count().fillna(0).rename(columns={'order_item_id':'num_order_item'}).reset_index()\n",
    "\n",
    "    # order revenue\n",
    "    revenue = item_level_df.groupby(by='order_id')['sale_price'].sum().reset_index(name='sale_price')\n",
    "    base = base.merge(revenue, on='order_id', how='left') \n",
    "    \n",
    "    # order retail_price\n",
    "    revenue = item_level_df.groupby(by='order_id')['retail_price'].sum().reset_index(name='retail_price')\n",
    "    base = base.merge(revenue, on='order_id', how='left') \n",
    "    \n",
    "    \n",
    "    # Most frequent category\n",
    "    count_cat = item_level_df.groupby(['order_id', 'category']).size().reset_index(name='count')\n",
    "    # Find the index of the row with the maximum count for each user\n",
    "    max_count_index = count_cat.groupby('order_id')['count'].idxmax()\n",
    "    # Extract the rows corresponding to the maximum counts\n",
    "    preferred_categories = count_cat.loc[max_count_index]\n",
    "    # remove duplicates\n",
    "    pref_cat_no_duplicates = preferred_categories.drop_duplicates(subset=['order_id']).rename(columns={'category':'category_preffered'})\n",
    "\n",
    "    base = base.merge(pref_cat_no_duplicates[['order_id','category_preffered']],on='order_id',how='left')            \n",
    "\n",
    "\n",
    "    # Department\n",
    "    # Most frequent category\n",
    "    count_dept = item_level_df.groupby(['order_id', 'department']).size().reset_index(name='count')\n",
    "    # Find the index of the row with the maximum count for each user\n",
    "    max_count_index_dept = count_dept.groupby('order_id')['count'].idxmax()\n",
    "    # Extract the rows corresponding to the maximum counts\n",
    "    preferred_dept = count_dept.loc[max_count_index_dept]\n",
    "    # remove duplicates\n",
    "    pref_dept_no_duplicates = preferred_dept.drop_duplicates(subset=['order_id']).rename(columns={'department':'dept_pref'})\n",
    "\n",
    "    base = base.merge(pref_dept_no_duplicates[['order_id','dept_pref']],on='order_id',how='left')    \n",
    "    \n",
    "    return base"
   ]
  },
  {
   "cell_type": "markdown",
   "id": "74b318f3-00b9-4de3-a05d-ebb5aba9400f",
   "metadata": {},
   "source": [
    "## User dataset"
   ]
  },
  {
   "cell_type": "code",
   "execution_count": 26,
   "id": "e204014d-5a76-4b04-ae53-18e054cbcf3a",
   "metadata": {},
   "outputs": [],
   "source": [
    "def select_user_columns(users_df):\n",
    "\n",
    "    df = users_df[['id','age','country','created_at','traffic_source']].rename(columns={'id':'user_id','created_at':'user_created_at'})\n",
    "    # Filter users only for last 2 years from split date\n",
    "    # min_date = split_date - pd.DateOffset(days=365*5)\n",
    "\n",
    "    def assign_age_group(age):\n",
    "        if age <= 15:\n",
    "            return '00_15'\n",
    "        elif age <= 25:\n",
    "            return '16_25'\n",
    "        elif age <= 35:\n",
    "            return '26_35'\n",
    "        elif age <= 45:\n",
    "            return '36_45'\n",
    "        elif age <= 55:\n",
    "            return '46_55'\n",
    "        else:\n",
    "            return '56_99'\n",
    "\n",
    "    df['age_group'] = df['age'].apply(assign_age_group)\n",
    "    \n",
    "    return df"
   ]
  },
  {
   "cell_type": "markdown",
   "id": "2f83f1c1-2bf8-4cc2-9c7f-cb80bde52eb8",
   "metadata": {},
   "source": [
    "## Event Dataset"
   ]
  },
  {
   "cell_type": "code",
   "execution_count": 27,
   "id": "db483007-6f56-4942-8cc3-7c8ce3ecee34",
   "metadata": {},
   "outputs": [],
   "source": [
    "def event_dataset(events_df):\n",
    "    '''\n",
    "    Returns most used browser per user_id\n",
    "    '''\n",
    "    \n",
    "    events_df = events_df[events_df['user_id'].notna()].copy()\n",
    "    events_df = dtype_cast_datetime(events_df)\n",
    "    \n",
    "    # Preffered browser\n",
    "    count_browser = events_df.groupby(['user_id', 'browser']).size().reset_index(name='count')\n",
    "    max_count_index = count_browser.groupby('user_id')['count'].idxmax()\n",
    "    preferred_browser = count_browser.loc[max_count_index]\n",
    "    pref_brsr_no_duplicates = preferred_browser.drop_duplicates(subset=['user_id']).rename(columns={'browser':'browser_pref'})\n",
    "    base = pref_brsr_no_duplicates[['user_id','browser_pref']]\n",
    "\n",
    "    return base"
   ]
  },
  {
   "cell_type": "markdown",
   "id": "66d5224b",
   "metadata": {},
   "source": [
    "## Join prepped data"
   ]
  },
  {
   "cell_type": "code",
   "execution_count": 28,
   "id": "fc387644-cb5a-435c-96c7-3cbbed7446f6",
   "metadata": {},
   "outputs": [],
   "source": [
    "item_level_df = join_tables_item_level(order_items_df, products_df)"
   ]
  },
  {
   "cell_type": "code",
   "execution_count": 341,
   "id": "9035528a-2137-426d-9199-14be277c35aa",
   "metadata": {},
   "outputs": [],
   "source": [
    "df_user = select_user_columns(users_df)\n",
    "df_order = restructure_orders_prev_next(orders_df)\n",
    "df_item = product_info(item_level_df)\n",
    "df_event = event_dataset(events_df)\n",
    "df_distance = calc_distance(products_df, centers_df, users_df, order_items_df)"
   ]
  },
  {
   "cell_type": "markdown",
   "id": "a8b431d4-24b1-4e92-a7a9-7ea483107130",
   "metadata": {
    "jp-MarkdownHeadingCollapsed": true
   },
   "source": [
    "## Testing to create user-event dataset"
   ]
  },
  {
   "cell_type": "code",
   "execution_count": 30,
   "id": "94fc4e08-3821-4078-ab33-83944066c454",
   "metadata": {},
   "outputs": [],
   "source": [
    "# order_event_jd = orders_df[['order_id', 'created_at']].merge(events_df[[]], on='user_id', how='left')"
   ]
  },
  {
   "cell_type": "code",
   "execution_count": 31,
   "id": "efc57496-e392-4da6-854d-ca67ad57b670",
   "metadata": {},
   "outputs": [],
   "source": [
    "# order_event_jd.head(10)"
   ]
  },
  {
   "cell_type": "code",
   "execution_count": null,
   "id": "f010a1ad-e1b2-4432-8111-c9ca0883dfa0",
   "metadata": {},
   "outputs": [],
   "source": []
  },
  {
   "cell_type": "markdown",
   "id": "ba349003-c57a-4832-9892-a2c6117000bf",
   "metadata": {},
   "source": [
    "## Sanity check - duplicates"
   ]
  },
  {
   "cell_type": "code",
   "execution_count": 32,
   "id": "684299b1-16cf-48d4-a176-f2ac35c2ceae",
   "metadata": {},
   "outputs": [
    {
     "data": {
      "text/plain": [
       "(100000, 100000)"
      ]
     },
     "execution_count": 32,
     "metadata": {},
     "output_type": "execute_result"
    }
   ],
   "source": [
    "df_user.user_id.count(), df_user.user_id.nunique()"
   ]
  },
  {
   "cell_type": "code",
   "execution_count": 33,
   "id": "3a08c51a-6d36-45a7-9f84-b02096f81009",
   "metadata": {},
   "outputs": [
    {
     "data": {
      "text/plain": [
       "(125226, 125226)"
      ]
     },
     "execution_count": 33,
     "metadata": {},
     "output_type": "execute_result"
    }
   ],
   "source": [
    "df_order.order_id.count(), df_order.order_id.nunique()"
   ]
  },
  {
   "cell_type": "code",
   "execution_count": 34,
   "id": "68f478ad-1a3f-425c-bd76-60a8185367a1",
   "metadata": {},
   "outputs": [
    {
     "data": {
      "text/plain": [
       "(125226, 125226)"
      ]
     },
     "execution_count": 34,
     "metadata": {},
     "output_type": "execute_result"
    }
   ],
   "source": [
    "df_item.order_id.count(), df_item.order_id.nunique()"
   ]
  },
  {
   "cell_type": "code",
   "execution_count": 35,
   "id": "01b2d536-5ec8-4572-b129-4733ef4aca1b",
   "metadata": {},
   "outputs": [
    {
     "data": {
      "text/plain": [
       "(80044, 80044)"
      ]
     },
     "execution_count": 35,
     "metadata": {},
     "output_type": "execute_result"
    }
   ],
   "source": [
    "df_event.user_id.count(), df_event.user_id.nunique()"
   ]
  },
  {
   "cell_type": "markdown",
   "id": "cbb19fae-ddd7-4eb1-a666-00e11f4fb02c",
   "metadata": {},
   "source": [
    "## Join all the prepped datasets"
   ]
  },
  {
   "cell_type": "code",
   "execution_count": 36,
   "id": "90fb1a27-dfb0-4d89-8485-dba81d45a6b8",
   "metadata": {},
   "outputs": [],
   "source": [
    "def prep_input_dataset(df_user, df_order, df_item, df_event, df_distance):\n",
    "    '''\n",
    "    joins all preprocessed user-level-df\n",
    "    '''\n",
    "    \n",
    "    final_df = df_order.merge(df_user, on='user_id', how='left')\n",
    "    final_df = final_df.merge(df_item, on='order_id', how='left')\n",
    "    final_df = final_df.merge(df_event, on='user_id', how='left')\n",
    "    final_df = final_df.merge(df_distance, on='order_id', how='left').reset_index()\n",
    "\n",
    "    return final_df\n"
   ]
  },
  {
   "cell_type": "code",
   "execution_count": 342,
   "id": "1b190587-dc0c-4d30-b8ad-0f2ebf1f5d92",
   "metadata": {},
   "outputs": [],
   "source": [
    "input_dataset = prep_input_dataset(df_user, df_order, df_item, df_event, df_distance)"
   ]
  },
  {
   "cell_type": "code",
   "execution_count": 343,
   "id": "07ce6340-4d04-427a-bf54-90e1bdfd06e0",
   "metadata": {},
   "outputs": [
    {
     "data": {
      "text/plain": [
       "Index(['index', 'order_id', 'user_id', 'status', 'gender', 'created_at',\n",
       "       'returned_at', 'shipped_at', 'delivered_at', 'num_of_item',\n",
       "       'order_rank', 'delivery_days', 'weekday_ordered', 'weekday_delivered',\n",
       "       'returned?', 'shipped?', 'delivered?', 'return_cumsum', 'ship_cumsum',\n",
       "       'deliver_cumsum', 'min_order_created_at', 'min_order_delivered_at',\n",
       "       'customer_T', 'days_from_first_delivery', 'days_left_to_predict',\n",
       "       'items_until_now', 'num_items_delivered', 'delivered_items_until_now',\n",
       "       'avg_days_btw_orders', 'next_order_id', 'next_order_created_at',\n",
       "       'days_until_next_order', 'days_until_next_order_group', 'next_order?',\n",
       "       'age', 'country', 'user_created_at', 'traffic_source', 'age_group',\n",
       "       'num_order_item', 'sale_price', 'retail_price', 'category_preffered',\n",
       "       'dept_pref', 'browser_pref', 'avg_distance'],\n",
       "      dtype='object')"
      ]
     },
     "execution_count": 343,
     "metadata": {},
     "output_type": "execute_result"
    }
   ],
   "source": [
    "input_dataset.columns"
   ]
  },
  {
   "cell_type": "code",
   "execution_count": 39,
   "id": "3097dfb5-135e-4cd4-86d7-b01b5cd9ebda",
   "metadata": {},
   "outputs": [
    {
     "data": {
      "text/plain": [
       "False    80044\n",
       "True     45182\n",
       "Name: next_order?, dtype: int64"
      ]
     },
     "execution_count": 39,
     "metadata": {},
     "output_type": "execute_result"
    }
   ],
   "source": [
    "input_dataset['next_order?'].value_counts()"
   ]
  },
  {
   "cell_type": "code",
   "execution_count": 279,
   "id": "6982ebf4-ddab-424c-a6bd-ec279f86003e",
   "metadata": {},
   "outputs": [
    {
     "data": {
      "text/plain": [
       "Index(['index', 'order_id', 'user_id', 'status', 'gender', 'created_at',\n",
       "       'returned_at', 'shipped_at', 'delivered_at', 'num_of_item',\n",
       "       'order_rank', 'delivery_days', 'weekday_ordered', 'weekday_delivered',\n",
       "       'returned?', 'shipped?', 'delivered?', 'return_cumsum', 'ship_cumsum',\n",
       "       'deliver_cumsum', 'min_order_created_at', 'min_order_delivered_at',\n",
       "       'customer_T', 'days_from_first_delivery', 'days_left_to_predict',\n",
       "       'items_until_now', 'num_items_delivered', 'delivered_items_until_now',\n",
       "       'avg_days_btw_orders', 'next_order_id', 'next_order?', 'age', 'country',\n",
       "       'user_created_at', 'traffic_source', 'age_group', 'num_order_item',\n",
       "       'sale_price', 'retail_price', 'category_preffered', 'dept_pref',\n",
       "       'browser_pref', 'avg_distance', 'sale_ratio'],\n",
       "      dtype='object')"
      ]
     },
     "execution_count": 279,
     "metadata": {},
     "output_type": "execute_result"
    }
   ],
   "source": [
    "input_dataset.columns"
   ]
  },
  {
   "cell_type": "code",
   "execution_count": null,
   "id": "aebb894a-e341-42ae-9baa-4e81a0c47c78",
   "metadata": {},
   "outputs": [],
   "source": []
  },
  {
   "cell_type": "markdown",
   "id": "e9cc09e9-1318-4e55-96dd-67c474cd0b8c",
   "metadata": {},
   "source": [
    "## Additional transformation"
   ]
  },
  {
   "cell_type": "code",
   "execution_count": 177,
   "id": "a64e7e00-cabf-4250-9e8b-e709910ea2ec",
   "metadata": {},
   "outputs": [],
   "source": [
    "def month_sold(input_dataset):\n",
    "    \n",
    "    \n",
    "    # Time that the order was placed\n",
    "\n",
    "    ## Month\n",
    "    months_in_a_year = 12\n",
    "\n",
    "    input_dataset['MoSold'] = input_dataset['created_at'].dt.month\n",
    "    input_dataset['sin_MoSold'] = np.sin(2 * np.pi * (input_dataset.MoSold - 1) / months_in_a_year)\n",
    "    input_dataset['cos_MoSold'] = np.cos(2 * np.pi * (input_dataset.MoSold - 1) / months_in_a_year)    \n",
    "    input_dataset.drop(columns=['MoSold'], inplace=True)\n",
    "\n",
    "\n",
    "    ## Year\n",
    "    input_dataset['year'] = input_dataset['created_at'].dt.year\n",
    "\n",
    "    return input_dataset"
   ]
  },
  {
   "cell_type": "code",
   "execution_count": 344,
   "id": "8cf0b586-4161-480e-9fdd-78c4a8899f38",
   "metadata": {},
   "outputs": [],
   "source": [
    "input_dataset= month_sold(input_dataset)"
   ]
  },
  {
   "cell_type": "markdown",
   "id": "a80d56b2-ee47-4028-a440-0a4ef5e91dad",
   "metadata": {},
   "source": [
    "## Filter orders made before max_date - 12*50"
   ]
  },
  {
   "cell_type": "code",
   "execution_count": 44,
   "id": "2ceef90a-5e36-4634-aca2-b76ff0b0e18a",
   "metadata": {},
   "outputs": [],
   "source": [
    "# input_dataset = input_dataset[input_dataset['days_left_to_predict'] > 180]"
   ]
  },
  {
   "cell_type": "code",
   "execution_count": 345,
   "id": "59842ff0-90ce-4bf5-a948-b44116cd8493",
   "metadata": {},
   "outputs": [
    {
     "data": {
      "text/plain": [
       "Index(['index', 'order_id', 'user_id', 'status', 'gender', 'created_at',\n",
       "       'returned_at', 'shipped_at', 'delivered_at', 'num_of_item',\n",
       "       'order_rank', 'delivery_days', 'weekday_ordered', 'weekday_delivered',\n",
       "       'returned?', 'shipped?', 'delivered?', 'return_cumsum', 'ship_cumsum',\n",
       "       'deliver_cumsum', 'min_order_created_at', 'min_order_delivered_at',\n",
       "       'customer_T', 'days_from_first_delivery', 'days_left_to_predict',\n",
       "       'items_until_now', 'num_items_delivered', 'delivered_items_until_now',\n",
       "       'avg_days_btw_orders', 'next_order_id', 'next_order_created_at',\n",
       "       'days_until_next_order', 'days_until_next_order_group', 'next_order?',\n",
       "       'age', 'country', 'user_created_at', 'traffic_source', 'age_group',\n",
       "       'num_order_item', 'sale_price', 'retail_price', 'category_preffered',\n",
       "       'dept_pref', 'browser_pref', 'avg_distance', 'sin_MoSold', 'cos_MoSold',\n",
       "       'year'],\n",
       "      dtype='object')"
      ]
     },
     "execution_count": 345,
     "metadata": {},
     "output_type": "execute_result"
    }
   ],
   "source": [
    "input_dataset.columns"
   ]
  },
  {
   "cell_type": "code",
   "execution_count": 357,
   "id": "a7a5d0d6",
   "metadata": {},
   "outputs": [],
   "source": [
    "max_ordered_date = input_dataset.created_at.max() \n",
    "max_date = max_ordered_date - dt.timedelta(days=600)"
   ]
  },
  {
   "cell_type": "code",
   "execution_count": 359,
   "id": "33876d51",
   "metadata": {},
   "outputs": [],
   "source": [
    "input_filtered = input_dataset[input_dataset['created_at'] < max_date]"
   ]
  },
  {
   "cell_type": "code",
   "execution_count": 377,
   "id": "bc64de80",
   "metadata": {},
   "outputs": [],
   "source": [
    "input_filtered['y'] = input_filtered['days_until_next_order_group'].apply(lambda x : 1 if x <= 11 else 0)"
   ]
  },
  {
   "cell_type": "code",
   "execution_count": 378,
   "id": "35c2c933",
   "metadata": {},
   "outputs": [
    {
     "data": {
      "text/plain": [
       "0    23651\n",
       "1    13939\n",
       "Name: y, dtype: int64"
      ]
     },
     "execution_count": 378,
     "metadata": {},
     "output_type": "execute_result"
    }
   ],
   "source": [
    "input_filtered.y.value_counts()"
   ]
  },
  {
   "cell_type": "markdown",
   "id": "70bc25b6-8928-4f54-834a-7f548f2701e3",
   "metadata": {
    "heading_collapsed": true
   },
   "source": [
    "# Predict whether the customer makes another purchase after"
   ]
  },
  {
   "cell_type": "markdown",
   "id": "6879748f",
   "metadata": {
    "heading_collapsed": true,
    "hidden": true
   },
   "source": [
    "## Define X, y"
   ]
  },
  {
   "cell_type": "code",
   "execution_count": 360,
   "id": "38fc7d40-85d3-41d2-bc8d-fbd00e715b78",
   "metadata": {
    "hidden": true,
    "scrolled": true
   },
   "outputs": [],
   "source": [
    "# List of columns to drop\n",
    "columns_to_drop = ['index', 'order_id', 'user_id', 'created_at','returned_at',\n",
    "                   'shipped_at', 'delivered_at','next_order_id','user_created_at',\n",
    "                   'next_order?','min_order_created_at', 'min_order_delivered_at',\n",
    "                   'next_order_created_at', 'days_until_next_order', 'days_until_next_order_group',\n",
    "                   'num_order_item','days_left_to_predict','y']\n",
    "\n",
    "X = input_filtered.drop(columns=columns_to_drop).copy()\n",
    "y = input_filtered['y']"
   ]
  },
  {
   "cell_type": "code",
   "execution_count": 283,
   "id": "6de7e20a-3e5f-4b5d-a1b5-5f250bab217c",
   "metadata": {
    "hidden": true,
    "scrolled": true
   },
   "outputs": [
    {
     "data": {
      "text/plain": [
       "Index(['status', 'gender', 'num_of_item', 'order_rank', 'delivery_days',\n",
       "       'weekday_ordered', 'weekday_delivered', 'returned?', 'shipped?',\n",
       "       'delivered?', 'return_cumsum', 'ship_cumsum', 'deliver_cumsum',\n",
       "       'customer_T', 'days_from_first_delivery', 'items_until_now',\n",
       "       'num_items_delivered', 'delivered_items_until_now',\n",
       "       'avg_days_btw_orders', 'age', 'country', 'traffic_source', 'age_group',\n",
       "       'sale_price', 'retail_price', 'category_preffered', 'dept_pref',\n",
       "       'browser_pref', 'avg_distance', 'sale_ratio', 'sin_MoSold',\n",
       "       'cos_MoSold', 'year'],\n",
       "      dtype='object')"
      ]
     },
     "execution_count": 283,
     "metadata": {},
     "output_type": "execute_result"
    }
   ],
   "source": [
    "X.columns"
   ]
  },
  {
   "cell_type": "markdown",
   "id": "eaaeb9f3",
   "metadata": {
    "heading_collapsed": true,
    "hidden": true
   },
   "source": [
    "## Check correlation"
   ]
  },
  {
   "cell_type": "code",
   "execution_count": 361,
   "id": "dab1988e-8c33-445c-852f-8535dcf05bc9",
   "metadata": {
    "hidden": true
   },
   "outputs": [
    {
     "data": {
      "image/png": "[encoded data removed]",
      "text/plain": [
       "<Figure size 900x900 with 2 Axes>"
      ]
     },
     "metadata": {},
     "output_type": "display_data"
    }
   ],
   "source": [
    "feat_numerical = sorted(X.select_dtypes(include=[\"int64\", \"int32\",\"float64\"]).columns)\n",
    "\n",
    "corr_num = X[feat_numerical].corr()\n",
    "\n",
    "plt.figure(figsize=(9, 9))\n",
    "sns.heatmap(corr_num, cmap='coolwarm',vmin=-1, vmax=1);"
   ]
  },
  {
   "cell_type": "code",
   "execution_count": 50,
   "id": "f2ad9b63-a475-442e-b1c2-12fc8ca7e596",
   "metadata": {
    "hidden": true
   },
   "outputs": [
    {
     "data": {
      "text/plain": [
       "((125226, 32), (125226,))"
      ]
     },
     "execution_count": 50,
     "metadata": {},
     "output_type": "execute_result"
    }
   ],
   "source": [
    "X.shape, y.shape"
   ]
  },
  {
   "cell_type": "code",
   "execution_count": 51,
   "id": "a59f0c82-961c-4a81-a379-f6509574949e",
   "metadata": {
    "hidden": true
   },
   "outputs": [
    {
     "data": {
      "text/plain": [
       "status                 5\n",
       "gender                 2\n",
       "country               16\n",
       "traffic_source         5\n",
       "age_group              6\n",
       "category_preffered    26\n",
       "dept_pref              2\n",
       "browser_pref           5\n",
       "dtype: int64"
      ]
     },
     "execution_count": 51,
     "metadata": {},
     "output_type": "execute_result"
    }
   ],
   "source": [
    "X.select_dtypes(include='object').nunique()"
   ]
  },
  {
   "cell_type": "markdown",
   "id": "e32d351a-e942-42b5-a2f9-3df14f9d714e",
   "metadata": {
    "heading_collapsed": true,
    "hidden": true
   },
   "source": [
    "## Normalize numeric values and encode categorical values"
   ]
  },
  {
   "cell_type": "code",
   "execution_count": 362,
   "id": "afb37d69-0715-41fd-8410-ad286d14f3c5",
   "metadata": {
    "hidden": true
   },
   "outputs": [
    {
     "data": {
      "text/html": [
       "<style>#sk-container-id-6 {color: black;}#sk-container-id-6 pre{padding: 0;}#sk-container-id-6 div.sk-toggleable {background-color: white;}#sk-container-id-6 label.sk-toggleable__label {cursor: pointer;display: block;width: 100%;margin-bottom: 0;padding: 0.3em;box-sizing: border-box;text-align: center;}#sk-container-id-6 label.sk-toggleable__label-arrow:before {content: \"▸\";float: left;margin-right: 0.25em;color: #696969;}#sk-container-id-6 label.sk-toggleable__label-arrow:hover:before {color: black;}#sk-container-id-6 div.sk-estimator:hover label.sk-toggleable__label-arrow:before {color: black;}#sk-container-id-6 div.sk-toggleable__content {max-height: 0;max-width: 0;overflow: hidden;text-align: left;background-color: #f0f8ff;}#sk-container-id-6 div.sk-toggleable__content pre {margin: 0.2em;color: black;border-radius: 0.25em;background-color: #f0f8ff;}#sk-container-id-6 input.sk-toggleable__control:checked~div.sk-toggleable__content {max-height: 200px;max-width: 100%;overflow: auto;}#sk-container-id-6 input.sk-toggleable__control:checked~label.sk-toggleable__label-arrow:before {content: \"▾\";}#sk-container-id-6 div.sk-estimator input.sk-toggleable__control:checked~label.sk-toggleable__label {background-color: #d4ebff;}#sk-container-id-6 div.sk-label input.sk-toggleable__control:checked~label.sk-toggleable__label {background-color: #d4ebff;}#sk-container-id-6 input.sk-hidden--visually {border: 0;clip: rect(1px 1px 1px 1px);clip: rect(1px, 1px, 1px, 1px);height: 1px;margin: -1px;overflow: hidden;padding: 0;position: absolute;width: 1px;}#sk-container-id-6 div.sk-estimator {font-family: monospace;background-color: #f0f8ff;border: 1px dotted black;border-radius: 0.25em;box-sizing: border-box;margin-bottom: 0.5em;}#sk-container-id-6 div.sk-estimator:hover {background-color: #d4ebff;}#sk-container-id-6 div.sk-parallel-item::after {content: \"\";width: 100%;border-bottom: 1px solid gray;flex-grow: 1;}#sk-container-id-6 div.sk-label:hover label.sk-toggleable__label {background-color: #d4ebff;}#sk-container-id-6 div.sk-serial::before {content: \"\";position: absolute;border-left: 1px solid gray;box-sizing: border-box;top: 0;bottom: 0;left: 50%;z-index: 0;}#sk-container-id-6 div.sk-serial {display: flex;flex-direction: column;align-items: center;background-color: white;padding-right: 0.2em;padding-left: 0.2em;position: relative;}#sk-container-id-6 div.sk-item {position: relative;z-index: 1;}#sk-container-id-6 div.sk-parallel {display: flex;align-items: stretch;justify-content: center;background-color: white;position: relative;}#sk-container-id-6 div.sk-item::before, #sk-container-id-6 div.sk-parallel-item::before {content: \"\";position: absolute;border-left: 1px solid gray;box-sizing: border-box;top: 0;bottom: 0;left: 50%;z-index: -1;}#sk-container-id-6 div.sk-parallel-item {display: flex;flex-direction: column;z-index: 1;position: relative;background-color: white;}#sk-container-id-6 div.sk-parallel-item:first-child::after {align-self: flex-end;width: 50%;}#sk-container-id-6 div.sk-parallel-item:last-child::after {align-self: flex-start;width: 50%;}#sk-container-id-6 div.sk-parallel-item:only-child::after {width: 0;}#sk-container-id-6 div.sk-dashed-wrapped {border: 1px dashed gray;margin: 0 0.4em 0.5em 0.4em;box-sizing: border-box;padding-bottom: 0.4em;background-color: white;}#sk-container-id-6 div.sk-label label {font-family: monospace;font-weight: bold;display: inline-block;line-height: 1.2em;}#sk-container-id-6 div.sk-label-container {text-align: center;}#sk-container-id-6 div.sk-container {/* jupyter's `normalize.less` sets `[hidden] { display: none; }` but bootstrap.min.css set `[hidden] { display: none !important; }` so we also need the `!important` here to be able to override the default hidden behavior on the sphinx rendered scikit-learn.org. See: https://github.com/scikit-learn/scikit-learn/issues/21755 */display: inline-block !important;position: relative;}#sk-container-id-6 div.sk-text-repr-fallback {display: none;}</style><div id=\"sk-container-id-6\" class=\"sk-top-container\"><div class=\"sk-text-repr-fallback\"><pre>ColumnTransformer(transformers=[(&#x27;pipeline-1&#x27;,\n",
       "                                 Pipeline(steps=[(&#x27;simpleimputer&#x27;,\n",
       "                                                  SimpleImputer()),\n",
       "                                                 (&#x27;minmaxscaler&#x27;,\n",
       "                                                  MinMaxScaler())]),\n",
       "                                 &lt;sklearn.compose._column_transformer.make_column_selector object at 0x7f7df2e68f10&gt;),\n",
       "                                (&#x27;pipeline-2&#x27;,\n",
       "                                 Pipeline(steps=[(&#x27;simpleimputer&#x27;,\n",
       "                                                  SimpleImputer(strategy=&#x27;most_frequent&#x27;)),\n",
       "                                                 (&#x27;onehotencoder&#x27;,\n",
       "                                                  OneHotEncoder(handle_unknown=&#x27;ignore&#x27;))]),\n",
       "                                 &lt;sklearn.compose._column_transformer.make_column_selector object at 0x7f7df2e6bee0&gt;)])</pre><b>In a Jupyter environment, please rerun this cell to show the HTML representation or trust the notebook. <br />On GitHub, the HTML representation is unable to render, please try loading this page with nbviewer.org.</b></div><div class=\"sk-container\" hidden><div class=\"sk-item sk-dashed-wrapped\"><div class=\"sk-label-container\"><div class=\"sk-label sk-toggleable\"><input class=\"sk-toggleable__control sk-hidden--visually\" id=\"sk-estimator-id-42\" type=\"checkbox\" ><label for=\"sk-estimator-id-42\" class=\"sk-toggleable__label sk-toggleable__label-arrow\">ColumnTransformer</label><div class=\"sk-toggleable__content\"><pre>ColumnTransformer(transformers=[(&#x27;pipeline-1&#x27;,\n",
       "                                 Pipeline(steps=[(&#x27;simpleimputer&#x27;,\n",
       "                                                  SimpleImputer()),\n",
       "                                                 (&#x27;minmaxscaler&#x27;,\n",
       "                                                  MinMaxScaler())]),\n",
       "                                 &lt;sklearn.compose._column_transformer.make_column_selector object at 0x7f7df2e68f10&gt;),\n",
       "                                (&#x27;pipeline-2&#x27;,\n",
       "                                 Pipeline(steps=[(&#x27;simpleimputer&#x27;,\n",
       "                                                  SimpleImputer(strategy=&#x27;most_frequent&#x27;)),\n",
       "                                                 (&#x27;onehotencoder&#x27;,\n",
       "                                                  OneHotEncoder(handle_unknown=&#x27;ignore&#x27;))]),\n",
       "                                 &lt;sklearn.compose._column_transformer.make_column_selector object at 0x7f7df2e6bee0&gt;)])</pre></div></div></div><div class=\"sk-parallel\"><div class=\"sk-parallel-item\"><div class=\"sk-item\"><div class=\"sk-label-container\"><div class=\"sk-label sk-toggleable\"><input class=\"sk-toggleable__control sk-hidden--visually\" id=\"sk-estimator-id-43\" type=\"checkbox\" ><label for=\"sk-estimator-id-43\" class=\"sk-toggleable__label sk-toggleable__label-arrow\">pipeline-1</label><div class=\"sk-toggleable__content\"><pre>&lt;sklearn.compose._column_transformer.make_column_selector object at 0x7f7df2e68f10&gt;</pre></div></div></div><div class=\"sk-serial\"><div class=\"sk-item\"><div class=\"sk-serial\"><div class=\"sk-item\"><div class=\"sk-estimator sk-toggleable\"><input class=\"sk-toggleable__control sk-hidden--visually\" id=\"sk-estimator-id-44\" type=\"checkbox\" ><label for=\"sk-estimator-id-44\" class=\"sk-toggleable__label sk-toggleable__label-arrow\">SimpleImputer</label><div class=\"sk-toggleable__content\"><pre>SimpleImputer()</pre></div></div></div><div class=\"sk-item\"><div class=\"sk-estimator sk-toggleable\"><input class=\"sk-toggleable__control sk-hidden--visually\" id=\"sk-estimator-id-45\" type=\"checkbox\" ><label for=\"sk-estimator-id-45\" class=\"sk-toggleable__label sk-toggleable__label-arrow\">MinMaxScaler</label><div class=\"sk-toggleable__content\"><pre>MinMaxScaler()</pre></div></div></div></div></div></div></div></div><div class=\"sk-parallel-item\"><div class=\"sk-item\"><div class=\"sk-label-container\"><div class=\"sk-label sk-toggleable\"><input class=\"sk-toggleable__control sk-hidden--visually\" id=\"sk-estimator-id-46\" type=\"checkbox\" ><label for=\"sk-estimator-id-46\" class=\"sk-toggleable__label sk-toggleable__label-arrow\">pipeline-2</label><div class=\"sk-toggleable__content\"><pre>&lt;sklearn.compose._column_transformer.make_column_selector object at 0x7f7df2e6bee0&gt;</pre></div></div></div><div class=\"sk-serial\"><div class=\"sk-item\"><div class=\"sk-serial\"><div class=\"sk-item\"><div class=\"sk-estimator sk-toggleable\"><input class=\"sk-toggleable__control sk-hidden--visually\" id=\"sk-estimator-id-47\" type=\"checkbox\" ><label for=\"sk-estimator-id-47\" class=\"sk-toggleable__label sk-toggleable__label-arrow\">SimpleImputer</label><div class=\"sk-toggleable__content\"><pre>SimpleImputer(strategy=&#x27;most_frequent&#x27;)</pre></div></div></div><div class=\"sk-item\"><div class=\"sk-estimator sk-toggleable\"><input class=\"sk-toggleable__control sk-hidden--visually\" id=\"sk-estimator-id-48\" type=\"checkbox\" ><label for=\"sk-estimator-id-48\" class=\"sk-toggleable__label sk-toggleable__label-arrow\">OneHotEncoder</label><div class=\"sk-toggleable__content\"><pre>OneHotEncoder(handle_unknown=&#x27;ignore&#x27;)</pre></div></div></div></div></div></div></div></div></div></div></div></div>"
      ],
      "text/plain": [
       "ColumnTransformer(transformers=[('pipeline-1',\n",
       "                                 Pipeline(steps=[('simpleimputer',\n",
       "                                                  SimpleImputer()),\n",
       "                                                 ('minmaxscaler',\n",
       "                                                  MinMaxScaler())]),\n",
       "                                 <sklearn.compose._column_transformer.make_column_selector object at 0x7f7df2e68f10>),\n",
       "                                ('pipeline-2',\n",
       "                                 Pipeline(steps=[('simpleimputer',\n",
       "                                                  SimpleImputer(strategy='most_frequent')),\n",
       "                                                 ('onehotencoder',\n",
       "                                                  OneHotEncoder(handle_unknown='ignore'))]),\n",
       "                                 <sklearn.compose._column_transformer.make_column_selector object at 0x7f7df2e6bee0>)])"
      ]
     },
     "execution_count": 362,
     "metadata": {},
     "output_type": "execute_result"
    }
   ],
   "source": [
    "preproc_numerical_baseline = make_pipeline(\n",
    "    SimpleImputer(),\n",
    "    MinMaxScaler()\n",
    ")\n",
    "\n",
    "preproc_categorical_baseline = make_pipeline(\n",
    "    SimpleImputer(strategy=\"most_frequent\"),\n",
    "    OneHotEncoder(handle_unknown=\"ignore\")\n",
    ")\n",
    "\n",
    "\n",
    "preproc_baseline = make_column_transformer(\n",
    "    (preproc_numerical_baseline, make_column_selector(dtype_include=[\"int64\", \"float64\", \"int32\"])),\n",
    "    (preproc_categorical_baseline, make_column_selector(dtype_include=[\"object\"])),\n",
    "    remainder=\"drop\"\n",
    ")\n",
    "\n",
    "preproc_baseline"
   ]
  },
  {
   "cell_type": "code",
   "execution_count": null,
   "id": "11386502-b1ba-47c3-8ca6-0d7c7b9f9e4a",
   "metadata": {
    "hidden": true
   },
   "outputs": [],
   "source": [
    "test = preproc_baseline.fit_transform(X)\n",
    "test.shape"
   ]
  },
  {
   "cell_type": "markdown",
   "id": "e53d0207-5153-43e4-b4e7-6c2da6052b96",
   "metadata": {
    "heading_collapsed": true,
    "hidden": true
   },
   "source": [
    "## Model Selection"
   ]
  },
  {
   "cell_type": "markdown",
   "id": "4d175d25-b024-486f-858e-0bfb3de4d148",
   "metadata": {
    "hidden": true
   },
   "source": [
    "### Trees"
   ]
  },
  {
   "cell_type": "code",
   "execution_count": 363,
   "id": "22e4d7b6-b799-408f-984e-fdc1a0e4dd69",
   "metadata": {
    "hidden": true
   },
   "outputs": [
    {
     "data": {
      "text/plain": [
       "0.6302474062250599"
      ]
     },
     "execution_count": 363,
     "metadata": {},
     "output_type": "execute_result"
    }
   ],
   "source": [
    "model = GradientBoostingClassifier(n_estimators=100, verbose=0)\n",
    "\n",
    "pipe_gb = make_pipeline(preproc_baseline, model)\n",
    "score = cross_val_score(pipe_gb, X, y, cv=5, scoring='accuracy', n_jobs=-1).mean()\n",
    "\n",
    "score"
   ]
  },
  {
   "cell_type": "code",
   "execution_count": 364,
   "id": "5a042975-e355-4b9d-95d7-56ad095a0d48",
   "metadata": {
    "hidden": true
   },
   "outputs": [
    {
     "data": {
      "text/plain": [
       "0.6187283852088321"
      ]
     },
     "execution_count": 364,
     "metadata": {},
     "output_type": "execute_result"
    }
   ],
   "source": [
    "pipe_randomforest = make_pipeline(preproc_baseline, RandomForestClassifier())\n",
    "score_randomforest = cross_val_score(pipe_randomforest, X, y, cv=5, scoring='accuracy', n_jobs=-1).mean()\n",
    "score_randomforest"
   ]
  },
  {
   "cell_type": "code",
   "execution_count": 365,
   "id": "f8a747a7-bcb2-45f2-a518-94a475130e05",
   "metadata": {
    "hidden": true
   },
   "outputs": [
    {
     "data": {
      "text/plain": [
       "0.6291832934291035"
      ]
     },
     "execution_count": 365,
     "metadata": {},
     "output_type": "execute_result"
    }
   ],
   "source": [
    "model = AdaBoostClassifier(n_estimators=100, algorithm='SAMME')\n",
    "\n",
    "pipe_ada = make_pipeline(preproc_baseline, model)\n",
    "score = cross_val_score(pipe_ada, X, y, cv=5, scoring='accuracy', n_jobs=-1).mean()\n",
    "\n",
    "score"
   ]
  },
  {
   "cell_type": "code",
   "execution_count": null,
   "id": "77ec6b69-a985-4799-9231-194faedcc812",
   "metadata": {
    "hidden": true
   },
   "outputs": [],
   "source": [
    "estimators_ = [\n",
    "    ('gbc', GradientBoostingClassifier()),\n",
    "    ('rfc', RandomForestClassifier()),\n",
    "    ('ada', AdaBoostClassifier())\n",
    "]\n",
    "\n",
    "model = VotingClassifier(estimators=estimators_)\n",
    "\n",
    "pipe_vote = make_pipeline(preproc_baseline, model)\n",
    "score = cross_val_score(pipe_vote, X, y_binary, cv=5, scoring='accuracy', n_jobs=-1).mean()\n",
    "\n",
    "score"
   ]
  },
  {
   "cell_type": "code",
   "execution_count": null,
   "id": "7b4b3dfb-95b3-4f57-8ff1-656f980926b8",
   "metadata": {
    "hidden": true
   },
   "outputs": [],
   "source": [
    "model = ExtraTreesClassifier()\n",
    "\n",
    "pipe_ext = make_pipeline(preproc_baseline, model)\n",
    "score = cross_val_score(pipe_ext, X, y_binary, cv=5, scoring='accuracy', n_jobs=-1).mean()\n",
    "\n",
    "score"
   ]
  },
  {
   "cell_type": "code",
   "execution_count": null,
   "id": "a1410a83-03b3-4977-a7c3-1586fbbdb666",
   "metadata": {
    "hidden": true
   },
   "outputs": [],
   "source": [
    "model = BaggingClassifier()\n",
    "\n",
    "pipe_bag = make_pipeline(preproc_baseline, model)\n",
    "score = cross_val_score(pipe_bag, X, y_binary, cv=5, scoring='accuracy').mean()\n",
    "\n",
    "score"
   ]
  },
  {
   "cell_type": "code",
   "execution_count": null,
   "id": "32a85bb7-d2cf-43ff-bf7b-76a12b755dbb",
   "metadata": {
    "hidden": true
   },
   "outputs": [],
   "source": [
    "pipe_tree = make_pipeline(preproc_baseline, DecisionTreeClassifier())\n",
    "score_tree = cross_val_score(pipe_tree, X, y_binary, cv=5, scoring='accuracy').mean()\n",
    "\n",
    "score_tree"
   ]
  },
  {
   "cell_type": "markdown",
   "id": "2dc78f0b-52af-4b26-aab6-f1aa47a47dd3",
   "metadata": {
    "hidden": true
   },
   "source": [
    "### Clustering"
   ]
  },
  {
   "cell_type": "code",
   "execution_count": null,
   "id": "68f1aad7-ef44-4c38-9169-a4bb6629e72f",
   "metadata": {
    "hidden": true,
    "scrolled": true
   },
   "outputs": [],
   "source": [
    "pipe_knn = make_pipeline(preproc_baseline, KNeighborsClassifier())\n",
    "score_knn = cross_val_score(pipe_knn, X, y_binary, cv=5, scoring='accuracy', n_jobs=-1).mean()\n",
    "score_knn\n",
    "\n",
    "## 0.587976953150862"
   ]
  },
  {
   "cell_type": "markdown",
   "id": "a4907d7d-75e3-4288-bbe9-21d2080c0ae3",
   "metadata": {
    "hidden": true
   },
   "source": [
    "### others"
   ]
  },
  {
   "cell_type": "code",
   "execution_count": null,
   "id": "2e411211-ac71-473c-984a-c9a0ec7e2d47",
   "metadata": {
    "hidden": true
   },
   "outputs": [],
   "source": [
    "svm_classifier = SVC(kernal='poly', degree=3)\n",
    "\n",
    "pipe_svc = make_pipeline(preproc_baseline, svm_classifier)"
   ]
  },
  {
   "cell_type": "code",
   "execution_count": null,
   "id": "325d6d40-1c25-433c-9b33-d5a842e8ba01",
   "metadata": {
    "hidden": true
   },
   "outputs": [],
   "source": [
    "score_svc = cross_val_score(pipe_svc, X, y_binary, cv=5, scoring='accuracy').mean()\n",
    "score_svc"
   ]
  },
  {
   "cell_type": "markdown",
   "id": "74c834db-3af4-4a8f-8395-bc8279801ad9",
   "metadata": {
    "heading_collapsed": true,
    "hidden": true
   },
   "source": [
    "## Parameter tuning of the selected model"
   ]
  },
  {
   "cell_type": "code",
   "execution_count": 366,
   "id": "1ac64a7a-2dff-4a8c-81bc-82e600e4340c",
   "metadata": {
    "hidden": true
   },
   "outputs": [],
   "source": [
    "# Split train, test\n",
    "X_train, X_test, y_train, y_test = train_test_split(X, y, test_size=0.2)"
   ]
  },
  {
   "cell_type": "code",
   "execution_count": 367,
   "id": "385de5b4-6849-4377-874f-975f3f0ae76f",
   "metadata": {
    "hidden": true
   },
   "outputs": [],
   "source": [
    "X_train_p = preproc_baseline.fit_transform(X_train)"
   ]
  },
  {
   "cell_type": "code",
   "execution_count": 368,
   "id": "3db6f3db-bfa9-4148-a013-5ade3220edcd",
   "metadata": {
    "hidden": true
   },
   "outputs": [
    {
     "name": "stdout",
     "output_type": "stream",
     "text": [
      "Best parameters found:  {'learning_rate': 0.03, 'max_depth': 5, 'n_estimators': 150}\n",
      "Best F1 score found:  0.6310520948487887\n"
     ]
    }
   ],
   "source": [
    "# Define the parameter grid\n",
    "param_grid = {\n",
    "    'n_estimators': [150, 200, 300],\n",
    "    'learning_rate': [0.03, 0.05, 0.1],\n",
    "    'max_depth': [3, 4, 5]\n",
    "}\n",
    "\n",
    "# Instantiate the Gradient Boosting Classifier\n",
    "gb_clf = GradientBoostingClassifier()\n",
    "\n",
    "# Instantiate the Grid Search\n",
    "grid_search = GridSearchCV(estimator=gb_clf, param_grid=param_grid, cv=5, n_jobs=-1) \n",
    "\n",
    "# Fit the Grid Search\n",
    "grid_search.fit(X_train_p, y_train)\n",
    "\n",
    "# Evaluate Results\n",
    "print(\"Best parameters found: \", grid_search.best_params_)\n",
    "print(\"Best F1 score found: \", grid_search.best_score_)\n",
    "\n",
    "# Best parameters found:  {'learning_rate': 0.03, 'max_depth': 5, 'n_estimators': 150}\n",
    "# Best F1 score found:  0.6310520948487887"
   ]
  },
  {
   "cell_type": "markdown",
   "id": "f969346b-a2d4-48ab-b5de-6d5b8d7f418c",
   "metadata": {
    "heading_collapsed": true,
    "hidden": true
   },
   "source": [
    "## Fit, Predict, Evaluate"
   ]
  },
  {
   "cell_type": "code",
   "execution_count": 369,
   "id": "7dd789f4-8336-4ef2-bc54-f7be1757dbe4",
   "metadata": {
    "hidden": true
   },
   "outputs": [],
   "source": [
    "# Selected model with best parameters\n",
    "\n",
    "model = GradientBoostingClassifier(n_estimators=150, learning_rate=0.03, max_depth = 5, verbose=0)"
   ]
  },
  {
   "cell_type": "code",
   "execution_count": 370,
   "id": "d0135da6",
   "metadata": {
    "hidden": true
   },
   "outputs": [],
   "source": [
    "pipe_gb = make_pipeline(preproc_baseline, model)\n",
    "# score = cross_val_score(pipe_gb, X, y_binary, cv=5, scoring='accuracy', n_jobs=-1).mean()\n",
    "\n",
    "# score"
   ]
  },
  {
   "cell_type": "code",
   "execution_count": 371,
   "id": "32dec2b6-5aeb-4764-8102-0b10ede44046",
   "metadata": {
    "hidden": true
   },
   "outputs": [],
   "source": [
    "pipe_selected = pipe_gb"
   ]
  },
  {
   "cell_type": "code",
   "execution_count": 372,
   "id": "79a9c1b9-8843-4c17-8ce6-e8d4301a0334",
   "metadata": {
    "hidden": true
   },
   "outputs": [
    {
     "data": {
      "text/html": [
       "<style>#sk-container-id-7 {color: black;}#sk-container-id-7 pre{padding: 0;}#sk-container-id-7 div.sk-toggleable {background-color: white;}#sk-container-id-7 label.sk-toggleable__label {cursor: pointer;display: block;width: 100%;margin-bottom: 0;padding: 0.3em;box-sizing: border-box;text-align: center;}#sk-container-id-7 label.sk-toggleable__label-arrow:before {content: \"▸\";float: left;margin-right: 0.25em;color: #696969;}#sk-container-id-7 label.sk-toggleable__label-arrow:hover:before {color: black;}#sk-container-id-7 div.sk-estimator:hover label.sk-toggleable__label-arrow:before {color: black;}#sk-container-id-7 div.sk-toggleable__content {max-height: 0;max-width: 0;overflow: hidden;text-align: left;background-color: #f0f8ff;}#sk-container-id-7 div.sk-toggleable__content pre {margin: 0.2em;color: black;border-radius: 0.25em;background-color: #f0f8ff;}#sk-container-id-7 input.sk-toggleable__control:checked~div.sk-toggleable__content {max-height: 200px;max-width: 100%;overflow: auto;}#sk-container-id-7 input.sk-toggleable__control:checked~label.sk-toggleable__label-arrow:before {content: \"▾\";}#sk-container-id-7 div.sk-estimator input.sk-toggleable__control:checked~label.sk-toggleable__label {background-color: #d4ebff;}#sk-container-id-7 div.sk-label input.sk-toggleable__control:checked~label.sk-toggleable__label {background-color: #d4ebff;}#sk-container-id-7 input.sk-hidden--visually {border: 0;clip: rect(1px 1px 1px 1px);clip: rect(1px, 1px, 1px, 1px);height: 1px;margin: -1px;overflow: hidden;padding: 0;position: absolute;width: 1px;}#sk-container-id-7 div.sk-estimator {font-family: monospace;background-color: #f0f8ff;border: 1px dotted black;border-radius: 0.25em;box-sizing: border-box;margin-bottom: 0.5em;}#sk-container-id-7 div.sk-estimator:hover {background-color: #d4ebff;}#sk-container-id-7 div.sk-parallel-item::after {content: \"\";width: 100%;border-bottom: 1px solid gray;flex-grow: 1;}#sk-container-id-7 div.sk-label:hover label.sk-toggleable__label {background-color: #d4ebff;}#sk-container-id-7 div.sk-serial::before {content: \"\";position: absolute;border-left: 1px solid gray;box-sizing: border-box;top: 0;bottom: 0;left: 50%;z-index: 0;}#sk-container-id-7 div.sk-serial {display: flex;flex-direction: column;align-items: center;background-color: white;padding-right: 0.2em;padding-left: 0.2em;position: relative;}#sk-container-id-7 div.sk-item {position: relative;z-index: 1;}#sk-container-id-7 div.sk-parallel {display: flex;align-items: stretch;justify-content: center;background-color: white;position: relative;}#sk-container-id-7 div.sk-item::before, #sk-container-id-7 div.sk-parallel-item::before {content: \"\";position: absolute;border-left: 1px solid gray;box-sizing: border-box;top: 0;bottom: 0;left: 50%;z-index: -1;}#sk-container-id-7 div.sk-parallel-item {display: flex;flex-direction: column;z-index: 1;position: relative;background-color: white;}#sk-container-id-7 div.sk-parallel-item:first-child::after {align-self: flex-end;width: 50%;}#sk-container-id-7 div.sk-parallel-item:last-child::after {align-self: flex-start;width: 50%;}#sk-container-id-7 div.sk-parallel-item:only-child::after {width: 0;}#sk-container-id-7 div.sk-dashed-wrapped {border: 1px dashed gray;margin: 0 0.4em 0.5em 0.4em;box-sizing: border-box;padding-bottom: 0.4em;background-color: white;}#sk-container-id-7 div.sk-label label {font-family: monospace;font-weight: bold;display: inline-block;line-height: 1.2em;}#sk-container-id-7 div.sk-label-container {text-align: center;}#sk-container-id-7 div.sk-container {/* jupyter's `normalize.less` sets `[hidden] { display: none; }` but bootstrap.min.css set `[hidden] { display: none !important; }` so we also need the `!important` here to be able to override the default hidden behavior on the sphinx rendered scikit-learn.org. See: https://github.com/scikit-learn/scikit-learn/issues/21755 */display: inline-block !important;position: relative;}#sk-container-id-7 div.sk-text-repr-fallback {display: none;}</style><div id=\"sk-container-id-7\" class=\"sk-top-container\"><div class=\"sk-text-repr-fallback\"><pre>Pipeline(steps=[(&#x27;columntransformer&#x27;,\n",
       "                 ColumnTransformer(transformers=[(&#x27;pipeline-1&#x27;,\n",
       "                                                  Pipeline(steps=[(&#x27;simpleimputer&#x27;,\n",
       "                                                                   SimpleImputer()),\n",
       "                                                                  (&#x27;minmaxscaler&#x27;,\n",
       "                                                                   MinMaxScaler())]),\n",
       "                                                  &lt;sklearn.compose._column_transformer.make_column_selector object at 0x7f7df2e68f10&gt;),\n",
       "                                                 (&#x27;pipeline-2&#x27;,\n",
       "                                                  Pipeline(steps=[(&#x27;simpleimputer&#x27;,\n",
       "                                                                   SimpleImputer(strategy=&#x27;most_frequent&#x27;)),\n",
       "                                                                  (&#x27;onehotencoder&#x27;,\n",
       "                                                                   OneHotEncoder(handle_unknown=&#x27;ignore&#x27;))]),\n",
       "                                                  &lt;sklearn.compose._column_transformer.make_column_selector object at 0x7f7df2e6bee0&gt;)])),\n",
       "                (&#x27;gradientboostingclassifier&#x27;,\n",
       "                 GradientBoostingClassifier(learning_rate=0.03, max_depth=5,\n",
       "                                            n_estimators=150))])</pre><b>In a Jupyter environment, please rerun this cell to show the HTML representation or trust the notebook. <br />On GitHub, the HTML representation is unable to render, please try loading this page with nbviewer.org.</b></div><div class=\"sk-container\" hidden><div class=\"sk-item sk-dashed-wrapped\"><div class=\"sk-label-container\"><div class=\"sk-label sk-toggleable\"><input class=\"sk-toggleable__control sk-hidden--visually\" id=\"sk-estimator-id-49\" type=\"checkbox\" ><label for=\"sk-estimator-id-49\" class=\"sk-toggleable__label sk-toggleable__label-arrow\">Pipeline</label><div class=\"sk-toggleable__content\"><pre>Pipeline(steps=[(&#x27;columntransformer&#x27;,\n",
       "                 ColumnTransformer(transformers=[(&#x27;pipeline-1&#x27;,\n",
       "                                                  Pipeline(steps=[(&#x27;simpleimputer&#x27;,\n",
       "                                                                   SimpleImputer()),\n",
       "                                                                  (&#x27;minmaxscaler&#x27;,\n",
       "                                                                   MinMaxScaler())]),\n",
       "                                                  &lt;sklearn.compose._column_transformer.make_column_selector object at 0x7f7df2e68f10&gt;),\n",
       "                                                 (&#x27;pipeline-2&#x27;,\n",
       "                                                  Pipeline(steps=[(&#x27;simpleimputer&#x27;,\n",
       "                                                                   SimpleImputer(strategy=&#x27;most_frequent&#x27;)),\n",
       "                                                                  (&#x27;onehotencoder&#x27;,\n",
       "                                                                   OneHotEncoder(handle_unknown=&#x27;ignore&#x27;))]),\n",
       "                                                  &lt;sklearn.compose._column_transformer.make_column_selector object at 0x7f7df2e6bee0&gt;)])),\n",
       "                (&#x27;gradientboostingclassifier&#x27;,\n",
       "                 GradientBoostingClassifier(learning_rate=0.03, max_depth=5,\n",
       "                                            n_estimators=150))])</pre></div></div></div><div class=\"sk-serial\"><div class=\"sk-item sk-dashed-wrapped\"><div class=\"sk-label-container\"><div class=\"sk-label sk-toggleable\"><input class=\"sk-toggleable__control sk-hidden--visually\" id=\"sk-estimator-id-50\" type=\"checkbox\" ><label for=\"sk-estimator-id-50\" class=\"sk-toggleable__label sk-toggleable__label-arrow\">columntransformer: ColumnTransformer</label><div class=\"sk-toggleable__content\"><pre>ColumnTransformer(transformers=[(&#x27;pipeline-1&#x27;,\n",
       "                                 Pipeline(steps=[(&#x27;simpleimputer&#x27;,\n",
       "                                                  SimpleImputer()),\n",
       "                                                 (&#x27;minmaxscaler&#x27;,\n",
       "                                                  MinMaxScaler())]),\n",
       "                                 &lt;sklearn.compose._column_transformer.make_column_selector object at 0x7f7df2e68f10&gt;),\n",
       "                                (&#x27;pipeline-2&#x27;,\n",
       "                                 Pipeline(steps=[(&#x27;simpleimputer&#x27;,\n",
       "                                                  SimpleImputer(strategy=&#x27;most_frequent&#x27;)),\n",
       "                                                 (&#x27;onehotencoder&#x27;,\n",
       "                                                  OneHotEncoder(handle_unknown=&#x27;ignore&#x27;))]),\n",
       "                                 &lt;sklearn.compose._column_transformer.make_column_selector object at 0x7f7df2e6bee0&gt;)])</pre></div></div></div><div class=\"sk-parallel\"><div class=\"sk-parallel-item\"><div class=\"sk-item\"><div class=\"sk-label-container\"><div class=\"sk-label sk-toggleable\"><input class=\"sk-toggleable__control sk-hidden--visually\" id=\"sk-estimator-id-51\" type=\"checkbox\" ><label for=\"sk-estimator-id-51\" class=\"sk-toggleable__label sk-toggleable__label-arrow\">pipeline-1</label><div class=\"sk-toggleable__content\"><pre>&lt;sklearn.compose._column_transformer.make_column_selector object at 0x7f7df2e68f10&gt;</pre></div></div></div><div class=\"sk-serial\"><div class=\"sk-item\"><div class=\"sk-serial\"><div class=\"sk-item\"><div class=\"sk-estimator sk-toggleable\"><input class=\"sk-toggleable__control sk-hidden--visually\" id=\"sk-estimator-id-52\" type=\"checkbox\" ><label for=\"sk-estimator-id-52\" class=\"sk-toggleable__label sk-toggleable__label-arrow\">SimpleImputer</label><div class=\"sk-toggleable__content\"><pre>SimpleImputer()</pre></div></div></div><div class=\"sk-item\"><div class=\"sk-estimator sk-toggleable\"><input class=\"sk-toggleable__control sk-hidden--visually\" id=\"sk-estimator-id-53\" type=\"checkbox\" ><label for=\"sk-estimator-id-53\" class=\"sk-toggleable__label sk-toggleable__label-arrow\">MinMaxScaler</label><div class=\"sk-toggleable__content\"><pre>MinMaxScaler()</pre></div></div></div></div></div></div></div></div><div class=\"sk-parallel-item\"><div class=\"sk-item\"><div class=\"sk-label-container\"><div class=\"sk-label sk-toggleable\"><input class=\"sk-toggleable__control sk-hidden--visually\" id=\"sk-estimator-id-54\" type=\"checkbox\" ><label for=\"sk-estimator-id-54\" class=\"sk-toggleable__label sk-toggleable__label-arrow\">pipeline-2</label><div class=\"sk-toggleable__content\"><pre>&lt;sklearn.compose._column_transformer.make_column_selector object at 0x7f7df2e6bee0&gt;</pre></div></div></div><div class=\"sk-serial\"><div class=\"sk-item\"><div class=\"sk-serial\"><div class=\"sk-item\"><div class=\"sk-estimator sk-toggleable\"><input class=\"sk-toggleable__control sk-hidden--visually\" id=\"sk-estimator-id-55\" type=\"checkbox\" ><label for=\"sk-estimator-id-55\" class=\"sk-toggleable__label sk-toggleable__label-arrow\">SimpleImputer</label><div class=\"sk-toggleable__content\"><pre>SimpleImputer(strategy=&#x27;most_frequent&#x27;)</pre></div></div></div><div class=\"sk-item\"><div class=\"sk-estimator sk-toggleable\"><input class=\"sk-toggleable__control sk-hidden--visually\" id=\"sk-estimator-id-56\" type=\"checkbox\" ><label for=\"sk-estimator-id-56\" class=\"sk-toggleable__label sk-toggleable__label-arrow\">OneHotEncoder</label><div class=\"sk-toggleable__content\"><pre>OneHotEncoder(handle_unknown=&#x27;ignore&#x27;)</pre></div></div></div></div></div></div></div></div></div></div><div class=\"sk-item\"><div class=\"sk-estimator sk-toggleable\"><input class=\"sk-toggleable__control sk-hidden--visually\" id=\"sk-estimator-id-57\" type=\"checkbox\" ><label for=\"sk-estimator-id-57\" class=\"sk-toggleable__label sk-toggleable__label-arrow\">GradientBoostingClassifier</label><div class=\"sk-toggleable__content\"><pre>GradientBoostingClassifier(learning_rate=0.03, max_depth=5, n_estimators=150)</pre></div></div></div></div></div></div></div>"
      ],
      "text/plain": [
       "Pipeline(steps=[('columntransformer',\n",
       "                 ColumnTransformer(transformers=[('pipeline-1',\n",
       "                                                  Pipeline(steps=[('simpleimputer',\n",
       "                                                                   SimpleImputer()),\n",
       "                                                                  ('minmaxscaler',\n",
       "                                                                   MinMaxScaler())]),\n",
       "                                                  <sklearn.compose._column_transformer.make_column_selector object at 0x7f7df2e68f10>),\n",
       "                                                 ('pipeline-2',\n",
       "                                                  Pipeline(steps=[('simpleimputer',\n",
       "                                                                   SimpleImputer(strategy='most_frequent')),\n",
       "                                                                  ('onehotencoder',\n",
       "                                                                   OneHotEncoder(handle_unknown='ignore'))]),\n",
       "                                                  <sklearn.compose._column_transformer.make_column_selector object at 0x7f7df2e6bee0>)])),\n",
       "                ('gradientboostingclassifier',\n",
       "                 GradientBoostingClassifier(learning_rate=0.03, max_depth=5,\n",
       "                                            n_estimators=150))])"
      ]
     },
     "execution_count": 372,
     "metadata": {},
     "output_type": "execute_result"
    }
   ],
   "source": [
    "pipe_selected.fit(X_train, y_train)"
   ]
  },
  {
   "cell_type": "code",
   "execution_count": 373,
   "id": "459f70a7-abbd-494e-aa02-971bfaa4511f",
   "metadata": {
    "hidden": true
   },
   "outputs": [],
   "source": [
    "y_pred = pipe_selected.predict(X_test)"
   ]
  },
  {
   "cell_type": "code",
   "execution_count": 374,
   "id": "a412723b-2b72-4a87-bdd6-dc530bfaf784",
   "metadata": {
    "hidden": true
   },
   "outputs": [
    {
     "data": {
      "text/plain": [
       "(232, 2798)"
      ]
     },
     "execution_count": 374,
     "metadata": {},
     "output_type": "execute_result"
    }
   ],
   "source": [
    "(y_pred.sum(), y_test.sum())"
   ]
  },
  {
   "cell_type": "code",
   "execution_count": 375,
   "id": "a71bb3fe-9991-459a-83c5-f94fe09b4c26",
   "metadata": {
    "hidden": true,
    "scrolled": true
   },
   "outputs": [
    {
     "name": "stdout",
     "output_type": "stream",
     "text": [
      "Accuracy: 0.6291566906092045\n",
      "Precision: 0.521551724137931\n",
      "Recall: 0.04324517512508935\n",
      "F1-score: 0.07986798679867987\n",
      "Confusion Matrix:\n",
      " [[4609  111]\n",
      " [2677  121]]\n"
     ]
    }
   ],
   "source": [
    "from sklearn.metrics import accuracy_score, precision_score, recall_score, f1_score, confusion_matrix\n",
    "# Assuming y_test contains the actual labels\n",
    "accuracy = accuracy_score(y_test, y_pred)\n",
    "precision = precision_score(y_test, y_pred)\n",
    "recall = recall_score(y_test, y_pred)\n",
    "f1 = f1_score(y_test, y_pred)\n",
    "conf_matrix = confusion_matrix(y_test, y_pred)\n",
    "\n",
    "print(\"Accuracy:\", accuracy)\n",
    "print(\"Precision:\", precision)\n",
    "print(\"Recall:\", recall)\n",
    "print(\"F1-score:\", f1)\n",
    "print(\"Confusion Matrix:\\n\", conf_matrix)"
   ]
  },
  {
   "cell_type": "markdown",
   "id": "9d21fa22-e10e-4cf1-8a64-a3f058ed5c11",
   "metadata": {
    "heading_collapsed": true,
    "hidden": true
   },
   "source": [
    "## Understanding the model"
   ]
  },
  {
   "cell_type": "markdown",
   "id": "3b1d8dba",
   "metadata": {
    "hidden": true
   },
   "source": [
    "### Feature importance"
   ]
  },
  {
   "cell_type": "code",
   "execution_count": 379,
   "id": "3e476249-9fb9-47d3-b6df-e0f2cbb3208d",
   "metadata": {
    "hidden": true
   },
   "outputs": [],
   "source": [
    "# Get Feature importance\n",
    "model = pipe_selected.named_steps['gradientboostingclassifier']\n",
    "\n",
    "feature_importance = model.feature_importances_\n",
    "one_hot_encoder = preproc_baseline.named_transformers_['pipeline-2']['onehotencoder']\n",
    "encoded_columns = one_hot_encoder.get_feature_names_out()\n",
    "\n",
    "\n",
    "numerical_columns = preproc_baseline.named_transformers_['pipeline-1']['simpleimputer'].get_feature_names_out()\n",
    "all_column_names = list(numerical_columns) + list(encoded_columns)\n",
    "\n",
    "# Ensure that the length of the concatenated list matches the length of the feature_importance array\n",
    "assert len(all_column_names) == len(feature_importance), \"Lengths of column names and feature importance values do not match\""
   ]
  },
  {
   "cell_type": "code",
   "execution_count": 380,
   "id": "9a436c3b-b30b-4419-aa27-729917a11b50",
   "metadata": {
    "hidden": true
   },
   "outputs": [
    {
     "data": {
      "image/png": "[encoded data removed]",
      "text/plain": [
       "<Figure size 1000x600 with 1 Axes>"
      ]
     },
     "metadata": {},
     "output_type": "display_data"
    }
   ],
   "source": [
    "# Pair feature importance scores with corresponding column names\n",
    "feature_importance_df = pd.DataFrame({'Feature': all_column_names, 'Importance': feature_importance})\n",
    "\n",
    "# Sort the DataFrame by importance score in descending order\n",
    "feature_importance_df = feature_importance_df.sort_values(by='Importance', ascending=False)\n",
    "\n",
    "# Plot the feature importance\n",
    "plt.figure(figsize=(10, 6))\n",
    "plt.barh(feature_importance_df['Feature'][:15], feature_importance_df['Importance'][:15])\n",
    "plt.xlabel('Importance')\n",
    "plt.ylabel('Feature')\n",
    "plt.title('Top 15 Feature Importance')\n",
    "plt.show()"
   ]
  },
  {
   "cell_type": "markdown",
   "id": "4e0e4d2d",
   "metadata": {
    "hidden": true
   },
   "source": [
    "### Quick observation of the important feature vs. y"
   ]
  },
  {
   "cell_type": "code",
   "execution_count": 201,
   "id": "6f2d7508",
   "metadata": {
    "hidden": true,
    "scrolled": true
   },
   "outputs": [
    {
     "data": {
      "text/plain": [
       "Index(['status', 'gender', 'num_of_item', 'order_rank', 'delivery_days',\n",
       "       'weekday_ordered', 'weekday_delivered', 'returned?', 'shipped?',\n",
       "       'delivered?', 'return_cumsum', 'ship_cumsum', 'deliver_cumsum',\n",
       "       'customer_T', 'days_from_first_delivery', 'items_until_now',\n",
       "       'num_items_delivered', 'delivered_items_until_now', 'age', 'country',\n",
       "       'traffic_source', 'age_group', 'sale_price', 'retail_price',\n",
       "       'category_preffered', 'dept_pref', 'browser_pref', 'avg_distance',\n",
       "       'sale_ratio', 'sin_MoSold', 'cos_MoSold', 'year'],\n",
       "      dtype='object')"
      ]
     },
     "execution_count": 201,
     "metadata": {},
     "output_type": "execute_result"
    }
   ],
   "source": [
    "X.columns"
   ]
  },
  {
   "cell_type": "code",
   "execution_count": 413,
   "id": "87718d99",
   "metadata": {
    "hidden": true
   },
   "outputs": [],
   "source": [
    "important = input_filtered.copy()"
   ]
  },
  {
   "cell_type": "markdown",
   "id": "79101602",
   "metadata": {
    "hidden": true
   },
   "source": [
    "#### YEAR"
   ]
  },
  {
   "cell_type": "code",
   "execution_count": 426,
   "id": "6ac08ca5",
   "metadata": {
    "hidden": true
   },
   "outputs": [
    {
     "data": {
      "image/png": "[encoded data removed]",
      "text/plain": [
       "<Figure size 640x480 with 1 Axes>"
      ]
     },
     "metadata": {},
     "output_type": "display_data"
    }
   ],
   "source": [
    "# order happens more in early years\n",
    "data_year = (important.groupby(by='year')['y'].sum()/important.groupby(by='year')['y'].count()*100).reset_index(name='ratio')\n",
    "\n",
    "sns.barplot(data=data_year, x='year', y='ratio');"
   ]
  },
  {
   "cell_type": "markdown",
   "id": "84bce008",
   "metadata": {
    "hidden": true
   },
   "source": [
    "#### order rank"
   ]
  },
  {
   "cell_type": "code",
   "execution_count": 394,
   "id": "4ee5023e",
   "metadata": {
    "hidden": true
   },
   "outputs": [
    {
     "data": {
      "image/png": "[encoded data removed]",
      "text/plain": [
       "<Figure size 640x480 with 1 Axes>"
      ]
     },
     "metadata": {},
     "output_type": "display_data"
    }
   ],
   "source": [
    "# half of the customers who bought 3rd time will buy another\n",
    "data_rank = (important.groupby(by='order_rank')['y'].sum()/important.groupby(by='order_rank')['y'].count()*100).reset_index(name='ratio')\n",
    "\n",
    "sns.barplot(data=data_rank, x='order_rank', y='ratio');"
   ]
  },
  {
   "cell_type": "markdown",
   "id": "e60d1a89",
   "metadata": {
    "hidden": true
   },
   "source": [
    "#### items_until_now"
   ]
  },
  {
   "cell_type": "code",
   "execution_count": 420,
   "id": "a4ae602b",
   "metadata": {
    "hidden": true
   },
   "outputs": [
    {
     "data": {
      "text/plain": [
       "''"
      ]
     },
     "execution_count": 420,
     "metadata": {},
     "output_type": "execute_result"
    },
    {
     "data": {
      "image/png": "[encoded data removed]",
      "text/plain": [
       "<Figure size 1000x500 with 2 Axes>"
      ]
     },
     "metadata": {},
     "output_type": "display_data"
    }
   ],
   "source": [
    "data_items = (important.groupby(by='items_until_now')['y'].sum()/important.groupby(by='items_until_now')['y'].count()*100).reset_index(name='ratio')\n",
    "data_items_count = important.groupby('items_until_now')['order_id'].nunique().reset_index(name='orders')\n",
    "\n",
    "\n",
    "fig, axes = plt.subplots(1,2, figsize=(10,5))\n",
    "\n",
    "sns.barplot(data=data_items, x='items_until_now', y='ratio', ax=axes[0])\n",
    "sns.barplot(data=data_items_count, x='items_until_now', y='orders', ax=axes[1])\n",
    "\n",
    ";"
   ]
  },
  {
   "cell_type": "code",
   "execution_count": null,
   "id": "9f73b083",
   "metadata": {
    "hidden": true
   },
   "outputs": [],
   "source": []
  },
  {
   "cell_type": "markdown",
   "id": "07e8699e",
   "metadata": {
    "hidden": true
   },
   "source": [
    "#### customer_T"
   ]
  },
  {
   "cell_type": "code",
   "execution_count": 395,
   "id": "5b917713",
   "metadata": {
    "hidden": true
   },
   "outputs": [
    {
     "data": {
      "image/png": "[encoded data removed]",
      "text/plain": [
       "<Figure size 640x480 with 1 Axes>"
      ]
     },
     "metadata": {},
     "output_type": "display_data"
    }
   ],
   "source": [
    "# long customer T increases repeat purchase potential\n",
    "important['customer_T_group'] = (important['customer_T']/100).astype('int')\n",
    "data_customer_t = (important.groupby(by='customer_T_group')['y'].sum()/important.groupby(by='customer_T_group')['y'].count()*100).reset_index()\n",
    "\n",
    "sns.barplot(data=data_customer_t, x='customer_T_group',y='y');"
   ]
  },
  {
   "cell_type": "markdown",
   "id": "098d538b",
   "metadata": {
    "hidden": true
   },
   "source": [
    "#### Browser"
   ]
  },
  {
   "cell_type": "code",
   "execution_count": 396,
   "id": "23e264fe",
   "metadata": {
    "hidden": true,
    "scrolled": false
   },
   "outputs": [
    {
     "data": {
      "image/png": "[encoded data removed]",
      "text/plain": [
       "<Figure size 640x480 with 1 Axes>"
      ]
     },
     "metadata": {},
     "output_type": "display_data"
    }
   ],
   "source": [
    "data_browser = (important.groupby(by='browser_pref')['y'].sum()/important.groupby(by='browser_pref')['y'].count()*100).reset_index(name='ratio')\n",
    "\n",
    "sns.barplot(data=data_browser, x='browser_pref', y='ratio');"
   ]
  },
  {
   "cell_type": "markdown",
   "id": "83de422f",
   "metadata": {
    "hidden": true
   },
   "source": [
    "#### avg_distance"
   ]
  },
  {
   "cell_type": "code",
   "execution_count": 425,
   "id": "97746da3",
   "metadata": {
    "hidden": true
   },
   "outputs": [
    {
     "ename": "AttributeError",
     "evalue": "'Axes' object has no attribute 'plt'",
     "output_type": "error",
     "traceback": [
      "\u001b[0;31m---------------------------------------------------------------------------\u001b[0m",
      "\u001b[0;31mAttributeError\u001b[0m                            Traceback (most recent call last)",
      "Cell \u001b[0;32mIn [425], line 12\u001b[0m\n\u001b[1;32m      8\u001b[0m sns\u001b[38;5;241m.\u001b[39mbarplot(data\u001b[38;5;241m=\u001b[39mdata_distance, x\u001b[38;5;241m=\u001b[39m\u001b[38;5;124m'\u001b[39m\u001b[38;5;124mdistance_group\u001b[39m\u001b[38;5;124m'\u001b[39m, y\u001b[38;5;241m=\u001b[39m\u001b[38;5;124m'\u001b[39m\u001b[38;5;124mratio\u001b[39m\u001b[38;5;124m'\u001b[39m, ax\u001b[38;5;241m=\u001b[39maxes[\u001b[38;5;241m0\u001b[39m])\n\u001b[1;32m      9\u001b[0m sns\u001b[38;5;241m.\u001b[39mbarplot(data\u001b[38;5;241m=\u001b[39mdata_distance_count, x\u001b[38;5;241m=\u001b[39m\u001b[38;5;124m'\u001b[39m\u001b[38;5;124mdistance_group\u001b[39m\u001b[38;5;124m'\u001b[39m, y\u001b[38;5;241m=\u001b[39m\u001b[38;5;124m'\u001b[39m\u001b[38;5;124morders\u001b[39m\u001b[38;5;124m'\u001b[39m, ax\u001b[38;5;241m=\u001b[39maxes[\u001b[38;5;241m1\u001b[39m])\n\u001b[0;32m---> 12\u001b[0m \u001b[43maxes\u001b[49m\u001b[43m[\u001b[49m\u001b[38;5;241;43m0\u001b[39;49m\u001b[43m]\u001b[49m\u001b[38;5;241;43m.\u001b[39;49m\u001b[43mplt\u001b[49m\u001b[38;5;241m.\u001b[39mxticks(rotation\u001b[38;5;241m=\u001b[39m\u001b[38;5;241m90\u001b[39m)\n\u001b[1;32m     13\u001b[0m (\u001b[38;5;124m\"\u001b[39m\u001b[38;5;124m\"\u001b[39m)\n",
      "\u001b[0;31mAttributeError\u001b[0m: 'Axes' object has no attribute 'plt'"
     ]
    },
    {
     "data": {
      "image/png": "[encoded data removed]",
      "text/plain": [
       "<Figure size 1000x500 with 2 Axes>"
      ]
     },
     "metadata": {},
     "output_type": "display_data"
    }
   ],
   "source": [
    "important['distance_group'] = important.avg_distance//1000\n",
    "data_distance = (important.groupby(by='distance_group')['y'].sum()/important.groupby(by='distance_group')['y'].count()*100).reset_index(name='ratio')\n",
    "data_distance_count = important.groupby('distance_group')['order_id'].nunique().reset_index(name='orders')\n",
    "\n",
    "\n",
    "fig, axes = plt.subplots(1,2, figsize=(10,5))\n",
    "\n",
    "sns.barplot(data=data_distance, x='distance_group', y='ratio', ax=axes[0])\n",
    "sns.barplot(data=data_distance_count, x='distance_group', y='orders', ax=axes[1])\n",
    "\n",
    "\n",
    "plt.xticks(rotation=90)\n",
    ";"
   ]
  },
  {
   "cell_type": "markdown",
   "id": "dc97448a",
   "metadata": {
    "hidden": true
   },
   "source": [
    "#### Sale price"
   ]
  },
  {
   "cell_type": "code",
   "execution_count": 415,
   "id": "b3f1bceb",
   "metadata": {
    "hidden": true
   },
   "outputs": [
    {
     "data": {
      "image/png": "[encoded data removed]",
      "text/plain": [
       "<Figure size 640x480 with 1 Axes>"
      ]
     },
     "metadata": {},
     "output_type": "display_data"
    }
   ],
   "source": [
    "# long customer T increases repeat purchase potential\n",
    "important['sale_price_group'] = (important['sale_price']/50).astype('int')\n",
    "data_sale_price = (important.groupby(by='sale_price_group')['y'].sum()/important.groupby(by='sale_price_group')['y'].count()*100).reset_index()\n",
    "data_sale_price.counts = \n",
    "\n",
    "\n",
    "sns.barplot(data=data_customer_t, x='sale_price_group',y='y');"
   ]
  },
  {
   "cell_type": "code",
   "execution_count": null,
   "id": "c2e5fa17",
   "metadata": {
    "hidden": true
   },
   "outputs": [],
   "source": []
  },
  {
   "cell_type": "code",
   "execution_count": null,
   "id": "c73540b6",
   "metadata": {
    "hidden": true
   },
   "outputs": [],
   "source": []
  },
  {
   "cell_type": "code",
   "execution_count": null,
   "id": "91ff9638",
   "metadata": {
    "hidden": true
   },
   "outputs": [],
   "source": []
  },
  {
   "cell_type": "code",
   "execution_count": 397,
   "id": "bd524e96",
   "metadata": {
    "hidden": true
   },
   "outputs": [
    {
     "data": {
      "image/png": "[encoded data removed]",
      "text/plain": [
       "<Figure size 640x480 with 1 Axes>"
      ]
     },
     "metadata": {},
     "output_type": "display_data"
    }
   ],
   "source": [
    "data_source = (important.groupby(by='traffic_source')['y'].sum()/important.groupby(by='traffic_source')['y'].count()*100).reset_index(name='ratio')\n",
    "\n",
    "sns.barplot(data=data_source, x='traffic_source', y='ratio');"
   ]
  },
  {
   "cell_type": "code",
   "execution_count": null,
   "id": "693fd4b2",
   "metadata": {
    "hidden": true
   },
   "outputs": [],
   "source": []
  },
  {
   "cell_type": "markdown",
   "id": "0e133969",
   "metadata": {
    "heading_collapsed": true,
    "hidden": true
   },
   "source": [
    "### Partial Dependence Plots"
   ]
  },
  {
   "cell_type": "code",
   "execution_count": 227,
   "id": "44d570b5",
   "metadata": {
    "hidden": true
   },
   "outputs": [],
   "source": [
    "# import pdpbox.pdp as pdp"
   ]
  },
  {
   "cell_type": "code",
   "execution_count": 228,
   "id": "cb22c850",
   "metadata": {
    "hidden": true
   },
   "outputs": [],
   "source": [
    "# features = [0, 1, (0, 1)]\n",
    "# PartialDependenceDisplay.from_estimator(clf, X, features)"
   ]
  },
  {
   "cell_type": "code",
   "execution_count": 229,
   "id": "3bfe8098",
   "metadata": {
    "hidden": true
   },
   "outputs": [],
   "source": [
    "# PartialDependenceDisplay.from_estimator(model, X, features)"
   ]
  },
  {
   "cell_type": "code",
   "execution_count": 129,
   "id": "0c677779",
   "metadata": {
    "hidden": true
   },
   "outputs": [
    {
     "data": {
      "text/plain": [
       "(12000, 10)"
      ]
     },
     "execution_count": 129,
     "metadata": {},
     "output_type": "execute_result"
    }
   ],
   "source": [
    "X.shape"
   ]
  },
  {
   "cell_type": "code",
   "execution_count": 130,
   "id": "8cd26bff",
   "metadata": {
    "hidden": true
   },
   "outputs": [
    {
     "data": {
      "text/plain": [
       "(12000,)"
      ]
     },
     "execution_count": 130,
     "metadata": {},
     "output_type": "execute_result"
    }
   ],
   "source": [
    "y.shape"
   ]
  },
  {
   "cell_type": "code",
   "execution_count": 131,
   "id": "0b383b96",
   "metadata": {
    "hidden": true
   },
   "outputs": [
    {
     "data": {
      "text/plain": [
       "array([ 1., -1.,  1., ..., -1., -1.,  1.])"
      ]
     },
     "execution_count": 131,
     "metadata": {},
     "output_type": "execute_result"
    }
   ],
   "source": [
    "y"
   ]
  },
  {
   "cell_type": "code",
   "execution_count": null,
   "id": "560c71e0",
   "metadata": {
    "hidden": true
   },
   "outputs": [],
   "source": []
  },
  {
   "cell_type": "markdown",
   "id": "5fa84d8c-4bb7-476d-af8a-b2e36a1e0122",
   "metadata": {
    "heading_collapsed": true,
    "hidden": true
   },
   "source": [
    "## Save model"
   ]
  },
  {
   "cell_type": "code",
   "execution_count": null,
   "id": "bd74a5b1-53ae-4bba-93c3-395b224de77b",
   "metadata": {
    "hidden": true
   },
   "outputs": [],
   "source": [
    "import pickle\n",
    "import joblib"
   ]
  },
  {
   "cell_type": "code",
   "execution_count": null,
   "id": "1cf1bd0c-1095-4a36-9b8f-d935f2103944",
   "metadata": {
    "hidden": true
   },
   "outputs": [],
   "source": [
    "# # Define the filename for your .pkl file\n",
    "# filename = '../clv_the_look/training/rf_model_v1.pkl'\n",
    "\n",
    "# # Save the trained model to a .pkl file\n",
    "# with open(filename, 'wb') as file:\n",
    "#     pickle.dump(pipe_randomforest, file)"
   ]
  },
  {
   "cell_type": "code",
   "execution_count": null,
   "id": "f3038c02-f00c-42c9-a00a-90f6dfcd8acd",
   "metadata": {
    "hidden": true
   },
   "outputs": [],
   "source": [
    "filename = '../clv_the_look/training/gb_model_v1.pkl'\n",
    "\n",
    "# Save the trained model to a .pkl file\n",
    "with open(filename, 'wb') as file:\n",
    "    joblib.dump(pipe_selected, filename)"
   ]
  },
  {
   "cell_type": "code",
   "execution_count": null,
   "id": "5934ac80-eb0b-4ecd-a227-57a20befa725",
   "metadata": {
    "hidden": true
   },
   "outputs": [],
   "source": [
    "## input csv\n",
    "\n",
    "X_test.to_csv('../clv_the_look/training/input_X_test.csv', index=False, encoding='utf-8')\n",
    "\n",
    "X_test"
   ]
  },
  {
   "cell_type": "markdown",
   "id": "c98bc6e9-1bce-4de0-ab10-22c31d0601b0",
   "metadata": {
    "jp-MarkdownHeadingCollapsed": true
   },
   "source": [
    "# Customer Segmentation"
   ]
  },
  {
   "cell_type": "code",
   "execution_count": null,
   "id": "d5011ccf",
   "metadata": {},
   "outputs": [],
   "source": [
    "def rfm_calculation(order_item_df)"
   ]
  },
  {
   "cell_type": "code",
   "execution_count": null,
   "id": "2cce5cee",
   "metadata": {},
   "outputs": [],
   "source": []
  },
  {
   "cell_type": "code",
   "execution_count": null,
   "id": "fda50dc2",
   "metadata": {},
   "outputs": [],
   "source": []
  },
  {
   "cell_type": "code",
   "execution_count": null,
   "id": "62aca4b1",
   "metadata": {},
   "outputs": [],
   "source": []
  },
  {
   "cell_type": "code",
   "execution_count": null,
   "id": "eadb2a91",
   "metadata": {},
   "outputs": [],
   "source": []
  },
  {
   "cell_type": "code",
   "execution_count": 263,
   "id": "77d38e01",
   "metadata": {},
   "outputs": [],
   "source": [
    "top_users = \\\n",
    "orders_df.groupby('user_id')['created_at'].nunique().reset_index(name='orders').sort_values(by='orders', ascending=False).\\\n",
    "head(2)['user_id'].tolist()"
   ]
  },
  {
   "cell_type": "code",
   "execution_count": 261,
   "id": "3a8dc8e2",
   "metadata": {},
   "outputs": [
    {
     "data": {
      "text/plain": [
       "Index(['id', 'user_id', 'sequence_number', 'session_id', 'created_at',\n",
       "       'ip_address', 'city', 'state', 'postal_code', 'browser',\n",
       "       'traffic_source', 'uri', 'event_type'],\n",
       "      dtype='object')"
      ]
     },
     "execution_count": 261,
     "metadata": {},
     "output_type": "execute_result"
    }
   ],
   "source": [
    "events_df.columns"
   ]
  },
  {
   "cell_type": "code",
   "execution_count": 268,
   "id": "bc0bdfa1",
   "metadata": {},
   "outputs": [
    {
     "data": {
      "text/html": [
       "<div>\n",
       "<style scoped>\n",
       "    .dataframe tbody tr th:only-of-type {\n",
       "        vertical-align: middle;\n",
       "    }\n",
       "\n",
       "    .dataframe tbody tr th {\n",
       "        vertical-align: top;\n",
       "    }\n",
       "\n",
       "    .dataframe thead th {\n",
       "        text-align: right;\n",
       "    }\n",
       "</style>\n",
       "<table border=\"1\" class=\"dataframe\">\n",
       "  <thead>\n",
       "    <tr style=\"text-align: right;\">\n",
       "      <th></th>\n",
       "      <th>order_id</th>\n",
       "      <th>status</th>\n",
       "      <th>created_at_x</th>\n",
       "      <th>id</th>\n",
       "      <th>event_type</th>\n",
       "      <th>created_at_y</th>\n",
       "    </tr>\n",
       "  </thead>\n",
       "  <tbody>\n",
       "    <tr>\n",
       "      <th>18</th>\n",
       "      <td>16759</td>\n",
       "      <td>Complete</td>\n",
       "      <td>2021-12-25 09:50:00</td>\n",
       "      <td>173247</td>\n",
       "      <td>home</td>\n",
       "      <td>2021-12-25 07:23:23</td>\n",
       "    </tr>\n",
       "    <tr>\n",
       "      <th>105</th>\n",
       "      <td>16761</td>\n",
       "      <td>Shipped</td>\n",
       "      <td>2023-02-17 09:50:00</td>\n",
       "      <td>173247</td>\n",
       "      <td>home</td>\n",
       "      <td>2021-12-25 07:23:23</td>\n",
       "    </tr>\n",
       "    <tr>\n",
       "      <th>76</th>\n",
       "      <td>16762</td>\n",
       "      <td>Processing</td>\n",
       "      <td>2022-05-07 09:50:00</td>\n",
       "      <td>173247</td>\n",
       "      <td>home</td>\n",
       "      <td>2021-12-25 07:23:23</td>\n",
       "    </tr>\n",
       "    <tr>\n",
       "      <th>47</th>\n",
       "      <td>16760</td>\n",
       "      <td>Complete</td>\n",
       "      <td>2023-08-12 09:50:00</td>\n",
       "      <td>173247</td>\n",
       "      <td>home</td>\n",
       "      <td>2021-12-25 07:23:23</td>\n",
       "    </tr>\n",
       "    <tr>\n",
       "      <th>37</th>\n",
       "      <td>16760</td>\n",
       "      <td>Complete</td>\n",
       "      <td>2023-08-12 09:50:00</td>\n",
       "      <td>173248</td>\n",
       "      <td>department</td>\n",
       "      <td>2021-12-25 07:24:20</td>\n",
       "    </tr>\n",
       "    <tr>\n",
       "      <th>...</th>\n",
       "      <td>...</td>\n",
       "      <td>...</td>\n",
       "      <td>...</td>\n",
       "      <td>...</td>\n",
       "      <td>...</td>\n",
       "      <td>...</td>\n",
       "    </tr>\n",
       "    <tr>\n",
       "      <th>115</th>\n",
       "      <td>16761</td>\n",
       "      <td>Shipped</td>\n",
       "      <td>2023-02-17 09:50:00</td>\n",
       "      <td>173265</td>\n",
       "      <td>purchase</td>\n",
       "      <td>2023-08-13 06:10:49</td>\n",
       "    </tr>\n",
       "    <tr>\n",
       "      <th>68</th>\n",
       "      <td>16762</td>\n",
       "      <td>Processing</td>\n",
       "      <td>2022-05-07 09:50:00</td>\n",
       "      <td>173258</td>\n",
       "      <td>purchase</td>\n",
       "      <td>2023-08-16 09:04:17</td>\n",
       "    </tr>\n",
       "    <tr>\n",
       "      <th>39</th>\n",
       "      <td>16760</td>\n",
       "      <td>Complete</td>\n",
       "      <td>2023-08-12 09:50:00</td>\n",
       "      <td>173258</td>\n",
       "      <td>purchase</td>\n",
       "      <td>2023-08-16 09:04:17</td>\n",
       "    </tr>\n",
       "    <tr>\n",
       "      <th>10</th>\n",
       "      <td>16759</td>\n",
       "      <td>Complete</td>\n",
       "      <td>2021-12-25 09:50:00</td>\n",
       "      <td>173258</td>\n",
       "      <td>purchase</td>\n",
       "      <td>2023-08-16 09:04:17</td>\n",
       "    </tr>\n",
       "    <tr>\n",
       "      <th>97</th>\n",
       "      <td>16761</td>\n",
       "      <td>Shipped</td>\n",
       "      <td>2023-02-17 09:50:00</td>\n",
       "      <td>173258</td>\n",
       "      <td>purchase</td>\n",
       "      <td>2023-08-16 09:04:17</td>\n",
       "    </tr>\n",
       "  </tbody>\n",
       "</table>\n",
       "<p>116 rows × 6 columns</p>\n",
       "</div>"
      ],
      "text/plain": [
       "     order_id      status        created_at_x      id  event_type  \\\n",
       "18      16759    Complete 2021-12-25 09:50:00  173247        home   \n",
       "105     16761     Shipped 2023-02-17 09:50:00  173247        home   \n",
       "76      16762  Processing 2022-05-07 09:50:00  173247        home   \n",
       "47      16760    Complete 2023-08-12 09:50:00  173247        home   \n",
       "37      16760    Complete 2023-08-12 09:50:00  173248  department   \n",
       "..        ...         ...                 ...     ...         ...   \n",
       "115     16761     Shipped 2023-02-17 09:50:00  173265    purchase   \n",
       "68      16762  Processing 2022-05-07 09:50:00  173258    purchase   \n",
       "39      16760    Complete 2023-08-12 09:50:00  173258    purchase   \n",
       "10      16759    Complete 2021-12-25 09:50:00  173258    purchase   \n",
       "97      16761     Shipped 2023-02-17 09:50:00  173258    purchase   \n",
       "\n",
       "           created_at_y  \n",
       "18  2021-12-25 07:23:23  \n",
       "105 2021-12-25 07:23:23  \n",
       "76  2021-12-25 07:23:23  \n",
       "47  2021-12-25 07:23:23  \n",
       "37  2021-12-25 07:24:20  \n",
       "..                  ...  \n",
       "115 2023-08-13 06:10:49  \n",
       "68  2023-08-16 09:04:17  \n",
       "39  2023-08-16 09:04:17  \n",
       "10  2023-08-16 09:04:17  \n",
       "97  2023-08-16 09:04:17  \n",
       "\n",
       "[116 rows x 6 columns]"
      ]
     },
     "execution_count": 268,
     "metadata": {},
     "output_type": "execute_result"
    }
   ],
   "source": [
    "orders_df[orders_df['user_id']==13371].merge(events_df, on='user_id', how='left')[['order_id','status','created_at_x',\n",
    "                                                                                           'id', 'event_type','created_at_y'\n",
    "                                                                                           ]].sort_values(by=['created_at_y'])"
   ]
  },
  {
   "cell_type": "code",
   "execution_count": 243,
   "id": "628cd8e6-25ce-499d-bd9f-e8984a342ae3",
   "metadata": {},
   "outputs": [],
   "source": [
    "test_country_event = events_df.groupby(by='user_id')['traffic_source'].nunique().reset_index()"
   ]
  },
  {
   "cell_type": "code",
   "execution_count": 244,
   "id": "bb06ac49-384c-40c7-94a2-fd1b0f62dc3b",
   "metadata": {},
   "outputs": [
    {
     "name": "stdout",
     "output_type": "stream",
     "text": [
      "0 product\n",
      "1 cart\n",
      "2 department\n",
      "3 purchase\n",
      "4 cancel\n",
      "5 home\n"
     ]
    }
   ],
   "source": [
    "event_types_list = ['product','cart','department','purchase','cancel','home']\n",
    "\n",
    "for idx, type in enumerate(event_types_list):\n",
    "    print(idx, type)"
   ]
  },
  {
   "cell_type": "code",
   "execution_count": 247,
   "id": "8fa5650e-8497-48aa-b400-cbf9a97cc75a",
   "metadata": {},
   "outputs": [],
   "source": [
    "def cluster_event_df(events_df):\n",
    "    '''\n",
    "    Returns most used browser per user_id\n",
    "    '''\n",
    "    \n",
    "    events_df = dtype_cast_datetime(events_df)\n",
    "    \n",
    "    events_df = events_df[events_df['user_id'].notna()].copy()\n",
    "\n",
    "    # base\n",
    "    base = events_df.groupby('user_id')['session_id'].nunique().reset_index(name='sessions')\n",
    "    \n",
    "    # Preffered browser\n",
    "    count_browser = events_df.groupby(['user_id', 'browser']).size().reset_index(name='count')\n",
    "    max_count_index = count_browser.groupby('user_id')['count'].idxmax()\n",
    "    preferred_browser = count_browser.loc[max_count_index]\n",
    "    pref_brsr_no_duplicates = preferred_browser.drop_duplicates(subset=['user_id']).rename(columns={'browser':'browser_pref'})\n",
    "    base = base.merge(pref_brsr_no_duplicates[['user_id','browser_pref']],on='user_id',how='left')\n",
    "\n",
    "    # types of events\n",
    "    event_types_list = ['product','cart','department','purchase','cancel','home']\n",
    "    \n",
    "    for type in event_types_list:\n",
    "        column_ = type + '_counts'\n",
    "        user_behaviour = events_df[events_df['event_type']==type].groupby(by='user_id')['session_id'].nunique().reset_index(name=column_)\n",
    "        base = base.merge(user_behaviour, on='user_id', how='left')\n",
    "    \n",
    "    \n",
    "    return base"
   ]
  },
  {
   "cell_type": "code",
   "execution_count": 248,
   "id": "75a05626",
   "metadata": {},
   "outputs": [
    {
     "data": {
      "text/html": [
       "<div>\n",
       "<style scoped>\n",
       "    .dataframe tbody tr th:only-of-type {\n",
       "        vertical-align: middle;\n",
       "    }\n",
       "\n",
       "    .dataframe tbody tr th {\n",
       "        vertical-align: top;\n",
       "    }\n",
       "\n",
       "    .dataframe thead th {\n",
       "        text-align: right;\n",
       "    }\n",
       "</style>\n",
       "<table border=\"1\" class=\"dataframe\">\n",
       "  <thead>\n",
       "    <tr style=\"text-align: right;\">\n",
       "      <th></th>\n",
       "      <th>user_id</th>\n",
       "      <th>sessions</th>\n",
       "      <th>browser_pref</th>\n",
       "      <th>product_counts</th>\n",
       "      <th>cart_counts</th>\n",
       "      <th>department_counts</th>\n",
       "      <th>purchase_counts</th>\n",
       "      <th>cancel_counts</th>\n",
       "      <th>home_counts</th>\n",
       "    </tr>\n",
       "  </thead>\n",
       "  <tbody>\n",
       "    <tr>\n",
       "      <th>0</th>\n",
       "      <td>1.0</td>\n",
       "      <td>3</td>\n",
       "      <td>Chrome</td>\n",
       "      <td>3</td>\n",
       "      <td>3</td>\n",
       "      <td>3</td>\n",
       "      <td>3</td>\n",
       "      <td>NaN</td>\n",
       "      <td>NaN</td>\n",
       "    </tr>\n",
       "    <tr>\n",
       "      <th>1</th>\n",
       "      <td>2.0</td>\n",
       "      <td>1</td>\n",
       "      <td>Firefox</td>\n",
       "      <td>1</td>\n",
       "      <td>1</td>\n",
       "      <td>1</td>\n",
       "      <td>1</td>\n",
       "      <td>NaN</td>\n",
       "      <td>1.0</td>\n",
       "    </tr>\n",
       "    <tr>\n",
       "      <th>2</th>\n",
       "      <td>3.0</td>\n",
       "      <td>5</td>\n",
       "      <td>Firefox</td>\n",
       "      <td>5</td>\n",
       "      <td>5</td>\n",
       "      <td>5</td>\n",
       "      <td>5</td>\n",
       "      <td>NaN</td>\n",
       "      <td>3.0</td>\n",
       "    </tr>\n",
       "    <tr>\n",
       "      <th>3</th>\n",
       "      <td>4.0</td>\n",
       "      <td>1</td>\n",
       "      <td>Chrome</td>\n",
       "      <td>1</td>\n",
       "      <td>1</td>\n",
       "      <td>1</td>\n",
       "      <td>1</td>\n",
       "      <td>NaN</td>\n",
       "      <td>1.0</td>\n",
       "    </tr>\n",
       "    <tr>\n",
       "      <th>4</th>\n",
       "      <td>5.0</td>\n",
       "      <td>3</td>\n",
       "      <td>Chrome</td>\n",
       "      <td>3</td>\n",
       "      <td>3</td>\n",
       "      <td>3</td>\n",
       "      <td>3</td>\n",
       "      <td>NaN</td>\n",
       "      <td>NaN</td>\n",
       "    </tr>\n",
       "    <tr>\n",
       "      <th>...</th>\n",
       "      <td>...</td>\n",
       "      <td>...</td>\n",
       "      <td>...</td>\n",
       "      <td>...</td>\n",
       "      <td>...</td>\n",
       "      <td>...</td>\n",
       "      <td>...</td>\n",
       "      <td>...</td>\n",
       "      <td>...</td>\n",
       "    </tr>\n",
       "    <tr>\n",
       "      <th>80039</th>\n",
       "      <td>99993.0</td>\n",
       "      <td>1</td>\n",
       "      <td>Firefox</td>\n",
       "      <td>1</td>\n",
       "      <td>1</td>\n",
       "      <td>1</td>\n",
       "      <td>1</td>\n",
       "      <td>NaN</td>\n",
       "      <td>1.0</td>\n",
       "    </tr>\n",
       "    <tr>\n",
       "      <th>80040</th>\n",
       "      <td>99996.0</td>\n",
       "      <td>4</td>\n",
       "      <td>Chrome</td>\n",
       "      <td>4</td>\n",
       "      <td>4</td>\n",
       "      <td>4</td>\n",
       "      <td>4</td>\n",
       "      <td>NaN</td>\n",
       "      <td>NaN</td>\n",
       "    </tr>\n",
       "    <tr>\n",
       "      <th>80041</th>\n",
       "      <td>99998.0</td>\n",
       "      <td>3</td>\n",
       "      <td>Chrome</td>\n",
       "      <td>3</td>\n",
       "      <td>3</td>\n",
       "      <td>3</td>\n",
       "      <td>3</td>\n",
       "      <td>NaN</td>\n",
       "      <td>3.0</td>\n",
       "    </tr>\n",
       "    <tr>\n",
       "      <th>80042</th>\n",
       "      <td>99999.0</td>\n",
       "      <td>2</td>\n",
       "      <td>Chrome</td>\n",
       "      <td>2</td>\n",
       "      <td>2</td>\n",
       "      <td>2</td>\n",
       "      <td>2</td>\n",
       "      <td>NaN</td>\n",
       "      <td>NaN</td>\n",
       "    </tr>\n",
       "    <tr>\n",
       "      <th>80043</th>\n",
       "      <td>100000.0</td>\n",
       "      <td>2</td>\n",
       "      <td>Chrome</td>\n",
       "      <td>2</td>\n",
       "      <td>2</td>\n",
       "      <td>2</td>\n",
       "      <td>2</td>\n",
       "      <td>NaN</td>\n",
       "      <td>2.0</td>\n",
       "    </tr>\n",
       "  </tbody>\n",
       "</table>\n",
       "<p>80044 rows × 9 columns</p>\n",
       "</div>"
      ],
      "text/plain": [
       "        user_id  sessions browser_pref  product_counts  cart_counts  \\\n",
       "0           1.0         3       Chrome               3            3   \n",
       "1           2.0         1      Firefox               1            1   \n",
       "2           3.0         5      Firefox               5            5   \n",
       "3           4.0         1       Chrome               1            1   \n",
       "4           5.0         3       Chrome               3            3   \n",
       "...         ...       ...          ...             ...          ...   \n",
       "80039   99993.0         1      Firefox               1            1   \n",
       "80040   99996.0         4       Chrome               4            4   \n",
       "80041   99998.0         3       Chrome               3            3   \n",
       "80042   99999.0         2       Chrome               2            2   \n",
       "80043  100000.0         2       Chrome               2            2   \n",
       "\n",
       "       department_counts  purchase_counts  cancel_counts  home_counts  \n",
       "0                      3                3            NaN          NaN  \n",
       "1                      1                1            NaN          1.0  \n",
       "2                      5                5            NaN          3.0  \n",
       "3                      1                1            NaN          1.0  \n",
       "4                      3                3            NaN          NaN  \n",
       "...                  ...              ...            ...          ...  \n",
       "80039                  1                1            NaN          1.0  \n",
       "80040                  4                4            NaN          NaN  \n",
       "80041                  3                3            NaN          3.0  \n",
       "80042                  2                2            NaN          NaN  \n",
       "80043                  2                2            NaN          2.0  \n",
       "\n",
       "[80044 rows x 9 columns]"
      ]
     },
     "execution_count": 248,
     "metadata": {},
     "output_type": "execute_result"
    }
   ],
   "source": [
    "cluster_event_df(events_df)"
   ]
  },
  {
   "cell_type": "code",
   "execution_count": null,
   "id": "160055dc-7956-4436-bd00-f129a436fdd9",
   "metadata": {},
   "outputs": [],
   "source": [
    "def cluser_item_product_agg(item_product_df):\n",
    "    '''\n",
    "    to user level\n",
    "    '''\n",
    "\n",
    "    base = item_level_df[['user_id','order_item_id']].groupby('user_id').count().fillna(0).rename(columns={'order_item_id':'num_order_items'}).reset_index()\n",
    "    \n",
    "    # order revenue\n",
    "    revenue = item_level_df.groupby(by='user_id')['sale_price'].sum().reset_index(name='total_sales')\n",
    "    base = base.merge(revenue, on='user_id', how='left') \n",
    "    \n",
    "    # order retail_price\n",
    "    retail_price = item_level_df.groupby(by='user_id')['retail_price'].sum().reset_index(name='total_retail_price')\n",
    "    base = base.merge(retail_price, on='user_id', how='left') \n",
    "\n",
    "    # total_orders\n",
    "    total_orders = item_level_df.groupby(by='user_id')['order_id'].nunique().reset_index(name='total_orders')\n",
    "    base = base.merge(total_orders, on='user_id', how='left')\n",
    "\n",
    "    # total_brands\n",
    "    total_brands = item_level_df.groupby(by='user_id')['brand'].nunique().reset_index(name='total_num_brands')\n",
    "    base = base.merge(total_brands, on='user_id', how='left')\n",
    "\n",
    "    # firt order created at year, month\n",
    "    year = item_level_df.groupby(by='user_id')['created_at'].min().reset_index(name='min_order_created_at')\n",
    "    year['min_order_created_year'] = year.min_order_created_at.dt.year\n",
    "    year['min_order_created_month'] = year.min_order_created_at.dt.month\n",
    "    base = base.merge(year, on='user_id', how='left')\n",
    "\n",
    "    base['abv'] = base.total_sales / base.total_orders\n",
    "\n",
    "    # total_period\n",
    "    max_date = item_level_df['created_at'].max()\n",
    "    base['customer_T'] = (max_date - base['min_order_created_at']).dt.days\n",
    "    \n",
    "    \n",
    "    \n",
    "    # Most frequent category\n",
    "    count_cat = item_level_df.groupby(['user_id', 'category']).size().reset_index(name='count')\n",
    "    # Find the index of the row with the maximum count for each user\n",
    "    max_count_index = count_cat.groupby('user_id')['count'].idxmax()\n",
    "    # Extract the rows corresponding to the maximum counts\n",
    "    preferred_categories = count_cat.loc[max_count_index]\n",
    "    # remove duplicates\n",
    "    pref_cat_no_duplicates = preferred_categories.drop_duplicates(subset=['user_id']).rename(columns={'category':'category_preffered'})\n",
    "\n",
    "    base = base.merge(pref_cat_no_duplicates[['user_id','category_preffered']],on='user_id',how='left')            \n",
    "\n",
    "\n",
    "    # Department\n",
    "    # Most frequent category\n",
    "    count_dept = item_level_df.groupby(['user_id', 'department']).size().reset_index(name='count')\n",
    "    # Find the index of the row with the maximum count for each user\n",
    "    max_count_index_dept = count_dept.groupby('user_id')['count'].idxmax()\n",
    "    # Extract the rows corresponding to the maximum counts\n",
    "    preferred_dept = count_dept.loc[max_count_index_dept]\n",
    "    # remove duplicates\n",
    "    pref_dept_no_duplicates = preferred_dept.drop_duplicates(subset=['user_id']).rename(columns={'department':'dept_pref'})\n",
    "\n",
    "    base = base.merge(pref_dept_no_duplicates[['user_id','dept_pref']],on='user_id',how='left')    \n",
    "    \n",
    "    return base"
   ]
  },
  {
   "cell_type": "code",
   "execution_count": null,
   "id": "fca7b36e-6e14-4a1b-b487-f1a3eed02d8a",
   "metadata": {},
   "outputs": [],
   "source": [
    "item_product_df = join_tables_item_level(order_items_df, products_df)"
   ]
  },
  {
   "cell_type": "code",
   "execution_count": null,
   "id": "ec6d5bfa-5589-464d-aec9-0092b31556fb",
   "metadata": {},
   "outputs": [],
   "source": [
    "test = cluser_item_product_agg(item_product_df)"
   ]
  },
  {
   "cell_type": "markdown",
   "id": "d9d0e8e7-fe96-4a50-930b-f1acd1c84d4f",
   "metadata": {
    "jp-MarkdownHeadingCollapsed": true
   },
   "source": [
    "## Data Prep for Clustering"
   ]
  },
  {
   "cell_type": "code",
   "execution_count": null,
   "id": "bae7951d-ae18-4b9b-8c4c-6eaba27bbbfc",
   "metadata": {},
   "outputs": [],
   "source": [
    "user_prep = select_user_columns(users_df)\n",
    "event_prep = cluster_event_df(events_df)\n",
    "item_product_df = join_tables_item_level(order_items_df, products_df)\n",
    "order_prep = cluser_item_product_agg(item_product_df)"
   ]
  },
  {
   "cell_type": "code",
   "execution_count": null,
   "id": "566090b7-92d0-46d3-82b8-579ccf3c61db",
   "metadata": {},
   "outputs": [],
   "source": [
    "## Join all of them\n",
    "\n",
    "input_prep = user_prep.copy()\n",
    "input_prep = input_prep.merge(event_prep, on='user_id', how='left')\n",
    "input_prep = input_prep.merge(order_prep, on='user_id', how='left')\n",
    "\n",
    "columns_excl = ['user_id','user_created_at','min_order_created_at','min_order_created_at']\n",
    "\n",
    "input_prep = input_prep.drop(columns=columns_excl)\n",
    "input_prep.info()"
   ]
  },
  {
   "cell_type": "code",
   "execution_count": null,
   "id": "d13df101-014a-43e6-b496-cff34d7c4e47",
   "metadata": {},
   "outputs": [],
   "source": [
    "input_prep.isna().sum()"
   ]
  },
  {
   "cell_type": "code",
   "execution_count": null,
   "id": "0097768a-6ffb-4653-9376-2fe2f71d11b2",
   "metadata": {},
   "outputs": [],
   "source": []
  },
  {
   "cell_type": "code",
   "execution_count": null,
   "id": "cbfee90b-b722-408f-8be4-4247e385552b",
   "metadata": {},
   "outputs": [],
   "source": [
    "input_prep['total_orders'].value_counts()"
   ]
  },
  {
   "cell_type": "markdown",
   "id": "27ea1307-9070-4a9a-95ef-d8dd7c6837f5",
   "metadata": {
    "jp-MarkdownHeadingCollapsed": true
   },
   "source": [
    "## preprocessing, fit, predict"
   ]
  },
  {
   "cell_type": "code",
   "execution_count": null,
   "id": "ae8425c2-3b1c-497f-b945-ea4dc4ca3522",
   "metadata": {},
   "outputs": [],
   "source": [
    "km_input = preproc_baseline.fit_transform(input_prep)"
   ]
  },
  {
   "cell_type": "code",
   "execution_count": null,
   "id": "98126496-c69d-4e33-b5eb-f3a9dce4dd13",
   "metadata": {},
   "outputs": [],
   "source": [
    "prepped_values = pd.DataFrame(km_input.toarray())"
   ]
  },
  {
   "cell_type": "code",
   "execution_count": null,
   "id": "a8683cb1-cbb4-4a8d-acc2-dbcb15cd2262",
   "metadata": {},
   "outputs": [],
   "source": [
    "sns.heatmap(prepped_values.corr(), cmap='coolwarm')"
   ]
  },
  {
   "cell_type": "code",
   "execution_count": null,
   "id": "e4b9463f-3542-4909-81d3-36cb021d76bf",
   "metadata": {},
   "outputs": [],
   "source": [
    "km_input.shape"
   ]
  },
  {
   "cell_type": "code",
   "execution_count": null,
   "id": "cf17cf90-5785-4df9-a635-18f17e2356a5",
   "metadata": {},
   "outputs": [],
   "source": [
    "km = KMeans(n_clusters=4)\n",
    "km.fit(km_input)"
   ]
  },
  {
   "cell_type": "code",
   "execution_count": null,
   "id": "2b486719-7542-41fb-b53a-2235604d0dd9",
   "metadata": {},
   "outputs": [],
   "source": [
    "cluster_labels= km.predict(km_input)\n",
    "cluster_labels"
   ]
  },
  {
   "cell_type": "code",
   "execution_count": null,
   "id": "cbd0758c-763f-4796-9b4a-57c96b9766fe",
   "metadata": {},
   "outputs": [],
   "source": [
    "centroids = km.cluster_centers_\n",
    "centroids.shape"
   ]
  },
  {
   "cell_type": "code",
   "execution_count": null,
   "id": "dcbaa528-6cb0-49c9-b034-bb3ddd133ec2",
   "metadata": {},
   "outputs": [],
   "source": [
    "unique, counts = np.unique(cluster_labels, return_counts=True)\n",
    "cluster_counts = dict(zip(unique, counts))\n",
    "print(cluster_counts)"
   ]
  },
  {
   "cell_type": "markdown",
   "id": "69ddc74c-7c82-4d37-9286-c9f163b17736",
   "metadata": {
    "jp-MarkdownHeadingCollapsed": true
   },
   "source": [
    "## Trying DeepLearning"
   ]
  },
  {
   "cell_type": "code",
   "execution_count": 72,
   "id": "c7133708-fab6-4abf-9a59-68efc23a5424",
   "metadata": {
    "scrolled": true
   },
   "outputs": [
    {
     "name": "stderr",
     "output_type": "stream",
     "text": [
      "2024-03-12 09:16:43.753151: I tensorflow/core/platform/cpu_feature_guard.cc:193] This TensorFlow binary is optimized with oneAPI Deep Neural Network Library (oneDNN) to use the following CPU instructions in performance-critical operations:  AVX2 AVX_VNNI FMA\n",
      "To enable them in other operations, rebuild TensorFlow with the appropriate compiler flags.\n",
      "2024-03-12 09:16:43.931414: I tensorflow/core/util/util.cc:169] oneDNN custom operations are on. You may see slightly different numerical results due to floating-point round-off errors from different computation orders. To turn them off, set the environment variable `TF_ENABLE_ONEDNN_OPTS=0`.\n",
      "2024-03-12 09:16:43.980092: W tensorflow/stream_executor/platform/default/dso_loader.cc:64] Could not load dynamic library 'libcudart.so.11.0'; dlerror: libcudart.so.11.0: cannot open shared object file: No such file or directory\n",
      "2024-03-12 09:16:43.980113: I tensorflow/stream_executor/cuda/cudart_stub.cc:29] Ignore above cudart dlerror if you do not have a GPU set up on your machine.\n",
      "2024-03-12 09:16:44.038615: E tensorflow/stream_executor/cuda/cuda_blas.cc:2981] Unable to register cuBLAS factory: Attempting to register factory for plugin cuBLAS when one has already been registered\n",
      "2024-03-12 09:16:44.735228: W tensorflow/stream_executor/platform/default/dso_loader.cc:64] Could not load dynamic library 'libnvinfer.so.7'; dlerror: libnvinfer.so.7: cannot open shared object file: No such file or directory\n",
      "2024-03-12 09:16:44.735376: W tensorflow/stream_executor/platform/default/dso_loader.cc:64] Could not load dynamic library 'libnvinfer_plugin.so.7'; dlerror: libnvinfer_plugin.so.7: cannot open shared object file: No such file or directory\n",
      "2024-03-12 09:16:44.735381: W tensorflow/compiler/tf2tensorrt/utils/py_utils.cc:38] TF-TRT Warning: Cannot dlopen some TensorRT libraries. If you would like to use Nvidia GPU with TensorRT, please make sure the missing libraries mentioned above are installed properly.\n"
     ]
    }
   ],
   "source": [
    "''' Imbalanced Classes'''\n",
    "import imblearn\n",
    "from imblearn.over_sampling import SMOTE\n",
    "from imblearn.under_sampling import RandomUnderSampler\n",
    "from imblearn.pipeline import Pipeline\n",
    "\n",
    "''' Tensorflow Keras'''\n",
    "from tensorflow import keras\n",
    "from tensorflow.keras import models\n",
    "from tensorflow.keras import layers\n",
    "from tensorflow.keras.callbacks import EarlyStopping\n",
    "from tensorflow.keras import regularizers\n",
    "from tensorflow.keras.optimizers import Adam\n",
    "from tensorflow.keras.optimizers.schedules import ExponentialDecay\n",
    "from tensorflow.keras.layers import Normalization\n",
    "from tensorflow.keras.metrics import Recall, Precision\n"
   ]
  },
  {
   "cell_type": "code",
   "execution_count": null,
   "id": "eea5c642-66ca-474d-868b-585597aa2729",
   "metadata": {},
   "outputs": [],
   "source": [
    "X.head()"
   ]
  },
  {
   "cell_type": "code",
   "execution_count": 73,
   "id": "7b2c0c28-e155-4a6a-be0c-6bf5c18180a5",
   "metadata": {},
   "outputs": [],
   "source": [
    "# Preprocess\n",
    "X_t = preproc_baseline.fit_transform(X)"
   ]
  },
  {
   "cell_type": "code",
   "execution_count": null,
   "id": "25b66e62-f345-46c3-aec6-699133a48a0f",
   "metadata": {},
   "outputs": [],
   "source": [
    "X_t.toarray()"
   ]
  },
  {
   "cell_type": "code",
   "execution_count": 74,
   "id": "f58bb40a-fecd-4311-887d-9a0e63dba3c2",
   "metadata": {},
   "outputs": [],
   "source": [
    "# Train test split before any resampling to keep real test set\n",
    "X_train, X_test, y_train, y_test = train_test_split(X_t, y_binary, test_size = 0.3)"
   ]
  },
  {
   "cell_type": "code",
   "execution_count": 75,
   "id": "956ce019-4c39-41a9-b5a6-12a8e7c3fe28",
   "metadata": {},
   "outputs": [],
   "source": [
    "X_train, X_val, y_train, y_val = train_test_split(X_train, y_train, test_size = 0.3)"
   ]
  },
  {
   "cell_type": "code",
   "execution_count": 76,
   "id": "cab6a197-68cc-441b-b86f-e4596d13cfd3",
   "metadata": {},
   "outputs": [
    {
     "ename": "AttributeError",
     "evalue": "'numpy.ndarray' object has no attribute 'toarray'",
     "output_type": "error",
     "traceback": [
      "\u001b[0;31m---------------------------------------------------------------------------\u001b[0m",
      "\u001b[0;31mAttributeError\u001b[0m                            Traceback (most recent call last)",
      "Cell \u001b[0;32mIn [76], line 1\u001b[0m\n\u001b[0;32m----> 1\u001b[0m X_train \u001b[38;5;241m=\u001b[39m \u001b[43mX_train\u001b[49m\u001b[38;5;241;43m.\u001b[39;49m\u001b[43mtoarray\u001b[49m()\n\u001b[1;32m      2\u001b[0m X_val \u001b[38;5;241m=\u001b[39m X_val\u001b[38;5;241m.\u001b[39mtoarray()\n",
      "\u001b[0;31mAttributeError\u001b[0m: 'numpy.ndarray' object has no attribute 'toarray'"
     ]
    }
   ],
   "source": [
    "X_train = X_train.toarray()\n",
    "X_val = X_val.toarray()"
   ]
  },
  {
   "cell_type": "code",
   "execution_count": 77,
   "id": "0bb9dce9-eb55-44d6-aa1c-452ef01d2b6c",
   "metadata": {},
   "outputs": [
    {
     "name": "stdout",
     "output_type": "stream",
     "text": [
      "22145\n",
      "9517\n",
      "13520\n",
      "----------------------------------------------------------------------------------------------------\n",
      "There are 22145 purchased users in the train set\n",
      "There are 9517 purchased users in the val set\n",
      "There are 13520 purchased users in the test set\n"
     ]
    }
   ],
   "source": [
    "# How many \"fraud\" samples do I have in each split?\n",
    "print(np.sum(y_train[y_train == 1]))\n",
    "print(np.sum(y_val[y_val == 1]))\n",
    "print(np.sum(y_test[y_test == 1]))\n",
    "\n",
    "print(\"-\"*100)\n",
    "\n",
    "print(f\"There are {pd.Series(y_train).value_counts()[1]} purchased users in the train set\")\n",
    "print(f\"There are {pd.Series(y_val).value_counts()[1]} purchased users in the val set\")\n",
    "print(f\"There are {pd.Series(y_test).value_counts()[1]} purchased users in the test set\")"
   ]
  },
  {
   "cell_type": "code",
   "execution_count": 78,
   "id": "3567d5b1-55ef-489e-a958-5b7c5530df67",
   "metadata": {},
   "outputs": [
    {
     "name": "stdout",
     "output_type": "stream",
     "text": [
      "(61360, 91)\n",
      "(26298, 91)\n"
     ]
    }
   ],
   "source": [
    "print(X_train.shape)\n",
    "print(X_val.shape)"
   ]
  },
  {
   "cell_type": "markdown",
   "id": "eb0697a7-d5a8-43fa-926c-27aeb5785e37",
   "metadata": {
    "jp-MarkdownHeadingCollapsed": true
   },
   "source": [
    "## Neural Network Iteration"
   ]
  },
  {
   "cell_type": "code",
   "execution_count": 79,
   "id": "45f22280-8985-494b-8733-59ebc72a39b4",
   "metadata": {},
   "outputs": [
    {
     "name": "stderr",
     "output_type": "stream",
     "text": [
      "2024-03-12 09:17:19.640786: W tensorflow/stream_executor/platform/default/dso_loader.cc:64] Could not load dynamic library 'libcuda.so.1'; dlerror: libcuda.so.1: cannot open shared object file: No such file or directory\n",
      "2024-03-12 09:17:19.641090: W tensorflow/stream_executor/cuda/cuda_driver.cc:263] failed call to cuInit: UNKNOWN ERROR (303)\n",
      "2024-03-12 09:17:19.641121: I tensorflow/stream_executor/cuda/cuda_diagnostics.cc:156] kernel driver does not appear to be running on this host (JM-GALAXY-PRO): /proc/driver/nvidia/version does not exist\n",
      "2024-03-12 09:17:19.641657: I tensorflow/core/platform/cpu_feature_guard.cc:193] This TensorFlow binary is optimized with oneAPI Deep Neural Network Library (oneDNN) to use the following CPU instructions in performance-critical operations:  AVX2 AVX_VNNI FMA\n",
      "To enable them in other operations, rebuild TensorFlow with the appropriate compiler flags.\n"
     ]
    }
   ],
   "source": [
    "metrics = [\n",
    "    keras.metrics.Recall(name='recall'),\n",
    "    keras.metrics.Precision(name='precision'),\n",
    "    keras.metrics.AUC(name='prc', curve='PR'),  # precision-recall curve\n",
    "]"
   ]
  },
  {
   "cell_type": "code",
   "execution_count": 80,
   "id": "f03050d7-f590-4a07-9135-a69bffd791f2",
   "metadata": {},
   "outputs": [
    {
     "data": {
      "text/plain": [
       "(61360, 91)"
      ]
     },
     "execution_count": 80,
     "metadata": {},
     "output_type": "execute_result"
    }
   ],
   "source": [
    "X_train.shape"
   ]
  },
  {
   "cell_type": "code",
   "execution_count": 81,
   "id": "7a852ffd-32b3-4ecc-ac69-cd48fec711a1",
   "metadata": {},
   "outputs": [],
   "source": [
    "def init_model():\n",
    "    input_shape = X_train.shape[1:]\n",
    "    # normalizer = Normalization()\n",
    "    # normalizer.adapt(X_train)\n",
    "    \n",
    "    model = models.Sequential()\n",
    "    # model.add()\n",
    "    model.add(layers.Dense(64, activation='relu', input_shape=input_shape))\n",
    "    model.add(layers.Dropout(0.3))\n",
    "    model.add(layers.Dense(32, activation='relu'))\n",
    "    model.add(layers.Dropout(0.3))\n",
    "    model.add(layers.Dense(16, activation='relu'))\n",
    "    model.add(layers.Dropout(0.3))\n",
    "    model.add(layers.Dense(8, activation='relu'))\n",
    "    model.add(layers.Dropout(0.3))\n",
    "    model.add(layers.Dense(1, activation = 'sigmoid'))\n",
    "\n",
    "    # Model compilation\n",
    "    optimizer = Adam(learning_rate=0.0001)\n",
    "    model.compile(loss='binary_crossentropy',\n",
    "                  optimizer=optimizer,\n",
    "                  metrics=metrics)\n",
    "    return model"
   ]
  },
  {
   "cell_type": "markdown",
   "id": "ce3ef123-ae3c-4ab5-bbd8-e88c8a73d2ff",
   "metadata": {
    "jp-MarkdownHeadingCollapsed": true
   },
   "source": [
    "## Regularized model"
   ]
  },
  {
   "cell_type": "code",
   "execution_count": null,
   "id": "7eb63894-ae42-4223-99bb-3449068f129d",
   "metadata": {},
   "outputs": [],
   "source": [
    "[X_train.shape, y_train.shape]"
   ]
  },
  {
   "cell_type": "code",
   "execution_count": null,
   "id": "e63e3660-9388-4da6-b75f-10f314b86d34",
   "metadata": {
    "scrolled": true
   },
   "outputs": [],
   "source": [
    "[X_val.shape, y_val.shape]"
   ]
  },
  {
   "cell_type": "code",
   "execution_count": null,
   "id": "2a533c19",
   "metadata": {},
   "outputs": [],
   "source": []
  },
  {
   "cell_type": "code",
   "execution_count": 83,
   "id": "32a21b8c",
   "metadata": {},
   "outputs": [
    {
     "name": "stdout",
     "output_type": "stream",
     "text": [
      "Epoch 1/100\n",
      "15340/15340 [==============================] - 23s 1ms/step - loss: 0.6591 - recall: 0.0332 - precision: 0.4916 - prc: 0.4037 - val_loss: 0.6507 - val_recall: 0.0000e+00 - val_precision: 0.0000e+00 - val_prc: 0.4347\n",
      "Epoch 2/100\n",
      "15340/15340 [==============================] - 19s 1ms/step - loss: 0.6491 - recall: 0.0000e+00 - precision: 0.0000e+00 - prc: 0.3972 - val_loss: 0.6424 - val_recall: 0.0000e+00 - val_precision: 0.0000e+00 - val_prc: 0.4580\n",
      "Epoch 3/100\n",
      "15340/15340 [==============================] - 19s 1ms/step - loss: 0.6429 - recall: 0.0000e+00 - precision: 0.0000e+00 - prc: 0.4214 - val_loss: 0.6386 - val_recall: 0.0000e+00 - val_precision: 0.0000e+00 - val_prc: 0.4759\n",
      "Epoch 4/100\n",
      "15340/15340 [==============================] - 20s 1ms/step - loss: 0.6388 - recall: 0.0000e+00 - precision: 0.0000e+00 - prc: 0.4446 - val_loss: 0.6313 - val_recall: 0.0000e+00 - val_precision: 0.0000e+00 - val_prc: 0.4834\n",
      "Epoch 5/100\n",
      "15340/15340 [==============================] - 20s 1ms/step - loss: 0.6362 - recall: 0.0000e+00 - precision: 0.0000e+00 - prc: 0.4548 - val_loss: 0.6316 - val_recall: 0.0000e+00 - val_precision: 0.0000e+00 - val_prc: 0.4838\n",
      "Epoch 6/100\n",
      "15340/15340 [==============================] - 21s 1ms/step - loss: 0.6322 - recall: 0.0000e+00 - precision: 0.0000e+00 - prc: 0.4639 - val_loss: 0.6255 - val_recall: 0.0000e+00 - val_precision: 0.0000e+00 - val_prc: 0.4922\n",
      "Epoch 7/100\n",
      "15340/15340 [==============================] - 21s 1ms/step - loss: 0.6302 - recall: 0.0000e+00 - precision: 0.0000e+00 - prc: 0.4684 - val_loss: 0.6252 - val_recall: 0.0000e+00 - val_precision: 0.0000e+00 - val_prc: 0.4888\n",
      "Epoch 8/100\n",
      "15340/15340 [==============================] - 20s 1ms/step - loss: 0.6275 - recall: 0.0000e+00 - precision: 0.0000e+00 - prc: 0.4772 - val_loss: 0.6236 - val_recall: 0.0000e+00 - val_precision: 0.0000e+00 - val_prc: 0.4940\n",
      "Epoch 9/100\n",
      "15340/15340 [==============================] - 19s 1ms/step - loss: 0.6269 - recall: 0.0000e+00 - precision: 0.0000e+00 - prc: 0.4777 - val_loss: 0.6223 - val_recall: 0.0000e+00 - val_precision: 0.0000e+00 - val_prc: 0.5001\n",
      "Epoch 10/100\n",
      "15340/15340 [==============================] - 20s 1ms/step - loss: 0.6229 - recall: 0.0000e+00 - precision: 0.0000e+00 - prc: 0.4869 - val_loss: 0.6155 - val_recall: 0.0000e+00 - val_precision: 0.0000e+00 - val_prc: 0.5042\n",
      "Epoch 11/100\n",
      "15340/15340 [==============================] - 21s 1ms/step - loss: 0.6200 - recall: 0.0000e+00 - precision: 0.0000e+00 - prc: 0.4861 - val_loss: 0.6148 - val_recall: 0.0000e+00 - val_precision: 0.0000e+00 - val_prc: 0.4967\n"
     ]
    }
   ],
   "source": [
    "model = init_model()\n",
    "\n",
    "es = EarlyStopping(\n",
    "    patience=10,\n",
    "    monitor='val_recall', \n",
    "    restore_best_weights=True)\n",
    "\n",
    "history = model.fit(X_train, y_train,\n",
    "                    validation_data=(X_val, y_val),\n",
    "                    epochs=100,\n",
    "                    batch_size=4,\n",
    "                    callbacks=[es], shuffle=True)"
   ]
  },
  {
   "cell_type": "code",
   "execution_count": 84,
   "id": "c926a5bb-9f7f-456c-ba37-9b1b2409b499",
   "metadata": {},
   "outputs": [],
   "source": [
    "def plot_loss_precision_recall_curve(history):\n",
    "    \n",
    "    fig, ax =plt.subplots(1,3,figsize=(20,5))\n",
    "    \n",
    "    # --- LOSS\n",
    "    \n",
    "    ax[0].plot(history.history['loss'])\n",
    "    ax[0].plot(history.history['val_loss'])\n",
    "    ax[0].set_title('Model loss')\n",
    "    ax[0].set_xlabel('Epoch')\n",
    "    ax[0].set_ylabel('Loss')\n",
    "    ax[0].legend(['Train', 'Val'], loc='upper right')\n",
    "    ax[0].grid(axis=\"x\",linewidth=0.5)\n",
    "    ax[0].grid(axis=\"y\",linewidth=0.5)\n",
    "    \n",
    "    # --- RECALL\n",
    "\n",
    "    ax[1].plot(history.history['recall'])\n",
    "    ax[1].plot(history.history['val_recall'])\n",
    "    ax[1].set_title('Model recall', fontsize = 18)\n",
    "    ax[1].set_xlabel('Epoch', fontsize = 14)\n",
    "    ax[1].set_ylabel('Recall', fontsize = 14)\n",
    "    ax[1].legend(['Train', 'Val'], loc='lower right') \n",
    "    ax[1].grid(axis=\"x\",linewidth=0.5)\n",
    "    ax[1].grid(axis=\"y\",linewidth=0.5)\n",
    "\n",
    "    \n",
    "    # --- PRECISION\n",
    "    \n",
    "    \n",
    "    ax[2].plot(history.history['precision'])\n",
    "    ax[2].plot(history.history['val_precision'])\n",
    "    ax[2].set_title('Model precision', fontsize = 18)\n",
    "    ax[2].set_xlabel('Epoch', fontsize = 14)\n",
    "    ax[2].set_ylabel('Precision', fontsize = 14)\n",
    "    ax[2].legend(['Train', 'Val'], loc='lower right')  \n",
    "    ax[2].grid(axis=\"x\",linewidth=0.5)\n",
    "    ax[2].grid(axis=\"y\",linewidth=0.5)    \n",
    "    \n",
    "    plt.show()"
   ]
  },
  {
   "cell_type": "code",
   "execution_count": 85,
   "id": "33a26549-f27b-4332-a002-e0e13766345a",
   "metadata": {},
   "outputs": [
    {
     "data": {
      "image/png": "[encoded data removed]",
      "text/plain": [
       "<Figure size 2000x500 with 3 Axes>"
      ]
     },
     "metadata": {},
     "output_type": "display_data"
    }
   ],
   "source": [
    "plot_loss_precision_recall_curve(history)"
   ]
  },
  {
   "cell_type": "code",
   "execution_count": null,
   "id": "f27f9516-58f2-46fe-a8ac-9f1f76f9503b",
   "metadata": {},
   "outputs": [],
   "source": []
  },
  {
   "cell_type": "code",
   "execution_count": null,
   "id": "1b1343c8-e428-49b5-b47f-94420d98fe31",
   "metadata": {},
   "outputs": [],
   "source": []
  },
  {
   "cell_type": "markdown",
   "id": "0afc0045-21e2-4b1b-884b-e9ae68d158a0",
   "metadata": {
    "jp-MarkdownHeadingCollapsed": true
   },
   "source": [
    "## Score it"
   ]
  },
  {
   "cell_type": "code",
   "execution_count": 86,
   "id": "1993951a-e236-4bcb-9039-44e0b96e0613",
   "metadata": {},
   "outputs": [
    {
     "data": {
      "text/plain": [
       "{'loss': 0.6497561931610107,\n",
       " 'recall': 0.0,\n",
       " 'precision': 0.0,\n",
       " 'prc': 0.43141239881515503}"
      ]
     },
     "execution_count": 86,
     "metadata": {},
     "output_type": "execute_result"
    }
   ],
   "source": [
    "model.evaluate(X_test, y_test, verbose=0, return_dict=True)"
   ]
  },
  {
   "cell_type": "code",
   "execution_count": 87,
   "id": "a5eb2f8e-6c0d-45db-835b-c225f964fc68",
   "metadata": {},
   "outputs": [
    {
     "name": "stdout",
     "output_type": "stream",
     "text": [
      "1174/1174 [==============================] - 1s 577us/step\n"
     ]
    }
   ],
   "source": [
    "y_pred_proba = model.predict(X_test)"
   ]
  },
  {
   "cell_type": "code",
   "execution_count": 88,
   "id": "5325c2ac-f458-4ff1-b40d-da94997644fc",
   "metadata": {},
   "outputs": [],
   "source": [
    "threshold = 0.50 # 50% \n",
    "\n",
    "y_pred_binary = np.where(y_pred_proba > threshold, 1, 0 )"
   ]
  },
  {
   "cell_type": "code",
   "execution_count": null,
   "id": "b6cac33e-e862-4f09-86eb-39e5acb34195",
   "metadata": {},
   "outputs": [],
   "source": []
  },
  {
   "cell_type": "markdown",
   "id": "92370b83-166a-49c4-b744-9726e9c09cba",
   "metadata": {
    "jp-MarkdownHeadingCollapsed": true
   },
   "source": [
    "## Confusion Matrix"
   ]
  },
  {
   "cell_type": "code",
   "execution_count": 89,
   "id": "98349804-c279-4bf2-9add-7c985dac2471",
   "metadata": {},
   "outputs": [
    {
     "data": {
      "text/plain": [
       "array([[24048,     0],\n",
       "       [13520,     0]])"
      ]
     },
     "execution_count": 89,
     "metadata": {},
     "output_type": "execute_result"
    }
   ],
   "source": [
    "# Confusion Matrix\n",
    "cm = confusion_matrix(y_test,y_pred_binary)\n",
    "cm"
   ]
  },
  {
   "cell_type": "code",
   "execution_count": 90,
   "id": "1a80c525-5035-4270-b015-bd395cc4ca6a",
   "metadata": {},
   "outputs": [
    {
     "data": {
      "text/plain": [
       "Text(0.5, 25.722222222222214, 'Predicted label')"
      ]
     },
     "execution_count": 90,
     "metadata": {},
     "output_type": "execute_result"
    },
    {
     "data": {
      "image/png": "[encoded data removed]",
      "text/plain": [
       "<Figure size 500x500 with 2 Axes>"
      ]
     },
     "metadata": {},
     "output_type": "display_data"
    }
   ],
   "source": [
    "plt.figure(figsize=(5,5))\n",
    "sns.heatmap(cm, annot=True, fmt=\"d\")\n",
    "plt.title('Confusion matrix')\n",
    "plt.ylabel('Actual label')\n",
    "plt.xlabel('Predicted label')"
   ]
  },
  {
   "cell_type": "code",
   "execution_count": null,
   "id": "bf23eba2-122f-4a0b-adec-4c54e2b95c5a",
   "metadata": {},
   "outputs": [],
   "source": [
    "from sklearn.metrics import classification_report\n",
    "print(classification_report(y_test,y_pred_binary))"
   ]
  },
  {
   "cell_type": "code",
   "execution_count": null,
   "id": "9bf42293-fbd7-4a27-8c55-3918128f1a16",
   "metadata": {},
   "outputs": [],
   "source": [
    "from sklearn.metrics import precision_recall_curve\n",
    "\n",
    "def plot_prc(name, labels, predictions, **kwargs):\n",
    "    precision, recall, _ = precision_recall_curve(labels, predictions)\n",
    "    plt.plot(recall, precision, label=name, linewidth=2, **kwargs)\n",
    "    plt.xlabel('Recall')\n",
    "    plt.ylabel('Precision')\n",
    "    plt.grid(True)\n",
    "    ax = plt.gca()\n",
    "    ax.set_aspect('equal')"
   ]
  },
  {
   "cell_type": "code",
   "execution_count": null,
   "id": "d04b72f9-566d-4822-962e-95c2ebd3a76f",
   "metadata": {},
   "outputs": [],
   "source": [
    "plot_prc(\"Test\", y_test, y_pred_proba, linestyle='--')\n",
    "plt.legend(loc='lower right')"
   ]
  },
  {
   "cell_type": "code",
   "execution_count": null,
   "id": "2eaa62ed-0d18-45b9-bb74-ddc17e9e234a",
   "metadata": {},
   "outputs": [],
   "source": []
  },
  {
   "cell_type": "code",
   "execution_count": null,
   "id": "fd6e922a-0145-40bc-95c6-a8de48d8825a",
   "metadata": {},
   "outputs": [],
   "source": []
  },
  {
   "cell_type": "code",
   "execution_count": null,
   "id": "0c00442f-e4a9-432f-807e-daf7bd531e6c",
   "metadata": {},
   "outputs": [],
   "source": []
  },
  {
   "cell_type": "code",
   "execution_count": null,
   "id": "06678830-4409-46fc-97d2-4567d0fc5d88",
   "metadata": {},
   "outputs": [],
   "source": []
  },
  {
   "cell_type": "code",
   "execution_count": null,
   "id": "f9caac46-2cef-48e5-947e-dd9f3b5f97bd",
   "metadata": {},
   "outputs": [],
   "source": []
  }
 ],
 "metadata": {
  "kernelspec": {
   "display_name": "Python 3 (ipykernel)",
   "language": "python",
   "name": "python3"
  },
  "language_info": {
   "codemirror_mode": {
    "name": "ipython",
    "version": 3
   },
   "file_extension": ".py",
   "mimetype": "text/x-python",
   "name": "python",
   "nbconvert_exporter": "python",
   "pygments_lexer": "ipython3",
   "version": "3.10.6"
  },
  "toc": {
   "base_numbering": 1,
   "nav_menu": {},
   "number_sections": true,
   "sideBar": true,
   "skip_h1_title": false,
   "title_cell": "Table of Contents",
   "title_sidebar": "Contents",
   "toc_cell": false,
   "toc_position": {},
   "toc_section_display": true,
   "toc_window_display": false
  }
 },
 "nbformat": 4,
 "nbformat_minor": 5
}
