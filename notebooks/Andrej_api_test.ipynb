{
 "cells": [
  {
   "cell_type": "code",
   "execution_count": null,
   "id": "0d1025f1",
   "metadata": {},
   "outputs": [],
   "source": [
    "import pandas as pd\n",
    "import requests"
   ]
  },
  {
   "cell_type": "code",
   "execution_count": null,
   "id": "20685bcf",
   "metadata": {},
   "outputs": [],
   "source": [
    "url = 'http://localhost:8000/predict'  # Update this with your endpoint URL\n",
    " # Define the file you want to upload\n",
    "file_path = '../raw_data/testing_csv_input.csv'  # Update this with the path to your file\n",
    " # Open the file and read its contents"
   ]
  },
  {
   "cell_type": "code",
   "execution_count": null,
   "id": "5fba6c64",
   "metadata": {},
   "outputs": [],
   "source": [
    "df = pd.read_csv(file_path)\n",
    "df_new = df.to_json().encode()"
   ]
  },
  {
   "cell_type": "code",
   "execution_count": null,
   "id": "ccbcff11",
   "metadata": {},
   "outputs": [],
   "source": [
    "# df_new"
   ]
  },
  {
   "cell_type": "code",
   "execution_count": null,
   "id": "eeda3d3b",
   "metadata": {},
   "outputs": [],
   "source": [
    "response = requests.post(url, files={'file' : df_new})\n",
    " # Print the response status code and content\n",
    "print(\"Status Code:\", response.status_code)"
   ]
  },
  {
   "cell_type": "code",
   "execution_count": null,
   "id": "5f948262",
   "metadata": {},
   "outputs": [],
   "source": [
    "print(\"Response Content:\", response.json())"
   ]
  },
  {
   "cell_type": "code",
   "execution_count": null,
   "id": "3e28e8e3",
   "metadata": {},
   "outputs": [],
   "source": []
  }
 ],
 "metadata": {
  "kernelspec": {
   "display_name": "Python 3 (ipykernel)",
   "language": "python",
   "name": "python3"
  },
  "language_info": {
   "codemirror_mode": {
    "name": "ipython",
    "version": 3
   },
   "file_extension": ".py",
   "mimetype": "text/x-python",
   "name": "python",
   "nbconvert_exporter": "python",
   "pygments_lexer": "ipython3",
   "version": "3.10.6"
  },
  "toc": {
   "base_numbering": 1,
   "nav_menu": {},
   "number_sections": true,
   "sideBar": true,
   "skip_h1_title": false,
   "title_cell": "Table of Contents",
   "title_sidebar": "Contents",
   "toc_cell": false,
   "toc_position": {},
   "toc_section_display": true,
   "toc_window_display": false
  }
 },
 "nbformat": 4,
 "nbformat_minor": 5
}
